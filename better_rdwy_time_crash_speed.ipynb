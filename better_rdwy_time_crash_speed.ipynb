{
 "cells": [
  {
   "cell_type": "code",
   "execution_count": 19,
   "metadata": {},
   "outputs": [],
   "source": [
    "import pandas as pd\n",
    "import pickle\n",
    "import os"
   ]
  },
  {
   "cell_type": "code",
   "execution_count": 20,
   "metadata": {},
   "outputs": [],
   "source": [
    "def EuclideanDistance(a,b):\n",
    "    x = (a[0]-b[0])**2\n",
    "    y = (a[1]-b[1])**2\n",
    "    return (x+y)**(1/2)"
   ]
  },
  {
   "cell_type": "code",
   "execution_count": 21,
   "metadata": {},
   "outputs": [],
   "source": [
    "# load original speed data\n",
    "original_speed = pd.read_csv(\"link_speed.csv\",header=None)\n",
    "original_speed = original_speed[2]"
   ]
  },
  {
   "cell_type": "code",
   "execution_count": 22,
   "metadata": {},
   "outputs": [],
   "source": [
    "# load road length file and join with id\n",
    "link_file = pd.read_csv(\"link_file.csv\",header=None)\n",
    "road_file = pd.read_csv(\"road_file.csv\",header=None)\n",
    "road_file[3] = link_file[2]\n",
    "road_file['speed'] = 0\n",
    "road_file = road_file.rename(columns={0: \"WISLR_LINKID\", 1: \"FROM\", 2:'TO', 3:\"LENGTH\", \"speed\" :\"SPEED\"})"
   ]
  },
  {
   "cell_type": "code",
   "execution_count": 23,
   "metadata": {},
   "outputs": [],
   "source": [
    "# read functional class data\n",
    "class_file = pd.read_csv(os.path.join(\"transportation_data\",\"wislr-data\",\"wislr_rdwy_link_fnct_cls.csv\"))"
   ]
  },
  {
   "cell_type": "code",
   "execution_count": 24,
   "metadata": {},
   "outputs": [],
   "source": [
    "#join road file with class data\n",
    "funClass = []\n",
    "\n",
    "for i in list(road_file[\"WISLR_LINKID\"]):\n",
    "    df = class_file[class_file[\"RDWY_LINK_ID\"] == i]\n",
    "    fClass = df.iloc[0,-1]\n",
    "    if type(fClass) != float:\n",
    "        funClass.append(fClass)\n",
    "    else:\n",
    "        funClass.append(\"None\")\n",
    "        \n",
    "road_file[\"functional_class\"] = funClass"
   ]
  },
  {
   "cell_type": "code",
   "execution_count": 25,
   "metadata": {},
   "outputs": [],
   "source": [
    "# read crash speed data\n",
    "crash_speed = pd.read_csv(os.path.join(\"transportation_data\",\"crash-data\",\"crash-data-link-2017-2020-postspd.csv\"))\n",
    "crash_speed = crash_speed[[\"WISLR_LINKID\",\"POSTSPD1\"]]\n",
    "crash_speed = crash_speed.rename(columns = {\"POSTSPD1\" : \"SPEED\"})\n",
    "crash_speed = crash_speed.dropna()"
   ]
  },
  {
   "cell_type": "code",
   "execution_count": 26,
   "metadata": {},
   "outputs": [],
   "source": [
    "# read coordinate data\n",
    "with open(\"reference_coordinate\", \"rb\") as f:\n",
    "    coord = pickle.load(f)"
   ]
  },
  {
   "cell_type": "code",
   "execution_count": 27,
   "metadata": {},
   "outputs": [],
   "source": [
    "road_coordinate = []\n",
    "for index, row in road_file.iterrows():\n",
    "    road_coordinate.append(coord[row[\"TO\"]][:2])\n",
    "road_file['coordinate'] = road_coordinate"
   ]
  },
  {
   "cell_type": "code",
   "execution_count": 28,
   "metadata": {},
   "outputs": [],
   "source": [
    "speed = []\n",
    "for i in road_file['WISLR_LINKID']:\n",
    "    df = crash_speed[crash_speed['WISLR_LINKID'] == i]\n",
    "    \n",
    "    # check if there is a crash data on that road\n",
    "    if df.shape[0] == 0:\n",
    "        speed.append(0)\n",
    "        continue\n",
    "    \n",
    "    # calculate average speed  \n",
    "    speed.append(df['SPEED'].mean())"
   ]
  },
  {
   "cell_type": "code",
   "execution_count": 29,
   "metadata": {},
   "outputs": [],
   "source": [
    "road_file['SPEED'] = speed"
   ]
  },
  {
   "cell_type": "code",
   "execution_count": 30,
   "metadata": {},
   "outputs": [],
   "source": [
    "# fill in the missing functional class by using nearest neighbor\n",
    "hasClassID = list(road_file[road_file['functional_class'] != \"None\"]['WISLR_LINKID'])\n",
    "hasClassCoord = list(road_file[road_file['functional_class'] != \"None\"]['coordinate'])\n",
    "hasClassName = list(road_file[road_file['functional_class'] != \"None\"]['functional_class'])\n",
    "\n",
    "funClass = []\n",
    "for i in road_file['WISLR_LINKID']:\n",
    "    row = road_file[road_file['WISLR_LINKID'] == i]\n",
    "    fClass = row['functional_class'].iloc[0]\n",
    "    if fClass != \"None\":\n",
    "        funClass.append(fClass)\n",
    "    else:\n",
    "        currentCoord = row['coordinate'].iloc[0]\n",
    "        distTemp = []\n",
    "        for j in hasClassCoord:\n",
    "            distTemp.append(EuclideanDistance(j,currentCoord))\n",
    "        funClass.append(hasClassName[distTemp.index(max(distTemp))])\n",
    "        \n",
    "road_file[\"functional_class\"] = funClass"
   ]
  },
  {
   "cell_type": "code",
   "execution_count": 31,
   "metadata": {},
   "outputs": [],
   "source": [
    "# calculate the average speed for each functional class\n",
    "df = road_file[road_file[\"SPEED\"] > 0]\n",
    "estimated_speed = {}\n",
    "for i in list(set(df[\"functional_class\"])):\n",
    "    estimated_speed[i] = df[df[\"functional_class\"]==i][\"SPEED\"].mean()\n",
    "    \n",
    "estimated_speed['Rural Minor Collector'] = df[df[\"functional_class\"].str.contains(\"Rural\")][\"SPEED\"].mean()"
   ]
  },
  {
   "cell_type": "code",
   "execution_count": 32,
   "metadata": {},
   "outputs": [
    {
     "data": {
      "text/plain": [
       "{'Urban Local': 27.405851229380644,\n",
       " 'Urban Other Connecting Link Principal Arterial': 33.2473611278323,\n",
       " 'Rural Minor Arterial': 50.10185185185185,\n",
       " 'Urban Minor Arterial': 32.46903780958517,\n",
       " 'Rural Local': 45.83094939480809,\n",
       " 'Urban Collector': 28.926700871145318,\n",
       " 'Rural Major Collector': 49.30952380952381,\n",
       " 'Rural Minor Collector': 46.32954386882959}"
      ]
     },
     "execution_count": 32,
     "metadata": {},
     "output_type": "execute_result"
    }
   ],
   "source": [
    "estimated_speed"
   ]
  },
  {
   "cell_type": "code",
   "execution_count": 33,
   "metadata": {},
   "outputs": [],
   "source": [
    "speed = []\n",
    "for i in road_file['WISLR_LINKID']:\n",
    "    row = road_file[road_file['WISLR_LINKID'] == i]\n",
    "    spd = float(row['SPEED'].iloc[0])\n",
    "    fClass = row['functional_class'].iloc[0]\n",
    "    if spd > 0:\n",
    "        speed.append(spd)\n",
    "    else:\n",
    "        speed.append(estimated_speed[fClass])\n",
    "        \n",
    "road_file[\"SPEED\"] = speed"
   ]
  },
  {
   "cell_type": "code",
   "execution_count": 34,
   "metadata": {},
   "outputs": [],
   "source": [
    "road_file[\"TIME\"] = road_file[\"LENGTH\"]/road_file[\"SPEED\"]"
   ]
  },
  {
   "cell_type": "code",
   "execution_count": 35,
   "metadata": {},
   "outputs": [],
   "source": [
    "#link_time = road_file[[\"FROM\",\"TO\",\"TIME\"]]\n",
    "#link_time.to_csv(\"link_time_updated.csv\",index=True, header=True)"
   ]
  },
  {
   "cell_type": "code",
   "execution_count": 36,
   "metadata": {},
   "outputs": [
    {
     "data": {
      "text/html": [
       "<div>\n",
       "<style scoped>\n",
       "    .dataframe tbody tr th:only-of-type {\n",
       "        vertical-align: middle;\n",
       "    }\n",
       "\n",
       "    .dataframe tbody tr th {\n",
       "        vertical-align: top;\n",
       "    }\n",
       "\n",
       "    .dataframe thead th {\n",
       "        text-align: right;\n",
       "    }\n",
       "</style>\n",
       "<table border=\"1\" class=\"dataframe\">\n",
       "  <thead>\n",
       "    <tr style=\"text-align: right;\">\n",
       "      <th></th>\n",
       "      <th>WISLR_LINKID</th>\n",
       "      <th>FROM</th>\n",
       "      <th>TO</th>\n",
       "      <th>LENGTH</th>\n",
       "      <th>SPEED</th>\n",
       "      <th>functional_class</th>\n",
       "      <th>coordinate</th>\n",
       "      <th>TIME</th>\n",
       "    </tr>\n",
       "  </thead>\n",
       "  <tbody>\n",
       "    <tr>\n",
       "      <th>0</th>\n",
       "      <td>4818580</td>\n",
       "      <td>1661200</td>\n",
       "      <td>1660820</td>\n",
       "      <td>4066</td>\n",
       "      <td>33.247361</td>\n",
       "      <td>Urban Other Connecting Link Principal Arterial</td>\n",
       "      <td>[562949.7867, 297024.33029999956]</td>\n",
       "      <td>122.295420</td>\n",
       "    </tr>\n",
       "    <tr>\n",
       "      <th>1</th>\n",
       "      <td>4819008</td>\n",
       "      <td>1661678</td>\n",
       "      <td>1661705</td>\n",
       "      <td>158</td>\n",
       "      <td>27.405851</td>\n",
       "      <td>Urban Local</td>\n",
       "      <td>[550324.932, 294479.6420000009]</td>\n",
       "      <td>5.765192</td>\n",
       "    </tr>\n",
       "    <tr>\n",
       "      <th>2</th>\n",
       "      <td>4819009</td>\n",
       "      <td>1661704</td>\n",
       "      <td>1661705</td>\n",
       "      <td>264</td>\n",
       "      <td>27.405851</td>\n",
       "      <td>Urban Local</td>\n",
       "      <td>[550324.932, 294479.6420000009]</td>\n",
       "      <td>9.632979</td>\n",
       "    </tr>\n",
       "    <tr>\n",
       "      <th>3</th>\n",
       "      <td>4819014</td>\n",
       "      <td>1661723</td>\n",
       "      <td>1661697</td>\n",
       "      <td>581</td>\n",
       "      <td>27.405851</td>\n",
       "      <td>Urban Local</td>\n",
       "      <td>[550579.0520000001, 294491.98699999973]</td>\n",
       "      <td>21.199852</td>\n",
       "    </tr>\n",
       "    <tr>\n",
       "      <th>4</th>\n",
       "      <td>4819015</td>\n",
       "      <td>1661705</td>\n",
       "      <td>1661723</td>\n",
       "      <td>264</td>\n",
       "      <td>27.405851</td>\n",
       "      <td>Urban Local</td>\n",
       "      <td>[550411.9919999996, 294452.6740000006]</td>\n",
       "      <td>9.632979</td>\n",
       "    </tr>\n",
       "    <tr>\n",
       "      <th>...</th>\n",
       "      <td>...</td>\n",
       "      <td>...</td>\n",
       "      <td>...</td>\n",
       "      <td>...</td>\n",
       "      <td>...</td>\n",
       "      <td>...</td>\n",
       "      <td>...</td>\n",
       "      <td>...</td>\n",
       "    </tr>\n",
       "    <tr>\n",
       "      <th>3127</th>\n",
       "      <td>5571520</td>\n",
       "      <td>1663210</td>\n",
       "      <td>1663276</td>\n",
       "      <td>1003</td>\n",
       "      <td>28.926701</td>\n",
       "      <td>Urban Collector</td>\n",
       "      <td>[557856.7019999996, 291739.8699999992]</td>\n",
       "      <td>34.673847</td>\n",
       "    </tr>\n",
       "    <tr>\n",
       "      <th>3128</th>\n",
       "      <td>5571521</td>\n",
       "      <td>1661558</td>\n",
       "      <td>1661551</td>\n",
       "      <td>317</td>\n",
       "      <td>27.405851</td>\n",
       "      <td>Urban Local</td>\n",
       "      <td>[562454.9359999998, 294905.79399999976]</td>\n",
       "      <td>11.566873</td>\n",
       "    </tr>\n",
       "    <tr>\n",
       "      <th>3129</th>\n",
       "      <td>5571522</td>\n",
       "      <td>1661551</td>\n",
       "      <td>1661558</td>\n",
       "      <td>317</td>\n",
       "      <td>27.405851</td>\n",
       "      <td>Urban Local</td>\n",
       "      <td>[562352.3899999997, 294899.0700000003]</td>\n",
       "      <td>11.566873</td>\n",
       "    </tr>\n",
       "    <tr>\n",
       "      <th>3130</th>\n",
       "      <td>5571523</td>\n",
       "      <td>2016715</td>\n",
       "      <td>2005025</td>\n",
       "      <td>1108</td>\n",
       "      <td>28.926701</td>\n",
       "      <td>Urban Collector</td>\n",
       "      <td>[561378.46, 293921.2990000006]</td>\n",
       "      <td>38.303711</td>\n",
       "    </tr>\n",
       "    <tr>\n",
       "      <th>3131</th>\n",
       "      <td>5571524</td>\n",
       "      <td>2005025</td>\n",
       "      <td>2016715</td>\n",
       "      <td>1108</td>\n",
       "      <td>28.926701</td>\n",
       "      <td>Urban Collector</td>\n",
       "      <td>[561375.6849999996, 293606.65100000054]</td>\n",
       "      <td>38.303711</td>\n",
       "    </tr>\n",
       "  </tbody>\n",
       "</table>\n",
       "<p>3132 rows × 8 columns</p>\n",
       "</div>"
      ],
      "text/plain": [
       "      WISLR_LINKID     FROM       TO  LENGTH      SPEED  \\\n",
       "0          4818580  1661200  1660820    4066  33.247361   \n",
       "1          4819008  1661678  1661705     158  27.405851   \n",
       "2          4819009  1661704  1661705     264  27.405851   \n",
       "3          4819014  1661723  1661697     581  27.405851   \n",
       "4          4819015  1661705  1661723     264  27.405851   \n",
       "...            ...      ...      ...     ...        ...   \n",
       "3127       5571520  1663210  1663276    1003  28.926701   \n",
       "3128       5571521  1661558  1661551     317  27.405851   \n",
       "3129       5571522  1661551  1661558     317  27.405851   \n",
       "3130       5571523  2016715  2005025    1108  28.926701   \n",
       "3131       5571524  2005025  2016715    1108  28.926701   \n",
       "\n",
       "                                    functional_class  \\\n",
       "0     Urban Other Connecting Link Principal Arterial   \n",
       "1                                        Urban Local   \n",
       "2                                        Urban Local   \n",
       "3                                        Urban Local   \n",
       "4                                        Urban Local   \n",
       "...                                              ...   \n",
       "3127                                 Urban Collector   \n",
       "3128                                     Urban Local   \n",
       "3129                                     Urban Local   \n",
       "3130                                 Urban Collector   \n",
       "3131                                 Urban Collector   \n",
       "\n",
       "                                   coordinate        TIME  \n",
       "0           [562949.7867, 297024.33029999956]  122.295420  \n",
       "1             [550324.932, 294479.6420000009]    5.765192  \n",
       "2             [550324.932, 294479.6420000009]    9.632979  \n",
       "3     [550579.0520000001, 294491.98699999973]   21.199852  \n",
       "4      [550411.9919999996, 294452.6740000006]    9.632979  \n",
       "...                                       ...         ...  \n",
       "3127   [557856.7019999996, 291739.8699999992]   34.673847  \n",
       "3128  [562454.9359999998, 294905.79399999976]   11.566873  \n",
       "3129   [562352.3899999997, 294899.0700000003]   11.566873  \n",
       "3130           [561378.46, 293921.2990000006]   38.303711  \n",
       "3131  [561375.6849999996, 293606.65100000054]   38.303711  \n",
       "\n",
       "[3132 rows x 8 columns]"
      ]
     },
     "execution_count": 36,
     "metadata": {},
     "output_type": "execute_result"
    }
   ],
   "source": [
    "road_file"
   ]
  },
  {
   "cell_type": "code",
   "execution_count": 39,
   "metadata": {},
   "outputs": [],
   "source": [
    "road_file = road_file[[\"WISLR_LINKID\",\"functional_class\"]]"
   ]
  },
  {
   "cell_type": "code",
   "execution_count": 40,
   "metadata": {},
   "outputs": [],
   "source": [
    "road_file.to_csv(\"functional_class.csv\",index=False)"
   ]
  },
  {
   "cell_type": "markdown",
   "metadata": {},
   "source": [
    "# Save rural or urban"
   ]
  },
  {
   "cell_type": "code",
   "execution_count": 19,
   "metadata": {},
   "outputs": [],
   "source": [
    "df = road_file[[\"WISLR_LINKID\",\"functional_class\"]]"
   ]
  },
  {
   "cell_type": "code",
   "execution_count": 22,
   "metadata": {},
   "outputs": [],
   "source": [
    "ruralUrban = []\n",
    "for i in list(df[\"functional_class\"]):\n",
    "    if \"Urban\" in i:\n",
    "        ruralUrban.append(\"Urban\")\n",
    "    else:\n",
    "        ruralUrban.append(\"Rural\")"
   ]
  },
  {
   "cell_type": "code",
   "execution_count": 25,
   "metadata": {},
   "outputs": [],
   "source": [
    "road_file['RuralOrUrban'] = ruralUrban"
   ]
  },
  {
   "cell_type": "code",
   "execution_count": 27,
   "metadata": {},
   "outputs": [],
   "source": [
    "link_id = list(road_file[\"WISLR_LINKID\"])\n",
    "RorU = list(road_file[\"RuralOrUrban\"])"
   ]
  },
  {
   "cell_type": "code",
   "execution_count": 28,
   "metadata": {},
   "outputs": [],
   "source": [
    "RorUDict = {}\n",
    "for i in range(len(link_id)):\n",
    "    RorUDict[link_id[i]] = RorU[i]"
   ]
  },
  {
   "cell_type": "code",
   "execution_count": 32,
   "metadata": {},
   "outputs": [],
   "source": [
    "with open(\"ruralOrUrban.pk\",'wb') as f:\n",
    "    pickle.dump(RorUDict,f) "
   ]
  },
  {
   "cell_type": "code",
   "execution_count": null,
   "metadata": {},
   "outputs": [],
   "source": []
  }
 ],
 "metadata": {
  "kernelspec": {
   "display_name": "Python 3",
   "language": "python",
   "name": "python3"
  },
  "language_info": {
   "codemirror_mode": {
    "name": "ipython",
    "version": 3
   },
   "file_extension": ".py",
   "mimetype": "text/x-python",
   "name": "python",
   "nbconvert_exporter": "python",
   "pygments_lexer": "ipython3",
   "version": "3.8.3"
  }
 },
 "nbformat": 4,
 "nbformat_minor": 4
}
