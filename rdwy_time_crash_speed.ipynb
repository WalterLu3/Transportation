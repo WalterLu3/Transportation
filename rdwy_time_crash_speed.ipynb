{
 "cells": [
  {
   "cell_type": "code",
   "execution_count": 168,
   "metadata": {},
   "outputs": [],
   "source": [
    "import pandas as pd\n",
    "import pickle\n",
    "import os"
   ]
  },
  {
   "cell_type": "code",
   "execution_count": 169,
   "metadata": {},
   "outputs": [],
   "source": [
    "def EuclideanDistance(a,b):\n",
    "    x = (a[0]-b[0])**2\n",
    "    y = (a[1]-b[1])**2\n",
    "    return (x+y)**(1/2)"
   ]
  },
  {
   "cell_type": "code",
   "execution_count": 184,
   "metadata": {},
   "outputs": [],
   "source": [
    "# load original speed data\n",
    "original_speed = pd.read_csv(\"link_speed.csv\",header=None)\n",
    "original_speed = original_speed[2]"
   ]
  },
  {
   "cell_type": "code",
   "execution_count": 170,
   "metadata": {},
   "outputs": [],
   "source": [
    "# load road length file and join with id\n",
    "link_file = pd.read_csv(\"link_file.csv\",header=None)\n",
    "road_file = pd.read_csv(\"road_file.csv\",header=None)\n",
    "road_file[3] = link_file[2]\n",
    "road_file['speed'] = 0\n",
    "road_file = road_file.rename(columns={0: \"WISLR_LINKID\", 1: \"FROM\", 2:'TO', 3:\"LENGTH\", \"speed\" :\"SPEED\"})"
   ]
  },
  {
   "cell_type": "code",
   "execution_count": 171,
   "metadata": {},
   "outputs": [],
   "source": [
    "# read crash speed data\n",
    "crash_speed = pd.read_csv(os.path.join(\"transportation_data\",\"crash-data\",\"crash-data-link-2017-2020-postspd.csv\"))\n",
    "crash_speed = crash_speed[[\"WISLR_LINKID\",\"POSTSPD1\"]]\n",
    "crash_speed = crash_speed.rename(columns = {\"POSTSPD1\" : \"SPEED\"})\n",
    "crash_speed = crash_speed.dropna()"
   ]
  },
  {
   "cell_type": "code",
   "execution_count": 172,
   "metadata": {},
   "outputs": [],
   "source": [
    "# read coordinate data\n",
    "with open(\"reference_coordinate\", \"rb\") as f:\n",
    "    coord = pickle.load(f)"
   ]
  },
  {
   "cell_type": "code",
   "execution_count": 173,
   "metadata": {},
   "outputs": [],
   "source": [
    "road_coordinate = []\n",
    "for index, row in road_file.iterrows():\n",
    "    road_coordinate.append(coord[row[\"TO\"]][:2])\n",
    "road_file['coordinate'] = road_coordinate"
   ]
  },
  {
   "cell_type": "code",
   "execution_count": 174,
   "metadata": {},
   "outputs": [],
   "source": [
    "speed = []\n",
    "for i in road_file['WISLR_LINKID']:\n",
    "    df = crash_speed[crash_speed['WISLR_LINKID'] == i]\n",
    "    \n",
    "    # check if there is a crash data on that road\n",
    "    if df.shape[0] == 0:\n",
    "        speed.append(0)\n",
    "        continue\n",
    "    \n",
    "    # calculate average speed  \n",
    "    speed.append(df['SPEED'].mean())"
   ]
  },
  {
   "cell_type": "code",
   "execution_count": 175,
   "metadata": {},
   "outputs": [],
   "source": [
    "road_file['SPEED'] = speed"
   ]
  },
  {
   "cell_type": "code",
   "execution_count": 176,
   "metadata": {},
   "outputs": [],
   "source": [
    "biggerThenZeroID = list(road_file[road_file['SPEED'] > 0]['WISLR_LINKID'])\n",
    "biggerThenZeroCoord = list(road_file[road_file['SPEED'] > 0]['coordinate'])\n",
    "biggerThenZeroSpeed = list(road_file[road_file['SPEED'] > 0]['SPEED'])"
   ]
  },
  {
   "cell_type": "code",
   "execution_count": 178,
   "metadata": {},
   "outputs": [],
   "source": [
    "speed = []\n",
    "for i in road_file['WISLR_LINKID']:\n",
    "    row = road_file[road_file['WISLR_LINKID'] == i]\n",
    "    spd = float(row['SPEED'].iloc[0])\n",
    "    if spd > 0:\n",
    "        speed.append(spd)\n",
    "    else:\n",
    "        currentCoord = row['coordinate'].iloc[0]\n",
    "        distTemp = []\n",
    "        for j in biggerThenZeroCoord:\n",
    "            distTemp.append(EuclideanDistance(j,currentCoord))\n",
    "        speed.append(biggerThenZeroSpeed[distTemp.index(max(distTemp))])\n",
    "        \n",
    "road_file[\"SPEED\"] = speed"
   ]
  },
  {
   "cell_type": "code",
   "execution_count": 185,
   "metadata": {},
   "outputs": [],
   "source": [
    "road_file[\"SPEED\"] = (road_file[\"SPEED\"] + original_speed)/2"
   ]
  },
  {
   "cell_type": "code",
   "execution_count": 188,
   "metadata": {},
   "outputs": [],
   "source": [
    "road_file[\"TIME\"] = road_file[\"LENGTH\"]/road_file[\"SPEED\"]"
   ]
  },
  {
   "cell_type": "code",
   "execution_count": 190,
   "metadata": {},
   "outputs": [
    {
     "ename": "NameError",
     "evalue": "name 'road_time' is not defined",
     "output_type": "error",
     "traceback": [
      "\u001b[0;31m---------------------------------------------------------------------------\u001b[0m",
      "\u001b[0;31mNameError\u001b[0m                                 Traceback (most recent call last)",
      "\u001b[0;32m<ipython-input-190-6f4bb845912b>\u001b[0m in \u001b[0;36m<module>\u001b[0;34m\u001b[0m\n\u001b[0;32m----> 1\u001b[0;31m \u001b[0mlink_time\u001b[0m \u001b[0;34m=\u001b[0m \u001b[0mroad_time\u001b[0m\u001b[0;34m[\u001b[0m\u001b[0;34m[\u001b[0m\u001b[0;34m\"FROM\"\u001b[0m\u001b[0;34m,\u001b[0m\u001b[0;34m\"TO\"\u001b[0m\u001b[0;34m,\u001b[0m\u001b[0;34m\"TIME\"\u001b[0m\u001b[0;34m]\u001b[0m\u001b[0;34m]\u001b[0m\u001b[0;34m\u001b[0m\u001b[0;34m\u001b[0m\u001b[0m\n\u001b[0m",
      "\u001b[0;31mNameError\u001b[0m: name 'road_time' is not defined"
     ]
    }
   ],
   "source": [
    "link_time = road_time[[\"FROM\",\"TO\",\"TIME\"]]"
   ]
  },
  {
   "cell_type": "code",
   "execution_count": null,
   "metadata": {},
   "outputs": [],
   "source": []
  }
 ],
 "metadata": {
  "kernelspec": {
   "display_name": "Python 3",
   "language": "python",
   "name": "python3"
  },
  "language_info": {
   "codemirror_mode": {
    "name": "ipython",
    "version": 3
   },
   "file_extension": ".py",
   "mimetype": "text/x-python",
   "name": "python",
   "nbconvert_exporter": "python",
   "pygments_lexer": "ipython3",
   "version": "3.8.3"
  }
 },
 "nbformat": 4,
 "nbformat_minor": 4
}
