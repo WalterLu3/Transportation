{
 "cells": [
  {
   "cell_type": "code",
   "execution_count": 127,
   "metadata": {},
   "outputs": [],
   "source": [
    "import numpy as np\n",
    "import networkx as nx\n",
    "import matplotlib.patches as mpatches\n",
    "from matplotlib import colors\n",
    "import random\n",
    "import matplotlib.pyplot as plt\n",
    "from matplotlib.pyplot import figure\n",
    "import time\n",
    "import pickle as pk\n",
    "import csv"
   ]
  },
  {
   "cell_type": "code",
   "execution_count": 2,
   "metadata": {},
   "outputs": [],
   "source": [
    "# district number\n",
    "DISTRICT_NUM = 8\n",
    "# county width\n",
    "ASSIGN_W = 5\n",
    "# county height\n",
    "ASSIGN_H = 4\n",
    "\n",
    "popBound = 0.05\n",
    "\n",
    "\n",
    "# creat district set\n",
    "district = []\n",
    "districtSet = []\n",
    "for idx in range(DISTRICT_NUM):\n",
    "    district.append(\"d\"+str(idx+1))\n",
    "    districtSet.append(\"d\"+str(idx+1))\n",
    "nodes = []\n",
    "for idx in range(ASSIGN_W):\n",
    "    for jdx in range(ASSIGN_H):\n",
    "        nodes.append(\"n_x{}_y{}\".format(idx,jdx))"
   ]
  },
  {
   "cell_type": "code",
   "execution_count": 5,
   "metadata": {},
   "outputs": [],
   "source": [
    "# construct adjacency data\n",
    "adjList = []\n",
    "for i in range(ASSIGN_W):\n",
    "    for j in range(ASSIGN_H):\n",
    "        # right adj\n",
    "        if i + 1 < ASSIGN_W:\n",
    "            adjList.append([\"n_x{}_y{}\".format(i,j),\"n_x{}_y{}\".format(i+1,j)])\n",
    "        # up adj\n",
    "        if j + 1 < ASSIGN_H:\n",
    "            adjList.append([\"n_x{}_y{}\".format(i,j),\"n_x{}_y{}\".format(i,j+1)])\n",
    "            \n",
    "# construct node position\n",
    "position = {}\n",
    "population = {}\n",
    "totalPop = 0\n",
    "unitNumber = {} #used to count the units in it\n",
    "for idx in range(ASSIGN_W):\n",
    "    for jdx in range(ASSIGN_H):\n",
    "        position[\"n_x{}_y{}\".format(idx,jdx)] = (0.5+1*idx, 0.5+1*jdx)\n",
    "\n",
    "        population[\"n_x{}_y{}\".format(idx,jdx)] = random.randrange(10,300)\n",
    "            \n",
    "        totalPop += population[\"n_x{}_y{}\".format(idx,jdx)]\n",
    "        unitNumber[\"n_x{}_y{}\".format(idx,jdx)] = 1\n",
    "        \n",
    "interval = 2*(totalPop/DISTRICT_NUM)*popBound"
   ]
  },
  {
   "cell_type": "code",
   "execution_count": 7,
   "metadata": {},
   "outputs": [],
   "source": [
    "G = nx.Graph()\n",
    "G.add_edges_from(adjList)"
   ]
  },
  {
   "cell_type": "code",
   "execution_count": 9,
   "metadata": {},
   "outputs": [
    {
     "data": {
      "image/png": "[encoded data removed]",
      "text/plain": [
       "<Figure size 432x288 with 1 Axes>"
      ]
     },
     "metadata": {},
     "output_type": "display_data"
    }
   ],
   "source": [
    "nx.draw(G,pos = position)"
   ]
  },
  {
   "cell_type": "code",
   "execution_count": 77,
   "metadata": {},
   "outputs": [],
   "source": [
    "category = {0:[], 1:[], 2:[], 3:[]}\n",
    "for i in position:\n",
    "    if i == \"n_x0_y0\" or i == \"n_x4_y3\":\n",
    "        category[0].append(i)\n",
    "    else:\n",
    "        chosen = random.choices([0,1,2,3], weights=(40, 10, 10, 10), k=1)\n",
    "        category[chosen[0]].append(i)"
   ]
  },
  {
   "cell_type": "code",
   "execution_count": 78,
   "metadata": {},
   "outputs": [
    {
     "data": {
      "text/plain": [
       "{0: ['n_x0_y0',\n",
       "  'n_x0_y1',\n",
       "  'n_x0_y2',\n",
       "  'n_x1_y0',\n",
       "  'n_x1_y1',\n",
       "  'n_x1_y2',\n",
       "  'n_x1_y3',\n",
       "  'n_x2_y2',\n",
       "  'n_x3_y1',\n",
       "  'n_x3_y2',\n",
       "  'n_x3_y3',\n",
       "  'n_x4_y1',\n",
       "  'n_x4_y3'],\n",
       " 1: ['n_x0_y3', 'n_x4_y2'],\n",
       " 2: ['n_x2_y0', 'n_x2_y1'],\n",
       " 3: ['n_x2_y3', 'n_x3_y0', 'n_x4_y0']}"
      ]
     },
     "execution_count": 78,
     "metadata": {},
     "output_type": "execute_result"
    }
   ],
   "source": [
    "category"
   ]
  },
  {
   "cell_type": "code",
   "execution_count": 99,
   "metadata": {},
   "outputs": [],
   "source": [
    "edge_weight = {}\n",
    "num_list = [1,2,3,4,5,6,7,8,9,10]\n",
    "for e in G.edges:\n",
    "    edge_weight[e] = random.choice(num_list)"
   ]
  },
  {
   "cell_type": "code",
   "execution_count": 138,
   "metadata": {},
   "outputs": [
    {
     "data": {
      "text/plain": [
       "{('n_x0_y0', 'n_x1_y0'): Text(1.0, 0.5, '10'),\n",
       " ('n_x0_y0', 'n_x0_y1'): Text(0.5, 1.0, '6'),\n",
       " ('n_x1_y0', 'n_x2_y0'): Text(2.0, 0.5, '8'),\n",
       " ('n_x1_y0', 'n_x1_y1'): Text(1.5, 1.0, '7'),\n",
       " ('n_x0_y1', 'n_x1_y1'): Text(1.0, 1.5, '6'),\n",
       " ('n_x0_y1', 'n_x0_y2'): Text(0.5, 2.0, '10'),\n",
       " ('n_x1_y1', 'n_x2_y1'): Text(2.0, 1.5, '7'),\n",
       " ('n_x1_y1', 'n_x1_y2'): Text(1.5, 2.0, '2'),\n",
       " ('n_x0_y2', 'n_x1_y2'): Text(1.0, 2.5, '3'),\n",
       " ('n_x0_y2', 'n_x0_y3'): Text(0.5, 3.0, '6'),\n",
       " ('n_x1_y2', 'n_x2_y2'): Text(2.0, 2.5, '7'),\n",
       " ('n_x1_y2', 'n_x1_y3'): Text(1.5, 3.0, '5'),\n",
       " ('n_x0_y3', 'n_x1_y3'): Text(1.0, 3.5, '5'),\n",
       " ('n_x1_y3', 'n_x2_y3'): Text(2.0, 3.5, '4'),\n",
       " ('n_x2_y0', 'n_x3_y0'): Text(3.0, 0.5, '4'),\n",
       " ('n_x2_y0', 'n_x2_y1'): Text(2.5, 1.0, '3'),\n",
       " ('n_x2_y1', 'n_x3_y1'): Text(3.0, 1.5, '7'),\n",
       " ('n_x2_y1', 'n_x2_y2'): Text(2.5, 2.0, '9'),\n",
       " ('n_x2_y2', 'n_x3_y2'): Text(3.0, 2.5, '7'),\n",
       " ('n_x2_y2', 'n_x2_y3'): Text(2.5, 3.0, '6'),\n",
       " ('n_x2_y3', 'n_x3_y3'): Text(3.0, 3.5, '3'),\n",
       " ('n_x3_y0', 'n_x4_y0'): Text(4.0, 0.5, '9'),\n",
       " ('n_x3_y0', 'n_x3_y1'): Text(3.5, 1.0, '8'),\n",
       " ('n_x3_y1', 'n_x4_y1'): Text(4.0, 1.5, '4'),\n",
       " ('n_x3_y1', 'n_x3_y2'): Text(3.5, 2.0, '10'),\n",
       " ('n_x3_y2', 'n_x4_y2'): Text(4.0, 2.5, '10'),\n",
       " ('n_x3_y2', 'n_x3_y3'): Text(3.5, 3.0, '9'),\n",
       " ('n_x3_y3', 'n_x4_y3'): Text(4.0, 3.5, '6'),\n",
       " ('n_x4_y0', 'n_x4_y1'): Text(4.5, 1.0, '5'),\n",
       " ('n_x4_y1', 'n_x4_y2'): Text(4.5, 2.0, '4'),\n",
       " ('n_x4_y2', 'n_x4_y3'): Text(4.5, 3.0, '6')}"
      ]
     },
     "execution_count": 138,
     "metadata": {},
     "output_type": "execute_result"
    },
    {
     "data": {
      "image/png": "[encoded data removed]",
      "text/plain": [
       "<Figure size 432x288 with 1 Axes>"
      ]
     },
     "metadata": {},
     "output_type": "display_data"
    }
   ],
   "source": [
    "nx.draw_networkx_nodes(G, position, nodelist=category[0],node_color = \"#000000\")\n",
    "nx.draw_networkx_nodes(G, position, nodelist=category[1], node_color=\"tab:blue\")\n",
    "nx.draw_networkx_nodes(G, position, nodelist=category[2], node_color=\"tab:green\")\n",
    "nx.draw_networkx_nodes(G, position, nodelist=category[3], node_color=\"tab:purple\")\n",
    "nx.draw_networkx_edges(G, position, width=1.0, alpha=0.5)\n",
    "nx.draw_networkx_edge_labels(G, position, edge_labels=edge_weight)\n"
   ]
  },
  {
   "cell_type": "code",
   "execution_count": 142,
   "metadata": {},
   "outputs": [
    {
     "data": {
      "text/plain": [
       "<matplotlib.collections.LineCollection at 0x7fc1442f4880>"
      ]
     },
     "execution_count": 142,
     "metadata": {},
     "output_type": "execute_result"
    },
    {
     "data": {
      "image/png": "[encoded data removed]",
      "text/plain": [
       "<Figure size 432x288 with 1 Axes>"
      ]
     },
     "metadata": {},
     "output_type": "display_data"
    }
   ],
   "source": [
    "nx.draw_networkx_nodes(G, position, nodelist=category[0],node_color = \"#000000\")\n",
    "nx.draw_networkx_nodes(G, position, nodelist=category[1], node_color=\"tab:blue\")\n",
    "nx.draw_networkx_nodes(G, position, nodelist=category[2], node_color=\"tab:green\")\n",
    "nx.draw_networkx_nodes(G, position, nodelist=category[3], node_color=\"tab:purple\")\n",
    "nx.draw_networkx_edges(G, position, width=1.0, alpha=0.5)\n",
    "nx.draw_networkx_edge_labels(G, position, edge_labels=edge_weight)\n",
    "\n",
    "nx.draw_networkx_edges(\n",
    "    G,\n",
    "    position,\n",
    "    edgelist=[('n_x0_y0','n_x1_y0'), ('n_x1_y0','n_x2_y0'), ('n_x2_y0','n_x3_y0'), ('n_x3_y0','n_x3_y1'), \\\n",
    "             ('n_x3_y1','n_x4_y1'), ('n_x4_y1','n_x4_y2'), ('n_x4_y2','n_x4_y3')],\n",
    "    width=8,\n",
    "    alpha=0.5,\n",
    "    edge_color=\"tab:red\",\n",
    ")"
   ]
  },
  {
   "cell_type": "code",
   "execution_count": null,
   "metadata": {},
   "outputs": [],
   "source": [
    "n_x0_y_0   n_x1_y0     n_x2_y0     n_x3_y0     n_x3_y1     n_x4_y1     n_x4_y2     n_x4_y3"
   ]
  },
  {
   "cell_type": "code",
   "execution_count": 85,
   "metadata": {},
   "outputs": [],
   "source": [
    "edge_label = {('n_x0_y0','n_x0_y1'):1}"
   ]
  },
  {
   "cell_type": "code",
   "execution_count": 104,
   "metadata": {},
   "outputs": [
    {
     "data": {
      "text/plain": [
       "['n_x0_y0',\n",
       " 'n_x1_y0',\n",
       " 'n_x0_y1',\n",
       " 'n_x1_y1',\n",
       " 'n_x0_y2',\n",
       " 'n_x1_y2',\n",
       " 'n_x0_y3',\n",
       " 'n_x1_y3',\n",
       " 'n_x2_y0',\n",
       " 'n_x2_y1',\n",
       " 'n_x2_y2',\n",
       " 'n_x2_y3',\n",
       " 'n_x3_y0',\n",
       " 'n_x3_y1',\n",
       " 'n_x3_y2',\n",
       " 'n_x3_y3',\n",
       " 'n_x4_y0',\n",
       " 'n_x4_y1',\n",
       " 'n_x4_y2',\n",
       " 'n_x4_y3']"
      ]
     },
     "execution_count": 104,
     "metadata": {},
     "output_type": "execute_result"
    }
   ],
   "source": [
    "list(G.nodes)"
   ]
  },
  {
   "cell_type": "code",
   "execution_count": 105,
   "metadata": {},
   "outputs": [],
   "source": [
    "arcs = []\n",
    "for i in G.edges:\n",
    "    arcs.append(i)\n",
    "    arcs.append((i[1],i[0]))"
   ]
  },
  {
   "cell_type": "code",
   "execution_count": 119,
   "metadata": {},
   "outputs": [],
   "source": [
    "arc_file = []\n",
    "for a in arcs:\n",
    "    arc_file.append([a[0],a[1],1])"
   ]
  },
  {
   "cell_type": "code",
   "execution_count": 128,
   "metadata": {},
   "outputs": [],
   "source": [
    "#with open(\"arcs.csv\", \"w\", newline=\"\") as f:\n",
    "#    writer = csv.writer(f)\n",
    "#    writer.writerows(arc_file)"
   ]
  },
  {
   "cell_type": "code",
   "execution_count": 120,
   "metadata": {},
   "outputs": [
    {
     "data": {
      "text/plain": [
       "[['n_x0_y0', 'n_x1_y0', 1],\n",
       " ['n_x1_y0', 'n_x0_y0', 1],\n",
       " ['n_x0_y0', 'n_x0_y1', 1],\n",
       " ['n_x0_y1', 'n_x0_y0', 1],\n",
       " ['n_x1_y0', 'n_x2_y0', 1],\n",
       " ['n_x2_y0', 'n_x1_y0', 1],\n",
       " ['n_x1_y0', 'n_x1_y1', 1],\n",
       " ['n_x1_y1', 'n_x1_y0', 1],\n",
       " ['n_x0_y1', 'n_x1_y1', 1],\n",
       " ['n_x1_y1', 'n_x0_y1', 1],\n",
       " ['n_x0_y1', 'n_x0_y2', 1],\n",
       " ['n_x0_y2', 'n_x0_y1', 1],\n",
       " ['n_x1_y1', 'n_x2_y1', 1],\n",
       " ['n_x2_y1', 'n_x1_y1', 1],\n",
       " ['n_x1_y1', 'n_x1_y2', 1],\n",
       " ['n_x1_y2', 'n_x1_y1', 1],\n",
       " ['n_x0_y2', 'n_x1_y2', 1],\n",
       " ['n_x1_y2', 'n_x0_y2', 1],\n",
       " ['n_x0_y2', 'n_x0_y3', 1],\n",
       " ['n_x0_y3', 'n_x0_y2', 1],\n",
       " ['n_x1_y2', 'n_x2_y2', 1],\n",
       " ['n_x2_y2', 'n_x1_y2', 1],\n",
       " ['n_x1_y2', 'n_x1_y3', 1],\n",
       " ['n_x1_y3', 'n_x1_y2', 1],\n",
       " ['n_x0_y3', 'n_x1_y3', 1],\n",
       " ['n_x1_y3', 'n_x0_y3', 1],\n",
       " ['n_x1_y3', 'n_x2_y3', 1],\n",
       " ['n_x2_y3', 'n_x1_y3', 1],\n",
       " ['n_x2_y0', 'n_x3_y0', 1],\n",
       " ['n_x3_y0', 'n_x2_y0', 1],\n",
       " ['n_x2_y0', 'n_x2_y1', 1],\n",
       " ['n_x2_y1', 'n_x2_y0', 1],\n",
       " ['n_x2_y1', 'n_x3_y1', 1],\n",
       " ['n_x3_y1', 'n_x2_y1', 1],\n",
       " ['n_x2_y1', 'n_x2_y2', 1],\n",
       " ['n_x2_y2', 'n_x2_y1', 1],\n",
       " ['n_x2_y2', 'n_x3_y2', 1],\n",
       " ['n_x3_y2', 'n_x2_y2', 1],\n",
       " ['n_x2_y2', 'n_x2_y3', 1],\n",
       " ['n_x2_y3', 'n_x2_y2', 1],\n",
       " ['n_x2_y3', 'n_x3_y3', 1],\n",
       " ['n_x3_y3', 'n_x2_y3', 1],\n",
       " ['n_x3_y0', 'n_x4_y0', 1],\n",
       " ['n_x4_y0', 'n_x3_y0', 1],\n",
       " ['n_x3_y0', 'n_x3_y1', 1],\n",
       " ['n_x3_y1', 'n_x3_y0', 1],\n",
       " ['n_x3_y1', 'n_x4_y1', 1],\n",
       " ['n_x4_y1', 'n_x3_y1', 1],\n",
       " ['n_x3_y1', 'n_x3_y2', 1],\n",
       " ['n_x3_y2', 'n_x3_y1', 1],\n",
       " ['n_x3_y2', 'n_x4_y2', 1],\n",
       " ['n_x4_y2', 'n_x3_y2', 1],\n",
       " ['n_x3_y2', 'n_x3_y3', 1],\n",
       " ['n_x3_y3', 'n_x3_y2', 1],\n",
       " ['n_x3_y3', 'n_x4_y3', 1],\n",
       " ['n_x4_y3', 'n_x3_y3', 1],\n",
       " ['n_x4_y0', 'n_x4_y1', 1],\n",
       " ['n_x4_y1', 'n_x4_y0', 1],\n",
       " ['n_x4_y1', 'n_x4_y2', 1],\n",
       " ['n_x4_y2', 'n_x4_y1', 1],\n",
       " ['n_x4_y2', 'n_x4_y3', 1],\n",
       " ['n_x4_y3', 'n_x4_y2', 1]]"
      ]
     },
     "execution_count": 120,
     "metadata": {},
     "output_type": "execute_result"
    }
   ],
   "source": [
    "arc_file"
   ]
  },
  {
   "cell_type": "code",
   "execution_count": 134,
   "metadata": {},
   "outputs": [],
   "source": [
    "edge_file = []\n",
    "for e in edge_weight:\n",
    "    edge_file.append([e[0],e[1],edge_weight[e]])\n",
    "    edge_file.append([e[1],e[0],edge_weight[e]])\n",
    "    \n",
    "# with open(\"edge_weight.csv\", \"w\", newline=\"\") as f:\n",
    "#     writer = csv.writer(f)\n",
    "#     writer.writerows(edge_file)"
   ]
  },
  {
   "cell_type": "code",
   "execution_count": 133,
   "metadata": {},
   "outputs": [
    {
     "data": {
      "text/plain": [
       "{('n_x0_y0', 'n_x1_y0'): 10,\n",
       " ('n_x0_y0', 'n_x0_y1'): 6,\n",
       " ('n_x1_y0', 'n_x2_y0'): 8,\n",
       " ('n_x1_y0', 'n_x1_y1'): 7,\n",
       " ('n_x0_y1', 'n_x1_y1'): 6,\n",
       " ('n_x0_y1', 'n_x0_y2'): 10,\n",
       " ('n_x1_y1', 'n_x2_y1'): 7,\n",
       " ('n_x1_y1', 'n_x1_y2'): 2,\n",
       " ('n_x0_y2', 'n_x1_y2'): 3,\n",
       " ('n_x0_y2', 'n_x0_y3'): 6,\n",
       " ('n_x1_y2', 'n_x2_y2'): 7,\n",
       " ('n_x1_y2', 'n_x1_y3'): 5,\n",
       " ('n_x0_y3', 'n_x1_y3'): 5,\n",
       " ('n_x1_y3', 'n_x2_y3'): 4,\n",
       " ('n_x2_y0', 'n_x3_y0'): 4,\n",
       " ('n_x2_y0', 'n_x2_y1'): 3,\n",
       " ('n_x2_y1', 'n_x3_y1'): 7,\n",
       " ('n_x2_y1', 'n_x2_y2'): 9,\n",
       " ('n_x2_y2', 'n_x3_y2'): 7,\n",
       " ('n_x2_y2', 'n_x2_y3'): 6,\n",
       " ('n_x2_y3', 'n_x3_y3'): 3,\n",
       " ('n_x3_y0', 'n_x4_y0'): 9,\n",
       " ('n_x3_y0', 'n_x3_y1'): 8,\n",
       " ('n_x3_y1', 'n_x4_y1'): 4,\n",
       " ('n_x3_y1', 'n_x3_y2'): 10,\n",
       " ('n_x3_y2', 'n_x4_y2'): 10,\n",
       " ('n_x3_y2', 'n_x3_y3'): 9,\n",
       " ('n_x3_y3', 'n_x4_y3'): 6,\n",
       " ('n_x4_y0', 'n_x4_y1'): 5,\n",
       " ('n_x4_y1', 'n_x4_y2'): 4,\n",
       " ('n_x4_y2', 'n_x4_y3'): 6}"
      ]
     },
     "execution_count": 133,
     "metadata": {},
     "output_type": "execute_result"
    }
   ],
   "source": [
    "edge_weight"
   ]
  },
  {
   "cell_type": "code",
   "execution_count": 113,
   "metadata": {},
   "outputs": [],
   "source": [
    "blue = []\n",
    "for i in category[1]:\n",
    "    blue.append([i,1])\n",
    "green = []\n",
    "for i in category[2]:\n",
    "    green.append([i,1])\n",
    "purple = []\n",
    "for i in category[3]:\n",
    "    purple.append([i,1])"
   ]
  },
  {
   "cell_type": "code",
   "execution_count": 117,
   "metadata": {},
   "outputs": [
    {
     "data": {
      "text/plain": [
       "[['n_x2_y3', 1], ['n_x3_y0', 1], ['n_x4_y0', 1]]"
      ]
     },
     "execution_count": 117,
     "metadata": {},
     "output_type": "execute_result"
    }
   ],
   "source": [
    "purple"
   ]
  },
  {
   "cell_type": "code",
   "execution_count": 80,
   "metadata": {},
   "outputs": [],
   "source": [
    "with open(\"category.pk\", 'wb') as f:\n",
    "    pk.dump(category,f)"
   ]
  },
  {
   "cell_type": "code",
   "execution_count": 82,
   "metadata": {},
   "outputs": [
    {
     "ename": "AttributeError",
     "evalue": "'Graph' object has no attribute 'new_edge_property'",
     "output_type": "error",
     "traceback": [
      "\u001b[0;31m---------------------------------------------------------------------------\u001b[0m",
      "\u001b[0;31mAttributeError\u001b[0m                            Traceback (most recent call last)",
      "\u001b[0;32m<ipython-input-82-c6a1e497e5c2>\u001b[0m in \u001b[0;36m<module>\u001b[0;34m\u001b[0m\n\u001b[0;32m----> 1\u001b[0;31m \u001b[0mlabel\u001b[0m \u001b[0;34m=\u001b[0m \u001b[0mG\u001b[0m\u001b[0;34m.\u001b[0m\u001b[0mnew_edge_property\u001b[0m\u001b[0;34m(\u001b[0m\u001b[0;34m\"string\"\u001b[0m\u001b[0;34m)\u001b[0m\u001b[0;34m\u001b[0m\u001b[0;34m\u001b[0m\u001b[0m\n\u001b[0m",
      "\u001b[0;31mAttributeError\u001b[0m: 'Graph' object has no attribute 'new_edge_property'"
     ]
    }
   ],
   "source": [
    "label = G.new_edge_property(\"string\")"
   ]
  },
  {
   "cell_type": "code",
   "execution_count": 97,
   "metadata": {},
   "outputs": [],
   "source": []
  },
  {
   "cell_type": "code",
   "execution_count": 98,
   "metadata": {},
   "outputs": [
    {
     "data": {
      "text/plain": [
       "{('n_x0_y0', 'n_x1_y0'): 9,\n",
       " ('n_x0_y0', 'n_x0_y1'): 8,\n",
       " ('n_x1_y0', 'n_x2_y0'): 3,\n",
       " ('n_x1_y0', 'n_x1_y1'): 8,\n",
       " ('n_x0_y1', 'n_x1_y1'): 9,\n",
       " ('n_x0_y1', 'n_x0_y2'): 3,\n",
       " ('n_x1_y1', 'n_x2_y1'): 3,\n",
       " ('n_x1_y1', 'n_x1_y2'): 3,\n",
       " ('n_x0_y2', 'n_x1_y2'): 5,\n",
       " ('n_x0_y2', 'n_x0_y3'): 9,\n",
       " ('n_x1_y2', 'n_x2_y2'): 4,\n",
       " ('n_x1_y2', 'n_x1_y3'): 9,\n",
       " ('n_x0_y3', 'n_x1_y3'): 4,\n",
       " ('n_x1_y3', 'n_x2_y3'): 9,\n",
       " ('n_x2_y0', 'n_x3_y0'): 5,\n",
       " ('n_x2_y0', 'n_x2_y1'): 5,\n",
       " ('n_x2_y1', 'n_x3_y1'): 8,\n",
       " ('n_x2_y1', 'n_x2_y2'): 3,\n",
       " ('n_x2_y2', 'n_x3_y2'): 10,\n",
       " ('n_x2_y2', 'n_x2_y3'): 3,\n",
       " ('n_x2_y3', 'n_x3_y3'): 6,\n",
       " ('n_x3_y0', 'n_x4_y0'): 3,\n",
       " ('n_x3_y0', 'n_x3_y1'): 10,\n",
       " ('n_x3_y1', 'n_x4_y1'): 8,\n",
       " ('n_x3_y1', 'n_x3_y2'): 2,\n",
       " ('n_x3_y2', 'n_x4_y2'): 9,\n",
       " ('n_x3_y2', 'n_x3_y3'): 7,\n",
       " ('n_x3_y3', 'n_x4_y3'): 3,\n",
       " ('n_x4_y0', 'n_x4_y1'): 4,\n",
       " ('n_x4_y1', 'n_x4_y2'): 6,\n",
       " ('n_x4_y2', 'n_x4_y3'): 9}"
      ]
     },
     "execution_count": 98,
     "metadata": {},
     "output_type": "execute_result"
    }
   ],
   "source": []
  },
  {
   "cell_type": "code",
   "execution_count": 118,
   "metadata": {},
   "outputs": [
    {
     "data": {
      "text/plain": [
       "['n_x0_y0',\n",
       " 'n_x0_y1',\n",
       " 'n_x0_y2',\n",
       " 'n_x0_y3',\n",
       " 'n_x1_y0',\n",
       " 'n_x1_y1',\n",
       " 'n_x1_y2',\n",
       " 'n_x1_y3',\n",
       " 'n_x2_y0',\n",
       " 'n_x2_y1',\n",
       " 'n_x2_y2',\n",
       " 'n_x2_y3',\n",
       " 'n_x3_y0',\n",
       " 'n_x3_y1',\n",
       " 'n_x3_y2',\n",
       " 'n_x3_y3',\n",
       " 'n_x4_y0',\n",
       " 'n_x4_y1',\n",
       " 'n_x4_y2',\n",
       " 'n_x4_y3']"
      ]
     },
     "execution_count": 118,
     "metadata": {},
     "output_type": "execute_result"
    }
   ],
   "source": [
    "nodes"
   ]
  },
  {
   "cell_type": "code",
   "execution_count": 137,
   "metadata": {},
   "outputs": [
    {
     "data": {
      "text/plain": [
       "[['n_x2_y0', 1], ['n_x2_y1', 1]]"
      ]
     },
     "execution_count": 137,
     "metadata": {},
     "output_type": "execute_result"
    }
   ],
   "source": [
    "green"
   ]
  },
  {
   "cell_type": "code",
   "execution_count": null,
   "metadata": {},
   "outputs": [],
   "source": []
  }
 ],
 "metadata": {
  "kernelspec": {
   "display_name": "Python 3",
   "language": "python",
   "name": "python3"
  },
  "language_info": {
   "codemirror_mode": {
    "name": "ipython",
    "version": 3
   },
   "file_extension": ".py",
   "mimetype": "text/x-python",
   "name": "python",
   "nbconvert_exporter": "python",
   "pygments_lexer": "ipython3",
   "version": "3.8.3"
  }
 },
 "nbformat": 4,
 "nbformat_minor": 4
}
