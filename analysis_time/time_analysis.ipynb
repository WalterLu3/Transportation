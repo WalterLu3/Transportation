{
 "cells": [
  {
   "cell_type": "code",
   "execution_count": 1,
   "metadata": {},
   "outputs": [],
   "source": [
    "import pandas as pd"
   ]
  },
  {
   "cell_type": "code",
   "execution_count": 2,
   "metadata": {},
   "outputs": [],
   "source": [
    "def split_day(x):\n",
    "    return int(x.split('/')[1])\n",
    "\n",
    "def split_month(x):\n",
    "    return int(x.split('/')[0])\n",
    "\n",
    "def split_year(x):\n",
    "    return int(x.split('/')[2])\n",
    "\n",
    "def season(x):\n",
    "    if x in [12,1,2]:\n",
    "        return('winter')\n",
    "    elif x in [3,4,5]:\n",
    "        return('spring')\n",
    "    elif x in [6,7,8]:\n",
    "        return('summer')\n",
    "    elif x in [9,10,11]:\n",
    "        return('fall')\n"
   ]
  },
  {
   "cell_type": "markdown",
   "metadata": {},
   "source": [
    "## Read file"
   ]
  },
  {
   "cell_type": "code",
   "execution_count": 3,
   "metadata": {},
   "outputs": [],
   "source": [
    "road_file = pd.read_csv('../road_file.csv',names=[\"RDWY_LINK_ID\",\"REF_SITE_FROM_ID\",\"REF_SITE_TO_ID\"])"
   ]
  },
  {
   "cell_type": "code",
   "execution_count": 4,
   "metadata": {},
   "outputs": [],
   "source": [
    "crash_data =  pd.read_csv('crash-data-link-2017-2020.csv')"
   ]
  },
  {
   "cell_type": "code",
   "execution_count": 5,
   "metadata": {},
   "outputs": [
    {
     "data": {
      "text/html": [
       "<div>\n",
       "<style scoped>\n",
       "    .dataframe tbody tr th:only-of-type {\n",
       "        vertical-align: middle;\n",
       "    }\n",
       "\n",
       "    .dataframe tbody tr th {\n",
       "        vertical-align: top;\n",
       "    }\n",
       "\n",
       "    .dataframe thead th {\n",
       "        text-align: right;\n",
       "    }\n",
       "</style>\n",
       "<table border=\"1\" class=\"dataframe\">\n",
       "  <thead>\n",
       "    <tr style=\"text-align: right;\">\n",
       "      <th></th>\n",
       "      <th>DOCTNMBR</th>\n",
       "      <th>REPTTYPE</th>\n",
       "      <th>CRSHDATE</th>\n",
       "      <th>NTFYHOUR</th>\n",
       "      <th>CNTYNAME</th>\n",
       "      <th>MUNINAME</th>\n",
       "      <th>MUNITYPE</th>\n",
       "      <th>LOCTYPE</th>\n",
       "      <th>ONHWY</th>\n",
       "      <th>ONHWYSYS</th>\n",
       "      <th>...</th>\n",
       "      <th>DRUGFLAG</th>\n",
       "      <th>INJTRNS</th>\n",
       "      <th>MOPFLAG</th>\n",
       "      <th>PEDFLAG</th>\n",
       "      <th>SFTYFLAG</th>\n",
       "      <th>SPEEDFLAG</th>\n",
       "      <th>TEENDRVR</th>\n",
       "      <th>RDWY_LINK_ID</th>\n",
       "      <th>RDWY_LINK_OSET</th>\n",
       "      <th>LINK_HIST_FLAG</th>\n",
       "    </tr>\n",
       "  </thead>\n",
       "  <tbody>\n",
       "    <tr>\n",
       "      <th>0</th>\n",
       "      <td>02L0Z90C3C</td>\n",
       "      <td>DT4000</td>\n",
       "      <td>1/3/2017</td>\n",
       "      <td>7</td>\n",
       "      <td>DANE</td>\n",
       "      <td>MIDDLETON</td>\n",
       "      <td>T</td>\n",
       "      <td>PP</td>\n",
       "      <td>NaN</td>\n",
       "      <td>NaN</td>\n",
       "      <td>...</td>\n",
       "      <td>NaN</td>\n",
       "      <td>NaN</td>\n",
       "      <td>NaN</td>\n",
       "      <td>NaN</td>\n",
       "      <td>NaN</td>\n",
       "      <td>NaN</td>\n",
       "      <td>NaN</td>\n",
       "      <td>5157272</td>\n",
       "      <td>363.0</td>\n",
       "      <td>NaN</td>\n",
       "    </tr>\n",
       "    <tr>\n",
       "      <th>1</th>\n",
       "      <td>02L121PTJP</td>\n",
       "      <td>DT4000</td>\n",
       "      <td>1/3/2017</td>\n",
       "      <td>7</td>\n",
       "      <td>DANE</td>\n",
       "      <td>CROSS PLAINS</td>\n",
       "      <td>T</td>\n",
       "      <td>I</td>\n",
       "      <td>NaN</td>\n",
       "      <td>NaN</td>\n",
       "      <td>...</td>\n",
       "      <td>NaN</td>\n",
       "      <td>NaN</td>\n",
       "      <td>NaN</td>\n",
       "      <td>NaN</td>\n",
       "      <td>NaN</td>\n",
       "      <td>Y</td>\n",
       "      <td>NaN</td>\n",
       "      <td>5064363</td>\n",
       "      <td>7973.0</td>\n",
       "      <td>NaN</td>\n",
       "    </tr>\n",
       "    <tr>\n",
       "      <th>2</th>\n",
       "      <td>1KL05BGSFC</td>\n",
       "      <td>DT4000</td>\n",
       "      <td>1/3/2017</td>\n",
       "      <td>7</td>\n",
       "      <td>DANE</td>\n",
       "      <td>MIDDLETON</td>\n",
       "      <td>C</td>\n",
       "      <td>N</td>\n",
       "      <td>NaN</td>\n",
       "      <td>NaN</td>\n",
       "      <td>...</td>\n",
       "      <td>NaN</td>\n",
       "      <td>NaN</td>\n",
       "      <td>NaN</td>\n",
       "      <td>NaN</td>\n",
       "      <td>NaN</td>\n",
       "      <td>NaN</td>\n",
       "      <td>NaN</td>\n",
       "      <td>4842406</td>\n",
       "      <td>233.0</td>\n",
       "      <td>NaN</td>\n",
       "    </tr>\n",
       "    <tr>\n",
       "      <th>3</th>\n",
       "      <td>1KL072BC3C</td>\n",
       "      <td>DT4000</td>\n",
       "      <td>1/3/2017</td>\n",
       "      <td>8</td>\n",
       "      <td>DANE</td>\n",
       "      <td>MIDDLETON</td>\n",
       "      <td>C</td>\n",
       "      <td>I</td>\n",
       "      <td>NaN</td>\n",
       "      <td>NaN</td>\n",
       "      <td>...</td>\n",
       "      <td>NaN</td>\n",
       "      <td>Y</td>\n",
       "      <td>NaN</td>\n",
       "      <td>NaN</td>\n",
       "      <td>NaN</td>\n",
       "      <td>Y</td>\n",
       "      <td>NaN</td>\n",
       "      <td>5064246</td>\n",
       "      <td>845.0</td>\n",
       "      <td>NaN</td>\n",
       "    </tr>\n",
       "    <tr>\n",
       "      <th>4</th>\n",
       "      <td>02L11S9LVP</td>\n",
       "      <td>DT4000</td>\n",
       "      <td>1/3/2017</td>\n",
       "      <td>10</td>\n",
       "      <td>DANE</td>\n",
       "      <td>CROSS PLAINS</td>\n",
       "      <td>T</td>\n",
       "      <td>N</td>\n",
       "      <td>NaN</td>\n",
       "      <td>NaN</td>\n",
       "      <td>...</td>\n",
       "      <td>NaN</td>\n",
       "      <td>NaN</td>\n",
       "      <td>NaN</td>\n",
       "      <td>NaN</td>\n",
       "      <td>NaN</td>\n",
       "      <td>NaN</td>\n",
       "      <td>NaN</td>\n",
       "      <td>4823838</td>\n",
       "      <td>339.0</td>\n",
       "      <td>NaN</td>\n",
       "    </tr>\n",
       "    <tr>\n",
       "      <th>...</th>\n",
       "      <td>...</td>\n",
       "      <td>...</td>\n",
       "      <td>...</td>\n",
       "      <td>...</td>\n",
       "      <td>...</td>\n",
       "      <td>...</td>\n",
       "      <td>...</td>\n",
       "      <td>...</td>\n",
       "      <td>...</td>\n",
       "      <td>...</td>\n",
       "      <td>...</td>\n",
       "      <td>...</td>\n",
       "      <td>...</td>\n",
       "      <td>...</td>\n",
       "      <td>...</td>\n",
       "      <td>...</td>\n",
       "      <td>...</td>\n",
       "      <td>...</td>\n",
       "      <td>...</td>\n",
       "      <td>...</td>\n",
       "      <td>...</td>\n",
       "    </tr>\n",
       "    <tr>\n",
       "      <th>1874</th>\n",
       "      <td>1KL07TS2D4</td>\n",
       "      <td>DT4000</td>\n",
       "      <td>12/30/2020</td>\n",
       "      <td>1</td>\n",
       "      <td>DANE</td>\n",
       "      <td>MIDDLETON</td>\n",
       "      <td>C</td>\n",
       "      <td>N</td>\n",
       "      <td>NaN</td>\n",
       "      <td>NaN</td>\n",
       "      <td>...</td>\n",
       "      <td>NaN</td>\n",
       "      <td>NaN</td>\n",
       "      <td>NaN</td>\n",
       "      <td>NaN</td>\n",
       "      <td>NaN</td>\n",
       "      <td>NaN</td>\n",
       "      <td>NaN</td>\n",
       "      <td>5285777</td>\n",
       "      <td>593.0</td>\n",
       "      <td>NaN</td>\n",
       "    </tr>\n",
       "    <tr>\n",
       "      <th>1875</th>\n",
       "      <td>1KL091L4JV</td>\n",
       "      <td>DT4000</td>\n",
       "      <td>12/30/2020</td>\n",
       "      <td>1</td>\n",
       "      <td>DANE</td>\n",
       "      <td>MIDDLETON</td>\n",
       "      <td>C</td>\n",
       "      <td>I</td>\n",
       "      <td>M</td>\n",
       "      <td>CTH</td>\n",
       "      <td>...</td>\n",
       "      <td>NaN</td>\n",
       "      <td>NaN</td>\n",
       "      <td>NaN</td>\n",
       "      <td>NaN</td>\n",
       "      <td>NaN</td>\n",
       "      <td>Y</td>\n",
       "      <td>Y</td>\n",
       "      <td>4819969</td>\n",
       "      <td>15.0</td>\n",
       "      <td>NaN</td>\n",
       "    </tr>\n",
       "    <tr>\n",
       "      <th>1876</th>\n",
       "      <td>24L04HS273</td>\n",
       "      <td>DT4000</td>\n",
       "      <td>12/30/2020</td>\n",
       "      <td>12</td>\n",
       "      <td>DANE</td>\n",
       "      <td>CROSS PLAINS</td>\n",
       "      <td>V</td>\n",
       "      <td>I</td>\n",
       "      <td>P</td>\n",
       "      <td>CTH</td>\n",
       "      <td>...</td>\n",
       "      <td>NaN</td>\n",
       "      <td>NaN</td>\n",
       "      <td>NaN</td>\n",
       "      <td>NaN</td>\n",
       "      <td>NaN</td>\n",
       "      <td>NaN</td>\n",
       "      <td>NaN</td>\n",
       "      <td>5372934</td>\n",
       "      <td>259.0</td>\n",
       "      <td>NaN</td>\n",
       "    </tr>\n",
       "    <tr>\n",
       "      <th>1877</th>\n",
       "      <td>1KL0990C52</td>\n",
       "      <td>DT4000</td>\n",
       "      <td>12/31/2020</td>\n",
       "      <td>10</td>\n",
       "      <td>DANE</td>\n",
       "      <td>MIDDLETON</td>\n",
       "      <td>C</td>\n",
       "      <td>I</td>\n",
       "      <td>NaN</td>\n",
       "      <td>NaN</td>\n",
       "      <td>...</td>\n",
       "      <td>NaN</td>\n",
       "      <td>NaN</td>\n",
       "      <td>NaN</td>\n",
       "      <td>NaN</td>\n",
       "      <td>NaN</td>\n",
       "      <td>NaN</td>\n",
       "      <td>NaN</td>\n",
       "      <td>5040838</td>\n",
       "      <td>79.0</td>\n",
       "      <td>NaN</td>\n",
       "    </tr>\n",
       "    <tr>\n",
       "      <th>1878</th>\n",
       "      <td>1KL09V8VNJ</td>\n",
       "      <td>DT4000</td>\n",
       "      <td>12/31/2020</td>\n",
       "      <td>19</td>\n",
       "      <td>DANE</td>\n",
       "      <td>MIDDLETON</td>\n",
       "      <td>C</td>\n",
       "      <td>I</td>\n",
       "      <td>NaN</td>\n",
       "      <td>NaN</td>\n",
       "      <td>...</td>\n",
       "      <td>NaN</td>\n",
       "      <td>NaN</td>\n",
       "      <td>NaN</td>\n",
       "      <td>NaN</td>\n",
       "      <td>NaN</td>\n",
       "      <td>NaN</td>\n",
       "      <td>Y</td>\n",
       "      <td>4841808</td>\n",
       "      <td>64.0</td>\n",
       "      <td>NaN</td>\n",
       "    </tr>\n",
       "  </tbody>\n",
       "</table>\n",
       "<p>1879 rows × 49 columns</p>\n",
       "</div>"
      ],
      "text/plain": [
       "        DOCTNMBR REPTTYPE    CRSHDATE  NTFYHOUR CNTYNAME      MUNINAME  \\\n",
       "0     02L0Z90C3C   DT4000    1/3/2017         7     DANE     MIDDLETON   \n",
       "1     02L121PTJP   DT4000    1/3/2017         7     DANE  CROSS PLAINS   \n",
       "2     1KL05BGSFC   DT4000    1/3/2017         7     DANE     MIDDLETON   \n",
       "3     1KL072BC3C   DT4000    1/3/2017         8     DANE     MIDDLETON   \n",
       "4     02L11S9LVP   DT4000    1/3/2017        10     DANE  CROSS PLAINS   \n",
       "...          ...      ...         ...       ...      ...           ...   \n",
       "1874  1KL07TS2D4   DT4000  12/30/2020         1     DANE     MIDDLETON   \n",
       "1875  1KL091L4JV   DT4000  12/30/2020         1     DANE     MIDDLETON   \n",
       "1876  24L04HS273   DT4000  12/30/2020        12     DANE  CROSS PLAINS   \n",
       "1877  1KL0990C52   DT4000  12/31/2020        10     DANE     MIDDLETON   \n",
       "1878  1KL09V8VNJ   DT4000  12/31/2020        19     DANE     MIDDLETON   \n",
       "\n",
       "     MUNITYPE LOCTYPE ONHWY ONHWYSYS  ... DRUGFLAG INJTRNS MOPFLAG PEDFLAG  \\\n",
       "0           T      PP   NaN      NaN  ...      NaN     NaN     NaN     NaN   \n",
       "1           T       I   NaN      NaN  ...      NaN     NaN     NaN     NaN   \n",
       "2           C       N   NaN      NaN  ...      NaN     NaN     NaN     NaN   \n",
       "3           C       I   NaN      NaN  ...      NaN       Y     NaN     NaN   \n",
       "4           T       N   NaN      NaN  ...      NaN     NaN     NaN     NaN   \n",
       "...       ...     ...   ...      ...  ...      ...     ...     ...     ...   \n",
       "1874        C       N   NaN      NaN  ...      NaN     NaN     NaN     NaN   \n",
       "1875        C       I     M      CTH  ...      NaN     NaN     NaN     NaN   \n",
       "1876        V       I     P      CTH  ...      NaN     NaN     NaN     NaN   \n",
       "1877        C       I   NaN      NaN  ...      NaN     NaN     NaN     NaN   \n",
       "1878        C       I   NaN      NaN  ...      NaN     NaN     NaN     NaN   \n",
       "\n",
       "     SFTYFLAG SPEEDFLAG TEENDRVR RDWY_LINK_ID RDWY_LINK_OSET  LINK_HIST_FLAG  \n",
       "0         NaN       NaN      NaN      5157272          363.0             NaN  \n",
       "1         NaN         Y      NaN      5064363         7973.0             NaN  \n",
       "2         NaN       NaN      NaN      4842406          233.0             NaN  \n",
       "3         NaN         Y      NaN      5064246          845.0             NaN  \n",
       "4         NaN       NaN      NaN      4823838          339.0             NaN  \n",
       "...       ...       ...      ...          ...            ...             ...  \n",
       "1874      NaN       NaN      NaN      5285777          593.0             NaN  \n",
       "1875      NaN         Y        Y      4819969           15.0             NaN  \n",
       "1876      NaN       NaN      NaN      5372934          259.0             NaN  \n",
       "1877      NaN       NaN      NaN      5040838           79.0             NaN  \n",
       "1878      NaN       NaN        Y      4841808           64.0             NaN  \n",
       "\n",
       "[1879 rows x 49 columns]"
      ]
     },
     "execution_count": 5,
     "metadata": {},
     "output_type": "execute_result"
    }
   ],
   "source": [
    "crash_data"
   ]
  },
  {
   "cell_type": "markdown",
   "metadata": {},
   "source": [
    "## Seasonal analysis"
   ]
  },
  {
   "cell_type": "code",
   "execution_count": 6,
   "metadata": {},
   "outputs": [
    {
     "data": {
      "text/html": [
       "<div>\n",
       "<style scoped>\n",
       "    .dataframe tbody tr th:only-of-type {\n",
       "        vertical-align: middle;\n",
       "    }\n",
       "\n",
       "    .dataframe tbody tr th {\n",
       "        vertical-align: top;\n",
       "    }\n",
       "\n",
       "    .dataframe thead th {\n",
       "        text-align: right;\n",
       "    }\n",
       "</style>\n",
       "<table border=\"1\" class=\"dataframe\">\n",
       "  <thead>\n",
       "    <tr style=\"text-align: right;\">\n",
       "      <th></th>\n",
       "      <th>DOCTNMBR</th>\n",
       "      <th>REPTTYPE</th>\n",
       "      <th>CRSHDATE</th>\n",
       "      <th>NTFYHOUR</th>\n",
       "      <th>CNTYNAME</th>\n",
       "      <th>MUNINAME</th>\n",
       "      <th>MUNITYPE</th>\n",
       "      <th>LOCTYPE</th>\n",
       "      <th>ONHWY</th>\n",
       "      <th>ONHWYSYS</th>\n",
       "      <th>...</th>\n",
       "      <th>DRUGFLAG</th>\n",
       "      <th>INJTRNS</th>\n",
       "      <th>MOPFLAG</th>\n",
       "      <th>PEDFLAG</th>\n",
       "      <th>SFTYFLAG</th>\n",
       "      <th>SPEEDFLAG</th>\n",
       "      <th>TEENDRVR</th>\n",
       "      <th>RDWY_LINK_ID</th>\n",
       "      <th>RDWY_LINK_OSET</th>\n",
       "      <th>LINK_HIST_FLAG</th>\n",
       "    </tr>\n",
       "  </thead>\n",
       "  <tbody>\n",
       "    <tr>\n",
       "      <th>0</th>\n",
       "      <td>02L0Z90C3C</td>\n",
       "      <td>DT4000</td>\n",
       "      <td>1/3/2017</td>\n",
       "      <td>7</td>\n",
       "      <td>DANE</td>\n",
       "      <td>MIDDLETON</td>\n",
       "      <td>T</td>\n",
       "      <td>PP</td>\n",
       "      <td>NaN</td>\n",
       "      <td>NaN</td>\n",
       "      <td>...</td>\n",
       "      <td>NaN</td>\n",
       "      <td>NaN</td>\n",
       "      <td>NaN</td>\n",
       "      <td>NaN</td>\n",
       "      <td>NaN</td>\n",
       "      <td>NaN</td>\n",
       "      <td>NaN</td>\n",
       "      <td>5157272</td>\n",
       "      <td>363.0</td>\n",
       "      <td>NaN</td>\n",
       "    </tr>\n",
       "    <tr>\n",
       "      <th>1</th>\n",
       "      <td>02L121PTJP</td>\n",
       "      <td>DT4000</td>\n",
       "      <td>1/3/2017</td>\n",
       "      <td>7</td>\n",
       "      <td>DANE</td>\n",
       "      <td>CROSS PLAINS</td>\n",
       "      <td>T</td>\n",
       "      <td>I</td>\n",
       "      <td>NaN</td>\n",
       "      <td>NaN</td>\n",
       "      <td>...</td>\n",
       "      <td>NaN</td>\n",
       "      <td>NaN</td>\n",
       "      <td>NaN</td>\n",
       "      <td>NaN</td>\n",
       "      <td>NaN</td>\n",
       "      <td>Y</td>\n",
       "      <td>NaN</td>\n",
       "      <td>5064363</td>\n",
       "      <td>7973.0</td>\n",
       "      <td>NaN</td>\n",
       "    </tr>\n",
       "    <tr>\n",
       "      <th>2</th>\n",
       "      <td>1KL05BGSFC</td>\n",
       "      <td>DT4000</td>\n",
       "      <td>1/3/2017</td>\n",
       "      <td>7</td>\n",
       "      <td>DANE</td>\n",
       "      <td>MIDDLETON</td>\n",
       "      <td>C</td>\n",
       "      <td>N</td>\n",
       "      <td>NaN</td>\n",
       "      <td>NaN</td>\n",
       "      <td>...</td>\n",
       "      <td>NaN</td>\n",
       "      <td>NaN</td>\n",
       "      <td>NaN</td>\n",
       "      <td>NaN</td>\n",
       "      <td>NaN</td>\n",
       "      <td>NaN</td>\n",
       "      <td>NaN</td>\n",
       "      <td>4842406</td>\n",
       "      <td>233.0</td>\n",
       "      <td>NaN</td>\n",
       "    </tr>\n",
       "    <tr>\n",
       "      <th>3</th>\n",
       "      <td>1KL072BC3C</td>\n",
       "      <td>DT4000</td>\n",
       "      <td>1/3/2017</td>\n",
       "      <td>8</td>\n",
       "      <td>DANE</td>\n",
       "      <td>MIDDLETON</td>\n",
       "      <td>C</td>\n",
       "      <td>I</td>\n",
       "      <td>NaN</td>\n",
       "      <td>NaN</td>\n",
       "      <td>...</td>\n",
       "      <td>NaN</td>\n",
       "      <td>Y</td>\n",
       "      <td>NaN</td>\n",
       "      <td>NaN</td>\n",
       "      <td>NaN</td>\n",
       "      <td>Y</td>\n",
       "      <td>NaN</td>\n",
       "      <td>5064246</td>\n",
       "      <td>845.0</td>\n",
       "      <td>NaN</td>\n",
       "    </tr>\n",
       "    <tr>\n",
       "      <th>4</th>\n",
       "      <td>02L11S9LVP</td>\n",
       "      <td>DT4000</td>\n",
       "      <td>1/3/2017</td>\n",
       "      <td>10</td>\n",
       "      <td>DANE</td>\n",
       "      <td>CROSS PLAINS</td>\n",
       "      <td>T</td>\n",
       "      <td>N</td>\n",
       "      <td>NaN</td>\n",
       "      <td>NaN</td>\n",
       "      <td>...</td>\n",
       "      <td>NaN</td>\n",
       "      <td>NaN</td>\n",
       "      <td>NaN</td>\n",
       "      <td>NaN</td>\n",
       "      <td>NaN</td>\n",
       "      <td>NaN</td>\n",
       "      <td>NaN</td>\n",
       "      <td>4823838</td>\n",
       "      <td>339.0</td>\n",
       "      <td>NaN</td>\n",
       "    </tr>\n",
       "  </tbody>\n",
       "</table>\n",
       "<p>5 rows × 49 columns</p>\n",
       "</div>"
      ],
      "text/plain": [
       "     DOCTNMBR REPTTYPE  CRSHDATE  NTFYHOUR CNTYNAME      MUNINAME MUNITYPE  \\\n",
       "0  02L0Z90C3C   DT4000  1/3/2017         7     DANE     MIDDLETON        T   \n",
       "1  02L121PTJP   DT4000  1/3/2017         7     DANE  CROSS PLAINS        T   \n",
       "2  1KL05BGSFC   DT4000  1/3/2017         7     DANE     MIDDLETON        C   \n",
       "3  1KL072BC3C   DT4000  1/3/2017         8     DANE     MIDDLETON        C   \n",
       "4  02L11S9LVP   DT4000  1/3/2017        10     DANE  CROSS PLAINS        T   \n",
       "\n",
       "  LOCTYPE ONHWY ONHWYSYS  ... DRUGFLAG INJTRNS MOPFLAG PEDFLAG SFTYFLAG  \\\n",
       "0      PP   NaN      NaN  ...      NaN     NaN     NaN     NaN      NaN   \n",
       "1       I   NaN      NaN  ...      NaN     NaN     NaN     NaN      NaN   \n",
       "2       N   NaN      NaN  ...      NaN     NaN     NaN     NaN      NaN   \n",
       "3       I   NaN      NaN  ...      NaN       Y     NaN     NaN      NaN   \n",
       "4       N   NaN      NaN  ...      NaN     NaN     NaN     NaN      NaN   \n",
       "\n",
       "  SPEEDFLAG TEENDRVR RDWY_LINK_ID RDWY_LINK_OSET  LINK_HIST_FLAG  \n",
       "0       NaN      NaN      5157272          363.0             NaN  \n",
       "1         Y      NaN      5064363         7973.0             NaN  \n",
       "2       NaN      NaN      4842406          233.0             NaN  \n",
       "3         Y      NaN      5064246          845.0             NaN  \n",
       "4       NaN      NaN      4823838          339.0             NaN  \n",
       "\n",
       "[5 rows x 49 columns]"
      ]
     },
     "execution_count": 6,
     "metadata": {},
     "output_type": "execute_result"
    }
   ],
   "source": [
    "crash_data.head()"
   ]
  },
  {
   "cell_type": "code",
   "execution_count": 7,
   "metadata": {},
   "outputs": [],
   "source": [
    "crash_data['day'] = crash_data['CRSHDATE'].apply(split_day)\n",
    "crash_data['month'] = crash_data['CRSHDATE'].apply(split_month)\n",
    "crash_data['year'] = crash_data['CRSHDATE'].apply(split_year)\n",
    "crash_data['season'] = crash_data['month'].apply(season)"
   ]
  },
  {
   "cell_type": "code",
   "execution_count": 8,
   "metadata": {},
   "outputs": [
    {
     "data": {
      "text/plain": [
       "<AxesSubplot:xlabel='month'>"
      ]
     },
     "execution_count": 8,
     "metadata": {},
     "output_type": "execute_result"
    },
    {
     "data": {
      "image/png": "[encoded data removed]",
      "text/plain": [
       "<Figure size 432x288 with 1 Axes>"
      ]
     },
     "metadata": {
      "needs_background": "light"
     },
     "output_type": "display_data"
    }
   ],
   "source": [
    "crash_data.groupby('month').count()['DOCTNMBR'].plot.bar()"
   ]
  },
  {
   "cell_type": "code",
   "execution_count": 14,
   "metadata": {},
   "outputs": [
    {
     "data": {
      "text/plain": [
       "<AxesSubplot:title={'center':'Number of Crashes by Season'}, xlabel='season'>"
      ]
     },
     "execution_count": 14,
     "metadata": {},
     "output_type": "execute_result"
    },
    {
     "data": {
      "image/png": "[encoded data removed]",
      "text/plain": [
       "<Figure size 432x288 with 1 Axes>"
      ]
     },
     "metadata": {
      "needs_background": "light"
     },
     "output_type": "display_data"
    }
   ],
   "source": [
    "crash_data.groupby('season').count()['DOCTNMBR'].reindex(['spring','summer','fall','winter']).plot.bar(title='Number of Crashes by Season')"
   ]
  },
  {
   "cell_type": "code",
   "execution_count": 10,
   "metadata": {},
   "outputs": [
    {
     "data": {
      "text/plain": [
       "<AxesSubplot:xlabel='year'>"
      ]
     },
     "execution_count": 10,
     "metadata": {},
     "output_type": "execute_result"
    },
    {
     "data": {
      "image/png": "[encoded data removed]",
      "text/plain": [
       "<Figure size 432x288 with 1 Axes>"
      ]
     },
     "metadata": {
      "needs_background": "light"
     },
     "output_type": "display_data"
    }
   ],
   "source": [
    "crash_data.groupby('year').count()['DOCTNMBR'].plot.bar()"
   ]
  },
  {
   "cell_type": "code",
   "execution_count": 15,
   "metadata": {},
   "outputs": [
    {
     "data": {
      "text/plain": [
       "<AxesSubplot:title={'center':'Number of Crashes by Time'}, xlabel='NTFYHOUR'>"
      ]
     },
     "execution_count": 15,
     "metadata": {},
     "output_type": "execute_result"
    },
    {
     "data": {
      "image/png": "[encoded data removed]",
      "text/plain": [
       "<Figure size 432x288 with 1 Axes>"
      ]
     },
     "metadata": {
      "needs_background": "light"
     },
     "output_type": "display_data"
    }
   ],
   "source": [
    "crash_data.groupby('NTFYHOUR').count()['DOCTNMBR'].plot.bar(title='Number of Crashes by Time')"
   ]
  },
  {
   "cell_type": "markdown",
   "metadata": {},
   "source": [
    "## Create seasonal crash dataset"
   ]
  },
  {
   "cell_type": "code",
   "execution_count": 12,
   "metadata": {},
   "outputs": [],
   "source": [
    "crashes = {}\n",
    "# spring\n",
    "\n",
    "crashes['spring'] = crash_data[crash_data['season']=='spring']\n",
    "\n",
    "# summer\n",
    "\n",
    "crashes['summer'] = crash_data[crash_data['season']=='summer']\n",
    "\n",
    "# fall\n",
    "\n",
    "crashes['fall'] = crash_data[crash_data['season']=='fall']\n",
    "\n",
    "#winter\n",
    "\n",
    "crashes['winter'] = crash_data[crash_data['season']=='winter']"
   ]
  },
  {
   "cell_type": "code",
   "execution_count": null,
   "metadata": {},
   "outputs": [],
   "source": []
  },
  {
   "cell_type": "code",
   "execution_count": 13,
   "metadata": {},
   "outputs": [],
   "source": [
    "#count the crash on each road\n",
    "crash_count = {'spring':{},'summer':{},'fall':{},'winter':{}}\n",
    "for s in ['spring','summer','fall','winter']:\n",
    "    for road in crashes[s]['RDWY_LINK_ID']:\n",
    "        if road not in crash_count[s]:\n",
    "            crash_count[s][road] = 1\n",
    "        else:\n",
    "            crash_count[s][road] += 1\n",
    "        \n",
    "for s in ['spring','summer','fall','winter']:\n",
    "    for road in road_file[\"RDWY_LINK_ID\"]:\n",
    "        if road not in crash_count[s]:\n",
    "            crash_count[s][road] = 0\n",
    "\n",
    "crash_column = {'spring':None,'summer':None,'fall':None,'winter':None}\n",
    "\n",
    "for s in ['spring','summer','fall','winter']:\n",
    "    crash_column[s] = [ crash_count[s][road] for road in road_file[\"RDWY_LINK_ID\"]]"
   ]
  },
  {
   "cell_type": "code",
   "execution_count": 14,
   "metadata": {},
   "outputs": [
    {
     "data": {
      "text/plain": [
       "547"
      ]
     },
     "execution_count": 14,
     "metadata": {},
     "output_type": "execute_result"
    }
   ],
   "source": [
    "sum(crash_column['winter'])"
   ]
  },
  {
   "cell_type": "code",
   "execution_count": 15,
   "metadata": {},
   "outputs": [],
   "source": [
    "seasonal_crash_file = road_file.copy()"
   ]
  },
  {
   "cell_type": "code",
   "execution_count": 16,
   "metadata": {},
   "outputs": [],
   "source": [
    "for s in ['spring','summer','fall','winter']:\n",
    "    seasonal_crash_file[s] = crash_column[s]\n",
    "\n",
    "seasonal_crash_file = seasonal_crash_file[['REF_SITE_FROM_ID','REF_SITE_TO_ID','spring','summer','fall','winter']]"
   ]
  },
  {
   "cell_type": "code",
   "execution_count": 17,
   "metadata": {},
   "outputs": [
    {
     "name": "stdout",
     "output_type": "stream",
     "text": [
      "No errors, CSV2GDX time = 15ms\r\n"
     ]
    }
   ],
   "source": [
    "seasonal_crash_file.to_csv(\"seasonal_crash_file.csv\", index=False, header=True)\n",
    "!csv2gdx seasonal_crash_file.csv useHeader=Y id=season_crash index=1,2 value=3,4,5,6 colCount=6"
   ]
  },
  {
   "cell_type": "code",
   "execution_count": 18,
   "metadata": {},
   "outputs": [
    {
     "data": {
      "text/html": [
       "<div>\n",
       "<style scoped>\n",
       "    .dataframe tbody tr th:only-of-type {\n",
       "        vertical-align: middle;\n",
       "    }\n",
       "\n",
       "    .dataframe tbody tr th {\n",
       "        vertical-align: top;\n",
       "    }\n",
       "\n",
       "    .dataframe thead th {\n",
       "        text-align: right;\n",
       "    }\n",
       "</style>\n",
       "<table border=\"1\" class=\"dataframe\">\n",
       "  <thead>\n",
       "    <tr style=\"text-align: right;\">\n",
       "      <th></th>\n",
       "      <th>REF_SITE_FROM_ID</th>\n",
       "      <th>REF_SITE_TO_ID</th>\n",
       "      <th>spring</th>\n",
       "      <th>summer</th>\n",
       "      <th>fall</th>\n",
       "      <th>winter</th>\n",
       "    </tr>\n",
       "  </thead>\n",
       "  <tbody>\n",
       "    <tr>\n",
       "      <th>0</th>\n",
       "      <td>1661200</td>\n",
       "      <td>1660820</td>\n",
       "      <td>0</td>\n",
       "      <td>0</td>\n",
       "      <td>0</td>\n",
       "      <td>0</td>\n",
       "    </tr>\n",
       "    <tr>\n",
       "      <th>1</th>\n",
       "      <td>1661678</td>\n",
       "      <td>1661705</td>\n",
       "      <td>0</td>\n",
       "      <td>0</td>\n",
       "      <td>0</td>\n",
       "      <td>0</td>\n",
       "    </tr>\n",
       "    <tr>\n",
       "      <th>2</th>\n",
       "      <td>1661704</td>\n",
       "      <td>1661705</td>\n",
       "      <td>0</td>\n",
       "      <td>0</td>\n",
       "      <td>0</td>\n",
       "      <td>0</td>\n",
       "    </tr>\n",
       "    <tr>\n",
       "      <th>3</th>\n",
       "      <td>1661723</td>\n",
       "      <td>1661697</td>\n",
       "      <td>0</td>\n",
       "      <td>0</td>\n",
       "      <td>0</td>\n",
       "      <td>0</td>\n",
       "    </tr>\n",
       "    <tr>\n",
       "      <th>4</th>\n",
       "      <td>1661705</td>\n",
       "      <td>1661723</td>\n",
       "      <td>0</td>\n",
       "      <td>0</td>\n",
       "      <td>0</td>\n",
       "      <td>0</td>\n",
       "    </tr>\n",
       "    <tr>\n",
       "      <th>...</th>\n",
       "      <td>...</td>\n",
       "      <td>...</td>\n",
       "      <td>...</td>\n",
       "      <td>...</td>\n",
       "      <td>...</td>\n",
       "      <td>...</td>\n",
       "    </tr>\n",
       "    <tr>\n",
       "      <th>3127</th>\n",
       "      <td>1663210</td>\n",
       "      <td>1663276</td>\n",
       "      <td>0</td>\n",
       "      <td>0</td>\n",
       "      <td>0</td>\n",
       "      <td>0</td>\n",
       "    </tr>\n",
       "    <tr>\n",
       "      <th>3128</th>\n",
       "      <td>1661558</td>\n",
       "      <td>1661551</td>\n",
       "      <td>0</td>\n",
       "      <td>0</td>\n",
       "      <td>0</td>\n",
       "      <td>0</td>\n",
       "    </tr>\n",
       "    <tr>\n",
       "      <th>3129</th>\n",
       "      <td>1661551</td>\n",
       "      <td>1661558</td>\n",
       "      <td>0</td>\n",
       "      <td>0</td>\n",
       "      <td>0</td>\n",
       "      <td>0</td>\n",
       "    </tr>\n",
       "    <tr>\n",
       "      <th>3130</th>\n",
       "      <td>2016715</td>\n",
       "      <td>2005025</td>\n",
       "      <td>0</td>\n",
       "      <td>0</td>\n",
       "      <td>0</td>\n",
       "      <td>0</td>\n",
       "    </tr>\n",
       "    <tr>\n",
       "      <th>3131</th>\n",
       "      <td>2005025</td>\n",
       "      <td>2016715</td>\n",
       "      <td>0</td>\n",
       "      <td>0</td>\n",
       "      <td>0</td>\n",
       "      <td>0</td>\n",
       "    </tr>\n",
       "  </tbody>\n",
       "</table>\n",
       "<p>3132 rows × 6 columns</p>\n",
       "</div>"
      ],
      "text/plain": [
       "      REF_SITE_FROM_ID  REF_SITE_TO_ID  spring  summer  fall  winter\n",
       "0              1661200         1660820       0       0     0       0\n",
       "1              1661678         1661705       0       0     0       0\n",
       "2              1661704         1661705       0       0     0       0\n",
       "3              1661723         1661697       0       0     0       0\n",
       "4              1661705         1661723       0       0     0       0\n",
       "...                ...             ...     ...     ...   ...     ...\n",
       "3127           1663210         1663276       0       0     0       0\n",
       "3128           1661558         1661551       0       0     0       0\n",
       "3129           1661551         1661558       0       0     0       0\n",
       "3130           2016715         2005025       0       0     0       0\n",
       "3131           2005025         2016715       0       0     0       0\n",
       "\n",
       "[3132 rows x 6 columns]"
      ]
     },
     "execution_count": 18,
     "metadata": {},
     "output_type": "execute_result"
    }
   ],
   "source": [
    "seasonal_crash_file"
   ]
  },
  {
   "cell_type": "markdown",
   "metadata": {},
   "source": [
    "## Adding seriousness to the data file"
   ]
  },
  {
   "cell_type": "code",
   "execution_count": 19,
   "metadata": {},
   "outputs": [],
   "source": [
    "crashes = crash_data[['RDWY_LINK_ID','season','INJSVR','DOCTNMBR']]"
   ]
  },
  {
   "cell_type": "code",
   "execution_count": 20,
   "metadata": {},
   "outputs": [],
   "source": [
    "crashes = crashes.groupby(['RDWY_LINK_ID','season','INJSVR']).count()"
   ]
  },
  {
   "cell_type": "code",
   "execution_count": 21,
   "metadata": {},
   "outputs": [],
   "source": [
    "crashes = crashes.reset_index(level=['RDWY_LINK_ID', 'season','INJSVR'])"
   ]
  },
  {
   "cell_type": "code",
   "execution_count": 22,
   "metadata": {},
   "outputs": [
    {
     "data": {
      "text/html": [
       "<div>\n",
       "<style scoped>\n",
       "    .dataframe tbody tr th:only-of-type {\n",
       "        vertical-align: middle;\n",
       "    }\n",
       "\n",
       "    .dataframe tbody tr th {\n",
       "        vertical-align: top;\n",
       "    }\n",
       "\n",
       "    .dataframe thead th {\n",
       "        text-align: right;\n",
       "    }\n",
       "</style>\n",
       "<table border=\"1\" class=\"dataframe\">\n",
       "  <thead>\n",
       "    <tr style=\"text-align: right;\">\n",
       "      <th></th>\n",
       "      <th>RDWY_LINK_ID</th>\n",
       "      <th>season</th>\n",
       "      <th>INJSVR</th>\n",
       "      <th>DOCTNMBR</th>\n",
       "    </tr>\n",
       "  </thead>\n",
       "  <tbody>\n",
       "    <tr>\n",
       "      <th>0</th>\n",
       "      <td>4819137</td>\n",
       "      <td>summer</td>\n",
       "      <td>O</td>\n",
       "      <td>1</td>\n",
       "    </tr>\n",
       "    <tr>\n",
       "      <th>1</th>\n",
       "      <td>4819138</td>\n",
       "      <td>winter</td>\n",
       "      <td>A</td>\n",
       "      <td>1</td>\n",
       "    </tr>\n",
       "    <tr>\n",
       "      <th>2</th>\n",
       "      <td>4819145</td>\n",
       "      <td>summer</td>\n",
       "      <td>O</td>\n",
       "      <td>1</td>\n",
       "    </tr>\n",
       "    <tr>\n",
       "      <th>3</th>\n",
       "      <td>4819274</td>\n",
       "      <td>summer</td>\n",
       "      <td>O</td>\n",
       "      <td>1</td>\n",
       "    </tr>\n",
       "    <tr>\n",
       "      <th>4</th>\n",
       "      <td>4819275</td>\n",
       "      <td>fall</td>\n",
       "      <td>B</td>\n",
       "      <td>1</td>\n",
       "    </tr>\n",
       "  </tbody>\n",
       "</table>\n",
       "</div>"
      ],
      "text/plain": [
       "   RDWY_LINK_ID  season INJSVR  DOCTNMBR\n",
       "0       4819137  summer      O         1\n",
       "1       4819138  winter      A         1\n",
       "2       4819145  summer      O         1\n",
       "3       4819274  summer      O         1\n",
       "4       4819275    fall      B         1"
      ]
     },
     "execution_count": 22,
     "metadata": {},
     "output_type": "execute_result"
    }
   ],
   "source": [
    "crashes.head()"
   ]
  },
  {
   "cell_type": "code",
   "execution_count": 23,
   "metadata": {},
   "outputs": [],
   "source": [
    "crashes = crashes.merge(road_file, on='RDWY_LINK_ID', how='inner')"
   ]
  },
  {
   "cell_type": "code",
   "execution_count": 24,
   "metadata": {},
   "outputs": [],
   "source": [
    "crashes = crashes[['REF_SITE_FROM_ID','REF_SITE_TO_ID','season','INJSVR','DOCTNMBR']]"
   ]
  },
  {
   "cell_type": "code",
   "execution_count": 25,
   "metadata": {},
   "outputs": [],
   "source": [
    "crashes.to_csv('crash_seriousness.csv',index=False,header=True)"
   ]
  },
  {
   "cell_type": "code",
   "execution_count": 26,
   "metadata": {},
   "outputs": [
    {
     "data": {
      "text/html": [
       "<div>\n",
       "<style scoped>\n",
       "    .dataframe tbody tr th:only-of-type {\n",
       "        vertical-align: middle;\n",
       "    }\n",
       "\n",
       "    .dataframe tbody tr th {\n",
       "        vertical-align: top;\n",
       "    }\n",
       "\n",
       "    .dataframe thead th {\n",
       "        text-align: right;\n",
       "    }\n",
       "</style>\n",
       "<table border=\"1\" class=\"dataframe\">\n",
       "  <thead>\n",
       "    <tr style=\"text-align: right;\">\n",
       "      <th></th>\n",
       "      <th>REF_SITE_FROM_ID</th>\n",
       "      <th>REF_SITE_TO_ID</th>\n",
       "      <th>season</th>\n",
       "      <th>INJSVR</th>\n",
       "      <th>DOCTNMBR</th>\n",
       "    </tr>\n",
       "  </thead>\n",
       "  <tbody>\n",
       "    <tr>\n",
       "      <th>0</th>\n",
       "      <td>10464</td>\n",
       "      <td>1661744</td>\n",
       "      <td>summer</td>\n",
       "      <td>O</td>\n",
       "      <td>1</td>\n",
       "    </tr>\n",
       "    <tr>\n",
       "      <th>1</th>\n",
       "      <td>1661884</td>\n",
       "      <td>1661805</td>\n",
       "      <td>winter</td>\n",
       "      <td>A</td>\n",
       "      <td>1</td>\n",
       "    </tr>\n",
       "    <tr>\n",
       "      <th>2</th>\n",
       "      <td>1661887</td>\n",
       "      <td>1661805</td>\n",
       "      <td>summer</td>\n",
       "      <td>O</td>\n",
       "      <td>1</td>\n",
       "    </tr>\n",
       "    <tr>\n",
       "      <th>3</th>\n",
       "      <td>1662001</td>\n",
       "      <td>1662000</td>\n",
       "      <td>summer</td>\n",
       "      <td>O</td>\n",
       "      <td>1</td>\n",
       "    </tr>\n",
       "    <tr>\n",
       "      <th>4</th>\n",
       "      <td>1662003</td>\n",
       "      <td>1662001</td>\n",
       "      <td>fall</td>\n",
       "      <td>B</td>\n",
       "      <td>1</td>\n",
       "    </tr>\n",
       "  </tbody>\n",
       "</table>\n",
       "</div>"
      ],
      "text/plain": [
       "   REF_SITE_FROM_ID  REF_SITE_TO_ID  season INJSVR  DOCTNMBR\n",
       "0             10464         1661744  summer      O         1\n",
       "1           1661884         1661805  winter      A         1\n",
       "2           1661887         1661805  summer      O         1\n",
       "3           1662001         1662000  summer      O         1\n",
       "4           1662003         1662001    fall      B         1"
      ]
     },
     "execution_count": 26,
     "metadata": {},
     "output_type": "execute_result"
    }
   ],
   "source": [
    "crashes.head()"
   ]
  },
  {
   "cell_type": "code",
   "execution_count": 27,
   "metadata": {},
   "outputs": [
    {
     "name": "stdout",
     "output_type": "stream",
     "text": [
      "No errors, CSV2GDX time = 4ms\r\n"
     ]
    }
   ],
   "source": [
    "!csv2gdx crash_seriousness.csv useHeader=Y id=serious_crash index=1,2,3,4 value=5 colCount=5"
   ]
  },
  {
   "cell_type": "code",
   "execution_count": null,
   "metadata": {},
   "outputs": [],
   "source": []
  }
 ],
 "metadata": {
  "kernelspec": {
   "display_name": "Python 3",
   "language": "python",
   "name": "python3"
  },
  "language_info": {
   "codemirror_mode": {
    "name": "ipython",
    "version": 3
   },
   "file_extension": ".py",
   "mimetype": "text/x-python",
   "name": "python",
   "nbconvert_exporter": "python",
   "pygments_lexer": "ipython3",
   "version": "3.8.3"
  }
 },
 "nbformat": 4,
 "nbformat_minor": 4
}
