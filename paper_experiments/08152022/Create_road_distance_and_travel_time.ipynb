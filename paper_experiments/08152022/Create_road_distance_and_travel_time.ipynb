{
 "cells": [
  {
   "cell_type": "code",
   "execution_count": 2,
   "metadata": {},
   "outputs": [],
   "source": [
    "import folium\n",
    "import os\n",
    "import csv\n",
    "import numpy as np\n",
    "import pandas as pd\n",
    "import matplotlib.pyplot as plt\n",
    "import shapefile\n",
    "import pickle\n",
    "import random"
   ]
  },
  {
   "cell_type": "code",
   "execution_count": 17,
   "metadata": {},
   "outputs": [],
   "source": [
    "# read road shape\n",
    "shape_path = os.path.join(\"..\",\"..\",\"transportation_data\",\"dane-county\",\"Dane_County_Shape_file\",\"Dane_Rdwy_Coord.shp\")\n",
    "#shape_path = os.path.join(\"..\",\"..\",\"transportation_data\",\"dane-county\",\"Dane_County_Shape_file\",\"Dane_County_Rdwy_link_line.shp\")\n",
    "shape = shapefile.Reader(shape_path)"
   ]
  },
  {
   "cell_type": "code",
   "execution_count": 18,
   "metadata": {},
   "outputs": [],
   "source": [
    "# get all road ID\n",
    "linkIDs = []\n",
    "for sp in shape.shapeRecords():\n",
    "    road_id = sp.record[1]\n",
    "    linkIDs.append(road_id)\n",
    "    \n",
    "linkIDs = list(set(linkIDs))"
   ]
  },
  {
   "cell_type": "code",
   "execution_count": 105,
   "metadata": {},
   "outputs": [],
   "source": [
    "# read ref position\n",
    "ref_path = os.path.join(\"..\",\"..\",\"transportation_data\",\"dane-county\",\"Dane_County_Shape_file\",\"Dane_Ref_Coord.shp\")\n",
    "ref = shapefile.Reader(ref_path)\n",
    "\n",
    "ref_dict = {}\n",
    "for r in ref.shapeRecords():\n",
    "    ref_position = np.array([r.shape.points[:][0][1],r.shape.points[:][0][0]])\n",
    "    ref_dict[r.record[1]] = ref_position"
   ]
  },
  {
   "cell_type": "code",
   "execution_count": 106,
   "metadata": {},
   "outputs": [],
   "source": [
    "# load functional class file\n",
    "fnct_cls_path = os.path.join(\"..\",\"..\",\"transportation_data\",\"dane-county\",\"dane_wislr_rdwy_link_fnct_cls.csv\")\n",
    "with open(fnct_cls_path,'r') as f:\n",
    "    fnct_cls = list(csv.reader(f))\n",
    "fnct_header = fnct_cls[0]\n",
    "fnct_cls = fnct_cls[1:]\n",
    "\n",
    "fnct_cls_list = []\n",
    "for r in fnct_cls:\n",
    "    fnct_cls_list.append(int(r[fnct_header.index('RDWY_LINK_ID')]))\n",
    "    \n",
    "fnct_cls_list = list(set(fnct_cls_list))\n",
    "\n",
    "road_to_ref = {}\n",
    "for r in fnct_cls:\n",
    "    road_to_ref[int(r[fnct_header.index('RDWY_LINK_ID')])] = \\\n",
    "                        np.array([int(r[fnct_header.index('REF_SITE_FROM_ID')]),int(r[fnct_header.index('REF_SITE_TO_ID')])]) "
   ]
  },
  {
   "cell_type": "code",
   "execution_count": 91,
   "metadata": {},
   "outputs": [
    {
     "data": {
      "text/plain": [
       "['RDWY_LINK_ID',\n",
       " 'REF_SITE_FROM_ID',\n",
       " 'REF_SITE_TO_ID',\n",
       " 'LCM_FROM_TO_DIS',\n",
       " 'LOC_FLKOS_FT',\n",
       " 'LOC_TLKOS_FT',\n",
       " 'ST_PRMY_SYMB_TY',\n",
       " 'FNCT_CLS_CTGY_TYCD',\n",
       " 'FNCT_CLS_CTGY_TYDC']"
      ]
     },
     "execution_count": 91,
     "metadata": {},
     "output_type": "execute_result"
    }
   ],
   "source": [
    "fnct_header"
   ]
  },
  {
   "cell_type": "markdown",
   "metadata": {},
   "source": [
    "## The total effective roads are the intersection between the road in the shape file and the road in the road information file"
   ]
  },
  {
   "cell_type": "code",
   "execution_count": 50,
   "metadata": {},
   "outputs": [],
   "source": [
    "total_roads = set(linkIDs).intersection(set(fnct_cls_list))"
   ]
  },
  {
   "cell_type": "code",
   "execution_count": 56,
   "metadata": {},
   "outputs": [
    {
     "data": {
      "text/plain": [
       "['RDWY_LINK_ID',\n",
       " 'REF_SITE_FROM_ID',\n",
       " 'REF_SITE_TO_ID',\n",
       " 'LCM_FROM_TO_DIS',\n",
       " 'LOC_FLKOS_FT',\n",
       " 'LOC_TLKOS_FT',\n",
       " 'ST_PRMY_SYMB_TY',\n",
       " 'FNCT_CLS_CTGY_TYCD',\n",
       " 'FNCT_CLS_CTGY_TYDC']"
      ]
     },
     "execution_count": 56,
     "metadata": {},
     "output_type": "execute_result"
    }
   ],
   "source": [
    "fnct_header"
   ]
  },
  {
   "cell_type": "markdown",
   "metadata": {},
   "source": [
    "# Get the total distance"
   ]
  },
  {
   "cell_type": "code",
   "execution_count": 57,
   "metadata": {},
   "outputs": [],
   "source": [
    "distance_dict = {}\n",
    "for r in fnct_cls:\n",
    "    distance_dict[int(r[fnct_header.index('RDWY_LINK_ID')])] = int(r[fnct_header.index('LCM_FROM_TO_DIS')])"
   ]
  },
  {
   "cell_type": "markdown",
   "metadata": {},
   "source": [
    "# Use crash information to infer speed"
   ]
  },
  {
   "cell_type": "code",
   "execution_count": 60,
   "metadata": {},
   "outputs": [],
   "source": [
    "\n",
    "\n",
    "# load crash file\n",
    "crash_path = os.path.join(\"..\",\"..\",\"transportation_data\",\"dane-county\",\"dane_crash_link_postspd_2017_2020.csv\")\n",
    "with open(crash_path,'r') as f:\n",
    "    crash_file = list(csv.reader(f))\n",
    "    \n",
    "crash_header = crash_file[0]\n",
    "crash_file = crash_file[1:]\n"
   ]
  },
  {
   "cell_type": "code",
   "execution_count": 87,
   "metadata": {},
   "outputs": [],
   "source": [
    "speed_dict = {}\n",
    "for key in distance_dict:\n",
    "    speed_dict[key] = []\n",
    "\n",
    "# put crash speed into the data structure\n",
    "has_crash_speed = []\n",
    "not_has_crash_speed = []\n",
    "count_crash = 0\n",
    "for r in crash_file:\n",
    "    roadID = int(r[crash_header.index('WISLR_LINKID')])\n",
    "    speed = r[crash_header.index('POSTSPD1')]\n",
    "    if roadID in speed_dict and speed != '': # make sure road is in dict and also speed is not missing\n",
    "        speed_dict[roadID].append(int(speed))\n",
    "        has_crash_speed.append(roadID)\n",
    "        count_crash += 1\n",
    "    \n",
    "not_has_crash_speed = list(set(distance_dict.keys()) - set(has_crash_speed))\n",
    "# calculate speed for those that has crash speed\n",
    "\n",
    "for r in set(has_crash_speed):\n",
    "    speed_dict[r] = np.mean(speed_dict[r])"
   ]
  },
  {
   "cell_type": "code",
   "execution_count": 131,
   "metadata": {},
   "outputs": [],
   "source": [
    "# use nearest neighbor to construct speed of those roads that does not have any crash\n",
    "\n",
    "def calculate_middle(ref1,ref2):\n",
    "    return (ref_dict[ref1] + ref_dict[ref2])/2\n",
    "\n",
    "def calculate_distance(road1,road2):\n",
    "    return sum(abs(road_coord[road1] - road_coord[road2]))\n",
    "\n",
    "road_coord = {}\n",
    "# 1. get the coordinate of all the roads\n",
    "for key in distance_dict:\n",
    "    startAndEnd = road_to_ref[key]\n",
    "    if startAndEnd[0] in ref_dict and startAndEnd[1] in ref_dict:\n",
    "        road_coord[key] = calculate_middle(startAndEnd[0],startAndEnd[1])\n",
    "        \n",
    "has_crash_speed = list(set([x for x in has_crash_speed if x in road_coord]))\n",
    "not_has_crash_speed = [x for x in not_has_crash_speed if x in road_coord]"
   ]
  },
  {
   "cell_type": "code",
   "execution_count": null,
   "metadata": {},
   "outputs": [],
   "source": [
    "idx = 0 \n",
    "speed_dict_no_crash = {}\n",
    "for road1 in not_has_crash_speed:\n",
    "    if idx % 500 == 0:\n",
    "        print(idx)\n",
    "    speed = None\n",
    "    dist = None\n",
    "    for road2 in has_crash_speed:\n",
    "        if speed == None and dist == None:\n",
    "            speed = speed_dict[road2]\n",
    "            dist = calculate_distance(road1,road2)\n",
    "        else:\n",
    "            if dist > calculate_distance(road1,road2):\n",
    "                dist = calculate_distance(road1,road2)\n",
    "                speed = speed_dict[road2]\n",
    "    speed_dict_no_crash[road1] = speed\n",
    "    idx += 1\n",
    "        \n",
    "        "
   ]
  },
  {
   "cell_type": "code",
   "execution_count": 136,
   "metadata": {},
   "outputs": [],
   "source": [
    "final_speed_dict = {}\n",
    "for key in speed_dict_no_crash:\n",
    "    final_speed_dict[key] = speed_dict_no_crash[key]\n",
    "    \n",
    "for key in has_crash_speed:\n",
    "    final_speed_dict[key] = speed_dict[key]"
   ]
  },
  {
   "cell_type": "code",
   "execution_count": 142,
   "metadata": {},
   "outputs": [],
   "source": [
    "with open('Dane_speed_dict.pk', 'wb')as f:\n",
    "    pickle.dump(final_speed_dict,f)\n",
    "    \n",
    "with open('Dane_distance_dict.pk', 'wb')as f:\n",
    "    pickle.dump(distance_dict,f)"
   ]
  },
  {
   "cell_type": "code",
   "execution_count": null,
   "metadata": {},
   "outputs": [],
   "source": []
  }
 ],
 "metadata": {
  "kernelspec": {
   "display_name": "Python 3",
   "language": "python",
   "name": "python3"
  },
  "language_info": {
   "codemirror_mode": {
    "name": "ipython",
    "version": 3
   },
   "file_extension": ".py",
   "mimetype": "text/x-python",
   "name": "python",
   "nbconvert_exporter": "python",
   "pygments_lexer": "ipython3",
   "version": "3.8.3"
  }
 },
 "nbformat": 4,
 "nbformat_minor": 4
}
