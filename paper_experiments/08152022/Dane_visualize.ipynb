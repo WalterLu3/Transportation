{
 "cells": [
  {
   "cell_type": "code",
   "execution_count": 1,
   "metadata": {},
   "outputs": [],
   "source": [
    "import folium\n",
    "import os\n",
    "import csv\n",
    "import numpy as np\n",
    "import pandas as pd\n",
    "import matplotlib.pyplot as plt\n",
    "import shapefile\n",
    "import pickle\n",
    "import random\n",
    "import gams_magic"
   ]
  },
  {
   "cell_type": "markdown",
   "metadata": {},
   "source": [
    "# Visualize the dane county dtaaset"
   ]
  },
  {
   "cell_type": "code",
   "execution_count": 2,
   "metadata": {},
   "outputs": [],
   "source": [
    "m = folium.Map(location=[43.0819, -89.5579])"
   ]
  },
  {
   "cell_type": "code",
   "execution_count": 3,
   "metadata": {},
   "outputs": [
    {
     "data": {
      "text/html": [
       "<div style=\"width:100%;\"><div style=\"position:relative;width:100%;height:0;padding-bottom:60%;\"><span style=\"color:#565656\">Make this Notebook Trusted to load map: File -> Trust Notebook</span><iframe src=\"about:blank\" style=\"position:absolute;width:100%;height:100%;left:0;top:0;border:none !important;\" data-html=%3C%21DOCTYPE%20html%3E%0A%3Chead%3E%20%20%20%20%0A%20%20%20%20%3Cmeta%20http-equiv%3D%22content-type%22%20content%3D%22text/html%3B%20charset%3DUTF-8%22%20/%3E%0A%20%20%20%20%0A%20%20%20%20%20%20%20%20%3Cscript%3E%0A%20%20%20%20%20%20%20%20%20%20%20%20L_NO_TOUCH%20%3D%20false%3B%0A%20%20%20%20%20%20%20%20%20%20%20%20L_DISABLE_3D%20%3D%20false%3B%0A%20%20%20%20%20%20%20%20%3C/script%3E%0A%20%20%20%20%0A%20%20%20%20%3Cstyle%3Ehtml%2C%20body%20%7Bwidth%3A%20100%25%3Bheight%3A%20100%25%3Bmargin%3A%200%3Bpadding%3A%200%3B%7D%3C/style%3E%0A%20%20%20%20%3Cstyle%3E%23map%20%7Bposition%3Aabsolute%3Btop%3A0%3Bbottom%3A0%3Bright%3A0%3Bleft%3A0%3B%7D%3C/style%3E%0A%20%20%20%20%3Cscript%20src%3D%22https%3A//cdn.jsdelivr.net/npm/leaflet%401.6.0/dist/leaflet.js%22%3E%3C/script%3E%0A%20%20%20%20%3Cscript%20src%3D%22https%3A//code.jquery.com/jquery-1.12.4.min.js%22%3E%3C/script%3E%0A%20%20%20%20%3Cscript%20src%3D%22https%3A//maxcdn.bootstrapcdn.com/bootstrap/3.2.0/js/bootstrap.min.js%22%3E%3C/script%3E%0A%20%20%20%20%3Cscript%20src%3D%22https%3A//cdnjs.cloudflare.com/ajax/libs/Leaflet.awesome-markers/2.0.2/leaflet.awesome-markers.js%22%3E%3C/script%3E%0A%20%20%20%20%3Clink%20rel%3D%22stylesheet%22%20href%3D%22https%3A//cdn.jsdelivr.net/npm/leaflet%401.6.0/dist/leaflet.css%22/%3E%0A%20%20%20%20%3Clink%20rel%3D%22stylesheet%22%20href%3D%22https%3A//maxcdn.bootstrapcdn.com/bootstrap/3.2.0/css/bootstrap.min.css%22/%3E%0A%20%20%20%20%3Clink%20rel%3D%22stylesheet%22%20href%3D%22https%3A//maxcdn.bootstrapcdn.com/bootstrap/3.2.0/css/bootstrap-theme.min.css%22/%3E%0A%20%20%20%20%3Clink%20rel%3D%22stylesheet%22%20href%3D%22https%3A//maxcdn.bootstrapcdn.com/font-awesome/4.6.3/css/font-awesome.min.css%22/%3E%0A%20%20%20%20%3Clink%20rel%3D%22stylesheet%22%20href%3D%22https%3A//cdnjs.cloudflare.com/ajax/libs/Leaflet.awesome-markers/2.0.2/leaflet.awesome-markers.css%22/%3E%0A%20%20%20%20%3Clink%20rel%3D%22stylesheet%22%20href%3D%22https%3A//cdn.jsdelivr.net/gh/python-visualization/folium/folium/templates/leaflet.awesome.rotate.min.css%22/%3E%0A%20%20%20%20%0A%20%20%20%20%20%20%20%20%20%20%20%20%3Cmeta%20name%3D%22viewport%22%20content%3D%22width%3Ddevice-width%2C%0A%20%20%20%20%20%20%20%20%20%20%20%20%20%20%20%20initial-scale%3D1.0%2C%20maximum-scale%3D1.0%2C%20user-scalable%3Dno%22%20/%3E%0A%20%20%20%20%20%20%20%20%20%20%20%20%3Cstyle%3E%0A%20%20%20%20%20%20%20%20%20%20%20%20%20%20%20%20%23map_d941dd16cbdb4fccab96820f0d1faedf%20%7B%0A%20%20%20%20%20%20%20%20%20%20%20%20%20%20%20%20%20%20%20%20position%3A%20relative%3B%0A%20%20%20%20%20%20%20%20%20%20%20%20%20%20%20%20%20%20%20%20width%3A%20100.0%25%3B%0A%20%20%20%20%20%20%20%20%20%20%20%20%20%20%20%20%20%20%20%20height%3A%20100.0%25%3B%0A%20%20%20%20%20%20%20%20%20%20%20%20%20%20%20%20%20%20%20%20left%3A%200.0%25%3B%0A%20%20%20%20%20%20%20%20%20%20%20%20%20%20%20%20%20%20%20%20top%3A%200.0%25%3B%0A%20%20%20%20%20%20%20%20%20%20%20%20%20%20%20%20%7D%0A%20%20%20%20%20%20%20%20%20%20%20%20%3C/style%3E%0A%20%20%20%20%20%20%20%20%0A%3C/head%3E%0A%3Cbody%3E%20%20%20%20%0A%20%20%20%20%0A%20%20%20%20%20%20%20%20%20%20%20%20%3Cdiv%20class%3D%22folium-map%22%20id%3D%22map_d941dd16cbdb4fccab96820f0d1faedf%22%20%3E%3C/div%3E%0A%20%20%20%20%20%20%20%20%0A%3C/body%3E%0A%3Cscript%3E%20%20%20%20%0A%20%20%20%20%0A%20%20%20%20%20%20%20%20%20%20%20%20var%20map_d941dd16cbdb4fccab96820f0d1faedf%20%3D%20L.map%28%0A%20%20%20%20%20%20%20%20%20%20%20%20%20%20%20%20%22map_d941dd16cbdb4fccab96820f0d1faedf%22%2C%0A%20%20%20%20%20%20%20%20%20%20%20%20%20%20%20%20%7B%0A%20%20%20%20%20%20%20%20%20%20%20%20%20%20%20%20%20%20%20%20center%3A%20%5B43.0819%2C%20-89.5579%5D%2C%0A%20%20%20%20%20%20%20%20%20%20%20%20%20%20%20%20%20%20%20%20crs%3A%20L.CRS.EPSG3857%2C%0A%20%20%20%20%20%20%20%20%20%20%20%20%20%20%20%20%20%20%20%20zoom%3A%2010%2C%0A%20%20%20%20%20%20%20%20%20%20%20%20%20%20%20%20%20%20%20%20zoomControl%3A%20true%2C%0A%20%20%20%20%20%20%20%20%20%20%20%20%20%20%20%20%20%20%20%20preferCanvas%3A%20false%2C%0A%20%20%20%20%20%20%20%20%20%20%20%20%20%20%20%20%7D%0A%20%20%20%20%20%20%20%20%20%20%20%20%29%3B%0A%0A%20%20%20%20%20%20%20%20%20%20%20%20%0A%0A%20%20%20%20%20%20%20%20%0A%20%20%20%20%0A%20%20%20%20%20%20%20%20%20%20%20%20var%20tile_layer_2048efce47744792b84a26c926320f68%20%3D%20L.tileLayer%28%0A%20%20%20%20%20%20%20%20%20%20%20%20%20%20%20%20%22https%3A//%7Bs%7D.tile.openstreetmap.org/%7Bz%7D/%7Bx%7D/%7By%7D.png%22%2C%0A%20%20%20%20%20%20%20%20%20%20%20%20%20%20%20%20%7B%22attribution%22%3A%20%22Data%20by%20%5Cu0026copy%3B%20%5Cu003ca%20href%3D%5C%22http%3A//openstreetmap.org%5C%22%5Cu003eOpenStreetMap%5Cu003c/a%5Cu003e%2C%20under%20%5Cu003ca%20href%3D%5C%22http%3A//www.openstreetmap.org/copyright%5C%22%5Cu003eODbL%5Cu003c/a%5Cu003e.%22%2C%20%22detectRetina%22%3A%20false%2C%20%22maxNativeZoom%22%3A%2018%2C%20%22maxZoom%22%3A%2018%2C%20%22minZoom%22%3A%200%2C%20%22noWrap%22%3A%20false%2C%20%22opacity%22%3A%201%2C%20%22subdomains%22%3A%20%22abc%22%2C%20%22tms%22%3A%20false%7D%0A%20%20%20%20%20%20%20%20%20%20%20%20%29.addTo%28map_d941dd16cbdb4fccab96820f0d1faedf%29%3B%0A%20%20%20%20%20%20%20%20%0A%3C/script%3E onload=\"this.contentDocument.open();this.contentDocument.write(    decodeURIComponent(this.getAttribute('data-html')));this.contentDocument.close();\" allowfullscreen webkitallowfullscreen mozallowfullscreen></iframe></div></div>"
      ],
      "text/plain": [
       "<folium.folium.Map at 0x7fe958251280>"
      ]
     },
     "execution_count": 3,
     "metadata": {},
     "output_type": "execute_result"
    }
   ],
   "source": [
    "m"
   ]
  },
  {
   "cell_type": "code",
   "execution_count": 63,
   "metadata": {},
   "outputs": [],
   "source": [
    "# read road shape\n",
    "shape_path = os.path.join(\"..\",\"..\",\"transportation_data\",\"dane-county\",\"Dane_County_Shape_file\",\"Dane_Rdwy_Coord.shp\")\n",
    "#shape_path = os.path.join(\"..\",\"..\",\"transportation_data\",\"dane-county\",\"Dane_County_Shape_file\",\"Dane_County_Rdwy_link_line.shp\")\n",
    "shape = shapefile.Reader(shape_path)\n",
    "\n",
    "# read ref position\n",
    "ref_path = os.path.join(\"..\",\"..\",\"transportation_data\",\"dane-county\",\"Dane_County_Shape_file\",\"Dane_Ref_Coord.shp\")\n",
    "ref = shapefile.Reader(ref_path)\n",
    "\n",
    "# read crash data\n",
    "crash_path = os.path.join(\"..\",\"..\",\"transportation_data\",\"dane-county\",\"dane_crash_link_postspd_2017_2020.csv\")\n",
    "with open(crash_path, 'r') as f:\n",
    "    crashes = list(csv.reader(f))\n",
    "    \n",
    "crash_header = crashes[0]\n",
    "crashes = crashes[1:]\n"
   ]
  },
  {
   "cell_type": "code",
   "execution_count": 34,
   "metadata": {},
   "outputs": [],
   "source": [
    "m = folium.Map(location=[43.0819, -89.5579])\n",
    "\n",
    "\n",
    "for sp in shape.shapeRecords():\n",
    "    road_id = sp.record[1]\n",
    "    #print(road_id)\n",
    "    x = [i[0] for i in sp.shape.points[:]]\n",
    "    y = [i[1] for i in sp.shape.points[:]]\n",
    "    #print(x,y)\n",
    "    segment = []\n",
    "    for i in range(len(x)):\n",
    "        segment.append((y[i],x[i]))\n",
    "        \n",
    "    folium.PolyLine(segment,\n",
    "                color='red',\n",
    "                weight=1,\n",
    "                opacity=0.8).add_to(m)\n",
    "\n",
    "m.save(\"dane_network_visualize.html\")"
   ]
  },
  {
   "cell_type": "code",
   "execution_count": 41,
   "metadata": {
    "scrolled": true
   },
   "outputs": [
    {
     "name": "stdout",
     "output_type": "stream",
     "text": [
      "True\n"
     ]
    }
   ],
   "source": [
    "# check if the road_ids are unique\n",
    "linkIDs = []\n",
    "for sp in shape.shapeRecords():\n",
    "    road_id = sp.record[1]\n",
    "    linkIDs.append(road_id)\n",
    "    \n",
    "print(len(linkIDs) == len(set(linkIDs)))\n",
    "# yes, the ids are unique"
   ]
  },
  {
   "cell_type": "code",
   "execution_count": 70,
   "metadata": {},
   "outputs": [],
   "source": [
    "# plot out the newtork and the reference points\n",
    "m = folium.Map(location=[43.0819, -89.5579])\n",
    "\n",
    "\n",
    "for sp in shape.shapeRecords():\n",
    "    road_id = sp.record[1]\n",
    "    #print(road_id)\n",
    "    x = [i[0] for i in sp.shape.points[:]]\n",
    "    y = [i[1] for i in sp.shape.points[:]]\n",
    "    #print(x,y)\n",
    "    segment = []\n",
    "    for i in range(len(x)):\n",
    "        segment.append((y[i],x[i]))\n",
    "        \n",
    "    folium.PolyLine(segment,\n",
    "                color='blue',\n",
    "                weight=1,\n",
    "                opacity=0.8).add_to(m)\n",
    "\n",
    "for r in ref.shapeRecords():\n",
    "\n",
    "    ref_position = (r.shape.points[:][0][1],r.shape.points[:][0][0])\n",
    "    \n",
    "    folium.CircleMarker(\n",
    "      location=ref_position,\n",
    "      radius = 1,\n",
    "      color = '#ff3333',\n",
    "      opacity = 0.8,\n",
    "    ).add_to(m)\n",
    "    \n",
    "\n",
    "m.save(\"dane_network_visualize_with_ref.html\")  \n",
    "    "
   ]
  },
  {
   "cell_type": "code",
   "execution_count": 62,
   "metadata": {},
   "outputs": [],
   "source": [
    "# plot out the crash data\n",
    "m = folium.Map(location=[43.0819, -89.5579])\n",
    "\n",
    "\n",
    "for sp in shape.shapeRecords():\n",
    "    road_id = sp.record[1]\n",
    "    #print(road_id)\n",
    "    x = [i[0] for i in sp.shape.points[:]]\n",
    "    y = [i[1] for i in sp.shape.points[:]]\n",
    "    #print(x,y)\n",
    "    segment = []\n",
    "    for i in range(len(x)):\n",
    "        segment.append((y[i],x[i]))\n",
    "        \n",
    "    folium.PolyLine(segment,\n",
    "                color='blue',\n",
    "                weight=0.5,\n",
    "                opacity=0.8).add_to(m)\n",
    "\n",
    "for crash in crashes:\n",
    "    crash_position = (float(crash[crash_header.index('LATDECDG')]),float(crash[crash_header.index('LONDECDG')]))\n",
    "    folium.CircleMarker(\n",
    "      location=crash_position,\n",
    "      radius = 1,\n",
    "      color = '#ff3333',\n",
    "      opacity = 0.8,\n",
    "    ).add_to(m)\n",
    "    \n",
    "#print(crash_position)\n",
    "m.save(\"dane_network_crash_visualize.html\")"
   ]
  }
 ],
 "metadata": {
  "kernelspec": {
   "display_name": "Python 3",
   "language": "python",
   "name": "python3"
  },
  "language_info": {
   "codemirror_mode": {
    "name": "ipython",
    "version": 3
   },
   "file_extension": ".py",
   "mimetype": "text/x-python",
   "name": "python",
   "nbconvert_exporter": "python",
   "pygments_lexer": "ipython3",
   "version": "3.8.3"
  }
 },
 "nbformat": 4,
 "nbformat_minor": 4
}
