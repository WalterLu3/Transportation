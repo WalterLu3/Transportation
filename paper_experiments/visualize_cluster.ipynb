{
 "cells": [
  {
   "cell_type": "code",
   "execution_count": 420,
   "metadata": {},
   "outputs": [],
   "source": [
    "import numpy as np\n",
    "import matplotlib.pyplot as plt\n",
    "import pickle\n",
    "import csv\n",
    "import networkx as nx\n",
    "#from kneed import KneeLocator\n",
    "#from sklearn.datasets import make_blobs\n",
    "from sklearn.cluster import KMeans\n",
    "from sklearn.metrics import silhouette_score\n",
    "from sklearn.preprocessing import StandardScaler"
   ]
  },
  {
   "cell_type": "code",
   "execution_count": 427,
   "metadata": {},
   "outputs": [],
   "source": [
    "with open(\"global_cost_vectors_500.pk\",'rb') as f:\n",
    "    global_cost = pickle.load(f)\n",
    "with open(\"local_cost_vectors.pk\",'rb') as f:\n",
    "    local_cost = pickle.load(f)"
   ]
  },
  {
   "cell_type": "markdown",
   "metadata": {},
   "source": [
    "# Visualize with original data (2 factors : time and risk)"
   ]
  },
  {
   "cell_type": "code",
   "execution_count": 428,
   "metadata": {},
   "outputs": [],
   "source": [
    "global_cost_list = []\n",
    "time_list = []\n",
    "risk_list = []\n",
    "\n",
    "for k in global_cost:\n",
    "    time_list.append(global_cost[k][0][0])\n",
    "    risk_list.append(global_cost[k][0][1])\n",
    "    \n",
    "avgTime = np.mean(time_list)\n",
    "stdTime = np.std(time_list)\n",
    "avgRisk = np.mean(risk_list)\n",
    "stdRisk = np.std(risk_list)\n",
    "# normalized point\n",
    "global_time_normalized = []\n",
    "global_risk_normalized = []\n",
    "for k in global_cost:\n",
    "    temp = ((global_cost[k][0][0]-avgTime)/stdTime, (global_cost[k][0][1]-avgRisk)/stdRisk)\n",
    "    global_time_normalized.append((global_cost[k][0][0]-avgTime)/stdTime)\n",
    "    global_risk_normalized.append((global_cost[k][0][1]-avgRisk)/stdRisk)\n",
    "    global_cost_list.append(temp)\n",
    "    \n"
   ]
  },
  {
   "cell_type": "code",
   "execution_count": 429,
   "metadata": {},
   "outputs": [
    {
     "data": {
      "image/png": "[encoded data removed]",
      "text/plain": [
       "<Figure size 432x288 with 1 Axes>"
      ]
     },
     "metadata": {
      "needs_background": "light"
     },
     "output_type": "display_data"
    }
   ],
   "source": [
    "plt.scatter(global_time_normalized, global_risk_normalized)\n",
    "plt.show()"
   ]
  },
  {
   "cell_type": "code",
   "execution_count": 430,
   "metadata": {},
   "outputs": [
    {
     "data": {
      "text/plain": [
       "500"
      ]
     },
     "execution_count": 430,
     "metadata": {},
     "output_type": "execute_result"
    }
   ],
   "source": [
    "len(global_time_normalized)"
   ]
  },
  {
   "cell_type": "code",
   "execution_count": 431,
   "metadata": {},
   "outputs": [],
   "source": [
    "local_cost_list = []\n",
    "time_list = []\n",
    "risk_list = []\n",
    "\n",
    "for k in local_cost:\n",
    "    time_list.append(local_cost[k][0][0])\n",
    "    risk_list.append(local_cost[k][0][1])\n",
    "    \n",
    "avgTime = np.mean(time_list)\n",
    "stdTime = np.std(time_list)\n",
    "avgRisk = np.mean(risk_list)\n",
    "stdRisk = np.std(risk_list)\n",
    "# normalized point\n",
    "local_time_normalized = []\n",
    "local_risk_normalized = []\n",
    "for k in local_cost:\n",
    "    #temp = ((global_cost[k][0][0]-avgTime)/stdTime, (global_cost[k][0][1]-avgRisk)/stdRisk)\n",
    "    local_time_normalized.append((local_cost[k][0][0]-avgTime)/stdTime)\n",
    "    local_risk_normalized.append((local_cost[k][0][1]-avgRisk)/stdRisk)\n",
    "    local_cost_list.append(temp)"
   ]
  },
  {
   "cell_type": "code",
   "execution_count": 432,
   "metadata": {},
   "outputs": [
    {
     "data": {
      "image/png": "[encoded data removed]",
      "text/plain": [
       "<Figure size 432x288 with 1 Axes>"
      ]
     },
     "metadata": {
      "needs_background": "light"
     },
     "output_type": "display_data"
    }
   ],
   "source": [
    "plt.scatter(local_time_normalized, local_risk_normalized)\n",
    "plt.show()"
   ]
  },
  {
   "cell_type": "markdown",
   "metadata": {},
   "source": [
    "# Visualize with ratio data (2 factors : time and risk)"
   ]
  },
  {
   "cell_type": "code",
   "execution_count": 433,
   "metadata": {},
   "outputs": [],
   "source": [
    "global_ratio_list = []\n",
    "ratio_list = []\n",
    "\n",
    "for k in global_cost:\n",
    "    ratio_list.append((global_cost[k][0][0]/global_cost[k][0][1]))\n",
    "    \n",
    "avgRatio = np.mean(ratio_list)\n",
    "stdRatio = np.std(ratio_list)\n",
    "\n",
    "# normalized point\n",
    "global_Ratio_normalized = []\n",
    "for e in ratio_list:\n",
    "    global_ratio_list.append((e-avgRatio)/stdRatio)\n",
    "    "
   ]
  },
  {
   "cell_type": "code",
   "execution_count": 434,
   "metadata": {},
   "outputs": [
    {
     "data": {
      "text/plain": [
       "(array([  0.,   0.,   0.,  22.,  77.,  15.,   3., 181.,  14.,  15.,  35.,\n",
       "         11.,  31.,  44.,  12.,  18.,   2.,   0.,   0.,   0.,   0.,   0.,\n",
       "          0.,   0.,   0.,   0.,   0.,   0.,   0.,   0.,   0.,   0.,   0.,\n",
       "          0.,   0.,   0.]),\n",
       " array([-2.  , -1.75, -1.5 , -1.25, -1.  , -0.75, -0.5 , -0.25,  0.  ,\n",
       "         0.25,  0.5 ,  0.75,  1.  ,  1.25,  1.5 ,  1.75,  2.  ,  2.25,\n",
       "         2.5 ,  2.75,  3.  ,  3.25,  3.5 ,  3.75,  4.  ,  4.25,  4.5 ,\n",
       "         4.75,  5.  ,  5.25,  5.5 ,  5.75,  6.  ,  6.25,  6.5 ,  6.75,\n",
       "         7.  ]),\n",
       " <BarContainer object of 36 artists>)"
      ]
     },
     "execution_count": 434,
     "metadata": {},
     "output_type": "execute_result"
    },
    {
     "data": {
      "image/png": "[encoded data removed]",
      "text/plain": [
       "<Figure size 432x288 with 1 Axes>"
      ]
     },
     "metadata": {
      "needs_background": "light"
     },
     "output_type": "display_data"
    }
   ],
   "source": [
    "bins = [-2]\n",
    "for i in range(36):\n",
    "    bins.append(bins[-1]+0.25)\n",
    "    \n",
    "plt.hist(global_ratio_list,bins=bins)"
   ]
  },
  {
   "cell_type": "code",
   "execution_count": 435,
   "metadata": {},
   "outputs": [],
   "source": [
    "local_ratio_list = []\n",
    "ratio_list = []\n",
    "\n",
    "for k in local_cost:\n",
    "    ratio_list.append((local_cost[k][0][0]/local_cost[k][0][1]))\n",
    "    \n",
    "avgRatio = np.mean(ratio_list)\n",
    "stdRatio = np.std(ratio_list)\n",
    "\n",
    "# normalized point\n",
    "local_Ratio_normalized = []\n",
    "for e in ratio_list:\n",
    "    local_ratio_list.append((e-avgRatio)/stdRatio)"
   ]
  },
  {
   "cell_type": "code",
   "execution_count": 436,
   "metadata": {},
   "outputs": [
    {
     "data": {
      "text/plain": [
       "(array([1., 2., 1., 2., 1., 0., 0., 1., 0., 0., 0., 1., 1., 0.]),\n",
       " array([-1.25, -1.  , -0.75, -0.5 , -0.25,  0.  ,  0.25,  0.5 ,  0.75,\n",
       "         1.  ,  1.25,  1.5 ,  1.75,  2.  ,  2.25]),\n",
       " <BarContainer object of 14 artists>)"
      ]
     },
     "execution_count": 436,
     "metadata": {},
     "output_type": "execute_result"
    },
    {
     "data": {
      "image/png": "[encoded data removed]",
      "text/plain": [
       "<Figure size 432x288 with 1 Axes>"
      ]
     },
     "metadata": {
      "needs_background": "light"
     },
     "output_type": "display_data"
    }
   ],
   "source": [
    "bins = [-1.25]\n",
    "for i in range(14):\n",
    "    bins.append(bins[-1]+0.25)\n",
    "    \n",
    "plt.hist(local_ratio_list,bins=bins)"
   ]
  },
  {
   "cell_type": "markdown",
   "metadata": {},
   "source": [
    "# K means clustering based on the original features"
   ]
  },
  {
   "cell_type": "code",
   "execution_count": 437,
   "metadata": {},
   "outputs": [],
   "source": [
    "kmeans = KMeans(\n",
    "    init=\"random\",\n",
    "    n_clusters=5,\n",
    "    n_init=10,\n",
    "    max_iter=300,\n",
    "    random_state=42\n",
    ")\n"
   ]
  },
  {
   "cell_type": "code",
   "execution_count": 438,
   "metadata": {},
   "outputs": [
    {
     "data": {
      "text/plain": [
       "KMeans(init='random', n_clusters=5, random_state=42)"
      ]
     },
     "execution_count": 438,
     "metadata": {},
     "output_type": "execute_result"
    }
   ],
   "source": [
    "kmeans.fit(global_cost_list)"
   ]
  },
  {
   "cell_type": "code",
   "execution_count": 439,
   "metadata": {},
   "outputs": [],
   "source": [
    "color_labels = kmeans.labels_"
   ]
  },
  {
   "cell_type": "code",
   "execution_count": 440,
   "metadata": {},
   "outputs": [
    {
     "data": {
      "text/plain": [
       "<matplotlib.collections.PathCollection at 0x7fcc6c74f9a0>"
      ]
     },
     "execution_count": 440,
     "metadata": {},
     "output_type": "execute_result"
    },
    {
     "data": {
      "image/png": "[encoded data removed]",
      "text/plain": [
       "<Figure size 432x288 with 1 Axes>"
      ]
     },
     "metadata": {
      "needs_background": "light"
     },
     "output_type": "display_data"
    }
   ],
   "source": [
    "color = [(0.5,0.5,0.5),(1,0,0),(0,1,0),(0,0,1),(0,0,0)]\n",
    "color_list = []\n",
    "for ind in range(len(global_cost_list)):\n",
    "    color_list.append(color[color_labels[ind]])\n",
    "    \n",
    "plt.scatter(global_time_normalized, global_risk_normalized,c=color_list)\n",
    "#plt.show()"
   ]
  },
  {
   "cell_type": "code",
   "execution_count": 460,
   "metadata": {},
   "outputs": [
    {
     "data": {
      "text/plain": [
       "array([3, 3, 0, 0, 0, 0, 0, 3, 3, 3, 0, 1, 1, 0, 3, 3, 0, 0, 0, 0, 0, 3,\n",
       "       0, 0, 0, 3, 0, 0, 0, 0, 0, 0, 0, 0, 0, 1, 1, 1, 0, 0, 0, 0, 0, 0,\n",
       "       0, 0, 0, 0, 0, 3, 3, 0, 0, 0, 0, 0, 0, 0, 3, 0, 3, 0, 3, 3, 3, 3,\n",
       "       3, 3, 0, 0, 0, 0, 0, 0, 3, 3, 0, 0, 0, 0, 0, 0, 0, 0, 0, 0, 0, 3,\n",
       "       0, 3, 0, 0, 0, 0, 0, 0, 0, 0, 0, 0, 0, 0, 0, 0, 0, 0, 0, 0, 0, 0,\n",
       "       0, 0, 0, 0, 0, 0, 0, 0, 0, 0, 0, 0, 0, 0, 0, 0, 0, 0, 0, 0, 0, 0,\n",
       "       0, 0, 0, 0, 0, 0, 0, 0, 0, 0, 0, 0, 0, 0, 0, 0, 0, 0, 0, 0, 0, 0,\n",
       "       0, 0, 0, 0, 3, 0, 0, 0, 3, 3, 0, 0, 3, 0, 0, 1, 0, 1, 3, 3, 0, 0,\n",
       "       3, 3, 3, 3, 1, 1, 3, 1, 3, 3, 3, 3, 3, 3, 3, 3, 3, 3, 3, 3, 3, 3,\n",
       "       3, 3, 3, 2, 3, 2, 0, 2, 3, 3, 0, 0, 0, 2, 2, 0, 2, 2, 3, 2, 2, 2,\n",
       "       2, 2, 2, 2, 2, 2, 3, 2, 2, 2, 2, 2, 2, 2, 0, 2, 2, 2, 2, 2, 2, 2,\n",
       "       2, 2, 2, 2, 2, 2, 2, 2, 2, 2, 2, 2, 2, 2, 2, 2, 0, 0, 0, 0, 0, 0,\n",
       "       0, 0, 0, 0, 0, 0, 0, 0, 0, 0, 0, 0, 0, 0, 0, 0, 0, 0, 0, 0, 0, 0,\n",
       "       0, 0, 0, 0, 0, 0, 2, 0, 2, 0, 0, 0, 0, 0, 2, 0, 2, 2, 2, 0, 2, 2,\n",
       "       0, 2, 2, 0, 0, 2, 0, 2, 2, 0, 0, 2, 0, 2, 0, 2, 2, 0, 0, 2, 2, 2,\n",
       "       2, 2, 2, 0, 2, 2, 0, 2, 0, 0, 0, 0, 2, 2, 2, 2, 2, 2, 2, 2, 2, 2,\n",
       "       2, 2, 2, 2, 2, 0, 2, 2, 2, 2, 0, 2, 2, 2, 2, 2, 2, 2, 2, 2, 2, 2,\n",
       "       2, 2, 2, 2, 2, 2, 2, 2, 2, 2, 2, 2, 2, 2, 2, 2, 2, 2, 2, 2, 2, 2,\n",
       "       2, 2, 2, 2, 2, 2, 2, 2, 2, 2, 4, 4, 4, 4, 2, 2, 2, 2, 2, 4, 4, 2,\n",
       "       2, 2, 2, 2, 2, 4, 2, 2, 2, 2, 2, 2, 2, 2, 4, 2, 2, 2, 4, 2, 2, 2,\n",
       "       2, 4, 4, 2, 2, 2, 2, 2, 4, 2, 4, 2, 2, 2, 4, 2, 2, 2, 4, 2, 2, 2,\n",
       "       2, 2, 2, 2, 4, 2, 2, 2, 2, 2, 2, 2, 2, 2, 4, 4, 2, 2, 2, 4, 2, 2,\n",
       "       2, 2, 2, 2, 4, 2, 2, 2, 2, 2, 2, 2, 2, 2, 2, 2], dtype=int32)"
      ]
     },
     "execution_count": 460,
     "metadata": {},
     "output_type": "execute_result"
    }
   ],
   "source": [
    "color_labels"
   ]
  },
  {
   "cell_type": "markdown",
   "metadata": {},
   "source": [
    "# PageRank Implementation"
   ]
  },
  {
   "cell_type": "code",
   "execution_count": 441,
   "metadata": {},
   "outputs": [
    {
     "name": "stdout",
     "output_type": "stream",
     "text": [
      "{('1665118', '1665116'): '4843594', ('1665116', '1665118'): '4822208', ('1667021', '1667020'): '4845785', ('1667020', '1667021'): '4824399', ('1662942', '1662961'): '4841477', ('1662961', '1662942'): '4820091', ('1667085', '1666947'): '4848810', ('1666947', '1667085'): '4827425', ('1662308', '1662230'): '4840888', ('1662230', '1662308'): '4819502', ('1662155', '1662074'): '4830446', ('1662074', '1662155'): '4851831', ('2290840', '2290839'): '5488967', ('2290839', '2290840'): '5488968', ('1663866', '2020753'): '5077172', ('2020753', '1663866'): '5077173', ('2012370', '2012373'): '5038732', ('2012373', '2012370'): '5038733', ('1666025', '1665735'): '4850758', ('1665735', '1666025'): '4829373', ('2312958', '2182350'): '5516766', ('1666923', '1667020'): '4845784', ('1667020', '1666923'): '4824398', ('1662121', '1662120'): '4829548', ('1662120', '1662121'): '4850933', ('2020744', '1662942'): '5077161', ('1662942', '2020744'): '5077160', ('1662066', '1661965'): '4819324', ('1661965', '1662066'): '4840710', ('1666044', '1665971'): '4850757', ('1665971', '1666044'): '4829372', ('1663830', '1663866'): '4821041', ('1663866', '1663830'): '4842427', ('2005037', '2005036'): '5016037', ('2005036', '2005037'): '5016038', ('1663837', '1663793'): '4820996', ('1663837', '2020747'): '5077167', ('1663793', '1663837'): '4842382', ('2020747', '1663837'): '5077166', ('1661719', '1661614'): '4851998', ('1661614', '1661719'): '4830613', ('1662165', '1662093'): '4840761', ('1662093', '1662165'): '4819375', ('1661904', '1661851'): '4819186', ('1661851', '1661904'): '4840572', ('1663438', '1663361'): '4820548', ('1663361', '1663438'): '4841934', ('1663345', '1663358'): '5314261', ('1662806', '1662764'): '4819934', ('1662764', '1662806'): '4841320', ('2182353', '2314836'): '5519747', ('2156741', '2120494'): '5285782', ('2120494', '2156741'): '5285781', ('1666385', '1666386'): '4845118', ('1666386', '1666385'): '4823732', ('2011688', '2011693'): '5036643', ('2011693', '2011688'): '5036642', ('1663374', '1663361'): '4841866', ('1663374', '1663344'): '4841867', ('1663361', '1663374'): '4820480', ('1663344', '1663374'): '4820481', ('1664148', '1664128'): '4842734', ('1664128', '1664148'): '4821348', ('1661878', '1661882'): '5253199', ('1661882', '1661878'): '5253200', ('1664253', '1664483'): '4850751', ('1664483', '1664253'): '4829366', ('1664738', '1664487'): '4843236', ('1664487', '1664738'): '4821850', ('2304262', '1666737'): '5505136', ('1666737', '2304262'): '5505137', ('2011687', '2011693'): '5036637', ('2011693', '2011687'): '5036636', ('1679458', '1679452'): '4884691', ('1679452', '1679458'): '4884692', ('1662083', '1662121'): '4850932', ('1662121', '1662083'): '4829547', ('1668439', '2204585'): '5355395', ('2204585', '1668439'): '5355394', ('2115078', '2120494'): '5238472', ('2120494', '2115078'): '5238473', ('2304256', '2304257'): '5505125', ('2304257', '2304256'): '5505126', ('1662826', '1662902'): '5036715', ('1662902', '1662826'): '5036714', ('1662975', '1663086'): '4841538', ('1663086', '1662975'): '4820152', ('1662899', '1662902'): '4841417', ('1662902', '1662899'): '4820031', ('1664479', '1664483'): '4885643', ('1664483', '1664479'): '4885644', ('1662181', '1662206'): '4840794', ('1662206', '1662181'): '4819408', ('1662403', '1662400'): '4829347', ('1662400', '1662403'): '4850732', ('1666506', '1666587'): '4845308', ('1666506', '2156912'): '5486465', ('1666587', '1666506'): '4823922', ('2156912', '1666506'): '5486466', ('1667658', '1667711'): '4825113', ('1667711', '1667658'): '4846499', ('2312125', '2182701'): '5515770', ('2020314', '1666044'): '5061076', ('1666044', '2020314'): '5061075', ('1662901', '1662899'): '4841420', ('1662899', '1662901'): '4820034', ('1662372', '1662357'): '4830487', ('1662357', '1662372'): '4851872', ('2176384', '2290840'): '5488965', ('2290881', '2176384'): '5488970', ('1677463', '1677466'): '4876950', ('1677466', '1677463'): '4876951', ('2023866', '2023865'): '5091577', ('2023866', '1666506'): '5091573', ('2023865', '2023866'): '5091576', ('1666506', '2023866'): '5091574', ('1664165', '1664051'): '4842760', ('1664051', '1664165'): '4821374', ('1666858', '1666684'): '4845635', ('1666858', '1666865'): '4824262', ('1666684', '1666858'): '4824249', ('1666865', '1666858'): '4845648', ('1662506', '1662465'): '4841020', ('1662465', '1662506'): '4819634', ('2005019', '2005020'): '5015981', ('2005020', '2005019'): '5015982', ('1666844', '1666865'): '4845647', ('1666865', '1666844'): '4824261', ('1663401', '10691'): '5314202', ('10691', '1663401'): '5314201', ('1662019', '1662023'): '4840615', ('1662019', '1661927'): '4819224', ('1662023', '1662019'): '4819229', ('1661927', '1662019'): '4840610', ('1661838', '1661851'): '4840548', ('1661838', '1661802'): '4828125', ('1661851', '1661838'): '4819162', ('1661802', '1661838'): '4849510', ('1662382', '1662386'): '4840910', ('1662386', '1662382'): '4819524', ('1664126', '1664064'): '4842709', ('1664126', '1664114'): '4821324', ('1664064', '1664126'): '4821323', ('1664114', '1664126'): '4842710', ('1667108', '1666587'): '4824526', ('1666587', '1667108'): '4845912', ('1665113', '1665116'): '5509007', ('1665116', '1665113'): '5509008', ('1665671', '1665735'): '4844282', ('1665735', '1665671'): '4822896', ('1663581', '1663444'): '4820724', ('1663444', '1663581'): '4842110', ('10464', '2026299'): '5098703', ('2026299', '10464'): '5098706', ('1666511', '1666588'): '4845303', ('1666588', '1666511'): '4823917', ('1664290', '1664355'): '4842914', ('1664290', '1664248'): '4821467', ('1664355', '1664290'): '4821528', ('1664248', '1664290'): '4842853', ('2041457', '2041456'): '5133011', ('2041456', '2041457'): '5133010', ('1666473', '1666471'): '4823739', ('1666471', '1666473'): '4845125', ('1663729', '1663851'): '4821010', ('1663729', '1663759'): '4820899', ('1663851', '1663729'): '4842396', ('1663759', '1663729'): '4842285', ('2067156', '1663973'): '5168289', ('1663973', '2067156'): '5168288', ('1664237', '1664148'): '4821413', ('1664148', '1664237'): '4842799', ('2034247', '1662946'): '5120285', ('1662276', '1679737'): '5064820', ('1679737', '1662276'): '5064819', ('2304296', '1667108'): '5505188', ('1667108', '2304296'): '5505185', ('1663647', '1663793'): '4842321', ('1663793', '1663647'): '4820935', ('1667098', '1667097'): '4824542', ('1667098', '1667100'): '4845937', ('1667097', '1667098'): '4845928', ('1667100', '1667098'): '4824551', ('1662374', '1662375'): '4851820', ('1662374', '1662365'): '4830432', ('1662375', '1662374'): '4830435', ('1662365', '1662374'): '4851817', ('2026275', '2312960'): '5516779', ('2312961', '2026275'): '5516782', ('1664486', '1664294'): '4821638', ('1664486', '2332124'): '5559529', ('1664294', '1664486'): '4843024', ('2332124', '1664486'): '5559532', ('1663949', '1663998'): '4842574', ('1663949', '1663926'): '4821128', ('1663998', '1663949'): '4821188', ('1663926', '1663949'): '4842514', ('1666026', '1666025'): '4829387', ('1666026', '1666044'): '4850771', ('1666026', '1666165'): '4829396', ('1666025', '1666026'): '4850772', ('1666044', '1666026'): '4829386', ('1666165', '1666026'): '4850781', ('1663010', '1662961'): '4820139', ('1662961', '1663010'): '4841525', ('2176544', '1663087'): '5314617', ('2176544', '15381'): '5314757', ('2176642', '2176544'): '5314731', ('15381', '2176544'): '5314545', ('1662381', '1662826'): '4819948', ('1662381', '1662382'): '4840909', ('1662826', '1662381'): '4841334', ('1662382', '1662381'): '4819523', ('2270162', '2270164'): '5445987', ('2270164', '2270162'): '5445988', ('2180748', '2180750'): '5321342', ('2026279', '2180748'): '5321339', ('1662735', '1662731'): '4819855', ('1662731', '1662735'): '4841241', ('1662964', '1662902'): '4820083', ('1662964', '1663180'): '4841661', ('1662902', '1662964'): '4841469', ('1663180', '1662964'): '4820275', ('1663265', '1663086'): '4848838', ('1663086', '1663265'): '4827453', ('1663464', '10668'): '5314158', ('10668', '1663464'): '5314157', ('1662957', '1662942'): '4841472', ('1662942', '1662957'): '4820086', ('2012374', '2012370'): '5038737', ('2012370', '2012374'): '5038736', ('2008365', '1661802'): '5027988', ('1661802', '2008365'): '5027989', ('2113314', '2023865'): '5237343', ('2023865', '2113314'): '5237342', ('1662091', '1662036'): '4819311', ('1662091', '1662141'): '4840736', ('1662036', '1662091'): '4819304', ('1662141', '1662091'): '4819350', ('1661556', '2156821'): '5285897', ('2156821', '1661556'): '5285900', ('2252501', '1662093'): '5422278', ('1662093', '2252501'): '5422279', ('2180634', '2026268'): '5455082', ('2312960', '2026268'): '5516780', ('1662113', '1662141'): '4840737', ('1662141', '1662113'): '4819351', ('1662399', '1662465'): '4819598', ('1662465', '1662399'): '4840984', ('1662561', '1662625'): '4829760', ('1662625', '1662561'): '4851145', ('1667498', '1667493'): '4824866', ('1667498', '1666473'): '4846249', ('1667493', '1667498'): '4846252', ('1666473', '1667498'): '4824863', ('1667174', '1667145'): '4824609', ('1667174', '1667238'): '4846063', ('1667145', '1667174'): '4845995', ('1667238', '1667174'): '4824677', ('1661744', '10464'): '4840523', ('10464', '1661744'): '4819137', ('2243561', '2212302'): '5422170', ('2212302', '2243561'): '5422169', ('1662816', '1662752'): '4841348', ('1662752', '1662816'): '4819962', ('1663293', '1663344'): '4830635', ('1663293', '1663207'): '4849538', ('1663344', '1663293'): '4852020', ('1663207', '1663293'): '4828153', ('1662208', '1662155'): '4830444', ('1662155', '1662208'): '4851829', ('1663319', '15381'): '4820427', ('1663319', '1663314'): '4841812', ('15381', '1663319'): '4841813', ('1663314', '1663319'): '4820426', ('2023840', '2023839'): '5091499', ('2023839', '2023840'): '5091498', ('1663450', '1663444'): '4820567', ('1663450', '1663452'): '4841963', ('1663444', '1663450'): '4841953', ('1663452', '1663450'): '4820577', ('1662320', '1662351'): '4840864', ('1662351', '1662320'): '4819478', ('1664482', '1664355'): '4821664', ('1664355', '1664482'): '4843050', ('2041455', '2120534'): '5238512', ('2041455', '2041456'): '5133008', ('2120534', '2041455'): '5238513', ('2041456', '2041455'): '5133009', ('1663218', '1663299'): '4820407', ('1663299', '1663218'): '4841793', ('1662003', '1662217'): '5064925', ('1662217', '1662003'): '5064926', ('1677464', '1677463'): '4876949', ('1677464', '2023866'): '5091572', ('1677463', '1677464'): '4876948', ('2023866', '1677464'): '5091575', ('2005041', '2005040'): '5016046', ('2005040', '2005041'): '5016045', ('2010162', '1666589'): '5032285', ('1666589', '2010162'): '5032286', ('1679719', '15381'): '4885655', ('15381', '1679719'): '4885656', ('1662440', '1662429'): '4840973', ('1662429', '1662440'): '4819587', ('2304261', '2304257'): '5505134', ('2304257', '2304261'): '5505133', ('1662463', '1662357'): '4851869', ('1662463', '1679706'): '5063950', ('1662357', '1662463'): '4830484', ('1679706', '1662463'): '5063951', ('1661973', '2270162'): '5445981', ('1661973', '1679441'): '4884625', ('2270162', '1661973'): '5445984', ('1679441', '1661973'): '4884626', ('1662430', '2216703'): '5372925', ('2216703', '1662430'): '5372926', ('1663815', '1663837'): '4821018', ('1663837', '1663815'): '4842404', ('2036953', '1662440'): '5125997', ('1662440', '2036953'): '5125996', ('1661869', '1661868'): '4819132', ('1661868', '1661869'): '4840518', ('1662967', '1662943'): '4841482', ('1662967', '1662957'): '4841481', ('1662943', '1662967'): '4820096', ('1662957', '1662967'): '4820095', ('1667663', '1667544'): '4858385', ('1667663', '1667658'): '4825060', ('1667544', '1667663'): '4837002', ('1667658', '1667663'): '4846446', ('1663836', '1663888'): '4842405', ('1663836', '1663794'): '4820937', ('1663888', '1663836'): '4821019', ('1663794', '1663836'): '4842323', ('2296035', '1663189'): '4830394', ('1663189', '2296035'): '4851779', ('1665861', '1663992'): '4823014', ('1663992', '1665861'): '4844400', ('1664174', '1664167'): '4821316', ('1664174', '1663901'): '4848922', ('1664174', '1664709'): '4821772', ('1664167', '1664174'): '4842702', ('1663901', '1664174'): '4827537', ('1664709', '1664174'): '4843158', ('2049155', '2012373'): '5143285', ('2012373', '2049155'): '5143284', ('1662459', '1662503'): '4840996', ('1662503', '1662459'): '4819610', ('1667880', '1667877'): '4850803', ('1667880', '2023835'): '5091482', ('1667877', '1667880'): '4829418', ('2023835', '1667880'): '5091485', ('1679454', '1679455'): '4884699', ('1679454', '1679452'): '4884698', ('1679454', '2023839'): '5099316', ('1679455', '1679454'): '4884700', ('1679452', '1679454'): '4884697', ('2023839', '1679454'): '5099317', ('1662321', '1662235'): '4850819', ('1662235', '1662321'): '4829434', ('2156702', '2114975'): '5297658', ('2114975', '2156702'): '5297657', ('1667771', '1667783'): '4848809', ('1667783', '1667771'): '4827424', ('1662721', '1662764'): '4841254', ('1662721', '1679460'): '4884707', ('1662764', '1662721'): '4819868', ('1679460', '1662721'): '4884709', ('1676929', '1666473'): '4874602', ('1666473', '1676929'): '4874603', ('1662486', '1662440'): '4841002', ('1662440', '1662486'): '4819616', ('2180748', '2312956'): '5516761', ('2041354', '2041417'): '5132961', ('2041417', '2041354'): '5132960', ('1663139', '1663144'): '4841637', ('1663144', '1663139'): '4820251', ('1662290', '1661878'): '5253201', ('1661878', '1662290'): '5253202', ('1662303', '1662429'): '4829751', ('1662303', '1662217'): '4840893', ('1662303', '1662282'): '5064444', ('1662429', '1662303'): '4851136', ('1662217', '1662303'): '4819507', ('1662282', '1662303'): '5064445', ('1662591', '1662604'): '4841128', ('1662604', '1662591'): '4819742', ('1667291', '1667771'): '4846578', ('1667771', '1667291'): '4825192', ('1663549', '1664167'): '4842699', ('1663549', '1663992'): '4821112', ('1663549', '1662365'): '4820593', ('1664167', '1663549'): '4821313', ('1663992', '1663549'): '4842498', ('1662365', '1663549'): '4841979', ('1666593', '1666587'): '5188635', ('1666587', '1666593'): '5188634', ('1663366', '1663921'): '4842440', ('1663366', '10668'): '4820419', ('1663921', '1663366'): '4821054', ('10668', '1663366'): '4841805', ('1679415', '2131984'): '5259597', ('2131984', '1679415'): '5259598', ('1661880', '1661869'): '4819136', ('1661869', '1661880'): '4840522', ('2011681', '2011688'): '5036610', ('2011681', '2011682'): '5036592', ('2011688', '2011681'): '5036611', ('2011682', '2011681'): '5036593', ('2304315', '2304296'): '5505204', ('2304315', '1667202'): '5505202', ('2304296', '2304315'): '5505201', ('1667202', '2304315'): '5505203', ('1663439', '1663438'): '4820551', ('1663438', '1663439'): '4841937', ('1662075', '1662154'): '4840750', ('1662154', '1662075'): '4819364', ('2176406', '1663327'): '5314295', ('2272850', '2272854'): '5449882', ('2272850', '2252501'): '5453398', ('2272854', '2272850'): '5449883', ('2252501', '2272850'): '5453397', ('1661974', '2036956'): '5126005', ('2036956', '1661974'): '5126004', ('1664563', '2307115'): '5509101', ('2307115', '1664563'): '5509100', ('1677462', '1677461'): '4876939', ('1677462', '1677463'): '4876944', ('1677461', '1677462'): '4876938', ('1677463', '1677462'): '4876945', ('1663507', '1663422'): '4820608', ('1663507', '1663590'): '5139946', ('1663422', '1663507'): '4841994', ('1663590', '1663507'): '5139947', ('2115036', '2114975'): '5230179', ('2115036', '2156741'): '5297661', ('2115036', '2115078'): '5230222', ('2114975', '2115036'): '5230178', ('2156741', '2115036'): '5297662', ('2115078', '2115036'): '5230223', ('2058074', '2041417'): '5155065', ('2058074', '2058076'): '5154971', ('2041417', '2058074'): '5155064', ('2058076', '2058074'): '5154970', ('1667532', '1667533'): '4824944', ('1667533', '1667532'): '4846330', ('1667595', '1667658'): '4825051', ('1667658', '1667595'): '4846437', ('1665551', '1666471'): '4848828', ('1666471', '1665551'): '4827443', ('1661949', '1662145'): '4819371', ('1662145', '1661949'): '4840757', ('1667823', '1667876'): '4846682', ('1667876', '1667823'): '4825296', ('2176609', '2176642'): '5314701', ('1662159', '1662200'): '4850741', ('1662159', '1679441'): '4884628', ('1662200', '1662159'): '4829356', ('1679441', '1662159'): '4884627', ('1668391', '1668383'): '4830818', ('1668383', '1668391'): '4852203', ('2026279', '2026280'): '5321324', ('1661551', '1661558'): '5571522', ('1661558', '1661551'): '5571521', ('1665543', '1665455'): '4851789', ('1665543', '1665448'): '4830412', ('1665455', '1665543'): '4830404', ('1665448', '1665543'): '4851797', ('2180752', '2182350'): '5098692', ('2180752', '1662357'): '5098694', ('2182350', '2180752'): '5098693', ('1662357', '2180752'): '5098691', ('2312956', '2180752'): '5516762', ('1663498', '1663510'): '4841997', ('1663498', '1663563'): '4842063', ('1663498', '1663507'): '4820609', ('1663510', '1663498'): '4820611', ('1663563', '1663498'): '4820677', ('1663507', '1663498'): '4841995', ('1664144', '1664197'): '4829984', ('1664144', '1663870'): '4849523', ('1664197', '1664144'): '4851369', ('1663870', '1664144'): '4828138', ('1663860', '1663836'): '4821070', ('1663860', '2046877'): '5140203', ('1663836', '1663860'): '4842456', ('2046877', '1663860'): '5140202', ('1661993', '1662036'): '4840626', ('1661993', '1662113'): '4840711', ('1662036', '1661993'): '4819240', ('1662113', '1661993'): '4819325', ('1663377', '1663299'): '4841874', ('1663377', '1663452'): '4820578', ('1663299', '1663377'): '4820488', ('1663452', '1663377'): '4841964', ('2304217', '1665113'): '5505088', ('1665113', '2304217'): '5505085', ('1661836', '1661774'): '4819111', ('1661774', '1661836'): '4840497', ('2215504', '2270201'): '5450317', ('2215504', '2215505'): '5371249', ('2270201', '2215504'): '5450318', ('2215505', '2215504'): '5371250', ('1668444', '1668168'): '4857235', ('1668168', '1668444'): '4835851', ('2008368', '2008372'): '5028006', ('2008372', '2008368'): '5028007', ('1662431', '1662421'): '4849550', ('1662421', '1662431'): '4828165', ('1661670', '1661668'): '4830618', ('1661670', '1661614'): '4830614', ('1661670', '1661719'): '4849500', ('1661668', '1661670'): '4852003', ('1661614', '1661670'): '4851999', ('1661719', '1661670'): '4828115', ('1662458', '1662513'): '4858423', ('1662513', '1662458'): '4837040', ('2005033', '2005036'): '5016036', ('2005033', '2005032'): '5016024', ('2005036', '2005033'): '5016035', ('2005032', '2005033'): '5016023', ('2005123', '1679737'): '5016352', ('2005123', '2005118'): '5016353', ('1679737', '2005123'): '5016349', ('2005118', '2005123'): '5016354', ('1662246', '1662270'): '4840843', ('1662270', '1662246'): '4819457', ('1667517', '2042887'): '5134898', ('2042887', '1667517'): '5134897', ('1679440', '1679441'): '4884630', ('1679441', '1679440'): '4884629', ('1663292', '1663293'): '4820405', ('1663293', '1663292'): '4841791', ('1661984', '1661974'): '4840637', ('1661974', '1661984'): '4819251', ('1663229', '1663314'): '4841809', ('1663314', '1663229'): '4820423', ('1663775', '1663590'): '4851157', ('1663775', '1663844'): '4829773', ('1663775', '1663770'): '4851159', ('1663590', '1663775'): '4829772', ('1663844', '1663775'): '4851158', ('1663770', '1663775'): '4829774', ('1661697', '1661723'): '4840400', ('1661723', '1661697'): '4819014', ('1662177', '1662120'): '4829551', ('1662120', '1662177'): '4850936', ('2136381', '2136382'): '5259561', ('2136382', '2136381'): '5259562', ('1668103', '1667876'): '4846881', ('1667876', '1668103'): '4825495', ('1664156', '1663981'): '4828132', ('1663981', '1664156'): '4849517', ('2011346', '1663401'): '5035655', ('1663401', '2011346'): '5035654', ('1662042', '1662040'): '4840685', ('1662040', '1662042'): '4819299', ('1663873', '1663570'): '4842446', ('1663570', '1663873'): '4821060', ('1662749', '1662738'): '4841260', ('1662738', '1662749'): '4819874', ('1662914', '1662961'): '4841476', ('1662961', '1662914'): '4820090', ('1663320', '2176384'): '5314277', ('2290839', '1663320'): '5488964', ('2176384', '1663320'): '5314278', ('1665741', '1665671'): '4844307', ('1665671', '1665741'): '4822921', ('1662563', '1662625'): '4819744', ('1662563', '1662506'): '4841080', ('1662625', '1662563'): '4841130', ('1662506', '1662563'): '4819694', ('2182528', '2182527'): '5550981', ('1662922', '1662971'): '4830475', ('1662922', '1662914'): '4841443', ('1662971', '1662922'): '4851860', ('1662914', '1662922'): '4820057', ('1666509', '1666684'): '4824078', ('1666509', '1666511'): '4876809', ('1666684', '1666509'): '4845464', ('1666511', '1666509'): '4876808', ('2129741', '2156763'): '5297664', ('2129741', '2120534'): '5259182', ('2129741', '2129941'): '5250457', ('2156763', '2129741'): '5297665', ('2120534', '2129741'): '5259181', ('2129941', '2129741'): '5250458', ('1662167', '1662200'): '4850744', ('1662200', '1662167'): '4829359', ('1662220', '1662217'): '4819452', ('1662217', '1662220'): '4840838', ('1663291', '1663292'): '4820404', ('1663292', '1663291'): '4841790', ('1665652', '1679415'): '5260981', ('1679415', '1665652'): '5260982', ('1662000', '1661984'): '4819271', ('1661984', '1662000'): '4840657', ('1663719', '1663921'): '5064636', ('1663921', '1663719'): '5064635', ('1664021', '1663973'): '4842609', ('1663973', '1664021'): '4821223', ('2212303', '2212302'): '5366462', ('2212303', '2243561'): '5422167', ('2212302', '2212303'): '5366461', ('2243561', '2212303'): '5422168', ('2034269', '1679706'): '5120289', ('1679706', '2034269'): '5120290', ('1662129', '1662039'): '4819339', ('1662039', '1662129'): '4840725', ('1664052', '1663998'): '4829779', ('1663998', '1664052'): '4851164', ('2116934', '1666385'): '5232817', ('1666385', '2116934'): '5232818', ('1661725', '1661700'): '4828114', ('1661725', '1661719'): '4849498', ('1661700', '1661725'): '4849499', ('1661719', '1661725'): '4828113', ('2270241', '2204585'): '5446078', ('2204585', '2270241'): '5446079', ('1664213', '1663583'): '4849520', ('1664213', '1664144'): '4849518', ('1663583', '1664213'): '4828135', ('1664144', '1664213'): '4828133', ('2024139', '2132724'): '5256998', ('2132724', '2024139'): '5256997', ('2129751', '2120534'): '5259184', ('2129751', '2129941'): '5250437', ('2120534', '2129751'): '5259183', ('2129941', '2129751'): '5250438', ('1666414', '1666324'): '4845107', ('1666414', '1666511'): '4845243', ('1666324', '1666414'): '4823721', ('1666511', '1666414'): '4823857', ('2005021', '2005019'): '5015984', ('2005019', '2005021'): '5015983', ('1668393', '1667493'): '4847092', ('1668393', '1668266'): '4827439', ('1668393', '1669042'): '4852428', ('1667493', '1668393'): '4825707', ('1668266', '1668393'): '4848824', ('1669042', '1668393'): '4831043', ('1662179', '1662181'): '4840769', ('1662179', '1662117'): '4819380', ('1662181', '1662179'): '4819383', ('1662117', '1662179'): '4840766', ('2204544', '1666506'): '5355366', ('1666506', '2204544'): '5355363', ('1663227', '1663229'): '4820336', ('1663229', '1663227'): '4841722', ('1662016', '1662068'): '4840683', ('1662068', '1662016'): '4819297', ('1668018', '1668168'): '4829413', ('1668018', '2023836'): '5099314', ('1668018', '1667880'): '4850804', ('1668168', '1668018'): '4850798', ('2023836', '1668018'): '5099315', ('1667880', '1668018'): '4829419', ('1662813', '1662887'): '4820033', ('1662813', '1662751'): '5064246', ('1662887', '1662813'): '4841419', ('1662751', '1662813'): '5064245', ('1663579', '1663581'): '4842109', ('1663581', '1663579'): '4820723', ('1662239', '1662208'): '4819437', ('1662208', '1662239'): '4840823', ('1664473', '1664479'): '4885641', ('1664479', '1664473'): '4885642', ('1662555', '1662351'): '4841026', ('1662351', '1662555'): '4819640', ('2016722', '1661966'): '5049329', ('1661966', '2016722'): '5049326', ('2046815', '1663815'): '5140125', ('1663815', '2046815'): '5140124', ('1663430', '1663374'): '4841929', ('1663374', '1663430'): '4820543', ('2005026', '2005024'): '5015998', ('2005024', '2005026'): '5015997', ('1663578', '1663577'): '4820714', ('1663578', '1663579'): '4842101', ('1663577', '1663578'): '4842100', ('1663579', '1663578'): '4820715', ('1665466', '1665472'): '4829380', ('1665472', '1665466'): '4850765', ('2013289', '1661620'): '5064876', ('1661620', '2013289'): '5064875', ('2046814', '1663964'): '5140122', ('1663964', '2046814'): '5140123', ('1664159', '1664208'): '4842782', ('1664208', '1664159'): '4821396', ('1662860', '1662899'): '4841416', ('1662899', '1662860'): '4820030', ('2180701', '2312961'): '5516781', ('2180634', '2180701'): '5321246', ('1661767', '1661704'): '4840430', ('1661704', '1661767'): '4819044', ('1664163', '1664204'): '4842783', ('1664163', '1664248'): '4842810', ('1664163', '1664126'): '4821367', ('1664204', '1664163'): '4821397', ('1664248', '1664163'): '4821424', ('1664126', '1664163'): '4842753', ('2212301', '2212302'): '5366459', ('2212301', '2156741'): '5371953', ('2212301', '2243561'): '5422171', ('2212302', '2212301'): '5366460', ('2156741', '2212301'): '5371952', ('2243561', '2212301'): '5422172', ('1662437', '1662421'): '4828166', ('1662421', '1662437'): '4849551', ('1662319', '1662276'): '4851965', ('1662276', '1662319'): '4830580', ('2005034', '2005032'): '4830574', ('2005034', '2005029'): '5016026', ('2005029', '2005034'): '5016025', ('1666726', '1666684'): '4845495', ('1666684', '1666726'): '4824109', ('1666421', '1666414'): '4845119', ('1666414', '1666421'): '4823733', ('1665120', '1665735'): '4822897', ('1665120', '1665118'): '4843598', ('1665120', '1664738'): '4843593', ('1665735', '1665120'): '4844283', ('1665118', '1665120'): '4822212', ('1664738', '1665120'): '4822207', ('1664266', '1664248'): '4821437', ('1664248', '1664266'): '4842823', ('2114954', '1661668'): '5230093', ('2114954', '2114975'): '5230114', ('1661668', '2114954'): '5230092', ('2114975', '2114954'): '5230115', ('2182348', '2312958'): '5516765', ('2182348', '2182349'): '5323330', ('1662682', '1662555'): '4841111', ('1662555', '1662682'): '4819725', ('1662187', '1662270'): '4819456', ('1662270', '1662187'): '4840842', ('2034248', '2034247'): '5120284', ('2176609', '2034248'): '5314771', ('1662710', '1662709'): '4819757', ('1662709', '1662710'): '4841143', ('1663916', '1663844'): '4842492', ('1663916', '1663949'): '4821127', ('1663916', '1664185'): '4821387', ('1663844', '1663916'): '4821106', ('1663949', '1663916'): '4842513', ('1664185', '1663916'): '4842773', ('1665614', '1665662'): '4822792', ('1665614', '1665586'): '4822730', ('1665662', '1665614'): '4844178', ('1665586', '1665614'): '4844116', ('1664069', '1664021'): '4821274', ('1664021', '1664069'): '4842660', ('1662203', '1662244'): '4850957', ('1662244', '1662203'): '4829572', ('1663605', '1663710'): '4829782', ('1663605', '2020338'): '5061131', ('1663710', '1663605'): '4851167', ('2020338', '1663605'): '5061132', ('1663216', '1663162'): '4841716', ('1663216', '1663228'): '4820349', ('1663216', '1663207'): '4820331', ('1663162', '1663216'): '4820330', ('1663228', '1663216'): '4841735', ('1663207', '1663216'): '4841717', ('1664742', '1664738'): '4843239', ('1664738', '1664742'): '4821853', ('2049156', '2012373'): '5143287', ('2012373', '2049156'): '5143286', ('1661584', '1662386'): '4837228', ('1662386', '1661584'): '4858611', ('2020754', '1663741'): '5077178', ('1663741', '2020754'): '5077179', ('1666998', '1667070'): '4824487', ('1667070', '1666998'): '4845873', ('2067158', '1662477'): '5168287', ('1662477', '2067158'): '5168286', ('2307063', '2307064'): '5509005', ('2307063', '2304217'): '5508996', ('2307064', '2307063'): '5509006', ('2304217', '2307063'): '5508995', ('1665601', '1665551'): '4844021', ('1665551', '1665601'): '4822635', ('1661200', '1661199'): '4850616', ('1661200', '1660820'): '4818580', ('1661199', '1661200'): '4829231', ('1660820', '1661200'): '4839966', ('2041314', '2034269'): '5132823', ('2034269', '2041314'): '5132822', ('2156781', '2156763'): '5285838', ('2156781', '2156821'): '5285917', ('2156763', '2156781'): '5285837', ('2156821', '2156781'): '5285918', ('1668381', '1668383'): '4830816', ('1668383', '1668381'): '4852201', ('2023863', '2023865'): '5091570', ('2023865', '2023863'): '5091571', ('1662565', '1662736'): '4819798', ('1662565', '1662555'): '4841039', ('1662736', '1662565'): '4841184', ('1662555', '1662565'): '4819653', ('1662277', '1662200'): '4829358', ('1662277', '1662400'): '4850742', ('1662200', '1662277'): '4850743', ('1662400', '1662277'): '4829357', ('1662166', '1662139'): '4840807', ('1662166', '1662220'): '4819453', ('1662139', '1662166'): '4819421', ('1662220', '1662166'): '4840839', ('1666984', '1667179'): '4829408', ('1666984', '2304262'): '4850789', ('1667179', '1666984'): '4850793', ('2304262', '1666984'): '4829404', ('2026276', '2312963'): '5516785', ('2026276', '2026275'): '5098647', ('2312962', '2026276'): '5516784', ('2026275', '2026276'): '5098646', ('2176582', '2182353'): '5540641', ('1662681', '1662604'): '4841162', ('1662681', '1662738'): '4819866', ('1662604', '1662681'): '4819776', ('1662738', '1662681'): '4841252', ('1663062', '1663086'): '4820153', ('1663062', '10668'): '4841761', ('1663086', '1663062'): '4841539', ('10668', '1663062'): '4820375', ('1662309', '1662375'): '4830434', ('1662309', '1662320'): '4840850', ('1662375', '1662309'): '4851819', ('1662320', '1662309'): '4819464', ('1662349', '2182350'): '5098600', ('1662349', '1662514'): '4819646', ('1662349', '2157102'): '5297690', ('2182350', '1662349'): '5098599', ('1662514', '1662349'): '4841032', ('2157102', '1662349'): '5297691', ('2270242', '2270244'): '5446085', ('2270242', '2270241'): '5446082', ('2270244', '2270242'): '5446086', ('2270241', '2270242'): '5446081', ('2005097', '2011693'): '5036626', ('2005097', '2005040'): '5016249', ('2011693', '2005097'): '5036627', ('2005040', '2005097'): '5016250', ('1661967', '1662159'): '4850733', ('1662159', '1661967'): '4829348', ('1663440', '1663352'): '4841941', ('1663440', '1663570'): '4820708', ('1663440', '1663439'): '4820556', ('1663352', '1663440'): '4820555', ('1663570', '1663440'): '4842094', ('1663439', '1663440'): '4841942', ('1661768', '1661878'): '4819140', ('1661768', '1661723'): '4840432', ('1661878', '1661768'): '4840526', ('1661723', '1661768'): '4819046', ('2304295', '1667108'): '5505184', ('2304295', '1667532'): '5505182', ('1667108', '2304295'): '5505183', ('1667532', '2304295'): '5505179', ('1661940', '1662068'): '4819329', ('1662068', '1661940'): '4840715', ('1664155', '1664064'): '4842748', ('1664155', '1664121'): '4842747', ('1664155', '1664199'): '4821395', ('1664064', '1664155'): '4821362', ('1664121', '1664155'): '4821361', ('1664199', '1664155'): '4842781', ('1663611', '1663439'): '5346162', ('1663611', '1663661'): '5346163', ('1663439', '1663611'): '5346161', ('1663661', '1663611'): '5346164', ('1677459', '1677461'): '4876902', ('1677461', '1677459'): '4876905', ('1664999', '1665118'): '4843595', ('1665118', '1664999'): '4822209', ('2004247', '2023852'): '5099318', ('2023852', '2004247'): '5099319', ('1663850', '1663844'): '4821016', ('1663844', '1663850'): '4842402', ('1679486', '1679484'): '5038709', ('1679486', '1661836'): '4884774', ('1679484', '1679486'): '5038710', ('1661836', '1679486'): '4884772', ('2013046', '1662463'): '5040837', ('1662463', '2013046'): '5040836', ('1663383', '1663377'): '4841877', ('1663377', '1663383'): '4820491', ('1664093', '1664159'): '4821359', ('1664159', '1664093'): '4842745', ('1664147', '1664009'): '4842730', ('1664009', '1664147'): '4821344', ('2290882', '1663345'): '5488972', ('2290882', '2290881'): '5488974', ('2290881', '2290882'): '5488973', ('1663320', '2290882'): '5488971', ('1679459', '1679455'): '4884693', ('1679459', '1679460'): '4884712', ('1679459', '1679458'): '4884715', ('1679455', '1679459'): '4884694', ('1679460', '1679459'): '4884711', ('1679458', '1679459'): '4884716', ('1664202', '1663921'): '4827449', ('1664202', '1664487'): '4843047', ('1664202', '1664609'): '4821728', ('1663921', '1664202'): '4848834', ('1664487', '1664202'): '4821661', ('1664609', '1664202'): '4843114', ('1662190', '1662078'): '4829350', ('1662190', '1662159'): '4850736', ('1662190', '1662257'): '4829352', ('1662078', '1662190'): '4850735', ('1662159', '1662190'): '4829351', ('1662257', '1662190'): '4850737', ('1664256', '1664148'): '4842813', ('1664148', '1664256'): '4821427', ('1667933', '1668044'): '4829409', ('1668044', '1667933'): '4850794', ('1666361', '1666385'): '4845115', ('1666385', '1666361'): '4823729', ('15378', '2312118'): '5515745', ('1665653', '1665543'): '4851787', ('1665653', '1677459'): '4876898', ('1665543', '1665653'): '4830402', ('1677459', '1665653'): '4876899', ('2304263', '1667179'): '4829406', ('2304263', '2304262'): '5505144', ('2304263', '1667291'): '5505146', ('1667179', '2304263'): '4850791', ('2304262', '2304263'): '5505143', ('1667291', '2304263'): '5505145', ('1662291', '1662276'): '4819483', ('1662291', '1662242'): '4840870', ('1662276', '1662291'): '4840869', ('1662242', '1662291'): '4819484', ('1662394', '1662465'): '4819599', ('1662465', '1662394'): '4840985', ('1661754', '1661704'): '4819035', ('1661754', '1661746'): '4819036', ('1661704', '1661754'): '4840421', ('1661746', '1661754'): '4840422', ('1662416', '1662303'): '4840951', ('1662416', '1662220'): '4819566', ('1662303', '1662416'): '4819565', ('1662220', '1662416'): '4840952', ('1663472', '1663577'): '4842099', ('1663472', '1663553'): '4820669', ('1663577', '1663472'): '4820713', ('1663553', '1663472'): '4842055', ('1662161', '1662165'): '4819376', ('1662161', '1662098'): '4819374', ('1662161', '1662244'): '4840826', ('1662165', '1662161'): '4840762', ('1662098', '1662161'): '4840760', ('1662244', '1662161'): '4819440', ('1664391', '1664355'): '4842942', ('1664355', '1664391'): '4821556', ('2304237', '2304235'): '5505102', ('2304235', '2304237'): '5505101', ('1662353', '2216703'): '5372931', ('1662353', '1662244'): '4819488', ('2216703', '1662353'): '5372932', ('1662244', '1662353'): '4840874', ('1662228', '1662204'): '4829566', ('1662228', '1662203'): '4850952', ('1662204', '1662228'): '4850951', ('1662203', '1662228'): '4829567', ('1663072', '1663228'): '4841734', ('1663072', '1663010'): '4820189', ('1663228', '1663072'): '4820348', ('1663010', '1663072'): '4841575', ('10695', '10691'): '4841931', ('10695', '10698'): '5314180', ('10695', '2113335'): '5260977', ('10691', '10695'): '4820545', ('10698', '10695'): '5314179', ('2113335', '10695'): '5260978', ('2180633', '2026279'): '5539665', ('2312963', '2180633'): '5516786', ('1664328', '1664255'): '4821515', ('1664328', '1664378'): '4821549', ('1664255', '1664328'): '4842901', ('1664378', '1664328'): '4842935', ('1667874', '1667931'): '4829411', ('1667874', '1667663'): '4850800', ('1667874', '1667933'): '4829416', ('1667931', '1667874'): '4850796', ('1667663', '1667874'): '4829415', ('1667933', '1667874'): '4850801', ('2182350', '2312959'): '5516767', ('2304258', '2304257'): '5505128', ('2304257', '2304258'): '5505127', ('2067159', '1662561'): '5168283', ('1662561', '2067159'): '5168282', ('1679456', '1679455'): '4884702', ('1679455', '1679456'): '4884701', ('1662070', '1662023'): '4819284', ('1662070', '1662075'): '4840677', ('1662023', '1662070'): '4840670', ('1662075', '1662070'): '4819291', ('1663516', '2296035'): '5497025', ('2296035', '1663516'): '5497026', ('1662457', '1662506'): '4819635', ('1662506', '1662457'): '4841021', ('1666688', '1667021'): '4845786', ('1666688', '1666737'): '4824124', ('1667021', '1666688'): '4824400', ('1666737', '1666688'): '4845510', ('1664761', '1664722'): '4848829', ('1664722', '1664761'): '4827444', ('2016721', '2005040'): '5049325', ('2005040', '2016721'): '5049324', ('1665133', '1665127'): '4830408', ('1665127', '1665133'): '4851793', ('1662224', '1662090'): '4840836', ('1662090', '1662224'): '4819450', ('1663652', '1663818'): '4842360', ('1663652', '1663581'): '4820791', ('1663818', '1663652'): '4820974', ('1663581', '1663652'): '4842177', ('1667300', '1667783'): '4848807', ('1667783', '1667300'): '4827422', ('1662067', '1662074'): '4830442', ('1662074', '1662067'): '4851827', ('1662088', '1662090'): '4819360', ('1662088', '1662148'): '4840777', ('1662090', '1662088'): '4840746', ('1662148', '1662088'): '4819391', ('2304297', '2304296'): '5505190', ('2304297', '2304295'): '5508882', ('2304296', '2304297'): '5505189', ('2304295', '2304297'): '5508881', ('1663823', '1663736'): '4820982', ('1663736', '1663823'): '4842368', ('1667518', '1667503'): '4846292', ('1667518', '1668213'): '4825547', ('1667518', '1667037'): '4846293', ('1667518', '1667498'): '4824908', ('1667503', '1667518'): '4824906', ('1668213', '1667518'): '4846933', ('1667037', '1667518'): '4824907', ('1667498', '1667518'): '4846294', ('2005027', '2005029'): '5016011', ('2005029', '2005027'): '5016012', ('1662536', '1662477'): '4849544', ('1662536', '1662494'): '4849547', ('1662477', '1662536'): '4828159', ('1662494', '1662536'): '4828162', ('1667144', '1666947'): '4848805', ('1667144', '1667503'): '4824879', ('1666947', '1667144'): '4827420', ('1667503', '1667144'): '4846265', ('2023810', '1666509'): '5091459', ('1666509', '2023810'): '5091460', ('2041454', '2156821'): '5285899', ('2041454', '2041455'): '5133006', ('2156821', '2041454'): '5285898', ('2041455', '2041454'): '5133007', ('2016058', '1661949'): '5450288', ('1661949', '2016058'): '5450287', ('1664271', '1664290'): '4821466', ('1664271', '1664344'): '4842911', ('1664271', '1664155'): '4842827', ('1664290', '1664271'): '4842852', ('1664344', '1664271'): '4821525', ('1664155', '1664271'): '4821441', ('2156782', '2129941'): '5297667', ('2156782', '2156781'): '5285858', ('2129941', '2156782'): '5297666', ('2156781', '2156782'): '5285857', ('1665114', '1665113'): '4822216', ('1665114', '1665127'): '4851794', ('1665113', '1665114'): '4843602', ('1665127', '1665114'): '4830409', ('2030906', '1665466'): '5571403', ('2030906', '2030908'): '5110731', ('1665466', '2030906'): '5571404', ('2030908', '2030906'): '5110732', ('2026265', '1662230'): '4829756', ('1662230', '2026265'): '4851141', ('1663106', '2046634'): '5139950', ('2046634', '1663106'): '5139951', ('2176608', '1663087'): '5314766', ('2176608', '2176609'): '5314677', ('2182527', '2176608'): '5540644', ('2290838', '2290839'): '5488963', ('1663327', '2290838'): '5488959', ('2013290', '1661558'): '4830681', ('1661558', '2013290'): '4852066', ('2005110', '2005102'): '5016296', ('2005110', '2005123'): '5016351', ('2005102', '2005110'): '5016295', ('2005123', '2005110'): '5016350', ('1665615', '1665466'): '4850766', ('1665466', '1665615'): '4829381', ('1663205', '1663207'): '4849539', ('1663207', '1663205'): '4828154', ('1667529', '1667532'): '4824943', ('1667529', '2270241'): '5446077', ('1667529', '2332015'): '5559301', ('1667532', '1667529'): '4846329', ('2270241', '1667529'): '5446080', ('2332015', '1667529'): '5559300', ('1667899', '1667771'): '4846711', ('1667899', '1668103'): '4846879', ('1667771', '1667899'): '4825325', ('1668103', '1667899'): '4825493', ('1665132', '2332125'): '5559535', ('1665132', '1677464'): '4886866', ('1665132', '1665133'): '4822233', ('2332125', '1665132'): '5559534', ('1677464', '1665132'): '4886867', ('1665133', '1665132'): '4843619', ('2299535', '1663661'): '5500202', ('1663661', '2299535'): '5500199', ('1666285', '1666324'): '4844996', ('1666324', '1666285'): '4823610', ('2272849', '1662235'): '5449874', ('1662235', '2272849'): '5449871', ('1663394', '1663401'): '5314204', ('1663394', '1663206'): '4829364', ('1663401', '1663394'): '5314203', ('1663206', '1663394'): '4850749', ('1668329', '1668636'): '4830873', ('1668636', '1668329'): '4852258', ('1665648', '1665671'): '4844202', ('1665648', '1665614'): '4822765', ('1665671', '1665648'): '4822816', ('1665614', '1665648'): '4844151', ('1666465', '1663992'): '4845126', ('1666465', '2010162'): '5032284', ('1666465', '1676929'): '4874604', ('1663992', '1666465'): '4823740', ('2010162', '1666465'): '5032287', ('1676929', '1666465'): '4874605', ('2304255', '2304256'): '5505123', ('2304255', '2136382'): '5508964', ('2304255', '2304315'): '5508961', ('2304256', '2304255'): '5505124', ('2136382', '2304255'): '5508963', ('2304315', '2304255'): '5508962', ('2023811', '2023810'): '5091463', ('2023810', '2023811'): '5091462', ('1662784', '1662813'): '4852016', ('1662813', '1662784'): '4830631', ('1668388', '1668633'): '4857389', ('1668633', '1668388'): '4836005', ('1662388', '1662386'): '4819527', ('1662388', '1662459'): '4840961', ('1662386', '1662388'): '4840913', ('1662459', '1662388'): '4819575', ('1679419', '1679415'): '5260983', ('1679415', '1679419'): '5260984', ('2005127', '2016722'): '5016379', ('2016722', '2005127'): '5016380', ('1667534', '1667533'): '4846331', ('1667533', '1667534'): '4824945', ('2304260', '2304258'): '5505132', ('2304258', '2304260'): '5505131', ('1666504', '1666295'): '4827433', ('1666504', '1666500'): '4827435', ('1666295', '1666504'): '4848818', ('1666500', '1666504'): '4848820', ('1663075', '1663632'): '4827459', ('1663632', '1663075'): '4848844', ('1665732', '1666112'): '4830397', ('1665732', '1665652'): '4830398', ('1665732', '1665615'): '4851781', ('1666112', '1665732'): '4851782', ('1665652', '1665732'): '4851783', ('1665615', '1665732'): '4830396', ('1679420', '1679419'): '4884605', ('1679419', '1679420'): '4884604', ('1663663', '1663640'): '4820802', ('1663640', '1663663'): '4842188', ('1662178', '1662177'): '4829549', ('1662178', '1662179'): '4840767', ('1662177', '1662178'): '4850934', ('1662179', '1662178'): '4819381', ('1662254', '1662224'): '4840852', ('1662224', '1662254'): '4819466', ('1664026', '1664051'): '4821268', ('1664051', '1664026'): '4842654', ('1662574', '1662411'): '4841063', ('1662411', '1662574'): '4819677', ('1667714', '1667493'): '4846457', ('1667714', '11127'): '4826251', ('1667493', '1667714'): '4825071', ('11127', '1667714'): '4847636', ('1662804', '2020745'): '5077163', ('2020745', '1662804'): '5077162', ('1665297', '1665444'): '4822529', ('1665444', '1665297'): '4843915', ('1663133', '1663162'): '4820273', ('1663162', '1663133'): '4841659', ('1668298', '1668329'): '4825671', ('1668329', '1668298'): '4847056', ('1661906', '1661908'): '4840563', ('1661908', '1661906'): '4819177', ('1662175', '1662204'): '4850945', ('1662175', '1662203'): '4850947', ('1662204', '1662175'): '4829560', ('1662203', '1662175'): '4829562', ('1663755', '1663850'): '4821017', ('1663850', '1663755'): '4842403', ('1666512', '1666025'): '4850759', ('1666512', '1666737'): '4845511', ('1666512', '1666511'): '4876806', ('1666512', '1666504'): '4827434', ('1666025', '1666512'): '4829374', ('1666737', '1666512'): '4824125', ('1666511', '1666512'): '4876807', ('1666504', '1666512'): '4848819', ('1662510', '1662514'): '4819645', ('1662514', '1662510'): '4841031', ('1662815', '1662710'): '4841311', ('1662710', '1662815'): '4819925', ('2005035', '2005036'): '5016032', ('2005035', '2005037'): '5016033', ('2005035', '2005034'): '5016028', ('2005036', '2005035'): '5016031', ('2005037', '2005035'): '5016034', ('2005034', '2005035'): '5016027', ('2082274', '2097715'): '5208048', ('2082274', '2041354'): '5190927', ('2097715', '2082274'): '5208049', ('2041354', '2082274'): '5190926', ('1662404', '1662403'): '4819537', ('1662403', '1662404'): '4840923', ('1663843', '1663903'): '4842486', ('1663843', '1663823'): '4821013', ('1663903', '1663843'): '4821100', ('1663823', '1663843'): '4842399', ('1661742', '1661725'): '4828122', ('1661725', '1661742'): '4849507', ('1663980', '1663998'): '4842575', ('1663980', '1663830'): '4821181', ('1663998', '1663980'): '4821189', ('1663830', '1663980'): '4842567', ('1662835', '1662843'): '4819977', ('1662835', '1662794'): '4841355', ('1662835', '1662914'): '4841436', ('1662843', '1662835'): '4841363', ('1662794', '1662835'): '4819969', ('1662914', '1662835'): '4820050', ('1666490', '1666494'): '4827431', ('1666490', '1666349'): '4827428', ('1666494', '1666490'): '4848816', ('1666349', '1666490'): '4848813', ('1662085', '1662139'): '4819394', ('1662085', '1662042'): '4819367', ('1662139', '1662085'): '4840780', ('1662042', '1662085'): '4840753', ('1663607', '1663611'): '4851156', ('1663611', '1663607'): '4829771', ('1665100', '1664167'): '4822138', ('1665100', '1665046'): '4850811', ('1665100', '1665551'): '4843976', ('1664167', '1665100'): '4843524', ('1665046', '1665100'): '4829426', ('1665551', '1665100'): '4822590', ('2156721', '2115078'): '5297660', ('2156721', '2156702'): '5285758', ('2115078', '2156721'): '5297659', ('2156702', '2156721'): '5285757', ('1663351', '1663361'): '4841853', ('1663351', '1663352'): '4820464', ('1663351', '1663439'): '4841936', ('1663361', '1663351'): '4820467', ('1663352', '1663351'): '4841850', ('1663439', '1663351'): '4820550', ('2020748', '1663903'): '5077168', ('1663903', '2020748'): '5077169', ('1663665', '1663510'): '4842186', ('1663665', '1663729'): '4820876', ('1663510', '1663665'): '4820800', ('1663729', '1663665'): '4842262', ('1663777', '1663830'): '4842361', ('1663777', '1663685'): '4820916', ('1663777', '1663741'): '4820915', ('1663830', '1663777'): '4820975', ('1663685', '1663777'): '4842302', ('1663741', '1663777'): '4842301', ('1662653', '1662691'): '4819764', ('1662653', '1662721'): '4841207', ('1662691', '1662653'): '4841150', ('1662721', '1662653'): '4819821', ('1664414', '1664378'): '4842955', ('1664378', '1664414'): '4821569', ('2011622', '2176384'): '5063870', ('2176384', '2011622'): '5063869', ('2026286', '1661847'): '5098668', ('1661847', '2026286'): '5098669', ('1662841', '1662887'): '5064765', ('1662887', '1662841'): '5064764', ('1668046', '1667877'): '4829414', ('1668046', '1668449'): '4835848', ('1668046', '1667933'): '4850795', ('1667877', '1668046'): '4850799', ('1668449', '1668046'): '4857232', ('1667933', '1668046'): '4829410', ('1665090', '1665091'): '4822220', ('1665091', '1665090'): '4843606', ('2204562', '2204561'): '5355382', ('2204561', '2204562'): '5355381', ('2314836', '2182518'): '5519748', ('2312118', '2182518'): '5515746', ('1662209', '1662154'): '4819410', ('1662209', '1662201'): '5313820', ('1662209', '1662225'): '5313824', ('1662154', '1662209'): '4840796', ('1662201', '1662209'): '5313819', ('1662225', '1662209'): '5313825', ('2215941', '1662201'): '5371990', ('2215941', '1662280'): '5157141', ('1662201', '2215941'): '5371989', ('1662280', '2215941'): '5157142', ('1662069', '1662066'): '4830664', ('1662069', '1662088'): '4852048', ('1662066', '1662069'): '4830665', ('1662088', '1662069'): '4830663', ('1662186', '1662090'): '4819431', ('1662186', '1662191'): '4840820', ('1662186', '1662224'): '4840835', ('1662090', '1662186'): '4840817', ('1662191', '1662186'): '4819434', ('1662224', '1662186'): '4819449', ('1662313', '1662281'): '4840861', ('1662281', '1662313'): '4819475', ('1663717', '1663710'): '4851168', ('1663717', '1663870'): '4828136', ('1663717', '2024346'): '4828130', ('1663710', '1663717'): '4829783', ('1663870', '1663717'): '4849521', ('2024346', '1663717'): '4849515', ('10523', '1662349'): '4840901', ('10523', '1662510'): '4848721', ('1662349', '10523'): '4819515', ('1662510', '10523'): '4827336', ('1663972', '1664009'): '4821207', ('1664009', '1663972'): '4842593', ('1664247', '1664237'): '4821418', ('1664237', '1664247'): '4842804', ('1662673', '1662681'): '4829752', ('1662681', '1662673'): '4851137', ('1663983', '1664078'): '4821280', ('1664078', '1663983'): '4842666', ('2132061', '2270201'): '5450319', ('2132061', '2215504'): '5371257', ('2270201', '2132061'): '5450320', ('2215504', '2132061'): '5371258', ('1662119', '1662054'): '4819322', ('1662119', '1662181'): '4840768', ('1662119', '1662117'): '4840709', ('1662119', '1662129'): '4819340', ('1662054', '1662119'): '4840708', ('1662181', '1662119'): '4819382', ('1662117', '1662119'): '4819323', ('1662129', '1662119'): '4840726', ('1663230', '1663265'): '4848839', ('1663265', '1663230'): '4827454', ('2304337', '2304338'): '5505225', ('2304337', '2304339'): '5505227', ('2304337', '1667534'): '5505224', ('2304338', '2304337'): '5505226', ('2304339', '2304337'): '5505228', ('1667534', '2304337'): '5505223', ('1662460', '1662437'): '4819603', ('1662437', '1662460'): '4840989', ('1664291', '1664237'): '4821462', ('1664237', '1664291'): '4842848', ('2082175', '2010162'): '5188627', ('2082175', '1676929'): '5188629', ('2082175', '2082176'): '5188630', ('2010162', '2082175'): '5188628', ('1676929', '2082175'): '5188626', ('2082176', '2082175'): '5188631', ('1665330', '1665091'): '4822450', ('1665091', '1665330'): '4843836', ('1662049', '1662000'): '4852044', ('1662000', '1662049'): '4830659', ('2270181', '2270164'): '5446020', ('2270164', '2270181'): '5446019', ('2046876', '1663860'): '5140209', ('1663860', '2046876'): '5140208', ('1663943', '10698'): '4842493', ('1663943', '1663938'): '4821108', ('10698', '1663943'): '4821107', ('1663938', '1663943'): '4842494', ('1662057', '1662117'): '4840706', ('1662117', '1662057'): '4819320', ('1668327', '1668231'): '4847034', ('1668231', '1668327'): '4825649', ('1662065', '1662121'): '4829546', ('1662121', '1662065'): '4850931', ('1663012', '1662909'): '4820134', ('1662909', '1663012'): '4841520', ('2011703', '2011687'): '5036686', ('2011703', '2005097'): '5036653', ('2011687', '2011703'): '5036687', ('2005097', '2011703'): '5036650', ('2046715', '1662945'): '5140022', ('1662945', '2046715'): '5140023', ('2052315', '1662075'): '5147887', ('1662075', '2052315'): '5147888', ('1666938', '1666865'): '4845730', ('1666938', '2136381'): '5259579', ('1666938', '1666998'): '4824386', ('1666865', '1666938'): '4824344', ('2136381', '1666938'): '5259580', ('1666998', '1666938'): '4845772', ('1663160', '1663227'): '4841720', ('1663160', '1663012'): '4820265', ('1663227', '1663160'): '4820334', ('1663012', '1663160'): '4841651', ('1664797', '2307115'): '5509099', ('1664797', '1664605'): '4821910', ('1664797', '2304217'): '5505087', ('2307115', '1664797'): '5509102', ('1664605', '1664797'): '4843296', ('2304217', '1664797'): '5505086', ('1662395', '1662400'): '4850739', ('1662395', '1679458'): '4884667', ('1662395', '1662257'): '4850738', ('1662400', '1662395'): '4829354', ('1679458', '1662395'): '4884668', ('1662257', '1662395'): '4829353', ('1662324', '1662314'): '4819489', ('1662324', '1662281'): '4840876', ('1662314', '1662324'): '4840875', ('1662281', '1662324'): '4819490', ('2270085', '1661973'): '5445871', ('2270085', '1661949'): '5450290', ('1661973', '2270085'): '5445872', ('1661949', '2270085'): '5450289', ('1662132', '1662074'): '4851828', ('1662132', '1662208'): '4840798', ('1662132', '2052315'): '5147886', ('1662074', '1662132'): '4830443', ('1662208', '1662132'): '4819412', ('2052315', '1662132'): '5147889', ('2312116', '2182527'): '5515742', ('1665354', '1665353'): '4830411', ('1665354', '1665455'): '4851786', ('1665354', '1665127'): '4830410', ('1665353', '1665354'): '4851796', ('1665455', '1665354'): '4830401', ('1665127', '1665354'): '4851795', ('1661794', '1661795'): '4819076', ('1661794', '1661754'): '4819073', ('1661795', '1661794'): '4840462', ('1661754', '1661794'): '4840459', ('1667028', '1667020'): '4824440', ('1667028', '1666865'): '4824445', ('1667028', '1666858'): '4845825', ('1667020', '1667028'): '4845826', ('1666865', '1667028'): '4845831', ('1666858', '1667028'): '4824439', ('1667830', '2023835'): '5091484', ('2023835', '1667830'): '5091483', ('1663687', '1663689'): '4828150', ('1663687', '1663741'): '4849533', ('1663689', '1663687'): '4849535', ('1663741', '1663687'): '4828148', ('1661977', '1661974'): '4840629', ('1661974', '1661977'): '4819243', ('1664489', '2332124'): '5559531', ('1664489', '1665133'): '4822228', ('1664489', '1663943'): '4843021', ('2332124', '1664489'): '5559530', ('1665133', '1664489'): '4843614', ('1663943', '1664489'): '4821635', ('1661942', '1661869'): '4840555', ('1661869', '1661942'): '4819169', ('1665289', '1665455'): '5061078', ('1665455', '1665289'): '5061077', ('1663143', '1663207'): '4820319', ('1663143', '1663139'): '4841641', ('1663143', '1663078'): '4841640', ('1663207', '1663143'): '4841705', ('1663139', '1663143'): '4820255', ('1663078', '1663143'): '4820254', ('1661969', '1661904'): '4819232', ('1661969', '1662042'): '4840684', ('1661969', '1662085'): '4819369', ('1661904', '1661969'): '4840618', ('1662042', '1661969'): '4819298', ('1662085', '1661969'): '4840755', ('1662466', '1662459'): '4840966', ('1662459', '1662466'): '4819580', ('2005042', '2005041'): '4830591', ('2005042', '2005039'): '5016051', ('2005041', '2005042'): '5016049', ('2005039', '2005042'): '5016052', ('2113316', '2204561'): '5355379', ('2113316', '2131984'): '5259557', ('2113316', '1679419'): '5237339', ('2204561', '2113316'): '5355378', ('2131984', '2113316'): '5259558', ('1679419', '2113316'): '5237338', ('1663587', '2046795'): '5140106', ('1663587', '1663590'): '4842119', ('2046795', '1663587'): '5140107', ('1663590', '1663587'): '4820733', ('1662538', '1662375'): '4851823', ('1662538', '1662374'): '5571434', ('1662375', '1662538'): '4830438', ('1662374', '1662538'): '5571433', ('1661834', '1661767'): '4840494', ('1661834', '1661794'): '4819106', ('1661767', '1661834'): '4819108', ('1661794', '1661834'): '4840492', ('1663203', '1663139'): '4820315', ('1663203', '1663291'): '4841785', ('1663203', '1663205'): '4849540', ('1663139', '1663203'): '4841701', ('1663291', '1663203'): '4820399', ('1663205', '1663203'): '4828155', ('2307016', '2304255'): '5508959', ('2304255', '2307016'): '5508960', ('1662933', '1662944'): '4820084', ('1662933', '1662843'): '4841461', ('1662933', '1662922'): '4841462', ('1662933', '1663090'): '4820202', ('1662944', '1662933'): '4841470', ('1662843', '1662933'): '4820075', ('1662922', '1662933'): '4820076', ('1663090', '1662933'): '4841588', ('1664301', '1664344'): '4842910', ('1664344', '1664301'): '4821524', ('2005124', '1679737'): '5016358', ('2005124', '2005118'): '5016360', ('2005124', '2016722'): '5064458', ('1679737', '2005124'): '5016355', ('2005118', '2005124'): '5016359', ('2016722', '2005124'): '5064459', ('1666480', '1666321'): '4827426', ('1666480', '1666490'): '4827429', ('1666321', '1666480'): '4848811', ('1666490', '1666480'): '4848814', ('1662734', '1662764'): '4819909', ('1662734', '1662701'): '4841227', ('1662734', '1662839'): '4819964', ('1662764', '1662734'): '4841295', ('1662701', '1662734'): '4819841', ('1662839', '1662734'): '4841350', ('1663722', '1663553'): '4842259', ('1663722', '1663843'): '4821021', ('1663553', '1663722'): '4820873', ('1663843', '1663722'): '4842407', ('1678985', '1664486'): '4885647', ('1664486', '1678985'): '4885648', ('2037747', '1662429'): '5127879', ('1662429', '2037747'): '5127880', ('2024347', '2024346'): '5093012', ('2024347', '2011622'): '5093010', ('2024346', '2024347'): '5093009', ('2011622', '2024347'): '5093011', ('2312957', '2026280'): '5516764', ('2180752', '2312957'): '5516763', ('2026332', '2312962'): '5516783', ('2026332', '2180633'): '5455081', ('1667003', '1666998'): '4845776', ('1666998', '1667003'): '4824390', ('1661825', '1661869'): '4819131', ('1661825', '1679489'): '4884791', ('1661869', '1661825'): '4840517', ('1679489', '1661825'): '4884792', ('1662715', '1662752'): '4841255', ('1662715', '1662794'): '4819929', ('1662715', '2005027'): '5016905', ('1662752', '1662715'): '4819869', ('1662794', '1662715'): '4841315', ('2005027', '1662715'): '5016906', ('1663395', '1663422'): '4820534', ('1663395', '1663319'): '4841884', ('1663395', '1679719'): '4885651', ('1663422', '1663395'): '4841920', ('1663319', '1663395'): '4820498', ('1679719', '1663395'): '4885652', ('1668630', '1668213'): '4852252', ('1668213', '1668630'): '4830867', ('2097714', '2041417'): '5451780', ('2097714', '2058076'): '5208045', ('2097714', '2082274'): '5208043', ('2041417', '2097714'): '5451779', ('2058076', '2097714'): '5208042', ('2082274', '2097714'): '5208044', ('2051875', '1661949'): '5147269', ('1661949', '2051875'): '5147268', ('1662481', '1662494'): '4828161', ('1662481', '1662437'): '4849545', ('1662494', '1662481'): '4849546', ('1662437', '1662481'): '4828160', ('1662898', '1662957'): '4830650', ('1662957', '1662898'): '4852035', ('1662251', '1662280'): '5313831', ('1662251', '1662239'): '4819441', ('1662251', '1662225'): '5313828', ('1662280', '1662251'): '5313832', ('1662239', '1662251'): '4840827', ('1662225', '1662251'): '5313827', ('2204563', '2023836'): '5371260', ('2204563', '2204581'): '5355385', ('2023836', '2204563'): '5371259', ('2204581', '2204563'): '5355386', ('1663449', '1663578'): '4842098', ('1663449', '1663472'): '4820596', ('1663578', '1663449'): '4820712', ('1663472', '1663449'): '4841982', ('2131922', '2136381'): '5253000', ('2136381', '2131922'): '5252999', ('1662420', '1662477'): '5064102', ('1662420', '1662421'): '4849552', ('1662477', '1662420'): '5064103', ('1662421', '1662420'): '4828167', ('1663508', '1663553'): '4820668', ('1663508', '1663430'): '4842003', ('1663553', '1663508'): '4842054', ('1663430', '1663508'): '4820617', ('1665603', '1665455'): '4830400', ('1665603', '1665652'): '4851784', ('1665603', '1665653'): '4876896', ('1665455', '1665603'): '4851785', ('1665652', '1665603'): '4830399', ('1665653', '1665603'): '4876897', ('1661598', '1661614'): '4851993', ('1661598', '1661555'): '4830605', ('1661614', '1661598'): '4830608', ('1661555', '1661598'): '4851990', ('1667949', '1667503'): '4827438', ('1667949', '1668329'): '4848822', ('1667503', '1667949'): '4848823', ('1668329', '1667949'): '4827437', ('1664467', '1664213'): '4843016', ('1664213', '1664467'): '4821630', ('2036954', '1662139'): '5125999', ('1662139', '2036954'): '5125998', ('1663297', '1663228'): '4828152', ('1663297', '1663344'): '4849536', ('1663228', '1663297'): '4849537', ('1663344', '1663297'): '4828151', ('2011363', '1679458'): '5064987', ('2011363', '2011365'): '5035712', ('2011363', '2004247'): '5064180', ('1679458', '2011363'): '5064986', ('2011365', '2011363'): '5035713', ('2004247', '2011363'): '5064179', ('1663059', '1662887'): '4841566', ('1663059', '1663352'): '4820463', ('1663059', '1663090'): '4820204', ('1662887', '1663059'): '4820180', ('1663352', '1663059'): '4841849', ('1663090', '1663059'): '4841590', ('1666353', '1666509'): '4829393', ('1666353', '1666372'): '4829394', ('1666509', '1666353'): '4850778', ('1666372', '1666353'): '4850779', ('1662079', '1662120'): '4850937', ('1662120', '1662079'): '4829552', ('1668086', '1667949'): '4827436', ('1667949', '1668086'): '4848821', ('1662252', '1662235'): '4884806', ('1662252', '1662165'): '4840832', ('1662252', '2216703'): '5372933', ('1662252', '1662482'): '4840958', ('1662252', '1662161'): '4819447', ('1662235', '1662252'): '4884808', ('1662165', '1662252'): '4819446', ('2216703', '1662252'): '5372934', ('1662482', '1662252'): '4819572', ('1662161', '1662252'): '4840833', ('2016713', '2005040'): '5049299', ('2016713', '2005033'): '5092964', ('2016713', '2016721'): '5049320', ('2016713', '2005039'): '5049297', ('2005040', '2016713'): '5049296', ('2005033', '2016713'): '5092963', ('2016721', '2016713'): '5049323', ('2005039', '2016713'): '5049298', ('2012357', '2012359'): '5038688', ('2012357', '1662023'): '5064005', ('2012357', '1662067'): '5064427', ('2012359', '2012357'): '5038689', ('1662023', '2012357'): '5064004', ('1662067', '2012357'): '5064426', ('1663531', '2046794'): '5140104', ('1663531', '1663450'): '4852058', ('2046794', '1663531'): '5140105', ('1663450', '1663531'): '4830673', ('2034246', '2034269'): '5121374', ('2034246', '2034248'): '5120283', ('1662946', '2034246'): '5120282', ('2034269', '2034246'): '5121375', ('2312117', '15378'): '5515744', ('2182353', '2312117'): '5515743', ('1663126', '1663162'): '4820272', ('1663162', '1663126'): '4841658', ('1662237', '1662277'): '4850745', ('1662277', '1662237'): '4829360', ('1664125', '1664148'): '4842733', ('1664125', '1664157'): '4842742', ('1664148', '1664125'): '4821347', ('1664157', '1664125'): '4821356', ('1665410', '1665116'): '4822504', ('1665410', '1665648'): '4844152', ('1665116', '1665410'): '4843890', ('1665648', '1665410'): '4822766', ('1666485', '1666589'): '4848826', ('1666485', '1667037'): '4845789', ('1666485', '1665861'): '4823763', ('1666485', '1666480'): '4827427', ('1666589', '1666485'): '4827441', ('1667037', '1666485'): '4824403', ('1665861', '1666485'): '4845149', ('1666480', '1666485'): '4848812', ('1661907', '1661668'): '4849511', ('1661907', '1661904'): '4819187', ('1661907', '1662003'): '4819276', ('1661668', '1661907'): '4828126', ('1661904', '1661907'): '4840573', ('1662003', '1661907'): '4840662', ('2011377', '1679452'): '5064638', ('2011377', '2004247'): '5035753', ('2011377', '2011378'): '5035756', ('1679452', '2011377'): '5064637', ('2004247', '2011377'): '5035754', ('2011378', '2011377'): '5035757', ('2024315', '2005033'): '5092942', ('2005033', '2024315'): '5092939', ('1679421', '2304235'): '5505093', ('1679421', '2204544'): '5355365', ('1679421', '2023810'): '5091458', ('1679421', '1679419'): '4884607', ('2304235', '1679421'): '5505094', ('2204544', '1679421'): '5355364', ('2023810', '1679421'): '5091461', ('1679419', '1679421'): '4884608', ('2052314', '1662019'): '5147885', ('1662019', '2052314'): '5147882', ('2272857', '2272854'): '5449888', ('2272857', '2272861'): '5449894', ('2272857', '2272858'): '5449890', ('2272857', '2272859'): '5449892', ('2272854', '2272857'): '5449887', ('2272861', '2272857'): '5449895', ('2272858', '2272857'): '5449891', ('2272859', '2272857'): '5449893', ('1662412', '1662539'): '4829340', ('1662539', '1662412'): '4850725', ('1662358', '1662394'): '4819544', ('1662358', '10523'): '4840905', ('1662394', '1662358'): '4840930', ('10523', '1662358'): '4819519', ('1663745', '1663647'): '4842289', ('1663745', '1663815'): '4820973', ('1663745', '1663876'): '4821059', ('1663745', '1663722'): '4842288', ('1663647', '1663745'): '4820903', ('1663815', '1663745'): '4842359', ('1663876', '1663745'): '4842445', ('1663722', '1663745'): '4820902', ('1667484', '1667486'): '4824885', ('1667484', '1667238'): '4824883', ('1667486', '1667484'): '4846271', ('1667238', '1667484'): '4846269', ('2030910', '1667544'): '5110736', ('2030910', '2032361'): '5114644', ('2030910', '1667534'): '5110738', ('1667544', '2030910'): '5110737', ('2032361', '2030910'): '5114645', ('1667534', '2030910'): '5110735', ('2008369', '2008371'): '5028004', ('2008369', '2008370'): '5028002', ('2008369', '2008368'): '5028001', ('2008371', '2008369'): '5028005', ('2008370', '2008369'): '5028003', ('2008368', '2008369'): '5028000', ('2023853', '2070457'): '5173492', ('2023853', '2023852'): '5091531', ('2070457', '2023853'): '5173493', ('2023852', '2023853'): '5091530', ('2051615', '2051874'): '5147264', ('2051615', '1662412'): '5147027', ('2051874', '2051615'): '5147265', ('1662412', '2051615'): '5147024', ('1662582', '1662460'): '4828168', ('1662460', '1662582'): '4849553', ('1679462', '1679459'): '4884669', ('1679462', '1662388'): '4884665', ('1679462', '1662395'): '4884664', ('1679459', '1679462'): '4884670', ('1662388', '1679462'): '4884666', ('1662395', '1679462'): '4884663', ('2067160', '1662698'): '5168285', ('1662698', '2067160'): '5168284', ('1661553', '1661668'): '4830617', ('1661553', '1661555'): '4852000', ('1661553', '1661389'): '4852001', ('1661668', '1661553'): '4852002', ('1661555', '1661553'): '4830615', ('1661389', '1661553'): '4830616', ('2005030', '2005032'): '5016019', ('2005030', '2005029'): '5016014', ('2005030', '2024315'): '5092941', ('2005032', '2005030'): '5016020', ('2005029', '2005030'): '5016013', ('2024315', '2005030'): '5092940', ('1666699', '1666494'): '4848815', ('1666494', '1666699'): '4827430', ('1661805', '1661887'): '4840531', ('1661805', '1661746'): '4819082', ('1661887', '1661805'): '4819145', ('1661746', '1661805'): '4840468', ('1662259', '1662230'): '4840854', ('1662259', '1662394'): '5064114', ('1662259', '1662224'): '4819467', ('1662230', '1662259'): '4819468', ('1662394', '1662259'): '5064115', ('1662224', '1662259'): '4840853', ('1663968', '1664064'): '4821275', ('1663968', '1663818'): '4821165', ('1663968', '1663983'): '4842573', ('1664064', '1663968'): '4842661', ('1663818', '1663968'): '4842551', ('1663983', '1663968'): '4821187', ('1666498', '1666947'): '4827421', ('1666498', '1666500'): '4845225', ('1666498', '1666494'): '4848817', ('1666947', '1666498'): '4848806', ('1666500', '1666498'): '4823839', ('1666494', '1666498'): '4827432', ('2307015', '2307016'): '5508941', ('2307016', '2307015'): '5508942', ('1664228', '1664159'): '4842796', ('1664159', '1664228'): '4821410', ('2157021', '2129751'): '5297669', ('2129751', '2157021'): '5297668', ('1679461', '1679460'): '4884688', ('1679460', '1679461'): '4884687', ('1663737', '1663793'): '4842322', ('1663737', '1663663'): '4842281', ('1663793', '1663737'): '4820936', ('1663663', '1663737'): '4820895', ('1664349', '1664378'): '4821548', ('1664349', '1664290'): '4842912', ('1664349', '1664383'): '4829781', ('1664378', '1664349'): '4842934', ('1664290', '1664349'): '4821526', ('1664383', '1664349'): '4851166', ('1663014', '2034247'): '4820137', ('1663014', '1663106'): '4841597', ('1663014', '1663012'): '4820136', ('2034247', '1663014'): '4841523', ('1663106', '1663014'): '4820211', ('1663012', '1663014'): '4841522', ('2005104', '2005102'): '5016279', ('2005104', '2005097'): '5016273', ('2005102', '2005104'): '5016280', ('2005097', '2005104'): '5016274', ('2023864', '2204561'): '5355377', ('2023864', '2023863'): '5091569', ('2023864', '2132061'): '5260979', ('2204561', '2023864'): '5355380', ('2023863', '2023864'): '5091568', ('2132061', '2023864'): '5260980', ('1661959', '2252501'): '5422277', ('1661959', '1661880'): '4840570', ('2252501', '1661959'): '5422280', ('1661880', '1661959'): '4819184', ('1661952', '1661940'): '4819197', ('1661952', '1661801'): '4840584', ('1661940', '1661952'): '4840583', ('1661801', '1661952'): '4819198', ('1661577', '1661544'): '4830601', ('1661577', '1661558'): '4830679', ('1661544', '1661577'): '4851986', ('1661558', '1661577'): '4852064', ('1662995', '1663075'): '4850812', ('1663075', '1662995'): '4829427', ('1663276', '1663358'): '4820452', ('1663358', '1663276'): '4841838', ('1662707', '1662713'): '4841148', ('1662707', '1662674'): '4819754', ('1662707', '1662710'): '4819758', ('1662707', '1663062'): '4841527', ('1662713', '1662707'): '4819762', ('1662674', '1662707'): '4841140', ('1662710', '1662707'): '4841144', ('1663062', '1662707'): '4820141', ('1664025', '1663983'): '4821233', ('1663983', '1664025'): '4842619', ('2120514', '2041455'): '5238493', ('2041455', '2120514'): '5238492', ('1663675', '1663578'): '4820826', ('1663675', '1663652'): '4820827', ('1663675', '1663737'): '4842282', ('1663578', '1663675'): '4842212', ('1663652', '1663675'): '4842213', ('1663737', '1663675'): '4820896', ('1661936', '1661868'): '4819166', ('1661936', '1661942'): '4840556', ('1661868', '1661936'): '4840552', ('1661942', '1661936'): '4819170', ('1662474', '1662494'): '4828163', ('1662474', '1662481'): '4836955', ('1662474', '1662420'): '4849549', ('1662494', '1662474'): '4849548', ('1662481', '1662474'): '4858338', ('1662420', '1662474'): '4828164', ('1662362', '1662351'): '4819497', ('1662362', '1662430'): '4840926', ('1662362', '1662565'): '4819652', ('1662351', '1662362'): '4840883', ('1662430', '1662362'): '4819540', ('1662565', '1662362'): '4841038', ('1662185', '1662068'): '4840791', ('1662185', '1662281'): '4819461', ('1662185', '1662187'): '4819407', ('1662068', '1662185'): '4819405', ('1662281', '1662185'): '4840847', ('1662187', '1662185'): '4840793', ('1661946', '10464'): '4827335', ('1661946', '1661908'): '4840590', ('1661946', '10523'): '5139949', ('10464', '1661946'): '4848720', ('1661908', '1661946'): '4819204', ('10523', '1661946'): '5139948', ('1665153', '1665861'): '4823013', ('1665153', '1664722'): '4848830', ('1665153', '1665482'): '4843936', ('1665861', '1665153'): '4844399', ('1664722', '1665153'): '4827445', ('1665482', '1665153'): '4822550', ('1667083', '1667238'): '4846061', ('1667083', '1667070'): '4824500', ('1667238', '1667083'): '4824675', ('1667070', '1667083'): '4845886', ('1663375', '1663292'): '4820484', ('1663375', '1663449'): '4841956', ('1663375', '1663508'): '4842004', ('1663292', '1663375'): '4841870', ('1663449', '1663375'): '4820570', ('1663508', '1663375'): '4820618', ('1661196', '1661199'): '4829230', ('1661199', '1661196'): '4850615', ('1663224', '1663218'): '4841714', ('1663224', '1663227'): '4820333', ('1663224', '1663160'): '4841715', ('1663218', '1663224'): '4820328', ('1663227', '1663224'): '4841719', ('1663160', '1663224'): '4820329', ('2058075', '2058076'): '5154966', ('2058075', '2058074'): '5154965', ('2058076', '2058075'): '5154967', ('2058074', '2058075'): '5154964', ('1661867', '1661868'): '4840516', ('1661867', '1661836'): '4819129', ('1661868', '1661867'): '4819130', ('1661836', '1661867'): '4840515', ('1663604', '1663710'): '4852057', ('1663604', '1663583'): '4852055', ('1663604', '1663605'): '4830671', ('1663710', '1663604'): '4830672', ('1663583', '1663604'): '4830670', ('1663605', '1663604'): '4852056', ('1667774', '1667783'): '4827423', ('1667774', '1667144'): '4846576', ('1667783', '1667774'): '4848808', ('1667144', '1667774'): '4825190', ('1667939', '1667714'): '4846714', ('1667714', '1667939'): '4825328', ('1664122', '1664052'): '4829778', ('1664122', '1664159'): '4842746', ('1664122', '1664125'): '4842706', ('1664052', '1664122'): '4851163', ('1664159', '1664122'): '4821360', ('1664125', '1664122'): '4821320', ('1664170', '1664247'): '4821416', ('1664247', '1664170'): '4842802', ('1662176', '1661793'): '4819368', ('1661793', '1662176'): '4840754', ('1663446', '1663444'): '4841944', ('1663446', '1663579'): '4820716', ('1663446', '1663449'): '4820571', ('1663444', '1663446'): '4820558', ('1663579', '1663446'): '4842102', ('1663449', '1663446'): '4841957', ('1662803', '1662753'): '4851147', ('1662803', '1662945'): '4829763', ('1662803', '1662804'): '4851151', ('1662753', '1662803'): '4829762', ('1662945', '1662803'): '4851148', ('1662804', '1662803'): '4829766', ('1663210', '1662899'): '4820306', ('1663210', '1663276'): '5571520', ('1662899', '1663210'): '4841692', ('1663276', '1663210'): '5571519', ('2005125', '2005118'): '5016362', ('2005125', '2005127'): '5016365', ('2005118', '2005125'): '5016361', ('2005127', '2005125'): '5016366', ('1662096', '1662093'): '4840694', ('1662096', '1662098'): '4819309', ('1662093', '1662096'): '4819308', ('1662098', '1662096'): '4840695', ('2290837', '2290838'): '5488961', ('2290840', '2290837'): '5488966', ('2290838', '2290837'): '5488962', ('1663212', '1663345'): '5064729', ('1663212', '2020337'): '5061129', ('1663212', '1663210'): '4820310', ('1663345', '1663212'): '5064728', ('2020337', '1663212'): '5061130', ('1663210', '1663212'): '4841696', ('15377', '1663851'): '4842401', ('15377', '15378'): '4836907', ('15377', '2312116'): '5515741', ('1663851', '15377'): '4821015', ('15378', '15377'): '4858290', ('1663266', '1663205'): '4849541', ('1663205', '1663266'): '4828156', ('1666648', '1666688'): '4845465', ('1666688', '1666648'): '4824079', ('1667162', '1667179'): '4850792', ('1667179', '1667162'): '4829407', ('2156701', '2156702'): '5285741', ('2156701', '2114954'): '5297656', ('2156702', '2156701'): '5285742', ('2114954', '2156701'): '5297655', ('1662258', '1662228'): '4850953', ('1662228', '1662258'): '4829568', ('1666907', '1666984'): '4850790', ('1666984', '1666907'): '4829405', ('1665299', '1665297'): '4843783', ('1665297', '1665299'): '4822397', ('2013292', '1661547'): '5064616', ('1661547', '2013292'): '5064615', ('2155563', '1663464'): '5284160', ('2155563', '1663588'): '5284158', ('1663464', '2155563'): '5284157', ('1663588', '2155563'): '5284159', ('1663897', '1663973'): '4849530', ('1663897', '1664021'): '4849532', ('1663897', '1663916'): '4828146', ('1663973', '1663897'): '4828145', ('1664021', '1663897'): '4828147', ('1663916', '1663897'): '4849531', ('1666294', '1666353'): '4829395', ('1666353', '1666294'): '4850780', ('1662138', '1662129'): '4840734', ('1662138', '2052314'): '5147884', ('1662129', '1662138'): '4819348', ('2052314', '1662138'): '5147883', ('1661729', '1662290'): '4837226', ('1662290', '1661729'): '4858609', ('1663601', '1663590'): '4820738', ('1663601', '1663507'): '4820737', ('1663590', '1663601'): '4842124', ('1663507', '1663601'): '4842123', ('1662728', '1662725'): '4841243', ('1662728', '1662738'): '4819865', ('1662728', '1662681'): '4841244', ('1662728', '1662771'): '4819904', ('1662725', '1662728'): '4819857', ('1662738', '1662728'): '4841251', ('1662681', '1662728'): '4819858', ('1662771', '1662728'): '4841290', ('1667710', '1667773'): '4825195', ('1667773', '1667710'): '4846581', ('1663819', '1663972'): '4842542', ('1663972', '1663819'): '4821156', ('2026263', '2180634'): '5539664', ('2312959', '2026263'): '5516768', ('1662750', '1662946'): '4848723', ('1662750', '1662735'): '4819864', ('1662750', '1662510'): '4827337', ('1662946', '1662750'): '4827338', ('1662735', '1662750'): '4841250', ('1662510', '1662750'): '4848722', ('2270243', '2270242'): '5446084', ('2270242', '2270243'): '5446083', ('2051634', '2023839'): '5147263', ('2023839', '2051634'): '5147262', ('1664017', '1663903'): '4821224', ('1663903', '1664017'): '4842610', ('1663378', '1663394'): '5314207', ('1663358', '1663378'): '5455240', ('1663394', '1663378'): '5314206', ('1664190', '1664359'): '4821527', ('1664190', '1664147'): '4842776', ('1664190', '1664247'): '4821417', ('1664359', '1664190'): '4842913', ('1664147', '1664190'): '4821390', ('1664247', '1664190'): '4842803', ('1662635', '1662699'): '4819747', ('1662699', '1662635'): '4841133', ('1662236', '1662204'): '4829559', ('1662236', '1662208'): '4829555', ('1662236', '1662280'): '4850942', ('1662236', '1662258'): '4850946', ('1662204', '1662236'): '4850944', ('1662208', '1662236'): '4850940', ('1662280', '1662236'): '4829557', ('1662258', '1662236'): '4829561', ('2034711', '2031502'): '5121648', ('2031502', '2034711'): '5121649', ('1667587', '1667739'): '4825172', ('1667587', '1667533'): '4846363', ('1667739', '1667587'): '4846558', ('1667533', '1667587'): '4824977', ('1663688', '1663843'): '4842400', ('1663688', '1663722'): '4820872', ('1663688', '1663508'): '4820839', ('1663843', '1663688'): '4821014', ('1663722', '1663688'): '4842258', ('1663508', '1663688'): '4842225', ('1661676', '1661620'): '4851996', ('1661676', '2008372'): '5028008', ('1661676', '1661577'): '4830607', ('1661620', '1661676'): '4830611', ('2008372', '1661676'): '5028009', ('1661577', '1661676'): '4851992', ('1662606', '1662635'): '4841077', ('1662635', '1662606'): '4819691', ('2005018', '2005024'): '5015992', ('2005018', '2005019'): '5015977', ('2005024', '2005018'): '5015991', ('2005019', '2005018'): '5015978', ('1661526', '1661746'): '5512180', ('1661746', '1661526'): '5512179', ('10949', '1666471'): '4858657', ('1666471', '10949'): '4837274', ('1663739', '1664487'): '4821616', ('1663739', '1663836'): '4842339', ('1664487', '1663739'): '4843002', ('1663836', '1663739'): '4820953', ('2008373', '1661719'): '4828121', ('2008373', '2008372'): '5028011', ('1661719', '2008373'): '4849506', ('2008372', '2008373'): '5028010', ('1662044', '1662040'): '4819301', ('1662044', '1662166'): '4819422', ('1662040', '1662044'): '4840687', ('1662166', '1662044'): '4840808', ('1679485', '1679486'): '4884778', ('1679486', '1679485'): '4884776', ('1662008', '1661997'): '4819257', ('1662008', '1662088'): '4819357', ('1661997', '1662008'): '4840643', ('1662088', '1662008'): '4840743', ('1663390', '1663422'): '4841919', ('1663390', '1663314'): '4820494', ('1663390', '1663383'): '4841879', ('1663390', '1663395'): '4820497', ('1663422', '1663390'): '4820533', ('1663314', '1663390'): '4841880', ('1663383', '1663390'): '4820493', ('1663395', '1663390'): '4841883', ('1677460', '1677459'): '4876955', ('1677459', '1677460'): '4876954', ('1662293', '1662291'): '4819485', ('1662293', '1662238'): '4840872', ('1662293', '1662254'): '4840873', ('1662291', '1662293'): '4840871', ('1662238', '1662293'): '4819486', ('1662254', '1662293'): '4819487', ('1667829', '1667876'): '4827418', ('1667829', '1667899'): '4848802', ('1667829', '1667779'): '4827419', ('1667876', '1667829'): '4848803', ('1667899', '1667829'): '4827417', ('1667779', '1667829'): '4848804', ('1662755', '1662514'): '4841257', ('1662755', '1662812'): '4819943', ('1662755', '1662750'): '5064072', ('1662514', '1662755'): '4819871', ('1662812', '1662755'): '4841329', ('1662750', '1662755'): '5064071', ('1663603', '1663577'): '4842132', ('1663603', '1663553'): '4842131', ('1663603', '1663647'): '4820786', ('1663603', '1663663'): '4820801', ('1663577', '1663603'): '4820746', ('1663553', '1663603'): '4820745', ('1663647', '1663603'): '4842172', ('1663663', '1663603'): '4842187', ('2004256', '2004247'): '5013387', ('2004247', '2004256'): '5013386', ('2312119', '15377'): '5515748', ('2182528', '2312119'): '5515747', ('1661945', '1661965'): '4840608', ('1661945', '1661908'): '4819205', ('1661945', '1662008'): '4819258', ('1661965', '1661945'): '4819222', ('1661908', '1661945'): '4840591', ('1662008', '1661945'): '4840644', ('2204582', '2204584'): '5355391', ('2204582', '2204585'): '5355397', ('2204582', '2204563'): '5355388', ('2204584', '2204582'): '5355392', ('2204585', '2204582'): '5355398', ('2204563', '2204582'): '5355387', ('2026253', '2176406'): '5540637', ('2026253', '2176582'): '5314627', ('2026280', '2026253'): '5539666', ('1661566', '1661547'): '4830600', ('1661566', '1661555'): '4851984', ('1661547', '1661566'): '4851985', ('1661555', '1661566'): '4830599', ('1664082', '1664062'): '4842673', ('1664082', '1664025'): '4821288', ('1664062', '1664082'): '4821287', ('1664025', '1664082'): '4842674', ('1668551', '1668103'): '4852236', ('1668103', '1668551'): '4830851', ('2304316', '2304256'): '5505209', ('2304316', '2304317'): '5505211', ('2304316', '1667203'): '5508884', ('2304316', '2306975'): '5508899', ('2304256', '2304316'): '5505210', ('2304317', '2304316'): '5505212', ('1667203', '2304316'): '5508883', ('2306975', '2304316'): '5508900', ('1667520', '2332015'): '5559299', ('2332015', '1667520'): '5559302', ('1662556', '1662503'): '4819674', ('1662556', '1662672'): '4819748', ('1662556', '1662653'): '4841116', ('1662503', '1662556'): '4841060', ('1662672', '1662556'): '4841134', ('1662653', '1662556'): '4819730', ('1662487', '1662490'): '4827457', ('1662487', '1663075'): '4827458', ('1662487', '1662176'): '4848841', ('1662490', '1662487'): '4848842', ('1663075', '1662487'): '4848843', ('1662176', '1662487'): '4827456', ('1661585', '1661620'): '4830610', ('1661585', '1661547'): '4851987', ('1661585', '1661676'): '4830606', ('1661620', '1661585'): '4851995', ('1661547', '1661585'): '4830602', ('1661676', '1661585'): '4851991', ('1663863', '1663866'): '4842421', ('1663863', '1663850'): '4821032', ('1663866', '1663863'): '4821035', ('1663850', '1663863'): '4842418', ('1662227', '1662254'): '4819465', ('1662254', '1662227'): '4840851', ('2156722', '2120494'): '5285780', ('2156722', '2156702'): '5285778', ('2156722', '2212301'): '5371950', ('2156722', '2156721'): '5285760', ('2120494', '2156722'): '5285779', ('2156702', '2156722'): '5285777', ('2212301', '2156722'): '5371951', ('2156721', '2156722'): '5285759', ('1663208', '1663144'): '4841704', ('1663208', '1663218'): '4820326', ('1663208', '1663203'): '4841703', ('1663144', '1663208'): '4820318', ('1663218', '1663208'): '4841712', ('1663203', '1663208'): '4820317', ('1662811', '2030922'): '5497019', ('1662811', '1662810'): '4830433', ('1662811', '1662538'): '5571436', ('2030922', '1662811'): '5497020', ('1662810', '1662811'): '4851818', ('1662538', '1662811'): '5571435', ('1662433', '2216703'): '5341805', ('1662433', '1662482'): '5314080', ('1662433', '1662417'): '4837043', ('2216703', '1662433'): '5341804', ('1662482', '1662433'): '5314081', ('1662417', '1662433'): '4858426', ('1663470', '1663510'): '4828141', ('1663470', '1679719'): '4885654', ('1663470', '2011622'): '5118900', ('1663510', '1663470'): '4849526', ('1679719', '1663470'): '4885653', ('2011622', '1663470'): '5118901', ('2008366', '1661802'): '5571514', ('2008366', '2036957'): '5126003', ('1661802', '2008366'): '5571513', ('2036957', '2008366'): '5126002', ('1662534', '1662701'): '4819775', ('1662534', '1662382'): '4841041', ('1662534', '1662432'): '4819656', ('1662701', '1662534'): '4841161', ('1662382', '1662534'): '4819655', ('1662432', '1662534'): '4841042', ('1666240', '1666044'): '5035681', ('1666240', '1666324'): '4823609', ('1666240', '1666112'): '5571401', ('1666044', '1666240'): '5035680', ('1666324', '1666240'): '4844995', ('1666112', '1666240'): '5571402', ('1662778', '1662826'): '4841333', ('1662826', '1662778'): '4819947', ('1664013', '1664255'): '4842815', ('1664013', '1663818'): '4821213', ('1664013', '1664021'): '4842600', ('1664255', '1664013'): '4821429', ('1663818', '1664013'): '4842599', ('1664021', '1664013'): '4821214', ('1667066', '1667070'): '4845872', ('1667066', '1667203'): '4824627', ('1667066', '2307015'): '5508965', ('1667070', '1667066'): '4824486', ('1667203', '1667066'): '4846013', ('2307015', '1667066'): '5508966', ('1667026', '1667037'): '4824404', ('1667037', '1667026'): '4845790', ('2023858', '2023852'): '5091553', ('2023852', '2023858'): '5091552', ('1666113', '1666112'): '4884539', ('1666113', '1679415'): '4884540', ('1666112', '1666113'): '4884538', ('1679415', '1666113'): '4884541', ('1662149', '1662154'): '4819365', ('1662149', '1662201'): '4840789', ('1662149', '1662070'): '4819354', ('1662149', '1662138'): '4840741', ('1662154', '1662149'): '4840751', ('1662201', '1662149'): '4819403', ('1662070', '1662149'): '4840740', ('1662138', '1662149'): '4819355', ('1663079', '1663144'): '4820252', ('1663079', '1662945'): '4841580', ('1663144', '1663079'): '4841638', ('1662945', '1663079'): '4820194', ('1663164', '1663229'): '4841723', ('1663164', '1663106'): '4820267', ('1663164', '1663160'): '4820266', ('1663229', '1663164'): '4820337', ('1663106', '1663164'): '4841653', ('1663160', '1663164'): '4841652', ('1666642', '1666588'): '4824008', ('1666588', '1666642'): '4845394', ('2304238', '2304235'): '5505104', ('2304235', '2304238'): '5505103', ('1663678', '1663665'): '4842207', ('1663665', '1663678'): '4820821', ('1663569', '10698'): '5455237', ('1663569', '1663464'): '5314164', ('1663569', '1663739'): '4820859', ('10698', '1663569'): '5455238', ('1663464', '1663569'): '5314163', ('1663739', '1663569'): '4842245', ('1668185', '1668168'): '4850797', ('1668168', '1668185'): '4829412', ('1663596', '1663646'): '4851162', ('1663646', '1663596'): '4829777', ('1664063', '1664051'): '4842662', ('1664051', '1664063'): '4821276', ('1679723', '2016715'): '5571517', ('1679723', '1662794'): '4885682', ('1679723', '2005027'): '5016006', ('2016715', '1679723'): '5571518', ('1662794', '1679723'): '4885680', ('2005027', '1679723'): '5016005', ('1663298', '1663297'): '4858336', ('1663297', '1663298'): '4836953', ('1662722', '1662699'): '4841136', ('1662699', '1662722'): '4819750', ('1668437', '1668463'): '4830830', ('1668437', '1668549'): '4830850', ('1668437', '1667774'): '4852204', ('1668463', '1668437'): '4852215', ('1668549', '1668437'): '4852235', ('1667774', '1668437'): '4830819', ('2020752', '1663863'): '5077171', ('1663863', '2020752'): '5077170', ('1662100', '1662071'): '4830430', ('1662100', '1662067'): '4830441', ('1662071', '1662100'): '4851815', ('1662067', '1662100'): '4851826', ('1679488', '2012370'): '5038722', ('1679488', '1679484'): '5038713', ('2012370', '1679488'): '5038723', ('1679484', '1679488'): '5038712', ('1663329', '1663327'): '5538747', ('2176406', '1663329'): '5314296', ('1667730', '1667710'): '4846549', ('1667710', '1667730'): '4825163', ('2041335', '2041417'): '5132982', ('2041335', '1662826'): '5132847', ('2041335', '2041354'): '5132862', ('2041417', '2041335'): '5132983', ('1662826', '2041335'): '5132846', ('2041354', '2041335'): '5132863', ('1662055', '1662053'): '4819262', ('1662055', '1662096'): '4819306', ('1662053', '1662055'): '4840648', ('1662096', '1662055'): '4840692', ('1661886', '1661882'): '4840537', ('1661886', '1661887'): '4819150', ('1661886', '1661834'): '4819149', ('1661882', '1661886'): '4819151', ('1661887', '1661886'): '4840536', ('1661834', '1661886'): '4840535', ('2176343', '1663358'): '5314239', ('2176343', '2290881'): '5488969', ('2176343', '1663583'): '5064487', ('1663358', '2176343'): '5314238', ('1663583', '2176343'): '5064488', ('1663378', '2176343'): '5455239', ('1662439', '1662416'): '4840972', ('1662439', '1662460'): '4819602', ('1662439', '1662582'): '4819723', ('1662416', '1662439'): '4819586', ('1662460', '1662439'): '4840988', ('1662582', '1662439'): '4841109', ('1663294', '1663299'): '4820406', ('1663294', '1663291'): '4820402', ('1663294', '1663208'): '4841789', ('1663299', '1663294'): '4841792', ('1663291', '1663294'): '4841788', ('1663208', '1663294'): '4820403', ('1662164', '1662154'): '4840759', ('1662164', '1662239'): '4819438', ('1662164', '1662225'): '4840812', ('1662164', '1662132'): '4819372', ('1662154', '1662164'): '4819373', ('1662239', '1662164'): '4840824', ('1662225', '1662164'): '4819426', ('1662132', '1662164'): '4840758', ('1663489', '1663611'): '4820756', ('1663611', '1663489'): '4842142', ('2011721', '1662902'): '5036725', ('2011721', '1662372'): '5036721', ('2011721', '1662381'): '5036723', ('1662902', '2011721'): '5036724', ('1662372', '2011721'): '5036722', ('1662381', '2011721'): '5036720', ('2026273', '1661744'): '5098641', ('2026273', '1661559'): '5098637', ('1661744', '2026273'): '5098640', ('1661559', '2026273'): '5098638', ('1668822', '1668327'): '4852343', ('1668327', '1668822'): '4830958', ('1663215', '1663320'): '5040839', ('1663215', '2034269'): '5120288', ('1663215', '1663212'): '4851139', ('1663320', '1663215'): '5040838', ('2034269', '1663215'): '5120291', ('1663212', '1663215'): '4829754', ('1665956', '1665971'): '4829370', ('1665956', '1665586'): '4850760', ('1665956', '1666240'): '4829371', ('1665971', '1665956'): '4850755', ('1665586', '1665956'): '4829375', ('1666240', '1665956'): '4850756', ('1663455', '1663422'): '4841966', ('1663455', '1663452'): '4820581', ('1663455', '1663383'): '4841965', ('1663422', '1663455'): '4820580', ('1663452', '1663455'): '4841967', ('1663383', '1663455'): '4820579', ('1664038', '1664079'): '4821290', ('1664038', '1664051'): '4821267', ('1664038', '1664017'): '4842638', ('1664079', '1664038'): '4842676', ('1664051', '1664038'): '4842653', ('1664017', '1664038'): '4821252', ('1662192', '1662201'): '5313813', ('1662192', '1662138'): '4840778', ('1662201', '1662192'): '5313814', ('1662138', '1662192'): '4819392', ('1662596', '1662731'): '4819850', ('1662731', '1662596'): '4841236', ('1663081', '1663072'): '4841584', ('1663081', '1663133'): '4820246', ('1663081', '1663078'): '4820200', ('1663072', '1663081'): '4820198', ('1663133', '1663081'): '4841632', ('1663078', '1663081'): '4841586', ('2005117', '2005118'): '5016337', ('2005117', '2005102'): '5016336', ('2005117', '2011703'): '5036652', ('2005118', '2005117'): '5016338', ('2005102', '2005117'): '5016333', ('2011703', '2005117'): '5036651', ('1667302', '1667378'): '4824792', ('1667302', '1667203'): '4846109', ('1667302', '1667484'): '4824882', ('1667378', '1667302'): '4846178', ('1667203', '1667302'): '4824723', ('1667484', '1667302'): '4846268', ('1663151', '1663133'): '4841648', ('1663133', '1663151'): '4820262', ('1662694', '1662753'): '4819872', ('1662694', '1662625'): '4841202', ('1662694', '1662698'): '4841209', ('1662694', '1662679'): '4819817', ('1662753', '1662694'): '4841258', ('1662625', '1662694'): '4819816', ('1662698', '1662694'): '4819823', ('1662679', '1662694'): '4841203', ('1662704', '1662751'): '4819876', ('1662704', '1662749'): '4819875', ('1662751', '1662704'): '4841262', ('1662749', '1662704'): '4841261', ('1661921', '1661874'): '4829429', ('1661921', '1661911'): '4830439', ('1661874', '1661921'): '4850814', ('1661911', '1661921'): '4851824', ('2314835', '2314836'): '5519749', ('2314835', '2182528'): '5519746', ('2182524', '2314835'): '5519745', ('2314836', '2314835'): '5519750', ('1662696', '1662701'): '4841185', ('1662701', '1662696'): '4819799', ('2008367', '2008368'): '5027999', ('2008367', '2008373'): '5028012', ('2008367', '2008366'): '5027997', ('2008368', '2008367'): '5027998', ('2008373', '2008367'): '5028013', ('2008366', '2008367'): '5027996', ('1662407', '1662290'): '4840914', ('1662290', '1662407'): '4819528', ('1661879', '1661838'): '4840558', ('1661879', '1661890'): '4830636', ('1661838', '1661879'): '4819172', ('1661890', '1661879'): '4852021', ('1663328', '2176582'): '5314647', ('1663328', '1663329'): '4827343', ('1661950', '1661942'): '4840564', ('1661950', '1661959'): '4840571', ('1661942', '1661950'): '4819178', ('1661959', '1661950'): '4819185', ('1661560', '1661556'): '4829334', ('1661560', '1661559'): '4850718', ('1661556', '1661560'): '4850719', ('1661559', '1661560'): '4829333', ('1666670', '1666589'): '4848827', ('1666589', '1666670'): '4827442', ('1663862', '1663981'): '4842563', ('1663862', '1663870'): '4828137', ('1663862', '2024346'): '5451777', ('1663981', '1663862'): '4821177', ('1663870', '1663862'): '4849522', ('2024346', '1663862'): '5451778', ('1662168', '1662257'): '4850734', ('1662257', '1662168'): '4829349', ('2026291', '1661847'): '5098682', ('2026291', '2026289'): '5100563', ('1661847', '2026291'): '5098681', ('2026289', '2026291'): '5100562', ('2217756', '2026275'): '5374178', ('2217756', '2026273'): '5374185', ('2026275', '2217756'): '5374179', ('2180701', '2217756'): '5321249', ('2026273', '2217756'): '5374184', ('1665218', '1665114'): '4850761', ('1665218', '2030906'): '5110727', ('1665218', '1665297'): '4829377', ('1665114', '1665218'): '4829376', ('2030906', '1665218'): '5110730', ('1665297', '1665218'): '4850762', ('1667835', '1667877'): '4850806', ('1667877', '1667835'): '4829421', ('2005038', '2005037'): '5016040', ('2005038', '2005039'): '5016042', ('2005038', '2005104'): '5016277', ('2005037', '2005038'): '5016039', ('2005039', '2005038'): '5016041', ('2005104', '2005038'): '5016278', ('1663584', '1663581'): '4820731', ('1663584', '1663587'): '4842118', ('1663584', '1663531'): '4852059', ('1663581', '1663584'): '4842117', ('1663587', '1663584'): '4820732', ('1663531', '1663584'): '4830674', ('1662769', '1662749'): '4841288', ('1662749', '1662769'): '4819902', ('1662147', '1662155'): '4851830', ('1662147', '1662113'): '4819356', ('1662147', '1662175'): '4850939', ('1662147', '1662100'): '4830429', ('1662155', '1662147'): '4830445', ('1662113', '1662147'): '4840742', ('1662175', '1662147'): '4829554', ('1662100', '1662147'): '4851814', ('1665823', '1666500'): '4845224', ('1666500', '1665823'): '4823838', ('1662004', '1661936'): '4819209', ('1662004', '1662055'): '4819260', ('1662004', '1661950'): '4840596', ('1661936', '1662004'): '4840595', ('1662055', '1662004'): '4840646', ('1661950', '1662004'): '4819210', ('1663372', '1663444'): '4841938', ('1663372', '1663377'): '4820487', ('1663372', '1663291'): '4820477', ('1663372', '1663375'): '4841871', ('1663444', '1663372'): '4820552', ('1663377', '1663372'): '4841873', ('1663291', '1663372'): '4841863', ('1663375', '1663372'): '4820485', ('1662569', '1662604'): '4819743', ('1662569', '1662536'): '4841084', ('1662569', '1662460'): '4851138', ('1662569', '1662704'): '5064493', ('1662604', '1662569'): '4841129', ('1662536', '1662569'): '4819698', ('1662460', '1662569'): '4829753', ('1662704', '1662569'): '5064494', ('2303275', '1664483'): '5503902', ('2303275', '1678985'): '5503900', ('1664483', '2303275'): '5503899', ('1678985', '2303275'): '5503901', ('1664002', '1664009'): '4842592', ('1664002', '1663980'): '4821192', ('1664002', '1664065'): '4842655', ('1664009', '1664002'): '4821206', ('1663980', '1664002'): '4842578', ('1664065', '1664002'): '4821269', ('1662409', '1662411'): '4819532', ('1662409', '1662407'): '4840916', ('1662411', '1662409'): '4840918', ('1662407', '1662409'): '4819530', ('1662173', '1662098'): '4850950', ('1662173', '1662141'): '4829563', ('1662173', '1662203'): '4829564', ('1662098', '1662173'): '4829565', ('1662141', '1662173'): '4850948', ('1662203', '1662173'): '4850949', ('2312017', '1663328'): '5515605', ('2176642', '2312017'): '5515604', ('1662453', '1662735'): '4819856', ('1662453', '1662457'): '4840974', ('1662453', '1662358'): '4840967', ('1662453', '1662596'): '4819714', ('1662735', '1662453'): '4841242', ('1662457', '1662453'): '4819588', ('1662358', '1662453'): '4819581', ('1662596', '1662453'): '4841100', ('1663149', '1663144'): '4820256', ('1663149', '1663218'): '4820327', ('1663149', '1663079'): '4841643', ('1663144', '1663149'): '4841642', ('1663218', '1663149'): '4841713', ('1663079', '1663149'): '4820257', ('2041459', '1661966'): '5133015', ('2041459', '2041456'): '5133013', ('2041459', '1661677'): '5133017', ('1661966', '2041459'): '5133016', ('2041456', '2041459'): '5133012', ('1661677', '2041459'): '5133014', ('1663013', '1663012'): '4841521', ('1663012', '1663013'): '4820135', ('2304259', '2304258'): '5505130', ('2304258', '2304259'): '5505129', ('1666203', '1666112'): '4850774', ('1666203', '1666353'): '4829392', ('1666203', '1666113'): '4829388', ('1666112', '1666203'): '4829389', ('1666353', '1666203'): '4850777', ('1666113', '1666203'): '4850773', ('1677465', '1677462'): '4876953', ('1677462', '1677465'): '4876952', ('1663301', '1663299'): '4841796', ('1663301', '1663314'): '4820422', ('1663301', '1663383'): '4820492', ('1663301', '1663224'): '4841797', ('1663299', '1663301'): '4820410', ('1663314', '1663301'): '4841808', ('1663383', '1663301'): '4841878', ('1663224', '1663301'): '4820411', ('1662410', '1662411'): '4840920', ('1662410', '1662324'): '4840919', ('1662410', '1662412'): '4829338', ('1662411', '1662410'): '4819534', ('1662324', '1662410'): '4819533', ('1662412', '1662410'): '4850723', ('2023838', '2023836'): '5091495', ('2023836', '2023838'): '5091494', ('1661769', '1661882'): '4840534', ('1661769', '1661767'): '4840434', ('1661769', '1661768'): '4819047', ('1661882', '1661769'): '4819148', ('1661767', '1661769'): '4819048', ('1661768', '1661769'): '4840433', ('1662509', '1662465'): '4841030', ('1662509', '1662561'): '4829759', ('1662509', '1662319'): '4851966', ('1662509', '1662715'): '4819837', ('1662465', '1662509'): '4819644', ('1662561', '1662509'): '4851144', ('1662319', '1662509'): '4830581', ('1662715', '1662509'): '4841223', ('2272856', '2272854'): '5449886', ('2272854', '2272856'): '5449885', ('1667636', '1667534'): '4846427', ('1667636', '1667652'): '4825049', ('1667636', '1667710'): '4825116', ('1667534', '1667636'): '4825041', ('1667652', '1667636'): '4846435', ('1667710', '1667636'): '4846502', ('1661939', '1662098'): '4840696', ('1661939', '1661936'): '4840553', ('1661939', '1661867'): '4819168', ('1662098', '1661939'): '4819310', ('1661936', '1661939'): '4819167', ('1661867', '1661939'): '4840554', ('1662385', '1661743'): '4840866', ('1661743', '1662385'): '4819480', ('1661970', '1661965'): '4819226', ('1661970', '1661966'): '4840611', ('1661970', '1662011'): '4819266', ('1661965', '1661970'): '4840612', ('1661966', '1661970'): '4819225', ('1662011', '1661970'): '4840652', ('1661988', '1661987'): '4819254', ('1661988', '1662044'): '4819302', ('1661988', '1661879'): '4840639', ('1661987', '1661988'): '4840640', ('1662044', '1661988'): '4840688', ('1661879', '1661988'): '4819253', ('1663032', '1663010'): '4841534', ('1663032', '1662967'): '4841535', ('1663032', '1663078'): '4820196', ('1663010', '1663032'): '4820148', ('1662967', '1663032'): '4820149', ('1663078', '1663032'): '4841582', ('1663076', '1663139'): '4841633', ('1663076', '1663078'): '4841583', ('1663076', '1663079'): '4820193', ('1663076', '1663054'): '4829767', ('1663139', '1663076'): '4820247', ('1663078', '1663076'): '4820197', ('1663079', '1663076'): '4841579', ('1663054', '1663076'): '4851152', ('1663308', '1663180'): '4820400', ('1663308', '1663378'): '4841858', ('1663180', '1663308'): '4837270', ('1663378', '1663308'): '4820472', ('2026262', '2182348'): '5323329', ('2026262', '2026263'): '5321334', ('1663087', '2026262'): '5539663', ('1664019', '1663981'): '4842595', ('1664019', '1664469'): '4830482', ('1663981', '1664019'): '4821209', ('1664469', '1664019'): '4851867', ('1664295', '1664247'): '4842849', ('1664247', '1664295'): '4821463', ('1662491', '1662513'): '5167702', ('1662513', '1662491'): '5167703', ('1663762', '1663646'): '4829775', ('1663762', '1663830'): '4820976', ('1663762', '1663721'): '4842291', ('1663646', '1663762'): '4851160', ('1663830', '1663762'): '4842362', ('1663721', '1663762'): '4820905', ('2013287', '1661598'): '5063953', ('1661598', '2013287'): '5063952', ('2016714', '2011688'): '5036619', ('2016714', '2016715'): '5049307', ('2016714', '2011682'): '5036613', ('2016714', '2016721'): '5049322', ('2011688', '2016714'): '5036618', ('2016715', '2016714'): '5049306', ('2011682', '2016714'): '5036612', ('2016721', '2016714'): '5049321', ('2005025', '2005024'): '5015995', ('2005025', '2016715'): '5571524', ('2005025', '2046654'): '5139973', ('2005024', '2005025'): '5015996', ('2016715', '2005025'): '5571523', ('2046654', '2005025'): '5139972', ('1662631', '1662582'): '4841131', ('1662582', '1662631'): '4819745', ('1668195', '1668231'): '4846947', ('1668195', '1668053'): '5064028', ('1668195', '1668327'): '4825650', ('1668231', '1668195'): '4825561', ('1668053', '1668195'): '5064029', ('1668327', '1668195'): '4847035', ('1667287', '1667248'): '4846121', ('1667248', '1667287'): '4824735', ('1661549', '1661547'): '4830597', ('1661549', '1661551'): '5064310', ('1661547', '1661549'): '4851982', ('1661551', '1661549'): '5064309', ('1662837', '1662887'): '4828169', ('1662837', '1662843'): '4841362', ('1662837', '1662813'): '4819972', ('1662887', '1662837'): '4849554', ('1662843', '1662837'): '4819976', ('1662813', '1662837'): '4841358', ('1667205', '1667174'): '4846068', ('1667174', '1667205'): '4824682', ('1661978', '1661974'): '4819241', ('1661978', '1661984'): '4840636', ('1661978', '2036958'): '5126008', ('1661974', '1661978'): '4840627', ('1661984', '1661978'): '4819250', ('2036958', '1661978'): '5126009', ('2136383', '2304235'): '5505119', ('2136383', '2136382'): '5259564', ('2304235', '2136383'): '5505120', ('2136382', '2136383'): '5259563', ('1661705', '1661678'): '4840394', ('1661705', '1661704'): '4840395', ('1661705', '1661723'): '4819015', ('1661705', '1661739'): '4819030', ('1661678', '1661705'): '4819008', ('1661704', '1661705'): '4819009', ('1661723', '1661705'): '4840401', ('1661739', '1661705'): '4840416', ('1666584', '1666588'): '4845305', ('1666588', '1666584'): '4823919', ('1662462', '1662372'): '4851874', ('1662462', '1679706'): '4885626', ('1662462', '1662463'): '4851873', ('1662372', '1662462'): '4830489', ('1679706', '1662462'): '4885627', ('1662463', '1662462'): '4830488', ('1662286', '1662282'): '4830632', ('1662282', '1662286'): '4852017', ('1662823', '1662722'): '4841294', ('1662722', '1662823'): '4819908', ('2270165', '2270164'): '5446018', ('2270164', '2270165'): '5446017', ('1661884', '1661880'): '4819139', ('1661884', '1661887'): '4840532', ('1661884', '1661805'): '4819138', ('1661880', '1661884'): '4840525', ('1661887', '1661884'): '4819146', ('1661805', '1661884'): '4840524', ('1665890', '1665685'): '4829383', ('1665890', '1665615'): '4850767', ('1665890', '1665956'): '4829378', ('1665685', '1665890'): '4850768', ('1665615', '1665890'): '4829382', ('1665956', '1665890'): '4850763', ('2131986', '2131984'): '5253084', ('2131986', '1665653'): '5259600', ('2131984', '2131986'): '5253083', ('1665653', '2131986'): '5259599', ('1662064', '1662172'): '4829432', ('1662172', '1662064'): '4850817', ('1662406', '1662342'): '4819535', ('1662406', '1662404'): '4819536', ('1662406', '2051615'): '5147026', ('1662342', '1662406'): '4840921', ('1662404', '1662406'): '4840922', ('2051615', '1662406'): '5147025', ('10492', '1661833'): '5454898', ('10492', '1661921'): '4829428', ('10492', '1662064'): '4850816', ('1661833', '10492'): '5454897', ('1661921', '10492'): '4850813', ('1662064', '10492'): '4829431', ('1667728', '1667658'): '4846545', ('1667658', '1667728'): '4825159', ('1663861', '15378'): '4842406', ('1663861', '2024347'): '4849516', ('1663861', '1663862'): '4821022', ('1663861', '1664019'): '4842594', ('15378', '1663861'): '4821020', ('2024347', '1663861'): '4828131', ('1663862', '1663861'): '4842408', ('1664019', '1663861'): '4821208', ('1662247', '1662403'): '4829341', ('1662247', '2270162'): '5571407', ('1662247', '1662248'): '4829342', ('1662403', '1662247'): '4850726', ('2270162', '1662247'): '5571408', ('1662248', '1662247'): '4850727', ('2012366', '1679484'): '5038711', ('2012366', '1679489'): '4884788', ('2012366', '2049154'): '5143282', ('2012366', '1679488'): '4884785', ('1679484', '2012366'): '5038708', ('1679489', '2012366'): '4884787', ('2049154', '2012366'): '5143283', ('1679488', '2012366'): '4884786', ('2020746', '1662751'): '5077164', ('1662751', '2020746'): '5077165', ('1662118', '1662120'): '4850938', ('1662118', '1662117'): '4819321', ('1662118', '1661897'): '4819317', ('1662118', '1662178'): '4840765', ('1662120', '1662118'): '4829553', ('1662117', '1662118'): '4840707', ('1661897', '1662118'): '4840703', ('1662178', '1662118'): '4819379', ('1663515', '1663438'): '4842006', ('1663515', '1663430'): '4842007', ('1663515', '1663661'): '4820804', ('1663438', '1663515'): '4820620', ('1663430', '1663515'): '4820621', ('1663661', '1663515'): '4842190', ('1662343', '1662270'): '4819496', ('1662343', '1662187'): '4819495', ('1662343', '1662409'): '4840915', ('1662270', '1662343'): '4840882', ('1662187', '1662343'): '4840881', ('1662409', '1662343'): '4819529', ('1662183', '1662181'): '4819385', ('1662183', '1662129'): '4819384', ('1662183', '1662192'): '4840779', ('1662181', '1662183'): '4840771', ('1662129', '1662183'): '4840770', ('1662192', '1662183'): '4819393', ('1662062', '1662187'): '4840792', ('1662062', '1661940'): '4819289', ('1662062', '1661952'): '4840676', ('1662187', '1662062'): '4819406', ('1661940', '1662062'): '4840675', ('1661952', '1662062'): '4819290', ('2023816', '1665586'): '5099323', ('1665586', '2023816'): '5099322', ('1661593', '1661614'): '4851994', ('1661593', '1661566'): '4851988', ('1661593', '1661585'): '4830604', ('1661614', '1661593'): '4830609', ('1661566', '1661593'): '4830603', ('1661585', '1661593'): '4851989', ('2011531', '1662964'): '5036165', ('2011531', '1663276'): '5036167', ('1662964', '2011531'): '5036166', ('1663276', '2011531'): '5036164', ('1664137', '1664344'): '4821557', ('1664137', '1664271'): '4842826', ('1664137', '1664082'): '4821340', ('1664137', '1664063'): '4842725', ('1664344', '1664137'): '4842943', ('1664271', '1664137'): '4821440', ('1664082', '1664137'): '4842726', ('1664063', '1664137'): '4821339', ('1662756', '1662753'): '4841265', ('1662756', '1662752'): '4819880', ('1662756', '1662698'): '4819878', ('1662756', '1662804'): '4851150', ('1662753', '1662756'): '4819879', ('1662752', '1662756'): '4841266', ('1662698', '1662756'): '4841264', ('1662804', '1662756'): '4829765', ('1662307', '1662280'): '5314061', ('1662307', '1662353'): '5314065', ('1662307', '1662258'): '4850955', ('1662280', '1662307'): '5314060', ('1662353', '1662307'): '5314066', ('1662258', '1662307'): '4829570', ('1663355', '1663352'): '4841857', ('1663355', '1663492'): '4820612', ('1663355', '1662857'): '5064056', ('1663352', '1663355'): '4820471', ('1663492', '1663355'): '4841998', ('1662857', '1663355'): '5064055', ('1662109', '1662040'): '4852029', ('1662040', '1662109'): '4830644', ('1663668', '1663646'): '4851161', ('1663668', '1663687'): '4849534', ('1663668', '1663601'): '4820809', ('1663646', '1663668'): '4829776', ('1663687', '1663668'): '4828149', ('1663601', '1663668'): '4842195', ('1667104', '1667021'): '4845911', ('1667104', '1667174'): '4824608', ('1667104', '1667028'): '4824518', ('1667104', '1667083'): '4845903', ('1667021', '1667104'): '4824525', ('1667174', '1667104'): '4845994', ('1667028', '1667104'): '4845904', ('1667083', '1667104'): '4824517', ('1662337', '1662365'): '4840868', ('1662337', '1661833'): '4840848', ('1662337', '1662176'): '4819463', ('1662365', '1662337'): '4819482', ('1661833', '1662337'): '4819462', ('1662176', '1662337'): '4840849', ('2011680', '2011687'): '5036608', ('2011680', '2011681'): '5036590', ('2011680', '2005125'): '5036589', ('2011687', '2011680'): '5036609', ('2011681', '2011680'): '5036591', ('2005125', '2011680'): '5036588', ('2020755', '1664147'): '5077176', ('1664147', '2020755'): '5077177', ('1663343', '1662430'): '4841769', ('1663343', '2296035'): '5497021', ('1663343', '1663366'): '5064363', ('1663343', '1664722'): '4827446', ('1662430', '1663343'): '4820383', ('2296035', '1663343'): '5497024', ('1663366', '1663343'): '5064362', ('1664722', '1663343'): '4848831', ('1662001', '1662003'): '4840661', ('1662001', '1662000'): '4819274', ('1662001', '2036959'): '5126006', ('1662003', '1662001'): '4819275', ('1662000', '1662001'): '4840660', ('2036959', '1662001'): '5126007', ('2132001', '2131986'): '5253102', ('2131986', '2132001'): '5253101', ('1662305', '1662314'): '4840862', ('1662314', '1662305'): '4819476', ('1662638', '1662751'): '4841263', ('1662751', '1662638'): '4819877', ('1663289', '1663265'): '4848840', ('1663265', '1663289'): '4827455', ('1662241', '1662314'): '4840863', ('1662314', '1662241'): '4819477', ('1662427', '1662503'): '4840997', ('1662503', '1662427'): '4819611', ('2036955', '1661988'): '5126000', ('1661988', '2036955'): '5126001', ('10503', '1662121'): '4840756', ('10503', '1662177'): '5538763', ('10503', '1662309'): '4819458', ('10503', '1662064'): '5454902', ('1662121', '10503'): '4819370', ('1662177', '10503'): '5538762', ('1662309', '10503'): '4840844', ('1662064', '10503'): '5454901', ('1662512', '1662457'): '4819650', ('1662512', '1662521'): '4819659', ('1662457', '1662512'): '4841036', ('1662521', '1662512'): '4819658', ('1677469', '1677461'): '4876957', ('1677469', '2023863'): '5571406', ('1677469', '2030909'): '5114618', ('1677461', '1677469'): '4876956', ('2023863', '1677469'): '5571405', ('2030909', '1677469'): '5114619', ('1661837', '1661851'): '4840547', ('1661851', '1661837'): '4819161', ('2005107', '1662276'): '5016286', ('2005107', '1662319'): '5016283', ('2005107', '2005110'): '5016294', ('1662276', '2005107'): '5016285', ('1662319', '2005107'): '5016284', ('2005110', '2005107'): '5016293', ('2026288', '1661744'): '5098676', ('1661744', '2026288'): '5098673', ('1663083', '1663072'): '4820201', ('1663083', '1663090'): '4841589', ('1663083', '2046614'): '5139942', ('1663072', '1663083'): '4841587', ('1663090', '1663083'): '4820203', ('2046614', '1663083'): '5139943', ('1662589', '1662563'): '4841098', ('1662589', '1662521'): '4819707', ('1662589', '1662679'): '4841153', ('1662589', '1662596'): '4819713', ('1662563', '1662589'): '4819712', ('1662521', '1662589'): '4841093', ('1662679', '1662589'): '4819767', ('1662596', '1662589'): '4841099', ('2005014', '1661966'): '5015966', ('2005014', '2005127'): '5049334', ('2005014', '2005018'): '5015975', ('1661966', '2005014'): '5015965', ('2005127', '2005014'): '5049335', ('2005018', '2005014'): '5015976', ('1668285', '1668463'): '4852216', ('1668463', '1668285'): '4830831', ('1661951', '1661993'): '4840587', ('1661993', '1661951'): '4819201', ('1662264', '1662286'): '5084388', ('1662286', '1662264'): '5084389', ('2059734', '1663464'): '5157272', ('2059734', '2059735'): '5157275', ('2059734', '1662404'): '5571410', ('1663464', '2059734'): '5157273', ('2059735', '2059734'): '5157276', ('1662404', '2059734'): '5571409', ('1665552', '1665671'): '4822817', ('1665552', '1665612'): '4822724', ('1665552', '1665410'): '4844040', ('1665671', '1665552'): '4844203', ('1665612', '1665552'): '4844110', ('1665410', '1665552'): '4822654', ('1664032', '1664063'): '4821277', ('1664063', '1664032'): '4842663', ('2246581', '2213962'): '5414618', ('2213962', '2246581'): '5414617', ('1665902', '1665971'): '4850782', ('1665971', '1665902'): '4829397', ('1667586', '1667587'): '4846364', ('1667587', '1667586'): '4824978', ('10787', '1665038'): '4843509', ('1665038', '10787'): '4822123', ('1664056', '1664052'): '4851165', ('1664052', '1664056'): '4829780', ('2176407', '15381'): '5314540', ('2176407', '1663328'): '5314338', ('2290837', '2176407'): '5488958', ('1663329', '2176407'): '5314337', ('1666420', '1666385'): '4845136', ('1666385', '1666420'): '4823750', ('1662732', '1662753'): '4819873', ('1662732', '1662731'): '4841238', ('1662732', '1662679'): '4841237', ('1662753', '1662732'): '4841259', ('1662731', '1662732'): '4819852', ('1662679', '1662732'): '4819851', ('1662602', '1662320'): '4841061', ('1662602', '1662615'): '4819690', ('1662602', '1662635'): '4819692', ('1662320', '1662602'): '4819675', ('1662615', '1662602'): '4841076', ('1662635', '1662602'): '4841078', ('1663919', '1663851'): '4842489', ('1663919', '1663829'): '5064567', ('1663919', '1663972'): '4821157', ('1663851', '1663919'): '4821103', ('1663829', '1663919'): '5064568', ('1663972', '1663919'): '4842543', ('2003172', '1668231'): '5009928', ('2003172', '1668213'): '5009930', ('2003172', '2003173'): '5009932', ('1668231', '2003172'): '5009931', ('1668213', '2003172'): '5009929', ('2003173', '2003172'): '5009933', ('1662528', '1662513'): '4819612', ('1662528', '10668'): '5455235', ('1662528', '1662482'): '5455234', ('1662513', '1662528'): '4840998', ('10668', '1662528'): '5455236', ('1662482', '1662528'): '5455233', ('2212306', '2212303'): '5366470', ('2212303', '2212306'): '5366469'}\n"
     ]
    }
   ],
   "source": [
    "idToRoad =  []\n",
    "with open(\"../turning_network_linkID_updated.csv\",'r') as f:\n",
    "    idToRoad = csv.reader(f)\n",
    "    idToRoad = list(idToRoad)\n",
    "    \n",
    "idToRoadDict = {}\n",
    "roadToIdDict ={}\n",
    "for element in idToRoad:\n",
    "    idToRoadDict[element[0]] = (element[1],element[2])\n",
    "    if \"intersection\" not in element[0]:\n",
    "        roadToIdDict[element[1].split('_')[0],element[2].split('_')[0]] = element[0]\n",
    "#\n",
    "print(roadToIdDict)    "
   ]
  },
  {
   "cell_type": "code",
   "execution_count": 467,
   "metadata": {},
   "outputs": [],
   "source": [
    "with open(\"global_trips_500.pk\",'rb') as f:\n",
    "    global_dict = pickle.load(f)"
   ]
  },
  {
   "cell_type": "code",
   "execution_count": 468,
   "metadata": {},
   "outputs": [],
   "source": [
    "global_trip_grouped = {}\n",
    "for i in range(5):\n",
    "    global_trip_grouped[i] = []\n",
    "    \n",
    "for i in range(1,501):\n",
    "    key = \"l\" + str(i)\n",
    "    global_trip_grouped[color_labels[i-1]].append(global_dict[key])"
   ]
  },
  {
   "cell_type": "code",
   "execution_count": 469,
   "metadata": {},
   "outputs": [],
   "source": [
    "def pageRank(trips, origin = '1666494', destination = '1662728'): # input a bunch of trips, return a recommendation for route\n",
    "    dualArcs = {} # store the arcs for dual graph\n",
    "    originalG = nx.DiGraph()\n",
    "    #print(len(trips))\n",
    "    for t in trips:\n",
    "        subG = nx.DiGraph()\n",
    "        arcList = []\n",
    "        for road in t:\n",
    "            startNode = idToRoadDict[str(road)][0].split('_')[0]\n",
    "            endNode = idToRoadDict[str(road)][1].split('_')[0]\n",
    "            arcList.append((startNode,endNode))\n",
    "        subG.add_edges_from(arcList)\n",
    "        \n",
    "        # find the path to be added to construct dual graph\n",
    "        path = nx.shortest_path(subG, origin, destination)\n",
    "        \n",
    "        for ind in range(len(path)-2):\n",
    "            originalG.add_edges_from([(path[ind],path[ind + 1])])\n",
    "            current_arc = path[ind]+'_to_'+path[ind + 1]\n",
    "            next_arc = path[ind + 1]+'_to_'+path[ind + 2]\n",
    "            if ind == 0:\n",
    "                if not (path[0] in dualArcs):\n",
    "                    dualArcs[path[0]] = {current_arc : 1}\n",
    "                else:\n",
    "                    if not(current_arc in dualArcs[path[0]]):\n",
    "                        dualArcs[path[0]][current_arc] = 1\n",
    "                    else:\n",
    "                        dualArcs[path[0]][current_arc] += 1\n",
    "            \n",
    "            if not (current_arc in dualArcs):\n",
    "                dualArcs[current_arc] = {next_arc : 1}\n",
    "            else:\n",
    "                if not (next_arc in dualArcs[current_arc]):\n",
    "                    dualArcs[current_arc][next_arc] = 1\n",
    "                else:\n",
    "                    dualArcs[current_arc][next_arc] += 1\n",
    "\n",
    "        last_arc = path[-2]+'_to_'+path[-1]\n",
    "        originalG.add_edges_from([(path[-2],path[-1])])\n",
    "        if not (last_arc in dualArcs):\n",
    "                dualArcs[last_arc] = {path[-1] : 1}\n",
    "        else:\n",
    "            if not (path[-1] in dualArcs[last_arc]):\n",
    "                dualArcs[last_arc][path[-1]] = 1\n",
    "            else:\n",
    "                dualArcs[last_arc][path[-1]] += 1\n",
    "                \n",
    "    for key in dualArcs:\n",
    "        sumCount = 0\n",
    "        for key2 in dualArcs[key]:\n",
    "            sumCount += dualArcs[key][key2]\n",
    "            \n",
    "        for key2 in dualArcs[key]:\n",
    "            dualArcs[key][key2] /= sumCount\n",
    "        \n",
    "    dualG = nx.DiGraph()\n",
    "    \n",
    "    dualArcList = []\n",
    "    for key in dualArcs:\n",
    "        for key2 in dualArcs[key]:\n",
    "            dualArcList.append((key,key2,{'weight':dualArcs[key][key2]}))\n",
    "            \n",
    "    dualG.add_edges_from(dualArcList)\n",
    "    dualG.add_edges_from([(destination,origin,{'weight':1})])\n",
    "    #record pageRank result\n",
    "    result = nx.pagerank(dualG, weight='weight', alpha=0.9)\n",
    "    \n",
    "    weightNode = {}\n",
    "    for k in result:\n",
    "        if '_to_' in k:\n",
    "            startNode = k.split('_to_')[0]\n",
    "            endNode = k.split('_to_')[1]\n",
    "            #print(startNode,endNode)\n",
    "            originalG[startNode][endNode]['weight'] = np.log(1/result[k])\n",
    "            weightNode[(startNode,endNode)] = np.log(1/result[k])\n",
    "    def returnWeight(start,end,weight):\n",
    "        \n",
    "        return weight['weight']\n",
    "            \n",
    "    optimalPath = nx.shortest_path(originalG,source=origin,target=destination,weight=returnWeight)\n",
    "    print(originalG['1666494'])\n",
    "    return optimalPath\n",
    "        \n",
    "        \n",
    "        "
   ]
  },
  {
   "cell_type": "code",
   "execution_count": 476,
   "metadata": {},
   "outputs": [
    {
     "name": "stdout",
     "output_type": "stream",
     "text": [
      "{'1666498': {'weight': 4.239842792876637}}\n"
     ]
    },
    {
     "data": {
      "text/plain": [
       "48"
      ]
     },
     "execution_count": 476,
     "metadata": {},
     "output_type": "execute_result"
    }
   ],
   "source": [
    "len(pageRank(global_trip_grouped[4]))"
   ]
  },
  {
   "cell_type": "code",
   "execution_count": 196,
   "metadata": {},
   "outputs": [
    {
     "data": {
      "text/plain": [
       "{'1666494': {'1666494_to_1666490': 0.4634146341463415,\n",
       "  '1666494_to_1666498': 0.5365853658536586},\n",
       " '1666490_to_1666480': {'1666480_to_1666485': 1.0},\n",
       " '1666480_to_1666485': {'1666485_to_1665861': 0.9473684210526315,\n",
       "  '1666485_to_1666589': 0.05263157894736842},\n",
       " '1666485_to_1665861': {'1665861_to_1665153': 1.0},\n",
       " '1665861_to_1665153': {'1665153_to_1664722': 1.0},\n",
       " '1665153_to_1664722': {'1664722_to_1663343': 1.0},\n",
       " '1664722_to_1663343': {'1663343_to_1662430': 0.4444444444444444,\n",
       "  '1663343_to_1663366': 0.5555555555555556},\n",
       " '1663343_to_1662430': {'1662430_to_2216703': 1.0},\n",
       " '1662430_to_2216703': {'2216703_to_1662252': 1.0},\n",
       " '2216703_to_1662252': {'1662252_to_1662165': 0.875,\n",
       "  '1662252_to_1662161': 0.125},\n",
       " '1662252_to_1662165': {'1662165_to_1662093': 1.0},\n",
       " '1662165_to_1662093': {'1662093_to_2252501': 1.0},\n",
       " '1662093_to_2252501': {'2252501_to_1661959': 1.0},\n",
       " '2252501_to_1661959': {'1661959_to_1661880': 1.0},\n",
       " '1661959_to_1661880': {'1661880_to_1661884': 1.0},\n",
       " '1661880_to_1661884': {'1661884_to_1661887': 1.0},\n",
       " '1661884_to_1661887': {'1661887_to_1661886': 1.0},\n",
       " '1661887_to_1661886': {'1661886_to_1661882': 1.0},\n",
       " '1661886_to_1661882': {'1661882_to_1661878': 1.0},\n",
       " '1661882_to_1661878': {'1661878_to_1662290': 1.0},\n",
       " '1661878_to_1662290': {'1662290_to_1662407': 1.0},\n",
       " '1662290_to_1662407': {'1662407_to_1662409': 1.0},\n",
       " '1662407_to_1662409': {'1662409_to_1662411': 1.0},\n",
       " '1662409_to_1662411': {'1662411_to_1662410': 1.0},\n",
       " '1662411_to_1662410': {'1662410_to_1662412': 1.0},\n",
       " '1662410_to_1662412': {'1662412_to_2051615': 1.0},\n",
       " '1662412_to_2051615': {'2051615_to_1662406': 1.0},\n",
       " '2051615_to_1662406': {'1662406_to_1662404': 1.0},\n",
       " '1662406_to_1662404': {'1662404_to_1662403': 1.0},\n",
       " '1662404_to_1662403': {'1662403_to_1662400': 1.0},\n",
       " '1662403_to_1662400': {'1662400_to_1662395': 1.0},\n",
       " '1662400_to_1662395': {'1662395_to_1679462': 1.0},\n",
       " '1662395_to_1679462': {'1679462_to_1662388': 1.0},\n",
       " '1679462_to_1662388': {'1662388_to_1662386': 1.0},\n",
       " '1662388_to_1662386': {'1662386_to_1662382': 1.0},\n",
       " '1662386_to_1662382': {'1662382_to_1662381': 1.0},\n",
       " '1662382_to_1662381': {'1662381_to_2011721': 1.0},\n",
       " '1662381_to_2011721': {'2011721_to_1662372': 1.0},\n",
       " '2011721_to_1662372': {'1662372_to_1662357': 0.9285714285714286,\n",
       "  '1662372_to_1662462': 0.07142857142857142},\n",
       " '1662372_to_1662357': {'1662357_to_2180752': 1.0},\n",
       " '1662357_to_2180752': {'2180752_to_2182350': 1.0},\n",
       " '2180752_to_2182350': {'2182350_to_1662349': 1.0},\n",
       " '2182350_to_1662349': {'1662349_to_10523': 0.8571428571428571,\n",
       "  '1662349_to_1662514': 0.14285714285714285},\n",
       " '1662349_to_10523': {'10523_to_1662358': 0.875, '10523_to_1662510': 0.125},\n",
       " '10523_to_1662358': {'1662358_to_1662394': 0.6190476190476191,\n",
       "  '1662358_to_1662453': 0.38095238095238093},\n",
       " '1662358_to_1662394': {'1662394_to_1662465': 1.0},\n",
       " '1662394_to_1662465': {'1662465_to_1662509': 0.5384615384615384,\n",
       "  '1662465_to_1662506': 0.46153846153846156},\n",
       " '1662465_to_1662509': {'1662509_to_1662715': 1.0},\n",
       " '1662509_to_1662715': {'1662715_to_1662794': 0.8823529411764706,\n",
       "  '1662715_to_2005027': 0.11764705882352941},\n",
       " '1662715_to_1662794': {'1662794_to_1662835': 1.0},\n",
       " '1662794_to_1662835': {'1662835_to_1662843': 1.0},\n",
       " '1662835_to_1662843': {'1662843_to_1662837': 1.0},\n",
       " '1662843_to_1662837': {'1662837_to_1662813': 1.0},\n",
       " '1662837_to_1662813': {'1662813_to_1662751': 1.0},\n",
       " '1662813_to_1662751': {'1662751_to_1662704': 1.0},\n",
       " '1662751_to_1662704': {'1662704_to_1662749': 0.8292682926829268,\n",
       "  '1662704_to_1662569': 0.17073170731707318},\n",
       " '1662704_to_1662749': {'1662749_to_1662738': 1.0},\n",
       " '1662749_to_1662738': {'1662738_to_1662728': 0.9705882352941176,\n",
       "  '1662738_to_1662681': 0.029411764705882353},\n",
       " '1662738_to_1662728': {'1662728': 1.0},\n",
       " '1666498_to_1666500': {'1666500_to_1666504': 1.0},\n",
       " '1666500_to_1666504': {'1666504_to_1666512': 1.0},\n",
       " '1666504_to_1666512': {'1666512_to_1666025': 0.9545454545454546,\n",
       "  '1666512_to_1666511': 0.045454545454545456},\n",
       " '1666512_to_1666025': {'1666025_to_1665735': 1.0},\n",
       " '1666025_to_1665735': {'1665735_to_1665120': 0.9523809523809523,\n",
       "  '1665735_to_1665671': 0.047619047619047616},\n",
       " '1665735_to_1665120': {'1665120_to_1664738': 1.0},\n",
       " '1665120_to_1664738': {'1664738_to_1664487': 1.0},\n",
       " '1664738_to_1664487': {'1664487_to_1663739': 1.0},\n",
       " '1664487_to_1663739': {'1663739_to_1663569': 1.0},\n",
       " '1663739_to_1663569': {'1663569_to_1663464': 0.3333333333333333,\n",
       "  '1663569_to_10698': 0.6666666666666666},\n",
       " '1663569_to_1663464': {'1663464_to_2059734': 1.0},\n",
       " '1663464_to_2059734': {'2059734_to_1662404': 1.0},\n",
       " '2059734_to_1662404': {'1662404_to_1662403': 1.0},\n",
       " '1662738_to_1662681': {'1662681_to_1662728': 1.0},\n",
       " '1662681_to_1662728': {'1662728': 1.0},\n",
       " '1666485_to_1666589': {'1666589_to_2010162': 1.0},\n",
       " '1666589_to_2010162': {'2010162_to_1666465': 1.0},\n",
       " '2010162_to_1666465': {'1666465_to_1676929': 1.0},\n",
       " '1666465_to_1676929': {'1676929_to_1666473': 1.0},\n",
       " '1676929_to_1666473': {'1666473_to_1666471': 1.0},\n",
       " '1666473_to_1666471': {'1666471_to_1665551': 1.0},\n",
       " '1666471_to_1665551': {'1665551_to_1665100': 1.0},\n",
       " '1665551_to_1665100': {'1665100_to_1664167': 1.0},\n",
       " '1665100_to_1664167': {'1664167_to_1663549': 1.0},\n",
       " '1664167_to_1663549': {'1663549_to_1662365': 1.0},\n",
       " '1663549_to_1662365': {'1662365_to_1662374': 1.0},\n",
       " '1662365_to_1662374': {'1662374_to_1662375': 1.0},\n",
       " '1662374_to_1662375': {'1662375_to_1662309': 1.0},\n",
       " '1662375_to_1662309': {'1662309_to_10503': 1.0},\n",
       " '1662309_to_10503': {'10503_to_1662121': 1.0},\n",
       " '10503_to_1662121': {'1662121_to_1662120': 1.0},\n",
       " '1662121_to_1662120': {'1662120_to_1662177': 1.0},\n",
       " '1662120_to_1662177': {'1662177_to_1662178': 1.0},\n",
       " '1662177_to_1662178': {'1662178_to_1662179': 1.0},\n",
       " '1662178_to_1662179': {'1662179_to_1662181': 1.0},\n",
       " '1662179_to_1662181': {'1662181_to_1662183': 1.0},\n",
       " '1662181_to_1662183': {'1662183_to_1662129': 1.0},\n",
       " '1662183_to_1662129': {'1662129_to_1662138': 1.0},\n",
       " '1662129_to_1662138': {'1662138_to_1662149': 1.0},\n",
       " '1662138_to_1662149': {'1662149_to_1662154': 1.0},\n",
       " '1662149_to_1662154': {'1662154_to_1662164': 1.0},\n",
       " '1662154_to_1662164': {'1662164_to_1662132': 1.0},\n",
       " '1662164_to_1662132': {'1662132_to_1662074': 1.0},\n",
       " '1662132_to_1662074': {'1662074_to_1662155': 1.0},\n",
       " '1662074_to_1662155': {'1662155_to_1662147': 1.0},\n",
       " '1662155_to_1662147': {'1662147_to_1662175': 1.0},\n",
       " '1662147_to_1662175': {'1662175_to_1662203': 1.0},\n",
       " '1662175_to_1662203': {'1662203_to_1662173': 1.0},\n",
       " '1662203_to_1662173': {'1662173_to_1662098': 1.0},\n",
       " '1662173_to_1662098': {'1662098_to_1662096': 1.0},\n",
       " '1662098_to_1662096': {'1662096_to_1662093': 1.0},\n",
       " '1662096_to_1662093': {'1662093_to_2252501': 1.0},\n",
       " '1662349_to_1662514': {'1662514_to_1662755': 1.0},\n",
       " '1662514_to_1662755': {'1662755_to_1662750': 1.0},\n",
       " '1662755_to_1662750': {'1662750_to_1662735': 1.0},\n",
       " '1662750_to_1662735': {'1662735_to_1662731': 1.0},\n",
       " '1662735_to_1662731': {'1662731_to_1662732': 1.0},\n",
       " '1662731_to_1662732': {'1662732_to_1662753': 0.8888888888888888,\n",
       "  '1662732_to_1662679': 0.1111111111111111},\n",
       " '1662732_to_1662753': {'1662753_to_1662803': 0.2222222222222222,\n",
       "  '1662753_to_1662756': 0.5555555555555556,\n",
       "  '1662753_to_1662694': 0.2222222222222222},\n",
       " '1662753_to_1662803': {'1662803_to_1662945': 1.0},\n",
       " '1662803_to_1662945': {'1662945_to_1663079': 1.0},\n",
       " '1662945_to_1663079': {'1663079_to_1663076': 1.0},\n",
       " '1663079_to_1663076': {'1663076_to_1663078': 1.0},\n",
       " '1663076_to_1663078': {'1663078_to_1663081': 0.75,\n",
       "  '1663078_to_1663032': 0.25},\n",
       " '1663078_to_1663081': {'1663081_to_1663072': 1.0},\n",
       " '1663081_to_1663072': {'1663072_to_1663010': 0.6666666666666666,\n",
       "  '1663072_to_1663083': 0.3333333333333333},\n",
       " '1663072_to_1663010': {'1663010_to_1662961': 1.0},\n",
       " '1663010_to_1662961': {'1662961_to_1662914': 1.0},\n",
       " '1662961_to_1662914': {'1662914_to_1662835': 0.875,\n",
       "  '1662914_to_1662922': 0.125},\n",
       " '1662914_to_1662835': {'1662835_to_1662843': 1.0},\n",
       " '1662252_to_1662161': {'1662161_to_1662165': 1.0},\n",
       " '1662161_to_1662165': {'1662165_to_1662093': 1.0},\n",
       " '10523_to_1662510': {'1662510_to_1662750': 1.0},\n",
       " '1662510_to_1662750': {'1662750_to_1662735': 1.0},\n",
       " '1662372_to_1662462': {'1662462_to_1662463': 1.0},\n",
       " '1662462_to_1662463': {'1662463_to_1662357': 1.0},\n",
       " '1662463_to_1662357': {'1662357_to_2180752': 1.0},\n",
       " '1662753_to_1662756': {'1662756_to_1662752': 1.0},\n",
       " '1662756_to_1662752': {'1662752_to_1662715': 1.0},\n",
       " '1662752_to_1662715': {'1662715_to_1662794': 0.45454545454545453,\n",
       "  '1662715_to_2005027': 0.5454545454545454},\n",
       " '1662358_to_1662453': {'1662453_to_1662457': 0.25,\n",
       "  '1662453_to_1662596': 0.75},\n",
       " '1662453_to_1662457': {'1662457_to_1662506': 1.0},\n",
       " '1662457_to_1662506': {'1662506_to_1662563': 1.0},\n",
       " '1662506_to_1662563': {'1662563_to_1662625': 1.0},\n",
       " '1662563_to_1662625': {'1662625_to_1662561': 0.8181818181818182,\n",
       "  '1662625_to_1662694': 0.18181818181818182},\n",
       " '1662625_to_1662561': {'1662561_to_1662509': 1.0},\n",
       " '1662561_to_1662509': {'1662509_to_1662715': 1.0},\n",
       " '1662465_to_1662506': {'1662506_to_1662563': 1.0},\n",
       " '1663343_to_1663366': {'1663366_to_10668': 1.0},\n",
       " '1663366_to_10668': {'10668_to_1663464': 1.0},\n",
       " '10668_to_1663464': {'1663464_to_2059734': 0.6, '1663464_to_1663569': 0.4},\n",
       " '1663569_to_10698': {'10698_to_10695': 1.0},\n",
       " '10698_to_10695': {'10695_to_10691': 1.0},\n",
       " '10695_to_10691': {'10691_to_1663401': 1.0},\n",
       " '10691_to_1663401': {'1663401_to_1663394': 1.0},\n",
       " '1663401_to_1663394': {'1663394_to_1663378': 1.0},\n",
       " '1663394_to_1663378': {'1663378_to_1663308': 0.631578947368421,\n",
       "  '1663378_to_2176343': 0.3684210526315789},\n",
       " '1663378_to_1663308': {'1663308_to_1663180': 1.0},\n",
       " '1663308_to_1663180': {'1663180_to_1662964': 1.0},\n",
       " '1663180_to_1662964': {'1662964_to_1662902': 0.5, '1662964_to_2011531': 0.5},\n",
       " '1662964_to_1662902': {'1662902_to_2011721': 1.0},\n",
       " '1662902_to_2011721': {'2011721_to_1662372': 1.0},\n",
       " '1662453_to_1662596': {'1662596_to_1662589': 1.0},\n",
       " '1662596_to_1662589': {'1662589_to_1662563': 0.5, '1662589_to_1662679': 0.5},\n",
       " '1662589_to_1662563': {'1662563_to_1662625': 1.0},\n",
       " '1662625_to_1662694': {'1662694_to_1662698': 0.5, '1662694_to_1662753': 0.5},\n",
       " '1662694_to_1662698': {'1662698_to_1662756': 1.0},\n",
       " '1662698_to_1662756': {'1662756_to_1662752': 1.0},\n",
       " '1662704_to_1662569': {'1662569_to_1662604': 1.0},\n",
       " '1662569_to_1662604': {'1662604_to_1662681': 1.0},\n",
       " '1662604_to_1662681': {'1662681_to_1662728': 1.0},\n",
       " '1662753_to_1662694': {'1662694_to_1662625': 0.5, '1662694_to_1662698': 0.5},\n",
       " '1662694_to_1662625': {'1662625_to_1662561': 1.0},\n",
       " '1662589_to_1662679': {'1662679_to_1662694': 0.6666666666666666,\n",
       "  '1662679_to_1662732': 0.3333333333333333},\n",
       " '1662679_to_1662694': {'1662694_to_1662698': 1.0},\n",
       " '1665735_to_1665671': {'1665671_to_1665552': 1.0},\n",
       " '1665671_to_1665552': {'1665552_to_1665410': 1.0},\n",
       " '1665552_to_1665410': {'1665410_to_1665116': 1.0},\n",
       " '1665410_to_1665116': {'1665116_to_1665118': 1.0},\n",
       " '1665116_to_1665118': {'1665118_to_1665120': 1.0},\n",
       " '1665118_to_1665120': {'1665120_to_1664738': 1.0},\n",
       " '1663378_to_2176343': {'2176343_to_2290881': 0.7142857142857143,\n",
       "  '2176343_to_1663358': 0.2857142857142857},\n",
       " '2176343_to_2290881': {'2290881_to_2176384': 1.0},\n",
       " '2290881_to_2176384': {'2176384_to_2290840': 0.8,\n",
       "  '2176384_to_1663320': 0.1,\n",
       "  '2176384_to_2011622': 0.1},\n",
       " '2176384_to_2290840': {'2290840_to_2290837': 1.0},\n",
       " '2290840_to_2290837': {'2290837_to_2176407': 1.0},\n",
       " '2290837_to_2176407': {'2176407_to_15381': 1.0},\n",
       " '2176407_to_15381': {'15381_to_1663319': 0.8888888888888888,\n",
       "  '15381_to_1679719': 0.1111111111111111},\n",
       " '15381_to_1663319': {'1663319_to_1663314': 1.0},\n",
       " '1663319_to_1663314': {'1663314_to_1663301': 0.875,\n",
       "  '1663314_to_1663229': 0.125},\n",
       " '1663314_to_1663301': {'1663301_to_1663299': 0.8571428571428571,\n",
       "  '1663301_to_1663224': 0.14285714285714285},\n",
       " '1663301_to_1663299': {'1663299_to_1663294': 0.6666666666666666,\n",
       "  '1663299_to_1663218': 0.3333333333333333},\n",
       " '1663299_to_1663294': {'1663294_to_1663208': 0.5, '1663294_to_1663291': 0.5},\n",
       " '1663294_to_1663208': {'1663208_to_1663203': 1.0},\n",
       " '1663208_to_1663203': {'1663203_to_1663205': 0.875,\n",
       "  '1663203_to_1663139': 0.125},\n",
       " '1663203_to_1663205': {'1663205_to_1663207': 1.0},\n",
       " '1663205_to_1663207': {'1663207_to_1663216': 0.2857142857142857,\n",
       "  '1663207_to_1663143': 0.7142857142857143},\n",
       " '1663207_to_1663216': {'1663216_to_1663228': 1.0},\n",
       " '1663216_to_1663228': {'1663228_to_1663072': 1.0},\n",
       " '1663228_to_1663072': {'1663072_to_1663083': 0.75,\n",
       "  '1663072_to_1663010': 0.25},\n",
       " '1663072_to_1663083': {'1663083_to_1663090': 1.0},\n",
       " '1663083_to_1663090': {'1663090_to_1662933': 0.2, '1663090_to_1663059': 0.8},\n",
       " '1663090_to_1662933': {'1662933_to_1662843': 1.0},\n",
       " '1662933_to_1662843': {'1662843_to_1662837': 1.0},\n",
       " '1662715_to_2005027': {'2005027_to_1679723': 1.0},\n",
       " '2005027_to_1679723': {'1679723_to_1662794': 1.0},\n",
       " '1679723_to_1662794': {'1662794_to_1662835': 1.0},\n",
       " '1662679_to_1662732': {'1662732_to_1662753': 1.0},\n",
       " '1662964_to_2011531': {'2011531_to_1663276': 1.0},\n",
       " '2011531_to_1663276': {'1663276_to_1663210': 0.16666666666666666,\n",
       "  '1663276_to_1663358': 0.8333333333333334},\n",
       " '1663276_to_1663210': {'1663210_to_1663212': 1.0},\n",
       " '1663210_to_1663212': {'1663212_to_1663215': 1.0},\n",
       " '1663212_to_1663215': {'1663215_to_2034269': 0.6666666666666666,\n",
       "  '1663215_to_1663320': 0.3333333333333333},\n",
       " '1663215_to_2034269': {'2034269_to_2034246': 1.0},\n",
       " '2034269_to_2034246': {'2034246_to_2034248': 1.0},\n",
       " '2034246_to_2034248': {'2034248_to_2034247': 1.0},\n",
       " '2034248_to_2034247': {'2034247_to_1662946': 0.6666666666666666,\n",
       "  '2034247_to_1663014': 0.3333333333333333},\n",
       " '2034247_to_1662946': {'1662946_to_1662750': 1.0},\n",
       " '1662946_to_1662750': {'1662750_to_1662735': 1.0},\n",
       " '1662732_to_1662679': {'1662679_to_1662694': 1.0},\n",
       " '1663276_to_1663358': {'1663358_to_2176343': 1.0},\n",
       " '1663358_to_2176343': {'2176343_to_2290881': 1.0},\n",
       " '2176384_to_1663320': {'1663320_to_1663215': 1.0},\n",
       " '1663320_to_1663215': {'1663215_to_2034269': 1.0},\n",
       " '1662694_to_1662753': {'1662753_to_1662756': 1.0},\n",
       " '1666512_to_1666511': {'1666511_to_1666414': 1.0},\n",
       " '1666511_to_1666414': {'1666414_to_1666324': 1.0},\n",
       " '1666414_to_1666324': {'1666324_to_1666240': 1.0},\n",
       " '1666324_to_1666240': {'1666240_to_1666112': 1.0},\n",
       " '1666240_to_1666112': {'1666112_to_1666113': 1.0},\n",
       " '1666112_to_1666113': {'1666113_to_1679415': 1.0},\n",
       " '1666113_to_1679415': {'1679415_to_1665652': 1.0},\n",
       " '1679415_to_1665652': {'1665652_to_1665603': 1.0},\n",
       " '1665652_to_1665603': {'1665603_to_1665455': 1.0},\n",
       " '1665603_to_1665455': {'1665455_to_1665354': 1.0},\n",
       " '1665455_to_1665354': {'1665354_to_1665127': 1.0},\n",
       " '1665354_to_1665127': {'1665127_to_1665133': 1.0},\n",
       " '1665127_to_1665133': {'1665133_to_1664489': 1.0},\n",
       " '1665133_to_1664489': {'1664489_to_1663943': 1.0},\n",
       " '1664489_to_1663943': {'1663943_to_10698': 1.0},\n",
       " '1663943_to_10698': {'10698_to_10695': 1.0},\n",
       " '2176343_to_1663358': {'1663358_to_1663276': 1.0},\n",
       " '1663358_to_1663276': {'1663276_to_1663210': 1.0},\n",
       " '2034247_to_1663014': {'1663014_to_1663106': 1.0},\n",
       " '1663014_to_1663106': {'1663106_to_1663164': 1.0},\n",
       " '1663106_to_1663164': {'1663164_to_1663160': 1.0},\n",
       " '1663164_to_1663160': {'1663160_to_1663227': 1.0},\n",
       " '1663160_to_1663227': {'1663227_to_1663224': 1.0},\n",
       " '1663227_to_1663224': {'1663224_to_1663218': 1.0},\n",
       " '1663224_to_1663218': {'1663218_to_1663208': 0.75,\n",
       "  '1663218_to_1663149': 0.25},\n",
       " '1663218_to_1663208': {'1663208_to_1663203': 1.0},\n",
       " '1663207_to_1663143': {'1663143_to_1663078': 1.0},\n",
       " '1663143_to_1663078': {'1663078_to_1663032': 0.4, '1663078_to_1663081': 0.6},\n",
       " '1663078_to_1663032': {'1663032_to_1663010': 1.0},\n",
       " '1663032_to_1663010': {'1663010_to_1662961': 1.0},\n",
       " '1662914_to_1662922': {'1662922_to_1662933': 1.0},\n",
       " '1662922_to_1662933': {'1662933_to_1662843': 1.0},\n",
       " '1663464_to_1663569': {'1663569_to_10698': 1.0},\n",
       " '2176384_to_2011622': {'2011622_to_1663470': 1.0},\n",
       " '2011622_to_1663470': {'1663470_to_1663510': 1.0},\n",
       " '1663470_to_1663510': {'1663510_to_1663498': 1.0},\n",
       " '1663510_to_1663498': {'1663498_to_1663507': 1.0},\n",
       " '1663498_to_1663507': {'1663507_to_1663422': 1.0},\n",
       " '1663507_to_1663422': {'1663422_to_1663455': 1.0},\n",
       " '1663422_to_1663455': {'1663455_to_1663452': 1.0},\n",
       " '1663455_to_1663452': {'1663452_to_1663377': 1.0},\n",
       " '1663452_to_1663377': {'1663377_to_1663299': 1.0},\n",
       " '1663377_to_1663299': {'1663299_to_1663218': 1.0},\n",
       " '1663299_to_1663218': {'1663218_to_1663208': 1.0},\n",
       " '1663090_to_1663059': {'1663059_to_1662887': 1.0},\n",
       " '1663059_to_1662887': {'1662887_to_1662813': 1.0},\n",
       " '1662887_to_1662813': {'1662813_to_1662751': 1.0},\n",
       " '15381_to_1679719': {'1679719_to_1663395': 1.0},\n",
       " '1679719_to_1663395': {'1663395_to_1663390': 1.0},\n",
       " '1663395_to_1663390': {'1663390_to_1663383': 1.0},\n",
       " '1663390_to_1663383': {'1663383_to_1663301': 1.0},\n",
       " '1663383_to_1663301': {'1663301_to_1663224': 1.0},\n",
       " '1663301_to_1663224': {'1663224_to_1663218': 1.0},\n",
       " '1663218_to_1663149': {'1663149_to_1663079': 1.0},\n",
       " '1663149_to_1663079': {'1663079_to_1663076': 1.0},\n",
       " '1663294_to_1663291': {'1663291_to_1663292': 1.0},\n",
       " '1663291_to_1663292': {'1663292_to_1663293': 1.0},\n",
       " '1663292_to_1663293': {'1663293_to_1663344': 1.0},\n",
       " '1663293_to_1663344': {'1663344_to_1663297': 1.0},\n",
       " '1663344_to_1663297': {'1663297_to_1663228': 1.0},\n",
       " '1663297_to_1663228': {'1663228_to_1663072': 1.0},\n",
       " '1663314_to_1663229': {'1663229_to_1663227': 1.0},\n",
       " '1663229_to_1663227': {'1663227_to_1663224': 1.0},\n",
       " '1663215_to_1663320': {'1663320_to_2176384': 1.0},\n",
       " '1663320_to_2176384': {'2176384_to_2290840': 1.0},\n",
       " '1663203_to_1663139': {'1663139_to_1663076': 1.0},\n",
       " '1663139_to_1663076': {'1663076_to_1663078': 1.0}}"
      ]
     },
     "execution_count": 196,
     "metadata": {},
     "output_type": "execute_result"
    }
   ],
   "source": [
    "x"
   ]
  },
  {
   "cell_type": "code",
   "execution_count": 191,
   "metadata": {},
   "outputs": [
    {
     "data": {
      "text/plain": [
       "{'1666494': {'1666494_to_1666490': 6, '1666494_to_1666498': 6},\n",
       " '1666490_to_1666480': {'1666480_to_1666485': 6},\n",
       " '1666480_to_1666485': {'1666485_to_1665861': 6},\n",
       " '1666485_to_1665861': {'1665861_to_1665153': 6},\n",
       " '1665861_to_1665153': {'1665153_to_1664722': 6},\n",
       " '1665153_to_1664722': {'1664722_to_1663343': 6},\n",
       " '1664722_to_1663343': {'1663343_to_1663366': 6},\n",
       " '1663343_to_1663366': {'1663366_to_10668': 6},\n",
       " '1663366_to_10668': {'10668_to_1663464': 6},\n",
       " '10668_to_1663464': {'1663464_to_2059734': 5, '1663464_to_1663569': 1},\n",
       " '1663464_to_2059734': {'2059734_to_1662404': 8},\n",
       " '2059734_to_1662404': {'1662404_to_1662403': 8},\n",
       " '1662404_to_1662403': {'1662403_to_1662400': 8},\n",
       " '1662403_to_1662400': {'1662400_to_1662395': 8},\n",
       " '1662400_to_1662395': {'1662395_to_1679462': 8},\n",
       " '1662395_to_1679462': {'1679462_to_1662388': 8},\n",
       " '1679462_to_1662388': {'1662388_to_1662386': 8},\n",
       " '1662388_to_1662386': {'1662386_to_1662382': 8},\n",
       " '1662386_to_1662382': {'1662382_to_1662381': 8},\n",
       " '1662382_to_1662381': {'1662381_to_2011721': 8},\n",
       " '1662381_to_2011721': {'2011721_to_1662372': 8},\n",
       " '2011721_to_1662372': {'1662372_to_1662357': 9},\n",
       " '1662372_to_1662357': {'1662357_to_2180752': 9},\n",
       " '1662357_to_2180752': {'2180752_to_2182350': 9},\n",
       " '2180752_to_2182350': {'2182350_to_1662349': 9},\n",
       " '2182350_to_1662349': {'1662349_to_10523': 9},\n",
       " '1662349_to_10523': {'10523_to_1662358': 7, '10523_to_1662510': 2},\n",
       " '10523_to_1662358': {'1662358_to_1662394': 5, '1662358_to_1662453': 2},\n",
       " '1662358_to_1662394': {'1662394_to_1662465': 5},\n",
       " '1662394_to_1662465': {'1662465_to_1662506': 4, '1662465_to_1662509': 1},\n",
       " '1662465_to_1662506': {'1662506_to_1662563': 4},\n",
       " '1662506_to_1662563': {'1662563_to_1662625': 5},\n",
       " '1662563_to_1662625': {'1662625_to_1662561': 4, '1662625_to_1662694': 1},\n",
       " '1662625_to_1662561': {'1662561_to_1662509': 4},\n",
       " '1662561_to_1662509': {'1662509_to_1662715': 4},\n",
       " '1662509_to_1662715': {'1662715_to_2005027': 2, '1662715_to_1662794': 4},\n",
       " '1662715_to_2005027': {'2005027_to_1679723': 4},\n",
       " '2005027_to_1679723': {'1679723_to_1662794': 4},\n",
       " '1679723_to_1662794': {'1662794_to_1662835': 4},\n",
       " '1662794_to_1662835': {'1662835_to_1662843': 8},\n",
       " '1662835_to_1662843': {'1662843_to_1662837': 10},\n",
       " '1662843_to_1662837': {'1662837_to_1662813': 11},\n",
       " '1662837_to_1662813': {'1662813_to_1662751': 11},\n",
       " '1662813_to_1662751': {'1662751_to_1662704': 12},\n",
       " '1662751_to_1662704': {'1662704_to_1662569': 4, '1662704_to_1662749': 8},\n",
       " '1662704_to_1662569': {'1662569_to_1662604': 4},\n",
       " '1662569_to_1662604': {'1662604_to_1662681': 4},\n",
       " '1662604_to_1662681': {'1662681_to_1662728': 4},\n",
       " '1662681_to_1662728': {'1662728': 4},\n",
       " '10523_to_1662510': {'1662510_to_1662750': 2},\n",
       " '1662510_to_1662750': {'1662750_to_1662735': 2},\n",
       " '1662750_to_1662735': {'1662735_to_1662731': 2},\n",
       " '1662735_to_1662731': {'1662731_to_1662732': 2},\n",
       " '1662731_to_1662732': {'1662732_to_1662753': 2},\n",
       " '1662732_to_1662753': {'1662753_to_1662756': 2},\n",
       " '1662753_to_1662756': {'1662756_to_1662752': 2},\n",
       " '1662756_to_1662752': {'1662752_to_1662715': 2},\n",
       " '1662752_to_1662715': {'1662715_to_2005027': 2},\n",
       " '1662715_to_1662794': {'1662794_to_1662835': 4},\n",
       " '1662704_to_1662749': {'1662749_to_1662738': 8},\n",
       " '1662749_to_1662738': {'1662738_to_1662728': 8},\n",
       " '1662738_to_1662728': {'1662728': 8},\n",
       " '1662465_to_1662509': {'1662509_to_1662715': 2},\n",
       " '1666498_to_1666500': {'1666500_to_1666504': 6},\n",
       " '1666500_to_1666504': {'1666504_to_1666512': 6},\n",
       " '1666504_to_1666512': {'1666512_to_1666025': 6},\n",
       " '1666512_to_1666025': {'1666025_to_1665735': 6},\n",
       " '1666025_to_1665735': {'1665735_to_1665120': 6},\n",
       " '1665735_to_1665120': {'1665120_to_1664738': 6},\n",
       " '1665120_to_1664738': {'1664738_to_1664487': 6},\n",
       " '1664738_to_1664487': {'1664487_to_1663739': 6},\n",
       " '1664487_to_1663739': {'1663739_to_1663569': 6},\n",
       " '1663739_to_1663569': {'1663569_to_10698': 3, '1663569_to_1663464': 3},\n",
       " '1663569_to_10698': {'10698_to_10695': 4},\n",
       " '10698_to_10695': {'10695_to_10691': 4},\n",
       " '10695_to_10691': {'10691_to_1663401': 4},\n",
       " '10691_to_1663401': {'1663401_to_1663394': 4},\n",
       " '1663401_to_1663394': {'1663394_to_1663378': 4},\n",
       " '1663394_to_1663378': {'1663378_to_1663308': 2, '1663378_to_2176343': 2},\n",
       " '1663378_to_1663308': {'1663308_to_1663180': 2},\n",
       " '1663308_to_1663180': {'1663180_to_1662964': 2},\n",
       " '1663180_to_1662964': {'1662964_to_1662902': 1, '1662964_to_2011531': 1},\n",
       " '1662964_to_1662902': {'1662902_to_2011721': 1},\n",
       " '1662902_to_2011721': {'2011721_to_1662372': 1},\n",
       " '1662358_to_1662453': {'1662453_to_1662457': 2},\n",
       " '1662453_to_1662457': {'1662457_to_1662506': 2},\n",
       " '1662457_to_1662506': {'1662506_to_1662563': 1, '1662506_to_1662465': 1},\n",
       " '1663569_to_1663464': {'1663464_to_2059734': 3},\n",
       " '1662625_to_1662694': {'1662694_to_1662753': 1},\n",
       " '1662694_to_1662753': {'1662753_to_1662803': 1},\n",
       " '1662753_to_1662803': {'1662803_to_1662945': 1},\n",
       " '1662803_to_1662945': {'1662945_to_1663079': 1},\n",
       " '1662945_to_1663079': {'1663079_to_1663076': 1},\n",
       " '1663079_to_1663076': {'1663076_to_1663078': 3},\n",
       " '1663076_to_1663078': {'1663078_to_1663081': 2, '1663078_to_1663032': 1},\n",
       " '1663078_to_1663081': {'1663081_to_1663072': 2},\n",
       " '1663081_to_1663072': {'1663072_to_1663083': 1, '1663072_to_1663010': 1},\n",
       " '1663072_to_1663083': {'1663083_to_1663090': 1},\n",
       " '1663083_to_1663090': {'1663090_to_1663059': 1},\n",
       " '1663090_to_1663059': {'1663059_to_1662887': 1},\n",
       " '1663059_to_1662887': {'1662887_to_1662813': 1},\n",
       " '1662887_to_1662813': {'1662813_to_1662751': 1},\n",
       " '1663378_to_2176343': {'2176343_to_2290881': 2},\n",
       " '2176343_to_2290881': {'2290881_to_2176384': 3},\n",
       " '2290881_to_2176384': {'2176384_to_2290840': 3},\n",
       " '2176384_to_2290840': {'2290840_to_2290837': 3},\n",
       " '2290840_to_2290837': {'2290837_to_2176407': 3},\n",
       " '2290837_to_2176407': {'2176407_to_15381': 3},\n",
       " '2176407_to_15381': {'15381_to_1663319': 3},\n",
       " '15381_to_1663319': {'1663319_to_1663314': 3},\n",
       " '1663319_to_1663314': {'1663314_to_1663301': 3},\n",
       " '1663314_to_1663301': {'1663301_to_1663299': 2, '1663301_to_1663224': 1},\n",
       " '1663301_to_1663299': {'1663299_to_1663218': 2},\n",
       " '1663299_to_1663218': {'1663218_to_1663149': 2},\n",
       " '1663218_to_1663149': {'1663149_to_1663079': 2, '1663149_to_1663144': 1},\n",
       " '1663149_to_1663079': {'1663079_to_1663076': 2},\n",
       " '1663078_to_1663032': {'1663032_to_1662967': 1, '1663032_to_1663010': 1},\n",
       " '1663032_to_1662967': {'1662967_to_1662957': 1},\n",
       " '1662967_to_1662957': {'1662957_to_1662942': 1},\n",
       " '1662957_to_1662942': {'1662942_to_1662961': 1},\n",
       " '1662942_to_1662961': {'1662961_to_1662914': 1},\n",
       " '1662961_to_1662914': {'1662914_to_1662835': 2, '1662914_to_1662922': 1},\n",
       " '1662914_to_1662835': {'1662835_to_1662843': 2},\n",
       " '1663301_to_1663224': {'1663224_to_1663218': 1},\n",
       " '1663224_to_1663218': {'1663218_to_1663149': 1},\n",
       " '1663149_to_1663144': {'1663144_to_1663139': 1},\n",
       " '1663144_to_1663139': {'1663139_to_1663143': 1},\n",
       " '1663139_to_1663143': {'1663143_to_1663078': 1},\n",
       " '1663143_to_1663078': {'1663078_to_1663032': 1},\n",
       " '1663032_to_1663010': {'1663010_to_1662961': 1},\n",
       " '1663010_to_1662961': {'1662961_to_1662914': 2},\n",
       " '1662914_to_1662922': {'1662922_to_1662933': 1},\n",
       " '1662922_to_1662933': {'1662933_to_1662843': 1},\n",
       " '1662933_to_1662843': {'1662843_to_1662837': 1},\n",
       " '1663464_to_1663569': {'1663569_to_10698': 1},\n",
       " '1662964_to_2011531': {'2011531_to_1663276': 1},\n",
       " '2011531_to_1663276': {'1663276_to_1663358': 1},\n",
       " '1663276_to_1663358': {'1663358_to_2176343': 1},\n",
       " '1663358_to_2176343': {'2176343_to_2290881': 1},\n",
       " '1663072_to_1663010': {'1663010_to_1662961': 1},\n",
       " '1662506_to_1662465': {'1662465_to_1662509': 1}}"
      ]
     },
     "execution_count": 191,
     "metadata": {},
     "output_type": "execute_result"
    }
   ],
   "source": [
    "x"
   ]
  },
  {
   "cell_type": "code",
   "execution_count": 190,
   "metadata": {},
   "outputs": [
    {
     "ename": "TypeError",
     "evalue": "unsupported operand type(s) for +: 'int' and 'str'",
     "output_type": "error",
     "traceback": [
      "\u001b[0;31m---------------------------------------------------------------------------\u001b[0m",
      "\u001b[0;31mTypeError\u001b[0m                                 Traceback (most recent call last)",
      "\u001b[0;32m<ipython-input-190-6bf35e4486ce>\u001b[0m in \u001b[0;36m<module>\u001b[0;34m\u001b[0m\n\u001b[0;32m----> 1\u001b[0;31m \u001b[0msum\u001b[0m\u001b[0;34m(\u001b[0m\u001b[0mx\u001b[0m\u001b[0;34m[\u001b[0m\u001b[0;34m'1666494'\u001b[0m\u001b[0;34m]\u001b[0m\u001b[0;34m)\u001b[0m\u001b[0;34m\u001b[0m\u001b[0;34m\u001b[0m\u001b[0m\n\u001b[0m",
      "\u001b[0;31mTypeError\u001b[0m: unsupported operand type(s) for +: 'int' and 'str'"
     ]
    }
   ],
   "source": [
    "sum(x['1666494'])"
   ]
  },
  {
   "cell_type": "code",
   "execution_count": 186,
   "metadata": {},
   "outputs": [
    {
     "name": "stdout",
     "output_type": "stream",
     "text": [
      "7\n",
      "41\n",
      "8\n",
      "32\n",
      "12\n"
     ]
    }
   ],
   "source": [
    "for i in range(5):\n",
    "    print(len(global_trip_grouped[i]))"
   ]
  },
  {
   "cell_type": "code",
   "execution_count": 250,
   "metadata": {},
   "outputs": [],
   "source": [
    "subG = nx.DiGraph()"
   ]
  },
  {
   "cell_type": "code",
   "execution_count": 251,
   "metadata": {},
   "outputs": [],
   "source": [
    "arcList = []\n",
    "for road in global_dict['l2']:\n",
    "    startNode = idToRoadDict[str(road)][0].split('_')[0]\n",
    "    endNode = idToRoadDict[str(road)][1].split('_')[0]\n",
    "    arcList.append((startNode,endNode))"
   ]
  },
  {
   "cell_type": "code",
   "execution_count": 252,
   "metadata": {},
   "outputs": [],
   "source": [
    "subG.add_edges_from(arcList)"
   ]
  },
  {
   "cell_type": "code",
   "execution_count": 253,
   "metadata": {},
   "outputs": [],
   "source": [
    "path = nx.shortest_path(subG,'1666494','1662728')"
   ]
  },
  {
   "cell_type": "code",
   "execution_count": 254,
   "metadata": {},
   "outputs": [],
   "source": [
    "dualArcs = {}\n",
    "for ind in range(len(path)-2):\n",
    "    current_arc = path[ind]+'_to_'+path[ind + 1]\n",
    "    next_arc = path[ind + 1]+'_to_'+path[ind + 2]\n",
    "    if ind == 0:\n",
    "        if not (path[0] in dualArcs):\n",
    "            dualArcs[path[0]] = {current_arc : 1}\n",
    "        else:\n",
    "            if not(current_arc in dualArcs[path[0]]):\n",
    "                dualArcs[path[0]][current_arc] =  1\n",
    "            else:\n",
    "                dualArcs[path[0]][current_arc] +=  1\n",
    "    if not (current_arc in dualArcs):\n",
    "        dualArcs[current_arc] = {next_arc : 1}\n",
    "    else:\n",
    "        if not (next_arc in dualArcs[current_arc]):\n",
    "            dualArcs[current_arc][next_arc] = 1\n",
    "        else:\n",
    "            dualArcs[current_arc][next_arc] +=  1\n",
    "\n",
    "last_arc = path[-2]+'_to_'+path[-1]\n",
    "if not (last_arc in dualArcs):\n",
    "        dualArcs[last_arc] = {path[-1] : 1}\n",
    "else:\n",
    "    if not (path[-1] in dualArcs[last_arc]):\n",
    "        dualArcs[last_arc][path[-1]] = 1\n",
    "    else:\n",
    "        dualArcs[last_arc][path[-1]] +=  1\n",
    "\n",
    "            "
   ]
  },
  {
   "cell_type": "code",
   "execution_count": 255,
   "metadata": {},
   "outputs": [
    {
     "data": {
      "text/plain": [
       "{'1666494': {'1666494_to_1666490': 1},\n",
       " '1666494_to_1666490': {'1666490_to_1666480': 1},\n",
       " '1666490_to_1666480': {'1666480_to_1666485': 1},\n",
       " '1666480_to_1666485': {'1666485_to_1665861': 1},\n",
       " '1666485_to_1665861': {'1665861_to_1665153': 1},\n",
       " '1665861_to_1665153': {'1665153_to_1664722': 1},\n",
       " '1665153_to_1664722': {'1664722_to_1663343': 1},\n",
       " '1664722_to_1663343': {'1663343_to_1662430': 1},\n",
       " '1663343_to_1662430': {'1662430_to_2216703': 1},\n",
       " '1662430_to_2216703': {'2216703_to_1662252': 1},\n",
       " '2216703_to_1662252': {'1662252_to_1662165': 1},\n",
       " '1662252_to_1662165': {'1662165_to_1662093': 1},\n",
       " '1662165_to_1662093': {'1662093_to_2252501': 1},\n",
       " '1662093_to_2252501': {'2252501_to_1661959': 1},\n",
       " '2252501_to_1661959': {'1661959_to_1661880': 1},\n",
       " '1661959_to_1661880': {'1661880_to_1661884': 1},\n",
       " '1661880_to_1661884': {'1661884_to_1661887': 1},\n",
       " '1661884_to_1661887': {'1661887_to_1661886': 1},\n",
       " '1661887_to_1661886': {'1661886_to_1661882': 1},\n",
       " '1661886_to_1661882': {'1661882_to_1661878': 1},\n",
       " '1661882_to_1661878': {'1661878_to_1662290': 1},\n",
       " '1661878_to_1662290': {'1662290_to_1662407': 1},\n",
       " '1662290_to_1662407': {'1662407_to_1662409': 1},\n",
       " '1662407_to_1662409': {'1662409_to_1662411': 1},\n",
       " '1662409_to_1662411': {'1662411_to_1662410': 1},\n",
       " '1662411_to_1662410': {'1662410_to_1662412': 1},\n",
       " '1662410_to_1662412': {'1662412_to_2051615': 1},\n",
       " '1662412_to_2051615': {'2051615_to_1662406': 1},\n",
       " '2051615_to_1662406': {'1662406_to_1662404': 1},\n",
       " '1662406_to_1662404': {'1662404_to_1662403': 1},\n",
       " '1662404_to_1662403': {'1662403_to_1662400': 1},\n",
       " '1662403_to_1662400': {'1662400_to_1662395': 1},\n",
       " '1662400_to_1662395': {'1662395_to_1679462': 1},\n",
       " '1662395_to_1679462': {'1679462_to_1662388': 1},\n",
       " '1679462_to_1662388': {'1662388_to_1662386': 1},\n",
       " '1662388_to_1662386': {'1662386_to_1662382': 1},\n",
       " '1662386_to_1662382': {'1662382_to_1662381': 1},\n",
       " '1662382_to_1662381': {'1662381_to_2011721': 1},\n",
       " '1662381_to_2011721': {'2011721_to_1662372': 1},\n",
       " '2011721_to_1662372': {'1662372_to_1662357': 1},\n",
       " '1662372_to_1662357': {'1662357_to_2180752': 1},\n",
       " '1662357_to_2180752': {'2180752_to_2182350': 1},\n",
       " '2180752_to_2182350': {'2182350_to_1662349': 1},\n",
       " '2182350_to_1662349': {'1662349_to_10523': 1},\n",
       " '1662349_to_10523': {'10523_to_1662358': 1},\n",
       " '10523_to_1662358': {'1662358_to_1662394': 1},\n",
       " '1662358_to_1662394': {'1662394_to_1662465': 1},\n",
       " '1662394_to_1662465': {'1662465_to_1662509': 1},\n",
       " '1662465_to_1662509': {'1662509_to_1662715': 1},\n",
       " '1662509_to_1662715': {'1662715_to_1662794': 1},\n",
       " '1662715_to_1662794': {'1662794_to_1662835': 1},\n",
       " '1662794_to_1662835': {'1662835_to_1662843': 1},\n",
       " '1662835_to_1662843': {'1662843_to_1662837': 1},\n",
       " '1662843_to_1662837': {'1662837_to_1662813': 1},\n",
       " '1662837_to_1662813': {'1662813_to_1662751': 1},\n",
       " '1662813_to_1662751': {'1662751_to_1662704': 1},\n",
       " '1662751_to_1662704': {'1662704_to_1662749': 1},\n",
       " '1662704_to_1662749': {'1662749_to_1662738': 1},\n",
       " '1662749_to_1662738': {'1662738_to_1662728': 1},\n",
       " '1662738_to_1662728': {'1662728': 1}}"
      ]
     },
     "execution_count": 255,
     "metadata": {},
     "output_type": "execute_result"
    }
   ],
   "source": [
    "dualArcs"
   ]
  },
  {
   "cell_type": "code",
   "execution_count": 168,
   "metadata": {},
   "outputs": [
    {
     "data": {
      "text/plain": [
       "['1666494',\n",
       " '1666498',\n",
       " '1666500',\n",
       " '1666504',\n",
       " '1666512',\n",
       " '1666025',\n",
       " '1665735',\n",
       " '1665120',\n",
       " '1664738',\n",
       " '1664487',\n",
       " '1663739',\n",
       " '1663569',\n",
       " '1663464',\n",
       " '2059734',\n",
       " '1662404',\n",
       " '1662403',\n",
       " '1662400',\n",
       " '1662395',\n",
       " '1679462',\n",
       " '1662388',\n",
       " '1662386',\n",
       " '1662382',\n",
       " '1662381',\n",
       " '2011721',\n",
       " '1662372',\n",
       " '1662357',\n",
       " '2180752',\n",
       " '2182350',\n",
       " '1662349',\n",
       " '10523',\n",
       " '1662358',\n",
       " '1662394',\n",
       " '1662465',\n",
       " '1662509',\n",
       " '1662715',\n",
       " '1662794',\n",
       " '1662835',\n",
       " '1662843',\n",
       " '1662837',\n",
       " '1662813',\n",
       " '1662751',\n",
       " '1662704',\n",
       " '1662749',\n",
       " '1662738',\n",
       " '1662681',\n",
       " '1662728']"
      ]
     },
     "execution_count": 168,
     "metadata": {},
     "output_type": "execute_result"
    }
   ],
   "source": [
    "path"
   ]
  },
  {
   "cell_type": "code",
   "execution_count": 173,
   "metadata": {},
   "outputs": [
    {
     "data": {
      "text/plain": [
       "['1666494',\n",
       " '1666490',\n",
       " '1666480',\n",
       " '1666485',\n",
       " '1665861',\n",
       " '1665153',\n",
       " '1664722',\n",
       " '1663343',\n",
       " '1662430',\n",
       " '2216703',\n",
       " '1662252',\n",
       " '1662165',\n",
       " '1662093',\n",
       " '2252501',\n",
       " '1661959',\n",
       " '1661880',\n",
       " '1661884',\n",
       " '1661887',\n",
       " '1661886',\n",
       " '1661882',\n",
       " '1661878',\n",
       " '1662290',\n",
       " '1662407',\n",
       " '1662409',\n",
       " '1662411',\n",
       " '1662410',\n",
       " '1662412',\n",
       " '2051615',\n",
       " '1662406',\n",
       " '1662404',\n",
       " '1662403',\n",
       " '1662400',\n",
       " '1662395',\n",
       " '1679462',\n",
       " '1662388',\n",
       " '1662386',\n",
       " '1662382',\n",
       " '1662381',\n",
       " '2011721',\n",
       " '1662372',\n",
       " '1662357',\n",
       " '2180752',\n",
       " '2182350',\n",
       " '1662349',\n",
       " '10523',\n",
       " '1662358',\n",
       " '1662394',\n",
       " '1662465',\n",
       " '1662509',\n",
       " '1662715',\n",
       " '1662794',\n",
       " '1662835',\n",
       " '1662843',\n",
       " '1662837',\n",
       " '1662813',\n",
       " '1662751',\n",
       " '1662704',\n",
       " '1662749',\n",
       " '1662738',\n",
       " '1662728']"
      ]
     },
     "execution_count": 173,
     "metadata": {},
     "output_type": "execute_result"
    }
   ],
   "source": [
    "path"
   ]
  },
  {
   "cell_type": "code",
   "execution_count": 60,
   "metadata": {},
   "outputs": [
    {
     "ename": "SyntaxError",
     "evalue": "invalid syntax (<ipython-input-60-77ab2ca436f3>, line 1)",
     "output_type": "error",
     "traceback": [
      "\u001b[0;36m  File \u001b[0;32m\"<ipython-input-60-77ab2ca436f3>\"\u001b[0;36m, line \u001b[0;32m1\u001b[0m\n\u001b[0;31m    * starting point for paper\u001b[0m\n\u001b[0m               ^\u001b[0m\n\u001b[0;31mSyntaxError\u001b[0m\u001b[0;31m:\u001b[0m invalid syntax\n"
     ]
    }
   ],
   "source": [
    "\n",
    "* starting point for paper\n",
    " supply('1666494_2') = 1;\n",
    "\n",
    "\n",
    "* ending point for paper\n",
    " supply('1662728_3') = -1;"
   ]
  },
  {
   "cell_type": "code",
   "execution_count": 65,
   "metadata": {},
   "outputs": [],
   "source": [
    "trajectory_list = None\n",
    "with open(\"trajectories_100.csv\",'r') as f:\n",
    "    reader = csv.reader(f)\n",
    "    trajectory_list = list(reader)\n",
    "roadChosenIntermediate = trajectory_list[1:]\n",
    "\n",
    "# How many trajectories are there?\n",
    "trajectoryNum = 100\n",
    "\n",
    "# Create a dictionary to store route output for every trajectories\n",
    "trajDict = {}\n",
    "trajDictShape = {} # stores the roads shape for plotting\n",
    "trajNames = []\n",
    "for i in range(trajectoryNum):\n",
    "    s = 'l' + str(i+1)\n",
    "    trajNames.append(s)\n",
    "    trajDict[s] = []\n",
    "    trajDictShape[s] = []\n",
    "    \n",
    "for r in roadChosenIntermediate:\n",
    "    if 'intersection' not in r[0]:\n",
    "        trajDict[r[1]].append(int(r[0]))"
   ]
  },
  {
   "cell_type": "code",
   "execution_count": 81,
   "metadata": {},
   "outputs": [
    {
     "data": {
      "text/plain": [
       "68"
      ]
     },
     "execution_count": 81,
     "metadata": {},
     "output_type": "execute_result"
    }
   ],
   "source": [
    "len(trajDict['l1'])"
   ]
  },
  {
   "cell_type": "code",
   "execution_count": 416,
   "metadata": {},
   "outputs": [],
   "source": [
    "# delete after conversion\n",
    "with open(\"trajectories_500.csv\",'r') as f:\n",
    "    reader = csv.reader(f)\n",
    "    reader = list(reader)"
   ]
  },
  {
   "cell_type": "code",
   "execution_count": 417,
   "metadata": {},
   "outputs": [
    {
     "name": "stdout",
     "output_type": "stream",
     "text": [
      "['intersection_19', 'lamb5', 'l7']\n"
     ]
    }
   ],
   "source": [
    "reader = reader[1:]\n",
    "print(reader[0])"
   ]
  },
  {
   "cell_type": "code",
   "execution_count": 418,
   "metadata": {},
   "outputs": [],
   "source": [
    "new_list = []\n",
    "for i in reader:\n",
    "    lamb = int(i[1][-1]) - 1\n",
    "    loop = int(i[2][1:])\n",
    "    loopNum = lamb*100 + loop\n",
    "    new_list.append([i[0],\"l\"+str(loopNum)])\n",
    "\n",
    "new_list = [['road','loopNum']] + new_list"
   ]
  },
  {
   "cell_type": "code",
   "execution_count": 419,
   "metadata": {},
   "outputs": [],
   "source": [
    "with  open(\"trajectories_500.csv\",'w') as f:\n",
    "    writer = csv.writer(f)\n",
    "    writer.writerows(new_list)"
   ]
  },
  {
   "cell_type": "code",
   "execution_count": null,
   "metadata": {},
   "outputs": [],
   "source": []
  }
 ],
 "metadata": {
  "kernelspec": {
   "display_name": "Python 3",
   "language": "python",
   "name": "python3"
  },
  "language_info": {
   "codemirror_mode": {
    "name": "ipython",
    "version": 3
   },
   "file_extension": ".py",
   "mimetype": "text/x-python",
   "name": "python",
   "nbconvert_exporter": "python",
   "pygments_lexer": "ipython3",
   "version": "3.8.3"
  }
 },
 "nbformat": 4,
 "nbformat_minor": 4
}
