{
 "cells": [
  {
   "cell_type": "code",
   "execution_count": 65,
   "metadata": {},
   "outputs": [],
   "source": [
    "import numpy as np\n",
    "import matplotlib.pyplot as plt\n",
    "import pickle\n",
    "import csv\n",
    "import networkx as nx\n",
    "import scipy.stats as stats\n",
    "import math\n",
    "#from kneed import KneeLocator\n",
    "#from sklearn.datasets import make_blobs\n",
    "from sklearn.cluster import KMeans\n",
    "from sklearn.metrics import silhouette_score\n",
    "from sklearn.preprocessing import StandardScaler"
   ]
  },
  {
   "cell_type": "code",
   "execution_count": 363,
   "metadata": {},
   "outputs": [],
   "source": [
    "globalNumber = 500\n",
    "clusterNumber = 5\n",
    "\n",
    "# input cost vector to be visualzed\n",
    "with open(\"global_cost_vectors_500_lRand.pk\",'rb') as f:\n",
    "    global_cost = pickle.load(f)\n",
    "with open(\"global_trips_500_lRand.pk\",'rb') as f:\n",
    "    global_dict = pickle.load(f)\n",
    "# with open(\"global_trips.pk\",'rb') as f:\n",
    "#     global_dict = pickle.load(f)\n",
    "with open(\"local_cost_vectors.pk\",'rb') as f:\n",
    "    local_cost = pickle.load(f)"
   ]
  },
  {
   "cell_type": "code",
   "execution_count": 364,
   "metadata": {},
   "outputs": [
    {
     "data": {
      "text/plain": [
       "500"
      ]
     },
     "execution_count": 364,
     "metadata": {},
     "output_type": "execute_result"
    }
   ],
   "source": [
    "len(global_cost.keys())"
   ]
  },
  {
   "cell_type": "markdown",
   "metadata": {},
   "source": [
    "# Visualize with original data (2 factors : time and risk)"
   ]
  },
  {
   "cell_type": "code",
   "execution_count": 383,
   "metadata": {},
   "outputs": [],
   "source": [
    "global_cost_list = []\n",
    "time_list = []\n",
    "risk_list = []\n",
    "\n",
    "for k in global_cost:\n",
    "    time_list.append(global_cost[k][0][0])\n",
    "    risk_list.append(global_cost[k][0][1])\n",
    "    \n",
    "avgTime = np.mean(time_list)\n",
    "stdTime = np.std(time_list)\n",
    "avgRisk = np.mean(risk_list)\n",
    "stdRisk = np.std(risk_list)\n",
    "# normalized point\n",
    "global_time_normalized = []\n",
    "global_risk_normalized = []\n",
    "for k in global_cost:\n",
    "    temp = ((global_cost[k][0][0]-avgTime)/stdTime, (global_cost[k][0][1]-avgRisk)/stdRisk)\n",
    "    global_time_normalized.append((global_cost[k][0][0]-avgTime)/stdTime)\n",
    "    global_risk_normalized.append((global_cost[k][0][1]-avgRisk)/stdRisk)\n",
    "    global_cost_list.append(temp)\n",
    "    \n"
   ]
  },
  {
   "cell_type": "code",
   "execution_count": 385,
   "metadata": {},
   "outputs": [
    {
     "data": {
      "text/plain": [
       "500"
      ]
     },
     "execution_count": 385,
     "metadata": {},
     "output_type": "execute_result"
    }
   ],
   "source": [
    "len(global_cost_list)"
   ]
  },
  {
   "cell_type": "code",
   "execution_count": 367,
   "metadata": {},
   "outputs": [
    {
     "data": {
      "image/png": "[encoded data removed]",
      "text/plain": [
       "<Figure size 432x288 with 1 Axes>"
      ]
     },
     "metadata": {
      "needs_background": "light"
     },
     "output_type": "display_data"
    }
   ],
   "source": [
    "plt.scatter(global_time_normalized, global_risk_normalized)\n",
    "\n",
    "# 100 linearly spaced numbers\n",
    "x = np.linspace(-0.9,5,100)\n",
    "# the function, which is y = x^2 here\n",
    "y = 1/(x+1)**2 -1.4\n",
    "#y = 1/(x+1.2)**2 -1.6\n",
    "plt.ylim([-2, 2])\n",
    "plt.xlim([-1, 5])\n",
    "plt.plot(x,y, 'r')\n",
    "plt.show()"
   ]
  },
  {
   "cell_type": "code",
   "execution_count": 386,
   "metadata": {},
   "outputs": [],
   "source": [
    "def func(x,y):\n",
    "    return 1/(x+1)**2 -1.4 -y\n",
    "greenX = []\n",
    "greenY = []\n",
    "global_cost_list = []\n",
    "greenLoop = [] # stores the loop number\n",
    "\n",
    "blueX = []\n",
    "blueY =[]\n",
    "for i in range(len(global_time_normalized)):\n",
    "    #if True:\n",
    "    if func(global_time_normalized[i],global_risk_normalized[i]) >= 0:\n",
    "        greenX.append(global_time_normalized[i])\n",
    "        greenY.append(global_risk_normalized[i])\n",
    "        global_cost_list.append((global_time_normalized[i],global_risk_normalized[i]))\n",
    "        greenLoop.append(i+1)\n",
    "    else:\n",
    "        blueX.append(global_time_normalized[i])\n",
    "        blueY.append(global_risk_normalized[i])\n",
    "        "
   ]
  },
  {
   "cell_type": "code",
   "execution_count": 387,
   "metadata": {},
   "outputs": [
    {
     "data": {
      "text/plain": [
       "408"
      ]
     },
     "execution_count": 387,
     "metadata": {},
     "output_type": "execute_result"
    }
   ],
   "source": [
    "len(greenX)"
   ]
  },
  {
   "cell_type": "code",
   "execution_count": 388,
   "metadata": {},
   "outputs": [
    {
     "data": {
      "image/png": "[encoded data removed]",
      "text/plain": [
       "<Figure size 432x288 with 1 Axes>"
      ]
     },
     "metadata": {
      "needs_background": "light"
     },
     "output_type": "display_data"
    }
   ],
   "source": [
    "plt.scatter(blueX, blueY,c ='b')\n",
    "plt.scatter(greenX, greenY,c ='g')\n",
    "\n",
    "# 100 linearly spaced numbers\n",
    "x = np.linspace(-0.9,5,100)\n",
    "# the function, which is y = x^2 here\n",
    "y = 1/(x+1)**2 -1.4\n",
    "plt.ylim([-2, 2])\n",
    "plt.xlim([-1, 5])\n",
    "plt.plot(x,y, 'r')\n",
    "plt.show()"
   ]
  },
  {
   "cell_type": "code",
   "execution_count": 389,
   "metadata": {},
   "outputs": [
    {
     "data": {
      "image/png": "[encoded data removed]",
      "text/plain": [
       "<Figure size 432x288 with 1 Axes>"
      ]
     },
     "metadata": {
      "needs_background": "light"
     },
     "output_type": "display_data"
    }
   ],
   "source": [
    "#plt.scatter(blueX, blueY,c ='b')\n",
    "plt.scatter(greenX, greenY)\n",
    "\n",
    "\n",
    "plt.ylim([-2, 2])\n",
    "plt.xlim([-1, 5])\n",
    "#plt.plot(x,y, 'r')\n",
    "plt.show()"
   ]
  },
  {
   "cell_type": "code",
   "execution_count": 390,
   "metadata": {},
   "outputs": [
    {
     "data": {
      "text/plain": [
       "[1,\n",
       " 2,\n",
       " 3,\n",
       " 4,\n",
       " 5,\n",
       " 6,\n",
       " 7,\n",
       " 8,\n",
       " 9,\n",
       " 10,\n",
       " 11,\n",
       " 12,\n",
       " 13,\n",
       " 14,\n",
       " 15,\n",
       " 16,\n",
       " 17,\n",
       " 18,\n",
       " 19,\n",
       " 20,\n",
       " 21,\n",
       " 22,\n",
       " 23,\n",
       " 24,\n",
       " 25,\n",
       " 26,\n",
       " 27,\n",
       " 28,\n",
       " 29,\n",
       " 30,\n",
       " 31,\n",
       " 32,\n",
       " 33,\n",
       " 40,\n",
       " 43,\n",
       " 44,\n",
       " 45,\n",
       " 50,\n",
       " 57,\n",
       " 59,\n",
       " 60,\n",
       " 65,\n",
       " 67,\n",
       " 69,\n",
       " 71,\n",
       " 72,\n",
       " 74,\n",
       " 78,\n",
       " 89,\n",
       " 90,\n",
       " 92,\n",
       " 94,\n",
       " 95,\n",
       " 96,\n",
       " 97,\n",
       " 99,\n",
       " 100,\n",
       " 101,\n",
       " 102,\n",
       " 104,\n",
       " 105,\n",
       " 106,\n",
       " 107,\n",
       " 108,\n",
       " 109,\n",
       " 110,\n",
       " 111,\n",
       " 112,\n",
       " 113,\n",
       " 114,\n",
       " 115,\n",
       " 116,\n",
       " 117,\n",
       " 118,\n",
       " 119,\n",
       " 120,\n",
       " 121,\n",
       " 122,\n",
       " 123,\n",
       " 124,\n",
       " 125,\n",
       " 126,\n",
       " 127,\n",
       " 128,\n",
       " 129,\n",
       " 130,\n",
       " 132,\n",
       " 133,\n",
       " 134,\n",
       " 135,\n",
       " 136,\n",
       " 137,\n",
       " 138,\n",
       " 139,\n",
       " 140,\n",
       " 142,\n",
       " 143,\n",
       " 144,\n",
       " 145,\n",
       " 146,\n",
       " 147,\n",
       " 148,\n",
       " 149,\n",
       " 150,\n",
       " 151,\n",
       " 152,\n",
       " 153,\n",
       " 154,\n",
       " 155,\n",
       " 156,\n",
       " 157,\n",
       " 158,\n",
       " 159,\n",
       " 160,\n",
       " 161,\n",
       " 162,\n",
       " 163,\n",
       " 164,\n",
       " 165,\n",
       " 166,\n",
       " 168,\n",
       " 169,\n",
       " 170,\n",
       " 171,\n",
       " 172,\n",
       " 174,\n",
       " 175,\n",
       " 176,\n",
       " 177,\n",
       " 178,\n",
       " 181,\n",
       " 182,\n",
       " 183,\n",
       " 184,\n",
       " 185,\n",
       " 186,\n",
       " 188,\n",
       " 189,\n",
       " 190,\n",
       " 191,\n",
       " 192,\n",
       " 195,\n",
       " 196,\n",
       " 197,\n",
       " 198,\n",
       " 200,\n",
       " 201,\n",
       " 202,\n",
       " 203,\n",
       " 204,\n",
       " 205,\n",
       " 207,\n",
       " 208,\n",
       " 209,\n",
       " 210,\n",
       " 212,\n",
       " 213,\n",
       " 214,\n",
       " 215,\n",
       " 216,\n",
       " 219,\n",
       " 220,\n",
       " 221,\n",
       " 222,\n",
       " 223,\n",
       " 224,\n",
       " 225,\n",
       " 226,\n",
       " 228,\n",
       " 229,\n",
       " 230,\n",
       " 231,\n",
       " 232,\n",
       " 233,\n",
       " 234,\n",
       " 235,\n",
       " 236,\n",
       " 238,\n",
       " 239,\n",
       " 240,\n",
       " 241,\n",
       " 242,\n",
       " 243,\n",
       " 244,\n",
       " 245,\n",
       " 246,\n",
       " 247,\n",
       " 248,\n",
       " 249,\n",
       " 250,\n",
       " 251,\n",
       " 252,\n",
       " 253,\n",
       " 254,\n",
       " 255,\n",
       " 257,\n",
       " 258,\n",
       " 260,\n",
       " 261,\n",
       " 262,\n",
       " 263,\n",
       " 264,\n",
       " 265,\n",
       " 267,\n",
       " 268,\n",
       " 269,\n",
       " 270,\n",
       " 271,\n",
       " 273,\n",
       " 275,\n",
       " 276,\n",
       " 277,\n",
       " 278,\n",
       " 279,\n",
       " 280,\n",
       " 281,\n",
       " 282,\n",
       " 283,\n",
       " 284,\n",
       " 285,\n",
       " 286,\n",
       " 287,\n",
       " 288,\n",
       " 289,\n",
       " 290,\n",
       " 292,\n",
       " 293,\n",
       " 294,\n",
       " 296,\n",
       " 297,\n",
       " 298,\n",
       " 299,\n",
       " 300,\n",
       " 301,\n",
       " 302,\n",
       " 304,\n",
       " 306,\n",
       " 307,\n",
       " 308,\n",
       " 309,\n",
       " 310,\n",
       " 311,\n",
       " 312,\n",
       " 313,\n",
       " 314,\n",
       " 315,\n",
       " 316,\n",
       " 317,\n",
       " 318,\n",
       " 319,\n",
       " 320,\n",
       " 321,\n",
       " 322,\n",
       " 323,\n",
       " 325,\n",
       " 326,\n",
       " 328,\n",
       " 329,\n",
       " 330,\n",
       " 331,\n",
       " 332,\n",
       " 333,\n",
       " 334,\n",
       " 335,\n",
       " 337,\n",
       " 338,\n",
       " 339,\n",
       " 340,\n",
       " 341,\n",
       " 342,\n",
       " 343,\n",
       " 344,\n",
       " 345,\n",
       " 346,\n",
       " 347,\n",
       " 348,\n",
       " 349,\n",
       " 350,\n",
       " 351,\n",
       " 352,\n",
       " 353,\n",
       " 354,\n",
       " 355,\n",
       " 356,\n",
       " 357,\n",
       " 358,\n",
       " 359,\n",
       " 360,\n",
       " 361,\n",
       " 362,\n",
       " 363,\n",
       " 364,\n",
       " 365,\n",
       " 366,\n",
       " 368,\n",
       " 370,\n",
       " 371,\n",
       " 372,\n",
       " 374,\n",
       " 375,\n",
       " 376,\n",
       " 377,\n",
       " 378,\n",
       " 380,\n",
       " 381,\n",
       " 384,\n",
       " 385,\n",
       " 386,\n",
       " 387,\n",
       " 388,\n",
       " 390,\n",
       " 391,\n",
       " 392,\n",
       " 393,\n",
       " 394,\n",
       " 395,\n",
       " 396,\n",
       " 397,\n",
       " 399,\n",
       " 400,\n",
       " 402,\n",
       " 403,\n",
       " 404,\n",
       " 405,\n",
       " 406,\n",
       " 407,\n",
       " 408,\n",
       " 410,\n",
       " 411,\n",
       " 412,\n",
       " 413,\n",
       " 414,\n",
       " 415,\n",
       " 416,\n",
       " 417,\n",
       " 418,\n",
       " 419,\n",
       " 420,\n",
       " 421,\n",
       " 422,\n",
       " 423,\n",
       " 424,\n",
       " 425,\n",
       " 426,\n",
       " 427,\n",
       " 428,\n",
       " 429,\n",
       " 430,\n",
       " 431,\n",
       " 432,\n",
       " 433,\n",
       " 435,\n",
       " 436,\n",
       " 437,\n",
       " 438,\n",
       " 439,\n",
       " 441,\n",
       " 442,\n",
       " 443,\n",
       " 444,\n",
       " 445,\n",
       " 446,\n",
       " 447,\n",
       " 448,\n",
       " 449,\n",
       " 450,\n",
       " 452,\n",
       " 453,\n",
       " 454,\n",
       " 455,\n",
       " 456,\n",
       " 458,\n",
       " 459,\n",
       " 460,\n",
       " 461,\n",
       " 462,\n",
       " 463,\n",
       " 464,\n",
       " 465,\n",
       " 466,\n",
       " 467,\n",
       " 468,\n",
       " 470,\n",
       " 471,\n",
       " 472,\n",
       " 473,\n",
       " 474,\n",
       " 476,\n",
       " 477,\n",
       " 478,\n",
       " 480,\n",
       " 481,\n",
       " 482,\n",
       " 483,\n",
       " 484,\n",
       " 485,\n",
       " 487,\n",
       " 488,\n",
       " 489,\n",
       " 490,\n",
       " 491,\n",
       " 492,\n",
       " 493,\n",
       " 494,\n",
       " 496,\n",
       " 498,\n",
       " 499,\n",
       " 500]"
      ]
     },
     "execution_count": 390,
     "metadata": {},
     "output_type": "execute_result"
    }
   ],
   "source": [
    "greenLoop"
   ]
  },
  {
   "cell_type": "code",
   "execution_count": 373,
   "metadata": {},
   "outputs": [],
   "source": [
    "local_cost_list = []\n",
    "time_list = []\n",
    "risk_list = []\n",
    "\n",
    "for k in local_cost:\n",
    "    time_list.append(local_cost[k][0][0])\n",
    "    risk_list.append(local_cost[k][0][1])\n",
    "    \n",
    "avgTime = np.mean(time_list)\n",
    "stdTime = np.std(time_list)\n",
    "avgRisk = np.mean(risk_list)\n",
    "stdRisk = np.std(risk_list)\n",
    "# normalized point\n",
    "local_time_normalized = []\n",
    "local_risk_normalized = []\n",
    "for k in local_cost:\n",
    "    temp = ((global_cost[k][0][0]-avgTime)/stdTime, (global_cost[k][0][1]-avgRisk)/stdRisk)\n",
    "    local_time_normalized.append((local_cost[k][0][0]-avgTime)/stdTime)\n",
    "    local_risk_normalized.append((local_cost[k][0][1]-avgRisk)/stdRisk)\n",
    "    local_cost_list.append(temp)"
   ]
  },
  {
   "cell_type": "code",
   "execution_count": 374,
   "metadata": {},
   "outputs": [
    {
     "data": {
      "image/png": "[encoded data removed]",
      "text/plain": [
       "<Figure size 432x288 with 1 Axes>"
      ]
     },
     "metadata": {
      "needs_background": "light"
     },
     "output_type": "display_data"
    }
   ],
   "source": [
    "plt.scatter(local_time_normalized, local_risk_normalized)\n",
    "plt.show()"
   ]
  },
  {
   "cell_type": "markdown",
   "metadata": {},
   "source": [
    "# Visualize with ratio data (2 factors : time and risk)"
   ]
  },
  {
   "cell_type": "code",
   "execution_count": 391,
   "metadata": {},
   "outputs": [],
   "source": [
    "global_ratio_list = []\n",
    "ratio_list = []\n",
    "\n",
    "for k in global_cost:\n",
    "    ratio_list.append((global_cost[k][0][0]/global_cost[k][0][1]))\n",
    "    \n",
    "avgRatio = np.mean(ratio_list)\n",
    "stdRatio = np.std(ratio_list)\n",
    "\n",
    "# normalized point\n",
    "global_Ratio_normalized = []\n",
    "for e in ratio_list:\n",
    "    global_ratio_list.append((e-avgRatio)/stdRatio)\n",
    "    "
   ]
  },
  {
   "cell_type": "code",
   "execution_count": 393,
   "metadata": {},
   "outputs": [
    {
     "data": {
      "text/plain": [
       "(array([  0.,   0.,   0.,   0.,   0., 314.,  24.,  21.,   2.,   0.,   9.,\n",
       "          3.,  70.,  13.,   0.,  20.,   3.,   4.,   3.,   7.,   2.,   3.,\n",
       "          2.,   0.,   0.,   0.,   0.,   0.,   0.,   0.,   0.,   0.,   0.,\n",
       "          0.,   0.,   0.]),\n",
       " array([-2.  , -1.75, -1.5 , -1.25, -1.  , -0.75, -0.5 , -0.25,  0.  ,\n",
       "         0.25,  0.5 ,  0.75,  1.  ,  1.25,  1.5 ,  1.75,  2.  ,  2.25,\n",
       "         2.5 ,  2.75,  3.  ,  3.25,  3.5 ,  3.75,  4.  ,  4.25,  4.5 ,\n",
       "         4.75,  5.  ,  5.25,  5.5 ,  5.75,  6.  ,  6.25,  6.5 ,  6.75,\n",
       "         7.  ]),\n",
       " <BarContainer object of 36 artists>)"
      ]
     },
     "execution_count": 393,
     "metadata": {},
     "output_type": "execute_result"
    },
    {
     "data": {
      "image/png": "[encoded data removed]",
      "text/plain": [
       "<Figure size 432x288 with 1 Axes>"
      ]
     },
     "metadata": {
      "needs_background": "light"
     },
     "output_type": "display_data"
    }
   ],
   "source": [
    "bins = [-2]\n",
    "for i in range(36):\n",
    "    bins.append(bins[-1]+0.25)\n",
    "    \n",
    "#temp = [global_ratio_list[i] for i in range(500) if kmeans.labels_[i]==0]\n",
    "    \n",
    "plt.hist(global_ratio_list,bins=bins)"
   ]
  },
  {
   "cell_type": "code",
   "execution_count": null,
   "metadata": {},
   "outputs": [],
   "source": []
  },
  {
   "cell_type": "code",
   "execution_count": 394,
   "metadata": {},
   "outputs": [],
   "source": [
    "local_ratio_list = []\n",
    "ratio_list = []\n",
    "\n",
    "for k in local_cost:\n",
    "    ratio_list.append((local_cost[k][0][0]/local_cost[k][0][1]))\n",
    "    \n",
    "avgRatio = np.mean(ratio_list)\n",
    "stdRatio = np.std(ratio_list)\n",
    "\n",
    "# normalized point\n",
    "local_Ratio_normalized = []\n",
    "for e in ratio_list:\n",
    "    local_ratio_list.append((e-avgRatio)/stdRatio)"
   ]
  },
  {
   "cell_type": "code",
   "execution_count": 395,
   "metadata": {},
   "outputs": [
    {
     "data": {
      "text/plain": [
       "(array([ 2.,  4.,  3.,  9., 11.,  3.,  3.,  2.,  1.,  2.,  2.,  1.,  0.,\n",
       "         1.]),\n",
       " array([-1.25, -1.  , -0.75, -0.5 , -0.25,  0.  ,  0.25,  0.5 ,  0.75,\n",
       "         1.  ,  1.25,  1.5 ,  1.75,  2.  ,  2.25]),\n",
       " <BarContainer object of 14 artists>)"
      ]
     },
     "execution_count": 395,
     "metadata": {},
     "output_type": "execute_result"
    },
    {
     "data": {
      "image/png": "[encoded data removed]",
      "text/plain": [
       "<Figure size 432x288 with 1 Axes>"
      ]
     },
     "metadata": {
      "needs_background": "light"
     },
     "output_type": "display_data"
    }
   ],
   "source": [
    "bins = [-1.25]\n",
    "for i in range(14):\n",
    "    bins.append(bins[-1]+0.25)\n",
    "    \n",
    "plt.hist(local_ratio_list,bins=bins)"
   ]
  },
  {
   "cell_type": "markdown",
   "metadata": {},
   "source": [
    "# K means clustering based on the original features"
   ]
  },
  {
   "cell_type": "code",
   "execution_count": 430,
   "metadata": {},
   "outputs": [],
   "source": [
    "from sklearn.metrics import silhouette_score\n",
    "\n",
    "points = global_cost_list\n",
    "sil = []\n",
    "kmax = 10\n",
    "\n",
    "# dissimilarity would not be defined for a single cluster, thus, minimum number of clusters should be 2\n",
    "for k in range(2, kmax+1):\n",
    "    kmeans = KMeans(\n",
    "            init=\"random\",\n",
    "            n_clusters=k,\n",
    "            n_init=10,\n",
    "            max_iter=300,\n",
    "            random_state=43\n",
    "        )\n",
    "\n",
    "    kmeans.fit(points)\n",
    "    labels = kmeans.labels_\n",
    "    sil.append(silhouette_score(points, labels, metric = 'euclidean'))"
   ]
  },
  {
   "cell_type": "code",
   "execution_count": 431,
   "metadata": {},
   "outputs": [
    {
     "data": {
      "text/plain": [
       "True"
      ]
     },
     "execution_count": 431,
     "metadata": {},
     "output_type": "execute_result"
    }
   ],
   "source": [
    "global_cost_list == [(1.5449238059570898, -1.6211331111850908), (1.816588170434712, -1.6308102118395624), (1.816588170434712, -1.6308102118395624), (1.2721350372048434, -1.606752123968113), (1.2883327099220208, -1.6091106960209312), (1.2883327099220208, -1.6091106960209312), (1.2883327099220208, -1.6091106960209312), (1.3185880629168156, -1.6022267480279566), (3.1813351841128434, -1.5750839015424831), (2.7702628484364076, -1.5753872140574512), (3.2605609021593227, -1.5609753559571287), (3.1098913492266536, -1.5767929044468458), (3.0997039828856146, -1.5484927804378366), (3.1492939556547186, -1.532897568040544), (3.039515130418104, -1.550849484401759), (3.272847358338271, -1.5091518824950068), (1.5675903368853168, -1.5664517175402077), (1.4430992884027527, -1.5815033336778586), (1.7298641662135361, -1.5578500004007487), (1.7298641662135361, -1.5578500004007487), (2.307018666494988, -1.4973327178815108), (2.3835661430068007, -1.4922191753891023), (2.3835661430068007, -1.4922191753891023), (1.7298641662135361, -1.5578500004007487), (2.227283827045405, -1.3380407308889488), (2.3289930720404297, -1.38575652474995), (2.150736350533592, -1.3431542733813575), (2.309217838108201, -1.371068744616512), (0.24054021331863032, -1.479312509624817), (1.0746147260968943, -1.2438400906632756), (1.1048843628963374, -1.2528092196576717), (2.5335981253662276, -1.386053027064366), (2.424868297482859, -1.3796225534313311), (2.245014056772232, -1.3403702351649287), (2.263318569185403, -1.347923519881121), (2.2058759065631164, -1.3317366842233351), (2.1640826704208243, -1.364120961648894), (2.0792021907722678, -1.358862441918131), (2.798295653868399, -1.359689358360188), (2.798295653868399, -1.359689358360188), (2.798295653868399, -1.359689358360188), (0.0783665553863457, -1.4794548445959488), (0.7291064464180056, -1.4241219237605474), (-0.13064728944907952, -1.590088070233273), (0.153061551054274, -1.5797546191946268), (0.7061185113038957, -1.4250244793861304), (0.17604948616838384, -1.578852063569044), (-0.2826458482716498, 0.4073255330825285), (-0.4728830135573348, 0.17564283947300344), (-0.31204386318242616, 0.36678309229231304), (1.0359937936746906, -1.2894840360726783), (0.4408388451603691, -1.3043401730556512), (0.4408388451603691, -1.3043401730556512), (0.4408388451603691, -1.3043401730556512), (0.9954753830749625, -1.2888734159712918), (0.4408388451603691, -1.3043401730556512), (-0.07192980128422938, -1.5732800083641139), (-0.15350182800588735, -0.960322605650388), (-0.15350182800588735, -0.960322605650388), (-0.07192980128422938, -1.5732800083641139), (-0.15350182800588735, -0.960322605650388), (-0.22833022023111915, -1.4906908512601778), (-0.16456074767245987, -1.4864309079869744), (-0.16456074767245987, -1.4864309079869744), (-0.22833022023111915, -1.4906908512601778), (-0.22833022023111915, -1.4906908512601778), (-0.169612732066269, -1.4738827893910185), (-0.13064728944907952, -1.590088070233273), (-0.22833022023111915, -1.4906908512601778), (-0.169612732066269, -1.4738827893910185), (-0.22833022023111915, -1.4906908512601778), (-0.13064728944907952, -1.590088070233273), (-0.22833022023111915, -1.4906908512601778), (0.0783665553863457, -1.4794548445959488), (-0.16456074767245987, -1.4864309079869744), (-0.22833022023111915, -1.4906908512601778), (-0.1398094970167582, -1.479403944767348), (-0.07192980128422938, -1.5732800083641139), (-0.22833022023111915, -1.4906908512601778), (-0.13064728944907952, -1.590088070233273), (-0.07192980128422938, -1.5732800083641139), (-0.169612732066269, -1.4738827893910185), (-0.15350182800588735, -0.960322605650388), (-0.4476146183672487, 0.221462515664658), (-0.4758801306163458, 0.17943173187088374), (-0.6065905099625349, 0.2369587055911145), (-0.22833022023111915, -1.4906908512601778), (-0.4823732061214046, 0.2628351100887482), (-0.169612732066269, -1.4738827893910185), (-0.13064728944907952, -1.590088070233273), (-0.4624958157944536, 0.2629332106301493), (0.06337243913271288, -1.5691897073957535), (-0.22833022023111915, -1.4906908512601778), (-0.4542536880649225, 0.2749900408573174), (-0.39903641440196014, 0.2840819579624039), (-0.13064728944907952, -1.590088070233273), (-0.435653487359618, 0.18401938511899177), (-0.34463294677627454, 0.3651320710761378), (-0.29472462984544767, 0.2997514667125088), (-0.4952445768181812, 0.277754437867097), (-0.5306100552234361, 0.16718695504453635), (-0.22833022023111915, -1.4906908512601778), (-0.2738234360370542, 0.3549588051672181), (0.05478093008593765, -1.4646034908087637), (-0.4606834431130633, 0.3003607422422329), (-0.44825238999489525, 0.21151811078304542), (-0.22833022023111915, -1.4906908512601778), (-0.22833022023111915, -1.4906908512601778), (-0.22833022023111915, -1.4906908512601778), (-0.15350182800588735, -0.960322605650388), (-0.22833022023111915, -1.4906908512601778), (-0.12402377468501, -1.4809406334355562), (-0.7182707410384263, 0.7801217605691467), (-0.22833022023111915, -1.4906908512601778), (-0.169612732066269, -1.4738827893910185), (-0.15350182800588735, -0.960322605650388), (-0.13064728944907952, -1.590088070233273), (0.0783665553863457, -1.4794548445959488), (-0.15350182800588735, -0.960322605650388), (-0.169612732066269, -1.4738827893910185), (-0.22833022023111915, -1.4906908512601778), (0.2781130569794726, -1.1596211637438791), (0.1338782222520466, -1.1356877128131522), (-0.13064728944907952, -1.590088070233273), (-0.22833022023111915, -1.4906908512601778), (-0.22833022023111915, -1.4906908512601778), (-0.15350182800588735, -0.960322605650388), (-0.7358975555917447, 0.8262674141320512), (-0.22833022023111915, -1.4906908512601778), (-0.520214400960518, 1.0028670455062836), (-0.37386120870171846, 0.24826409037130123), (-0.3953722181684855, 0.24658078601793054), (-0.43732588801158145, 0.9732763731621483), (-0.22833022023111915, -1.4906908512601778), (-0.43177150089733307, 0.24986192991540446), (-0.4555681524722967, 0.25095523990658863), (-0.7074056768375334, 0.7904140054068488), (-0.4747714238564594, 0.20102900269568172), (-0.46004602174054404, 0.25457283632622735), (-0.5240046014571197, 0.24902246856902716), (-0.6164150902917072, 0.7745498741868817), (-0.35166532596971145, 0.58212766951114), (-0.5343827122455157, 0.8816746042135833), (-0.6951341156881982, 0.8767947419325515), (-0.27255019249008106, 0.3625540218274734), (-0.7524890319189292, 0.8221227514236493), (-0.3665627696826688, 0.6343740338620267), (-0.7346034546785091, 0.8141842545597684), (-0.4446927385959781, 0.9859790282975621), (-0.13064728944907952, -1.590088070233273), (-0.4229488609714213, 0.9827716805787078), (-0.6373192762003411, 0.7893585254207057), (-0.22833022023111915, -1.4906908512601778), (-0.47009260959719257, 1.030106943400494), (-0.5154519413505776, 0.822007845311801), (-0.5076055315660158, 0.8501834125952751), (-0.512794450581342, 1.0198404154458585), (-0.7074056768375334, 0.7904140054068488), (-0.7104471002187783, 0.8083860120537922), (-0.7359140472588774, 0.8853093187585104), (-0.22833022023111915, -1.4906908512601778), (-0.047317936802131866, -0.8139398962934009), (-0.4676789947161821, 0.9812706724006737), (-0.5213713073708316, 0.8877730669058546), (-0.7016666617605799, 0.8122243257426331), (-0.6974606473935961, 0.8291698657195914), (-0.6603758932272041, 0.8093793969233297), (-0.6641512020111425, 0.8714333784022381), (-0.22833022023111915, -1.4906908512601778), (-0.416941200494904, 0.6620774344028854), (-0.7192904701479289, 0.8825929844385277), (-0.5071855355447659, 1.0312249479073108), (-0.5310439830800474, 1.0046849028894402), (-0.7126843827075252, 0.7837191558639374), (-0.7384988392677575, 0.8243718496641352), (-0.630553495777119, 0.8287777943212926), (-0.7245627227902189, 0.7982342894737904), (-0.3899833086413476, 0.9855249517206467), (-0.7126492230511884, 0.8194641954956838), (-0.7208388865028168, 0.8366643287631422), (-0.3782132023107283, 0.6256038761507198), (-0.5293985298591876, 0.9877378502723723), (-0.6395547078461795, 0.8457675647814025), (-0.46149691279566857, 1.0196751073754429), (-0.49159883647142993, 0.9886052363507304), (-0.6797813511029082, 0.8411799115332949), (-0.07192980128422938, -1.5732800083641139), (-0.4386071047131885, 0.9870846536087462), (-0.5310760838638114, 1.0115458999178248), (-0.07192980128422938, -1.5732800083641139), (-0.6065905099625349, 0.2369587055911145), (-0.22833022023111915, -1.4906908512601778), (-0.7512270317894576, 0.8169005888797511), (-0.4442270163161146, 0.63908359218551), (-0.42332865817588894, 0.6641736191959049), (-0.32589546897088917, 0.602980875954002), (-0.7256780884669412, 0.7911062930946562), (-0.07192980128422938, -1.5732800083641139), (-0.3973854270529659, 0.6500438791712293), (-0.7200631335835812, 0.7895684590104664), (-0.6185495674464244, 0.8249662345283238), (-0.4859835071293539, 0.9888239571168655), (-0.7074056768375334, 0.7904140054068488), (-0.5189203000472823, 0.9907838859340008), (-0.3897519554455595, 0.6244571910708229), (-0.5683210075546469, 0.24571877633127676), (-0.6924926240079446, 0.7903485486540376), (-0.4176502846323887, 0.5950051424369494), (-0.4986922018179518, 0.9465337968390123), (-0.7326057517890973, 0.8030842638182168), (-0.7258413825217097, 0.8252173960605181), (-0.48861859828850757, 0.9792232734464129), (-0.714342484808026, 0.818573607158159), (-0.5128117154762315, 1.0027831616501266), (-0.370639632328613, 1.0411644452321644), (-0.6961877723676261, 0.8249246194688497), (-0.41711466899796423, 0.5911539154337145), (-0.53554387715823, 0.9935002202539835), (-0.6658452346253688, 0.81504235134295), (0.18067394608954374, -1.4722168465376775), (-0.46146481201190453, 1.0128141103470583), (-0.4854055941277728, 0.9616982135217348), (-0.6961877723676261, 0.8249246194688497), (-0.46149691279566857, 1.0196751073754429), (-0.7025756195217447, 0.8521536721030843), (-0.5590991668520238, 0.8362654651797307), (-0.7074056768375334, 0.7904140054068488), (-0.35278069164643283, 0.5749996731320058), (-0.6016584050623548, 0.8261874587924894), (-0.7346034546785091, 0.8141842545597684), (-0.365470249176244, 0.581015123764008), (-0.6692462826799606, 0.8259482295037764), (-0.7074056768375334, 0.7904140054068488), (-0.5293985298591876, 0.9877378502723723), (-0.32025900492387727, 0.699004976373977), (-0.6592619799540946, 0.803555009691123), (-0.4190534763821737, 0.9725840854743409), (-0.5647784993408782, 0.8139624488071002), (-0.38465993364931506, 0.6273363033091535), (-0.3782132023107283, 0.6256038761507198), (-0.7256780884669412, 0.7911062930946562), (-0.6183109915515299, 0.8187391202541114), (-0.7309888951206962, 0.7912724405801292), (-0.4227592797689763, 0.6607971254819848), (-0.4072157802571669, 1.03167291508821), (-0.7219459979324613, 0.8150298009561513), (-0.4526700345336491, 1.0045100396171665), (-0.4446927385959781, 0.9859790282975621), (-0.7073735760537702, 0.7835530083784642), (-0.7016666617605799, 0.8122243257426331), (-0.7326057517890973, 0.8030842638182168), (-0.7100069605135462, 0.7885184409389332), (-0.28726272340361325, 0.35372762173325645), (-0.7309888951206962, 0.7912724405801292), (-0.22833022023111915, -1.4906908512601778), (-0.169612732066269, -1.4738827893910185), (-0.4859835071293539, 0.9888239571168655), (-0.6990823504078356, 0.8390969607782817), (-0.4361950901163353, 0.6216831269882596), (-0.610188526852729, 0.8846384056040957), (-0.5096035193897975, 0.262526838200436), (-0.7427931181301376, 0.8313843878272269), (-0.40521793979001597, 0.6514744937349392), (-0.3981729720929761, 1.002725084988105), (-0.7445873479557584, 0.8118565019545995), (-0.22833022023111915, -1.4906908512601778), (-0.7169231707671632, 0.8217975372690872), (-0.7577998385726851, 0.822288898909122), (-0.7384988392677575, 0.8243718496641352), (-0.7427931181301376, 0.8313843878272269), (-0.13064728944907952, -1.590088070233273), (-0.6906584751879458, 0.8349588189303907), (-0.5328718577065651, 1.0020214991099008), (-0.2999989738456677, 0.6106129296669747), (-0.5385497262937584, 1.037396594900069), (-0.3600892011896013, 0.5862658113590306), (-0.7143012393759262, 0.7955309791020249), (-0.5117969789683305, 1.0763927490802185), (-0.169612732066269, -1.4738827893910185), (-0.45835174344577045, 1.0088421159846404), (-0.22833022023111915, -1.4906908512601778), (-0.35558020839205967, 0.6271341641089756), (-0.3962610930435805, 0.6615413463598945), (-0.22833022023111915, -1.4906908512601778), (-0.5240046014571197, 0.24902246856902716), (-0.36283098224067634, 0.6421106832968334), (-0.6775664923672657, 0.8111082944073149), (-0.7227992316690685, 0.7740723073126708), (-0.5100270346194776, 0.9745669214972732), (-0.5065187086875564, 1.0489476998374252), (-0.3552269461905251, 0.6303122320476083), (-0.6292533902488616, 0.9055950836579852), (-0.7061115759242985, 0.7783308458345665), (-0.7118104817332982, 0.8059561517200221), (-0.6603758932272041, 0.8093793969233297), (-0.4494688364240595, 0.24964915915820204), (-0.7073735760537702, 0.7835530083784642), (-0.7270706773297261, 0.8111023463737749), (-0.4173774438545456, 1.0032051939212794), (-0.4011550702860684, 0.7243096732286063), (-0.6387431592287468, 0.8459779275887511), (-0.7476819307385689, 0.8745417841205196), (-0.7016666617605799, 0.8122243257426331), (-0.2711603196135677, -0.7268451669908029), (-0.6457772310910481, 0.7833270844656385), (-0.33218986716645804, 0.4303663988345061), (-0.6960708440360076, 0.7623808807485883), (-0.3707778554604631, 0.6502468071915188), (-0.2498120093306945, 0.3760768378151952), (-0.3437920614681235, 0.6708338258304425), (-0.39609955573093264, 1.0125492854894758), (-0.691164945202328, 0.8316923557817851), (-0.4564213473412886, 0.23933594310085718), (-0.5202308926276505, 1.0619089501327428), (-0.22833022023111915, -1.4906908512601778), (-0.3247789709163225, 0.6525509113777841), (-0.4294545076418301, 0.6351170896840473), (-0.7433555510924248, 0.8606682489290434), (-0.41629064065142685, 0.6456781211288537), (-0.6977896434727305, 0.8092315584501747), (-0.22833022023111915, -1.4906908512601778), (-0.5013467908102092, 0.9717520126620288), (-0.6833621493474089, 0.8046710410264413), (-0.7651785894487411, 0.828138202055651), (-0.47173676087407923, 0.9898195320078458), (-0.4499980150819841, 1.0130313184730837), (-0.22833022023111915, -1.4906908512601778), (-0.3142952787175947, 0.2180407796784333), (-0.743387651876188, 0.867529245957428), (-0.22833022023111915, -1.4906908512601778), (-0.7257101892507044, 0.7979672901230408), (-0.6065905099625349, 0.2369587055911145), (-0.7000831569568737, 0.835112214573216), (-0.722868690175992, 0.8546253165330785), (-0.40155475660567896, 0.6075692513559712), (-0.7073735760537702, 0.7835530083784642), (-0.6603758932272041, 0.8093793969233297), (-0.6603758932272041, 0.8093793969233297), (-0.743387651876188, 0.867529245957428), (-0.22833022023111915, -1.4906908512601778), (-0.7186367636704061, 0.8255861453212506), (-0.4551799847171348, 1.0143596841160964), (-0.425737118109624, 0.18261911706618958), (-0.6990823504078356, 0.8390969607782817), (-0.22833022023111915, -1.4906908512601778), (-0.7384988392677575, 0.8243718496641352), (-0.41495334146040624, 1.018947337364204), (-0.45597550083449156, 0.6853031417662789), (-0.7177764045037703, 0.7808400436256068), (-0.35386667794473126, 0.6487062916747953), (-0.7467592384950382, 0.8349462685435921), (-0.6373533558711583, 0.7791889426177476), (-0.46528711329227035, 0.2658305304381868), (-0.6631964089838486, 0.824976865796926), (-0.7308912200935792, 0.8920770550714463), (-0.6063063859969003, 0.8144005514687241), (-0.39753958484018476, 0.7258054135302514), (-0.3201335747632341, 0.6089433960455605), (-0.759416695241086, 0.8341007221472095), (-0.22833022023111915, -1.4906908512601778), (-0.7244160883374688, 0.7858841305507583), (-0.1398094970167582, -1.479403944767348), (-0.5071160770378417, 0.9506719386869033), (-0.3782132023107283, 0.6256038761507198), (-0.6423712605941502, 0.8019066440166616), (-0.7476498299548049, 0.867680787092135), (-0.5043799789523536, 0.9661680903846988), (-0.44109755495463476, 0.6678756769088615), (-0.6720314179078946, 0.819126376962873), (-0.3193930803801411, 0.6273489898971009), (-0.4842830739940277, 0.9491681072271871), (-0.651072316502467, 0.7863548764236645), (-0.3901768552853865, 0.9955504152705541), (-0.5368379780714664, 1.0055833798262663), (-0.7101393300269095, 0.8361622326447492), (-0.7274801335995573, 0.8997931177059861), (-0.5071160770378417, 0.9506719386869033), (-0.3990929560121724, 0.6355607564266472), (-0.7044947192558975, 0.7665190225964789), (-0.7073735760537702, 0.7835530083784642), (-0.368278864641229, 0.603465944626489), (-0.721913897148698, 0.8081688039277667), (-0.7182707410384263, 0.7801217605691467), (-0.599091959422509, 0.8554502680902728), (-0.3495158897732311, 0.6541969618719611), (0.14446262193766915, -0.9062885123469518), (-0.7467271377112742, 0.8280852715152075), (-0.6065905099625349, 0.2369587055911145), (-0.759416695241086, 0.8341007221472095), (-0.6833621493474089, 0.8046710410264413), (-0.3779168397353625, 0.639144476824988), (-0.42965846118285494, 0.6033623076340768), (-0.6708631393483616, 0.8377600527418639), (-0.2937189612498673, 0.06950006994930681), (-0.7191991966326933, 0.8548700064230671), (-0.6748292597132622, 0.8413219334582291), (-0.669593984761867, 0.8128797875242844), (-0.22833022023111915, -1.4906908512601778), (-0.45364218473107637, 0.6469748523869104), (-0.6765814264121566, 0.8059542818201313), (-0.22833022023111915, -1.4906908512601778), (-0.3567917540532695, 0.7241518337326771), (-0.6429262944650297, 0.813184587367567), (-0.722047850164428, 0.8178700826867104), (-0.38396390770208, 0.6298912311818113), (-0.5345837979877581, 0.8982054638603771), (-0.6016584050623548, 0.8261874587924894), (-0.46803221605281714, 1.0144804265955079)]"
   ]
  },
  {
   "cell_type": "code",
   "execution_count": 433,
   "metadata": {},
   "outputs": [
    {
     "data": {
      "text/plain": [
       "[<matplotlib.lines.Line2D at 0x7f7bd6550a00>]"
      ]
     },
     "execution_count": 433,
     "metadata": {},
     "output_type": "execute_result"
    },
    {
     "data": {
      "image/png": "[encoded data removed]",
      "text/plain": [
       "<Figure size 432x288 with 1 Axes>"
      ]
     },
     "metadata": {
      "needs_background": "light"
     },
     "output_type": "display_data"
    }
   ],
   "source": [
    "plt.plot(range(2, len(sil) + 2), sil)"
   ]
  },
  {
   "cell_type": "code",
   "execution_count": 434,
   "metadata": {},
   "outputs": [],
   "source": [
    "kmeans = KMeans(\n",
    "    init=\"random\",\n",
    "    n_clusters=3,\n",
    "    n_init=2,\n",
    "    max_iter=300,\n",
    "    random_state=42\n",
    ")"
   ]
  },
  {
   "cell_type": "code",
   "execution_count": 435,
   "metadata": {},
   "outputs": [
    {
     "data": {
      "text/plain": [
       "KMeans(init='random', n_clusters=3, n_init=2, random_state=42)"
      ]
     },
     "execution_count": 435,
     "metadata": {},
     "output_type": "execute_result"
    }
   ],
   "source": [
    "kmeans.fit(global_cost_list)"
   ]
  },
  {
   "cell_type": "code",
   "execution_count": 436,
   "metadata": {},
   "outputs": [],
   "source": [
    "color_labels = kmeans.labels_"
   ]
  },
  {
   "cell_type": "code",
   "execution_count": 438,
   "metadata": {},
   "outputs": [
    {
     "data": {
      "text/plain": [
       "<matplotlib.collections.PathCollection at 0x7f7bd72862e0>"
      ]
     },
     "execution_count": 438,
     "metadata": {},
     "output_type": "execute_result"
    },
    {
     "data": {
      "image/png": "[encoded data removed]",
      "text/plain": [
       "<Figure size 432x288 with 1 Axes>"
      ]
     },
     "metadata": {
      "needs_background": "light"
     },
     "output_type": "display_data"
    }
   ],
   "source": [
    "color = [(0.5,0.5,0.5),(1,0,0),(0,1,0),(0,0,1),(0,0,0)]\n",
    "color_list = []\n",
    "for ind in range(len(greenX)):\n",
    "    color_list.append(color[color_labels[ind]])\n",
    "    \n",
    "plt.scatter(greenX, greenY,c=color_list)\n",
    "#plt.show()"
   ]
  },
  {
   "cell_type": "code",
   "execution_count": null,
   "metadata": {},
   "outputs": [],
   "source": [
    "# color = [(0.5,0.5,0.5),(1,0,0),(0,1,0),(0,0,1),(0,0,0)]\n",
    "# color_list = []\n",
    "# for ind in range(len(global_cost_list)):\n",
    "#     color_list.append(color[color_labels[ind]])\n",
    "    \n",
    "# plt.scatter(global_time_normalized, global_risk_normalized,c=color_list)\n",
    "# #plt.show()"
   ]
  },
  {
   "cell_type": "markdown",
   "metadata": {},
   "source": [
    "# PageRank Implementation"
   ]
  },
  {
   "cell_type": "code",
   "execution_count": 440,
   "metadata": {},
   "outputs": [],
   "source": [
    "idToRoad =  []\n",
    "with open(\"../turning_network_linkID_updated.csv\",'r') as f:\n",
    "    idToRoad = csv.reader(f)\n",
    "    idToRoad = list(idToRoad)\n",
    "    \n",
    "idToRoadDict = {}\n",
    "roadToIdDict ={}\n",
    "for element in idToRoad:\n",
    "    idToRoadDict[element[0]] = (element[1],element[2])\n",
    "    if \"intersection\" not in element[0]:\n",
    "        roadToIdDict[element[1].split('_')[0],element[2].split('_')[0]] = element[0]\n",
    "#\n",
    "#print(roadToIdDict)    "
   ]
  },
  {
   "cell_type": "code",
   "execution_count": 248,
   "metadata": {},
   "outputs": [],
   "source": [
    "# 8/3\n",
    "global_trip_grouped = {}\n",
    "for i in range(clusterNumber):\n",
    "    global_trip_grouped[i] = []\n",
    "    \n",
    "for i in range(len(greenLoop)):\n",
    "    key = \"l\" + str(greenLoop[i])\n",
    "    global_trip_grouped[color_labels[i]].append(global_dict[key])\n"
   ]
  },
  {
   "cell_type": "code",
   "execution_count": 277,
   "metadata": {},
   "outputs": [],
   "source": [
    "# global_trip_grouped = {}\n",
    "# for i in range(clusterNumber):\n",
    "#     global_trip_grouped[i] = []\n",
    "    \n",
    "# for i in range(1,globalNumber+1):\n",
    "#     key = \"l\" + str(i)\n",
    "#     global_trip_grouped[color_labels[i-1]].append(global_dict[key])"
   ]
  },
  {
   "cell_type": "code",
   "execution_count": 441,
   "metadata": {},
   "outputs": [],
   "source": [
    "def pageRank(trips, origin = '1666494', destination = '1662728'): # input a bunch of trips, return a recommendation for route\n",
    "    dualArcs = {} # store the arcs for dual graph\n",
    "    originalG = nx.DiGraph()\n",
    "    #print(len(trips))\n",
    "    for t in trips:\n",
    "        subG = nx.DiGraph()\n",
    "        arcList = []\n",
    "        for road in t:\n",
    "            startNode = idToRoadDict[str(road)][0].split('_')[0]\n",
    "            endNode = idToRoadDict[str(road)][1].split('_')[0]\n",
    "            arcList.append((startNode,endNode))\n",
    "        subG.add_edges_from(arcList)\n",
    "        \n",
    "        # find the path to be added to construct dual graph\n",
    "        path = nx.shortest_path(subG, origin, destination)\n",
    "        \n",
    "        for ind in range(len(path)-2):\n",
    "            #print((path[ind],path[ind + 1]))\n",
    "            originalG.add_edges_from([(path[ind],path[ind + 1])])\n",
    "            current_arc = path[ind]+'_to_'+path[ind + 1]\n",
    "            next_arc = path[ind + 1]+'_to_'+path[ind + 2]\n",
    "            if ind == 0:\n",
    "                if not (path[0] in dualArcs):\n",
    "                    dualArcs[path[0]] = {current_arc : 1}\n",
    "                else:\n",
    "                    if not(current_arc in dualArcs[path[0]]):\n",
    "                        dualArcs[path[0]][current_arc] = 1\n",
    "                    else:\n",
    "                        dualArcs[path[0]][current_arc] += 1\n",
    "            \n",
    "            if not (current_arc in dualArcs):\n",
    "                dualArcs[current_arc] = {next_arc : 1}\n",
    "            else:\n",
    "                if not (next_arc in dualArcs[current_arc]):\n",
    "                    dualArcs[current_arc][next_arc] = 1\n",
    "                else:\n",
    "                    dualArcs[current_arc][next_arc] += 1\n",
    "\n",
    "        last_arc = path[-2]+'_to_'+path[-1]\n",
    "        originalG.add_edges_from([(path[-2],path[-1])])\n",
    "        if not (last_arc in dualArcs):\n",
    "                dualArcs[last_arc] = {path[-1] : 1}\n",
    "        else:\n",
    "            if not (path[-1] in dualArcs[last_arc]):\n",
    "                dualArcs[last_arc][path[-1]] = 1\n",
    "            else:\n",
    "                dualArcs[last_arc][path[-1]] += 1\n",
    "                \n",
    "    for key in dualArcs:\n",
    "        sumCount = 0\n",
    "        for key2 in dualArcs[key]:\n",
    "            sumCount += dualArcs[key][key2]\n",
    "            \n",
    "        for key2 in dualArcs[key]:\n",
    "            dualArcs[key][key2] /= sumCount\n",
    "        \n",
    "    dualG = nx.DiGraph()\n",
    "    \n",
    "    dualArcList = []\n",
    "    for key in dualArcs:\n",
    "        for key2 in dualArcs[key]:\n",
    "            dualArcList.append((key,key2,{'weight':dualArcs[key][key2]}))\n",
    "            \n",
    "    dualG.add_edges_from(dualArcList)\n",
    "    dualG.add_edges_from([(destination,origin,{'weight':1})])\n",
    "    #record pageRank result\n",
    "    result = nx.pagerank(dualG, weight='weight', alpha=0.9)\n",
    "    \n",
    "    weightNode = {}\n",
    "    for k in result:\n",
    "        if '_to_' in k:\n",
    "            startNode = k.split('_to_')[0]\n",
    "            endNode = k.split('_to_')[1]\n",
    "            #print(startNode,endNode)\n",
    "            originalG[startNode][endNode]['weight'] = np.log(1/result[k])\n",
    "            weightNode[(startNode,endNode)] = np.log(1/result[k])\n",
    "    def returnWeight(start,end,weight):\n",
    "        \n",
    "        return weight['weight']\n",
    "            \n",
    "    optimalPath = nx.shortest_path(originalG,source=origin,target=destination,weight=returnWeight)\n",
    "    #print(originalG['1666494'])\n",
    "    return optimalPath\n",
    "        \n",
    "        \n",
    "        "
   ]
  },
  {
   "cell_type": "code",
   "execution_count": 442,
   "metadata": {},
   "outputs": [],
   "source": [
    "group_optimal_path = []\n",
    "for g in range(clusterNumber):\n",
    "    group_optimal_path.append(pageRank(global_trip_grouped[g]))"
   ]
  },
  {
   "cell_type": "code",
   "execution_count": 211,
   "metadata": {},
   "outputs": [],
   "source": [
    "with open(\"group_5_optimal_path_L_filtered_2.pk\", 'wb') as f:\n",
    "    pickle.dump(group_optimal_path,f)"
   ]
  },
  {
   "cell_type": "markdown",
   "metadata": {},
   "source": [
    "# construct the preference ratio distribution of the groups"
   ]
  },
  {
   "cell_type": "code",
   "execution_count": null,
   "metadata": {},
   "outputs": [],
   "source": [
    "# ratioDict = {}\n",
    "# for g in range(clusterNumber):\n",
    "#     ratioDict[g] = []\n",
    "    \n",
    "# for idx in range(1,globmalNumber+1):\n",
    "#     k = 'l' + str(idx)\n",
    "#     ratioDict[kmeans.labels_[idx-1]].append(global_cost[k][0][0]/global_cost[k][0][1]) \n",
    "#     #ratioDict[kmeans.labels_[idx-1]].append(global_cost[k][0][1]/global_cost[k][0][0]) \n",
    "    "
   ]
  },
  {
   "cell_type": "code",
   "execution_count": 448,
   "metadata": {},
   "outputs": [],
   "source": [
    "clusterNumber = 3\n",
    "ratioDict = {}\n",
    "for g in range(clusterNumber):\n",
    "    ratioDict[g] = []\n",
    "    \n",
    "for idx in range(len(greenLoop)):\n",
    "    k = 'l' + str(greenLoop[idx])\n",
    "    ratioDict[kmeans.labels_[idx]].append(global_cost[k][0][0]/global_cost[k][0][1]) \n",
    "    #ratioDict[kmeans.labels_[idx-1]].append(global_cost[k][0][1]/global_cost[k][0][0])\n",
    "\n"
   ]
  },
  {
   "cell_type": "code",
   "execution_count": 449,
   "metadata": {},
   "outputs": [],
   "source": [
    "normalDistribution = {}\n",
    "\n",
    "for g in range(clusterNumber):\n",
    "    normalDistribution[g] =  {'mean': np.mean(ratioDict[g]) , 'std':np.std(ratioDict[g]) }"
   ]
  },
  {
   "cell_type": "code",
   "execution_count": 450,
   "metadata": {},
   "outputs": [
    {
     "data": {
      "text/plain": [
       "{0: {'mean': 0.5330672416066063, 'std': 0.15467738788153143},\n",
       " 1: {'mean': 0.836774487228063, 'std': 0.24961409029185286},\n",
       " 2: {'mean': 0.06931628875181668, 'std': 0.0081521765104537}}"
      ]
     },
     "execution_count": 450,
     "metadata": {},
     "output_type": "execute_result"
    }
   ],
   "source": [
    "normalDistribution"
   ]
  },
  {
   "cell_type": "code",
   "execution_count": 452,
   "metadata": {},
   "outputs": [
    {
     "data": {
      "image/png": "[encoded data removed]",
      "text/plain": [
       "<Figure size 432x288 with 1 Axes>"
      ]
     },
     "metadata": {
      "needs_background": "light"
     },
     "output_type": "display_data"
    }
   ],
   "source": [
    "x_axis = np.arange(0, 2, 0.0001)\n",
    "\n",
    "for g in range(clusterNumber):\n",
    "    plt.plot(x_axis, stats.norm.pdf(x_axis, normalDistribution[g]['mean'], normalDistribution[g]['std']),c=color[g])\n",
    "plt.show()"
   ]
  },
  {
   "cell_type": "markdown",
   "metadata": {},
   "source": [
    "# construct the preference ratio distribution for the user"
   ]
  },
  {
   "cell_type": "code",
   "execution_count": 453,
   "metadata": {},
   "outputs": [],
   "source": [
    "ratioLocal = []\n",
    "    \n",
    "for idx in range(1,51):\n",
    "    k = 'l'+str(idx)\n",
    "    ratioLocal.append(local_cost[k][0][0]/local_cost[k][0][1])"
   ]
  },
  {
   "cell_type": "code",
   "execution_count": 454,
   "metadata": {},
   "outputs": [
    {
     "data": {
      "image/png": "[encoded data removed]",
      "text/plain": [
       "<Figure size 432x288 with 1 Axes>"
      ]
     },
     "metadata": {
      "needs_background": "light"
     },
     "output_type": "display_data"
    }
   ],
   "source": [
    "x_axis = np.arange(0, 5, 0.0001)\n",
    "\n",
    "for g in range(clusterNumber):\n",
    "    plt.plot(x_axis, stats.norm.pdf(x_axis, normalDistribution[g]['mean'], normalDistribution[g]['std']),c=color[g])\n",
    "\n",
    "plt.plot(x_axis, stats.norm.pdf(x_axis,np.mean(ratioLocal),np.std(ratioLocal)),c='purple')\n",
    "    \n",
    "plt.show()"
   ]
  },
  {
   "cell_type": "markdown",
   "metadata": {},
   "source": [
    "# Calculate KL-divergence"
   ]
  },
  {
   "cell_type": "code",
   "execution_count": 455,
   "metadata": {},
   "outputs": [],
   "source": [
    "def KLDivergence(mean1,std1,mean2,std2):\n",
    "    \n",
    "    return np.log(std2/std1) + (std1**2 + (mean1-mean2)**2)/(2*std2**2) - 1/2"
   ]
  },
  {
   "cell_type": "code",
   "execution_count": 456,
   "metadata": {},
   "outputs": [
    {
     "name": "stdout",
     "output_type": "stream",
     "text": [
      "KL(group0,user) : 30.818689967696262\n",
      "KL(group1,user) : 7.376836016143761\n",
      "KL(group2,user) : 19652.94096903128\n"
     ]
    }
   ],
   "source": [
    "for g in range(clusterNumber):\n",
    "    print('KL(group{},user) : {}'.format(g, KLDivergence(np.mean(ratioLocal),\n",
    "                                                         np.std(ratioLocal), \n",
    "                                                         normalDistribution[g]['mean'], \n",
    "                                                         normalDistribution[g]['std'])\n",
    "                                        ))\n",
    "    "
   ]
  },
  {
   "cell_type": "code",
   "execution_count": null,
   "metadata": {},
   "outputs": [],
   "source": []
  }
 ],
 "metadata": {
  "kernelspec": {
   "display_name": "Python 3",
   "language": "python",
   "name": "python3"
  },
  "language_info": {
   "codemirror_mode": {
    "name": "ipython",
    "version": 3
   },
   "file_extension": ".py",
   "mimetype": "text/x-python",
   "name": "python",
   "nbconvert_exporter": "python",
   "pygments_lexer": "ipython3",
   "version": "3.8.3"
  }
 },
 "nbformat": 4,
 "nbformat_minor": 4
}
