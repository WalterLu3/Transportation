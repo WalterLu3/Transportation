{
 "cells": [
  {
   "cell_type": "code",
   "execution_count": 4,
   "metadata": {},
   "outputs": [],
   "source": [
    "import csv\n",
    "import os"
   ]
  },
  {
   "cell_type": "code",
   "execution_count": 20,
   "metadata": {},
   "outputs": [],
   "source": [
    "with open(os.path.join(\"..\",\"trajectories_500_large_randomness_adjusted.csv\"), 'r') as f:\n",
    "    reader = list(csv.reader(f))"
   ]
  },
  {
   "cell_type": "code",
   "execution_count": 21,
   "metadata": {},
   "outputs": [],
   "source": [
    "traj = [['road', 'loopNum']]\n",
    "\n",
    "\n",
    "for i in reader[1:]:\n",
    "    loop = 'l' + str((int(i[1][-1])-1)*100 + int(i[2][1:]))\n",
    "    traj.append([i[0],loop])"
   ]
  },
  {
   "cell_type": "code",
   "execution_count": 23,
   "metadata": {},
   "outputs": [],
   "source": [
    "with open(os.path.join(\"..\",\"trajectories_500_large_randomness_adjusted.csv\"), 'w') as f:\n",
    "    writer = csv.writer(f)\n",
    "    writer.writerows(traj)"
   ]
  },
  {
   "cell_type": "code",
   "execution_count": null,
   "metadata": {},
   "outputs": [],
   "source": []
  }
 ],
 "metadata": {
  "kernelspec": {
   "display_name": "Python 3",
   "language": "python",
   "name": "python3"
  },
  "language_info": {
   "codemirror_mode": {
    "name": "ipython",
    "version": 3
   },
   "file_extension": ".py",
   "mimetype": "text/x-python",
   "name": "python",
   "nbconvert_exporter": "python",
   "pygments_lexer": "ipython3",
   "version": "3.8.3"
  }
 },
 "nbformat": 4,
 "nbformat_minor": 4
}
