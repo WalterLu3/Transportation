{
 "cells": [
  {
   "cell_type": "code",
   "execution_count": 1292,
   "metadata": {},
   "outputs": [],
   "source": [
    "import numpy as np\n",
    "import matplotlib.pyplot as plt\n",
    "import pickle\n",
    "import csv\n",
    "import networkx as nx\n",
    "import scipy.stats as stats\n",
    "import math\n",
    "import copy\n",
    "#from kneed import KneeLocator\n",
    "#from sklearn.datasets import make_blobs\n",
    "from sklearn.cluster import KMeans\n",
    "from sklearn.metrics import silhouette_score\n",
    "from sklearn.preprocessing import StandardScaler\n",
    "from sklearn.mixture import GaussianMixture"
   ]
  },
  {
   "cell_type": "code",
   "execution_count": 1478,
   "metadata": {},
   "outputs": [],
   "source": [
    "globalNumber = 500\n",
    "clusterNumber = 3\n",
    "topKK = 50\n",
    "\n",
    "# input cost vector to be visualzed\n",
    "with open(\"../global_cost_vectors_500_lRand.pk\",'rb') as f:\n",
    "    global_cost = pickle.load(f)\n",
    "with open(\"../global_trips_500_lRand.pk\",'rb') as f:\n",
    "    global_dict = pickle.load(f)\n",
    "with open(\"trajectories_local_50_w07_near_adjusted_cost.pk\",'rb') as f:\n",
    "    local_cost = pickle.load(f)\n",
    "with open(\"trajectories_local_50_w07_near_adjusted_route.pk\",'rb') as f:\n",
    "    local_route = pickle.load(f)\n",
    "\n",
    "\n",
    "# with open(\"trajectories_local_50_w09_random_adjusted_cost.pk\",'rb') as f:\n",
    "#     local_cost = pickle.load(f)\n",
    "# with open(\"trajectories_local_50_w09_random_adjusted_route.pk\",'rb') as f:\n",
    "#     local_route = pickle.load(f)\n"
   ]
  },
  {
   "cell_type": "code",
   "execution_count": 1479,
   "metadata": {},
   "outputs": [],
   "source": [
    "# load road conversion information\n",
    "idToRoad =  []\n",
    "with open(\"../../turning_network_linkID_updated.csv\",'r') as f:\n",
    "    idToRoad = csv.reader(f)\n",
    "    idToRoad = list(idToRoad)\n",
    "    \n",
    "idToRoadDict = {}\n",
    "roadToIdDict ={}\n",
    "for element in idToRoad:\n",
    "    idToRoadDict[element[0]] = (element[1],element[2])\n",
    "    if \"intersection\" not in element[0]:\n",
    "        roadToIdDict[element[1].split('_')[0],element[2].split('_')[0]] = element[0]\n",
    "\n",
    "# reorder roads in local routes so that they are in order\n",
    "for key in local_route:\n",
    "    local_route[key] = [x for x in local_route[key] if 'intersection' not in x]\n",
    "\n",
    "record = 0\n",
    "for key in local_route:\n",
    "    new_order = [local_route[key][0]]\n",
    "    stack_route = copy.deepcopy(local_route[key][1:]) \n",
    "    length = len(stack_route)\n",
    "    #print(length + 1)\n",
    "    while(length >= 1):\n",
    "        start = idToRoadDict[new_order[0]][0].split('_')[0]\n",
    "        end = idToRoadDict[new_order[-1]][1].split('_')[0]\n",
    "        temp = None\n",
    "        for r in stack_route:\n",
    "            if idToRoadDict[r][0].split('_')[0] == end:\n",
    "                new_order.append(r)\n",
    "                temp = r\n",
    "                break\n",
    "            elif idToRoadDict[r][1].split('_')[0] == start:\n",
    "                new_order = [r] + new_order\n",
    "                temp = r\n",
    "                break\n",
    "        \n",
    "        if temp != None:\n",
    "            length -= 1\n",
    "            stack_route.pop(stack_route.index(temp))\n",
    "        else:\n",
    "            print('end with length : {}'.format(length))\n",
    "            break\n",
    "    local_route[key] = new_order"
   ]
  },
  {
   "cell_type": "code",
   "execution_count": 1480,
   "metadata": {},
   "outputs": [],
   "source": [
    "# adjust cost\n",
    "for key in global_cost:\n",
    "    global_cost[key][0][0] = global_cost[key][0][0]  * 99\n",
    "    global_cost[key][0][2] = global_cost[key][0][2]  * 99\n",
    "for key in local_cost:\n",
    "    local_cost[key][0][0] = local_cost[key][0][0] * 99\n",
    "    local_cost[key][0][2] = local_cost[key][0][2] * 99"
   ]
  },
  {
   "cell_type": "markdown",
   "metadata": {},
   "source": [
    "# Visualize with original data (2 factors : time and risk)"
   ]
  },
  {
   "cell_type": "code",
   "execution_count": 1481,
   "metadata": {},
   "outputs": [],
   "source": [
    "global_cost_list = []\n",
    "time_list = []\n",
    "risk_list = []\n",
    "\n",
    "for k in global_cost:\n",
    "    time_list.append(global_cost[k][0][0])\n",
    "    risk_list.append(global_cost[k][0][1])\n",
    "    \n",
    "avgTime = np.mean(time_list)\n",
    "stdTime = np.std(time_list)\n",
    "avgRisk = np.mean(risk_list)\n",
    "stdRisk = np.std(risk_list)\n",
    "# normalized point\n",
    "global_time_normalized = []\n",
    "global_risk_normalized = []\n",
    "for k in global_cost:\n",
    "    temp = ((global_cost[k][0][0]-avgTime)/stdTime, (global_cost[k][0][1]-avgRisk)/stdRisk)\n",
    "    global_time_normalized.append((global_cost[k][0][0]-avgTime)/stdTime)\n",
    "    global_risk_normalized.append((global_cost[k][0][1]-avgRisk)/stdRisk)\n",
    "    global_cost_list.append(temp)\n",
    "    \n"
   ]
  },
  {
   "cell_type": "code",
   "execution_count": 1482,
   "metadata": {},
   "outputs": [
    {
     "data": {
      "text/plain": [
       "<matplotlib.collections.PathCollection at 0x7f97c04dafd0>"
      ]
     },
     "execution_count": 1482,
     "metadata": {},
     "output_type": "execute_result"
    },
    {
     "data": {
      "image/png": "[encoded data removed]",
      "text/plain": [
       "<Figure size 432x288 with 1 Axes>"
      ]
     },
     "metadata": {
      "needs_background": "light"
     },
     "output_type": "display_data"
    }
   ],
   "source": [
    "# orignal \n",
    "plt.scatter(time_list, risk_list)"
   ]
  },
  {
   "cell_type": "code",
   "execution_count": 1483,
   "metadata": {},
   "outputs": [
    {
     "data": {
      "image/png": "[encoded data removed]",
      "text/plain": [
       "<Figure size 432x288 with 1 Axes>"
      ]
     },
     "metadata": {
      "needs_background": "light"
     },
     "output_type": "display_data"
    }
   ],
   "source": [
    "plt.scatter(global_time_normalized, global_risk_normalized)\n",
    "\n",
    "# 100 linearly spaced numbers\n",
    "x = np.linspace(-0.9,5,100)\n",
    "# the function, which is y = x^2 here\n",
    "y = 1/(x+1)**2 -1.4\n",
    "#y = 1/(x+1.2)**2 -1.6\n",
    "plt.ylim([-2, 2])\n",
    "plt.xlim([-1, 5])\n",
    "plt.plot(x,y, 'r')\n",
    "plt.show()"
   ]
  },
  {
   "cell_type": "code",
   "execution_count": 1484,
   "metadata": {},
   "outputs": [],
   "source": [
    "def func(x,y):\n",
    "    return 1/(x+1)**2 -1.4 -y\n",
    "greenX = []\n",
    "greenY = []\n",
    "global_cost_list = []\n",
    "greenLoop = [] # stores the loop number\n",
    "\n",
    "blueX = []\n",
    "blueY =[]\n",
    "for i in range(len(global_time_normalized)):\n",
    "    \n",
    "    if func(global_time_normalized[i],global_risk_normalized[i]) >= 0:\n",
    "    #if True:\n",
    "        greenX.append(global_time_normalized[i])\n",
    "        greenY.append(global_risk_normalized[i])\n",
    "        global_cost_list.append((global_time_normalized[i],global_risk_normalized[i]))\n",
    "        greenLoop.append(i+1)\n",
    "    else:\n",
    "        blueX.append(global_time_normalized[i])\n",
    "        blueY.append(global_risk_normalized[i])\n",
    "        "
   ]
  },
  {
   "cell_type": "code",
   "execution_count": 1485,
   "metadata": {},
   "outputs": [
    {
     "data": {
      "image/png": "[encoded data removed]",
      "text/plain": [
       "<Figure size 432x288 with 1 Axes>"
      ]
     },
     "metadata": {
      "needs_background": "light"
     },
     "output_type": "display_data"
    }
   ],
   "source": [
    "plt.scatter(blueX, blueY,c ='b')\n",
    "plt.scatter(greenX, greenY,c ='g')\n",
    "\n",
    "# 100 linearly spaced numbers\n",
    "x = np.linspace(-0.9,5,100)\n",
    "# the function, which is y = x^2 here\n",
    "y = 1/(x+1)**2 -1.4\n",
    "plt.ylim([-2, 2])\n",
    "plt.xlim([-1, 5])\n",
    "plt.plot(x,y, 'r')\n",
    "plt.show()"
   ]
  },
  {
   "cell_type": "code",
   "execution_count": 1486,
   "metadata": {},
   "outputs": [
    {
     "data": {
      "image/png": "[encoded data removed]",
      "text/plain": [
       "<Figure size 432x288 with 1 Axes>"
      ]
     },
     "metadata": {
      "needs_background": "light"
     },
     "output_type": "display_data"
    }
   ],
   "source": [
    "#plt.scatter(blueX, blueY,c ='b')\n",
    "plt.scatter(greenX, greenY)\n",
    "\n",
    "\n",
    "plt.ylim([-2, 2])\n",
    "plt.xlim([-1, 5])\n",
    "#plt.plot(x,y, 'r')\n",
    "plt.show()"
   ]
  },
  {
   "cell_type": "code",
   "execution_count": 1487,
   "metadata": {},
   "outputs": [],
   "source": [
    "local_cost_list = []\n",
    "time_list = []\n",
    "risk_list = []\n",
    "\n",
    "for k in local_cost:\n",
    "    time_list.append(local_cost[k][0][0])\n",
    "    risk_list.append(local_cost[k][0][1])\n",
    "    \n",
    "avgTime = np.mean(time_list)\n",
    "stdTime = np.std(time_list)\n",
    "avgRisk = np.mean(risk_list)\n",
    "stdRisk = np.std(risk_list)\n",
    "# normalized point\n",
    "local_time_normalized = []\n",
    "local_risk_normalized = []\n",
    "for k in local_cost:\n",
    "    #temp = ((global_cost[k][0][0]-avgTime)/stdTime, (global_cost[k][0][1]-avgRisk)/stdRisk)\n",
    "    local_time_normalized.append((local_cost[k][0][0]-avgTime)/stdTime)\n",
    "    local_risk_normalized.append((local_cost[k][0][1]-avgRisk)/stdRisk)\n",
    "    local_cost_list.append(temp)"
   ]
  },
  {
   "cell_type": "code",
   "execution_count": 1488,
   "metadata": {},
   "outputs": [
    {
     "data": {
      "image/png": "[encoded data removed]",
      "text/plain": [
       "<Figure size 432x288 with 1 Axes>"
      ]
     },
     "metadata": {
      "needs_background": "light"
     },
     "output_type": "display_data"
    }
   ],
   "source": [
    "plt.scatter(local_time_normalized, local_risk_normalized)\n",
    "plt.show()"
   ]
  },
  {
   "cell_type": "markdown",
   "metadata": {},
   "source": [
    "# Visualize with ratio data (2 factors : time and risk)"
   ]
  },
  {
   "cell_type": "code",
   "execution_count": 1489,
   "metadata": {},
   "outputs": [],
   "source": [
    "global_ratio_list = []\n",
    "ratio_list = []\n",
    "\n",
    "for k in global_cost:\n",
    "    ratio_list.append((global_cost[k][0][0]/global_cost[k][0][1]))\n",
    "    \n",
    "avgRatio = np.mean(ratio_list)\n",
    "stdRatio = np.std(ratio_list)\n",
    "\n",
    "# normalized point\n",
    "global_Ratio_normalized = []\n",
    "for e in ratio_list:\n",
    "    global_ratio_list.append(e)\n",
    "    "
   ]
  },
  {
   "cell_type": "code",
   "execution_count": 1490,
   "metadata": {},
   "outputs": [
    {
     "data": {
      "text/plain": [
       "(array([  0.,   0.,   0.,   0.,   0.,   1., 185.,  75.,  44.,   4.,  12.,\n",
       "          2.,   8.,   0.,   1.,   2.,   4.,   1.,   4.,   1.,   2.,  11.,\n",
       "          1.,   1.,   0.,   0.,   0.,   0.,   1.,   0.,   1.,   0.,   0.,\n",
       "          0.,   0.,   0.,   0.,   0.,   1.,   5.,   0.,   2.,   1.,   0.,\n",
       "          0.,   0.,   0.,   0.,   3.,   0.,   0.,   8.,   5.,  44.,   7.,\n",
       "          2.,   2.,   2.,   2.,   3.,   6.,   0.,   2.,   0.,   0.,   0.,\n",
       "          0.,   0.,   0.,   0.,   0.,   0.,   8.,   0.,   0.,   0.,  10.,\n",
       "          2.,   0.,   2.,   1.,   0.,   0.,   0.,   0.,   0.,   0.,   0.,\n",
       "          0.,   0.,   3.,   1.,   0.,   1.,   1.,   0.,   0.,   0.,   0.,\n",
       "          1.,   0.,   1.,   1.,   1.,   4.,   0.,   0.,   0.,   0.,   0.,\n",
       "          2.,   0.,   0.,   1.,   0.,   2.,   0.,   0.,   0.,   0.,   0.,\n",
       "          0.,   0.,   2.,   0.]),\n",
       " array([  0,   1,   2,   3,   4,   5,   6,   7,   8,   9,  10,  11,  12,\n",
       "         13,  14,  15,  16,  17,  18,  19,  20,  21,  22,  23,  24,  25,\n",
       "         26,  27,  28,  29,  30,  31,  32,  33,  34,  35,  36,  37,  38,\n",
       "         39,  40,  41,  42,  43,  44,  45,  46,  47,  48,  49,  50,  51,\n",
       "         52,  53,  54,  55,  56,  57,  58,  59,  60,  61,  62,  63,  64,\n",
       "         65,  66,  67,  68,  69,  70,  71,  72,  73,  74,  75,  76,  77,\n",
       "         78,  79,  80,  81,  82,  83,  84,  85,  86,  87,  88,  89,  90,\n",
       "         91,  92,  93,  94,  95,  96,  97,  98,  99, 100, 101, 102, 103,\n",
       "        104, 105, 106, 107, 108, 109, 110, 111, 112, 113, 114, 115, 116,\n",
       "        117, 118, 119, 120, 121, 122, 123, 124, 125]),\n",
       " <BarContainer object of 125 artists>)"
      ]
     },
     "execution_count": 1490,
     "metadata": {},
     "output_type": "execute_result"
    },
    {
     "data": {
      "image/png": "[encoded data removed]",
      "text/plain": [
       "<Figure size 432x288 with 1 Axes>"
      ]
     },
     "metadata": {
      "needs_background": "light"
     },
     "output_type": "display_data"
    }
   ],
   "source": [
    "bins = [0]\n",
    "for i in range(125):\n",
    "    bins.append(bins[-1]+1)\n",
    "    \n",
    "#temp = [global_ratio_list[i] for i in range(500) if kmeans.labels_[i]==0]\n",
    "    \n",
    "plt.hist(global_ratio_list,bins=bins)"
   ]
  },
  {
   "cell_type": "code",
   "execution_count": 1491,
   "metadata": {},
   "outputs": [],
   "source": [
    "local_ratio_list = []\n",
    "ratio_list = []\n",
    "\n",
    "for k in local_cost:\n",
    "    ratio_list.append((local_cost[k][0][0]/local_cost[k][0][1]))\n",
    "    \n",
    "avgRatio = np.mean(ratio_list)\n",
    "stdRatio = np.std(ratio_list)\n",
    "\n",
    "# normalized point\n",
    "local_Ratio_normalized = []\n",
    "for e in ratio_list:\n",
    "    local_ratio_list.append(e)"
   ]
  },
  {
   "cell_type": "code",
   "execution_count": 1492,
   "metadata": {},
   "outputs": [
    {
     "data": {
      "text/plain": [
       "(array([ 0.,  0.,  0.,  0.,  0., 16., 20.,  1.,  0.,  0.,  0.,  0.,  0.,\n",
       "         0.,  0.,  0.,  0.,  0.,  0.,  0.,  0.,  0.,  0.,  0.,  0.,  0.,\n",
       "         0.,  0.,  0.,  0.,  0.,  0.,  0.,  0.,  0.,  0.,  0.,  0.,  0.,\n",
       "         0.,  0.,  0.,  1.,  2.,  2.,  2.,  1.,  0.,  1.,  1.,  1.,  1.,\n",
       "         1.,  0.,  0.,  0.,  0.,  0.,  0.,  0.,  0.,  0.,  0.,  0.,  0.,\n",
       "         0.,  0.,  0.,  0.,  0.,  0.,  0.,  0.,  0.,  0.,  0.,  0.,  0.,\n",
       "         0.,  0.,  0.,  0.,  0.,  0.,  0.,  0.,  0.,  0.,  0.,  0.,  0.,\n",
       "         0.,  0.,  0.,  0.,  0.,  0.,  0.,  0.,  0.,  0.,  0.,  0.,  0.,\n",
       "         0.,  0.,  0.,  0.,  0.,  0.,  0.,  0.,  0.,  0.,  0.,  0.,  0.,\n",
       "         0.,  0.,  0.,  0.,  0.,  0.,  0.,  0.,  0.,  0.,  0.,  0.,  0.,\n",
       "         0.,  0.,  0.,  0.,  0.,  0.,  0.,  0.,  0.,  0.,  0.,  0.,  0.,\n",
       "         0.,  0.,  0.,  0.,  0.,  0.,  0.,  0.,  0.,  0.,  0.,  0.,  0.,\n",
       "         0.,  0.,  0.,  0.,  0.,  0.,  0.,  0.,  0.,  0.,  0.,  0.,  0.,\n",
       "         0.,  0.,  0.,  0.,  0.,  0.,  0.,  0.,  0.,  0.,  0.,  0.,  0.,\n",
       "         0.,  0.,  0.,  0.,  0.,  0.,  0.,  0.,  0.,  0.,  0.,  0.,  0.,\n",
       "         0.,  0.,  0.,  0.,  0.,  0.,  0.,  0.,  0.,  0.,  0.,  0.,  0.,\n",
       "         0.,  0.,  0.,  0.,  0.,  0.,  0.,  0.,  0.,  0.,  0.,  0.,  0.,\n",
       "         0.,  0.,  0.,  0.,  0.,  0.,  0.,  0.,  0.,  0.,  0.,  0.,  0.,\n",
       "         0.,  0.,  0.,  0.,  0.,  0.,  0.,  0.,  0.,  0.,  0.,  0.,  0.,\n",
       "         0.,  0.,  0.]),\n",
       " array([  0,   1,   2,   3,   4,   5,   6,   7,   8,   9,  10,  11,  12,\n",
       "         13,  14,  15,  16,  17,  18,  19,  20,  21,  22,  23,  24,  25,\n",
       "         26,  27,  28,  29,  30,  31,  32,  33,  34,  35,  36,  37,  38,\n",
       "         39,  40,  41,  42,  43,  44,  45,  46,  47,  48,  49,  50,  51,\n",
       "         52,  53,  54,  55,  56,  57,  58,  59,  60,  61,  62,  63,  64,\n",
       "         65,  66,  67,  68,  69,  70,  71,  72,  73,  74,  75,  76,  77,\n",
       "         78,  79,  80,  81,  82,  83,  84,  85,  86,  87,  88,  89,  90,\n",
       "         91,  92,  93,  94,  95,  96,  97,  98,  99, 100, 101, 102, 103,\n",
       "        104, 105, 106, 107, 108, 109, 110, 111, 112, 113, 114, 115, 116,\n",
       "        117, 118, 119, 120, 121, 122, 123, 124, 125, 126, 127, 128, 129,\n",
       "        130, 131, 132, 133, 134, 135, 136, 137, 138, 139, 140, 141, 142,\n",
       "        143, 144, 145, 146, 147, 148, 149, 150, 151, 152, 153, 154, 155,\n",
       "        156, 157, 158, 159, 160, 161, 162, 163, 164, 165, 166, 167, 168,\n",
       "        169, 170, 171, 172, 173, 174, 175, 176, 177, 178, 179, 180, 181,\n",
       "        182, 183, 184, 185, 186, 187, 188, 189, 190, 191, 192, 193, 194,\n",
       "        195, 196, 197, 198, 199, 200, 201, 202, 203, 204, 205, 206, 207,\n",
       "        208, 209, 210, 211, 212, 213, 214, 215, 216, 217, 218, 219, 220,\n",
       "        221, 222, 223, 224, 225, 226, 227, 228, 229, 230, 231, 232, 233,\n",
       "        234, 235, 236, 237, 238, 239, 240, 241, 242, 243, 244, 245, 246,\n",
       "        247, 248, 249, 250]),\n",
       " <BarContainer object of 250 artists>)"
      ]
     },
     "execution_count": 1492,
     "metadata": {},
     "output_type": "execute_result"
    },
    {
     "data": {
      "image/png": "[encoded data removed]",
      "text/plain": [
       "<Figure size 432x288 with 1 Axes>"
      ]
     },
     "metadata": {
      "needs_background": "light"
     },
     "output_type": "display_data"
    }
   ],
   "source": [
    "bins = [0]\n",
    "for i in range(250):\n",
    "    bins.append(bins[-1]+1)\n",
    "    \n",
    "plt.hist(local_ratio_list,bins=bins)"
   ]
  },
  {
   "cell_type": "markdown",
   "metadata": {},
   "source": [
    "# K means clustering based on the original features"
   ]
  },
  {
   "cell_type": "code",
   "execution_count": 1493,
   "metadata": {
    "scrolled": true
   },
   "outputs": [
    {
     "data": {
      "text/plain": [
       "<matplotlib.collections.PathCollection at 0x7f98147a28e0>"
      ]
     },
     "execution_count": 1493,
     "metadata": {},
     "output_type": "execute_result"
    },
    {
     "data": {
      "image/png": "[encoded data removed]",
      "text/plain": [
       "<Figure size 432x288 with 1 Axes>"
      ]
     },
     "metadata": {
      "needs_background": "light"
     },
     "output_type": "display_data"
    }
   ],
   "source": [
    "kmeans = KMeans(\n",
    "    init=\"random\",\n",
    "    n_clusters=clusterNumber,\n",
    "    n_init=10,\n",
    "    max_iter=300,\n",
    "    random_state=10\n",
    ")\n",
    "\n",
    "kmeans.fit(global_cost_list)\n",
    "color_labels = kmeans.labels_\n",
    "\n",
    "# self defined colors and plot\n",
    "\n",
    "color = [(0.5,0.5,0.5),(1,0,0),(0,1,0),(0,0,1),(0,0,0)]\n",
    "color_list = []\n",
    "for ind in range(len(greenX)):\n",
    "    color_list.append(color[color_labels[ind]])\n",
    "    \n",
    "plt.scatter(greenX, greenY,c=color_list)"
   ]
  },
  {
   "cell_type": "code",
   "execution_count": 1494,
   "metadata": {},
   "outputs": [
    {
     "data": {
      "text/plain": [
       "40"
      ]
     },
     "execution_count": 1494,
     "metadata": {},
     "output_type": "execute_result"
    }
   ],
   "source": [
    "list(color_labels).count(2)"
   ]
  },
  {
   "cell_type": "markdown",
   "metadata": {},
   "source": [
    "# PageRank Implementation"
   ]
  },
  {
   "cell_type": "code",
   "execution_count": 1495,
   "metadata": {},
   "outputs": [],
   "source": [
    "idToRoad =  []\n",
    "with open(\"../../turning_network_linkID_updated.csv\",'r') as f:\n",
    "    idToRoad = csv.reader(f)\n",
    "    idToRoad = list(idToRoad)\n",
    "    \n",
    "idToRoadDict = {}\n",
    "roadToIdDict ={}\n",
    "for element in idToRoad:\n",
    "    idToRoadDict[element[0]] = (element[1],element[2])\n",
    "    if \"intersection\" not in element[0]:\n",
    "        roadToIdDict[element[1].split('_')[0],element[2].split('_')[0]] = element[0]\n",
    "#\n",
    "#print(roadToIdDict)    "
   ]
  },
  {
   "cell_type": "code",
   "execution_count": 1496,
   "metadata": {},
   "outputs": [],
   "source": [
    "# 8/3\n",
    "global_trip_grouped = {}\n",
    "for i in range(clusterNumber):\n",
    "    global_trip_grouped[i] = []\n",
    "    \n",
    "for i in range(len(greenLoop)):\n",
    "    key = \"l\" + str(greenLoop[i])\n",
    "    global_trip_grouped[color_labels[i]].append(global_dict[key])\n"
   ]
  },
  {
   "cell_type": "code",
   "execution_count": 1497,
   "metadata": {},
   "outputs": [],
   "source": [
    "def pageRank(trips, origin = '1666494', destination = '1662728'): # input a bunch of trips, return a recommendation for route\n",
    "    dualArcs = {} # store the arcs for dual graph\n",
    "    originalG = nx.DiGraph()\n",
    "    #print(len(trips))\n",
    "    for t in trips:\n",
    "        subG = nx.DiGraph()\n",
    "        arcList = []\n",
    "        for road in t:\n",
    "            startNode = idToRoadDict[str(road)][0].split('_')[0]\n",
    "            endNode = idToRoadDict[str(road)][1].split('_')[0]\n",
    "            arcList.append((startNode,endNode))\n",
    "        subG.add_edges_from(arcList)\n",
    "        \n",
    "        # find the path to be added to construct dual graph\n",
    "        path = nx.shortest_path(subG, origin, destination)\n",
    "        \n",
    "        for ind in range(len(path)-2):\n",
    "            #print((path[ind],path[ind + 1]))\n",
    "            originalG.add_edges_from([(path[ind],path[ind + 1])])\n",
    "            current_arc = path[ind]+'_to_'+path[ind + 1]\n",
    "            next_arc = path[ind + 1]+'_to_'+path[ind + 2]\n",
    "            if ind == 0:\n",
    "                if not (path[0] in dualArcs):\n",
    "                    dualArcs[path[0]] = {current_arc : 1}\n",
    "                else:\n",
    "                    if not(current_arc in dualArcs[path[0]]):\n",
    "                        dualArcs[path[0]][current_arc] = 1\n",
    "                    else:\n",
    "                        dualArcs[path[0]][current_arc] += 1\n",
    "            \n",
    "            if not (current_arc in dualArcs):\n",
    "                dualArcs[current_arc] = {next_arc : 1}\n",
    "            else:\n",
    "                if not (next_arc in dualArcs[current_arc]):\n",
    "                    dualArcs[current_arc][next_arc] = 1\n",
    "                else:\n",
    "                    dualArcs[current_arc][next_arc] += 1\n",
    "\n",
    "        last_arc = path[-2]+'_to_'+path[-1]\n",
    "        originalG.add_edges_from([(path[-2],path[-1])])\n",
    "        if not (last_arc in dualArcs):\n",
    "                dualArcs[last_arc] = {path[-1] : 1}\n",
    "        else:\n",
    "            if not (path[-1] in dualArcs[last_arc]):\n",
    "                dualArcs[last_arc][path[-1]] = 1\n",
    "            else:\n",
    "                dualArcs[last_arc][path[-1]] += 1\n",
    "                \n",
    "    for key in dualArcs:\n",
    "        sumCount = 0\n",
    "        for key2 in dualArcs[key]:\n",
    "            sumCount += dualArcs[key][key2]\n",
    "            \n",
    "        for key2 in dualArcs[key]:\n",
    "            dualArcs[key][key2] /= sumCount\n",
    "        \n",
    "    dualG = nx.DiGraph()\n",
    "    \n",
    "    dualArcList = []\n",
    "    for key in dualArcs:\n",
    "        for key2 in dualArcs[key]:\n",
    "            dualArcList.append((key,key2,{'weight':dualArcs[key][key2]}))\n",
    "            \n",
    "    dualG.add_edges_from(dualArcList)\n",
    "    dualG.add_edges_from([(destination,origin,{'weight':1})])\n",
    "    #record pageRank result\n",
    "    result = nx.pagerank(dualG, weight='weight', alpha=0.9)\n",
    "    \n",
    "    weightNode = {}\n",
    "    for k in result:\n",
    "        if '_to_' in k:\n",
    "            startNode = k.split('_to_')[0]\n",
    "            endNode = k.split('_to_')[1]\n",
    "            #print(startNode,endNode)\n",
    "            originalG[startNode][endNode]['weight'] = np.log(1/result[k])\n",
    "            weightNode[(startNode,endNode)] = np.log(1/result[k])\n",
    "    def returnWeight(start,end,weight):\n",
    "        \n",
    "        return weight['weight']\n",
    "            \n",
    "    optimalPath = nx.shortest_path(originalG,source=origin,target=destination,weight=returnWeight)\n",
    "    print(originalG['1666494'])\n",
    "    return optimalPath\n",
    "        \n",
    "        \n",
    "        "
   ]
  },
  {
   "cell_type": "code",
   "execution_count": 1498,
   "metadata": {},
   "outputs": [
    {
     "name": "stdout",
     "output_type": "stream",
     "text": [
      "{'1666490': {'weight': 4.827166646131085}, '1666498': {'weight': 5.421657236287303}}\n",
      "{'1666490': {'weight': 5.756170126915875}, '1666498': {'weight': 4.5400560734865465}}\n",
      "{'1666490': {'weight': 4.577895265496707}}\n"
     ]
    }
   ],
   "source": [
    "group_optimal_path = []\n",
    "for g in range(clusterNumber):\n",
    "    group_optimal_path.append(pageRank(global_trip_grouped[g]))"
   ]
  },
  {
   "cell_type": "code",
   "execution_count": 1499,
   "metadata": {},
   "outputs": [],
   "source": [
    "def pageRank_local_info(trips, local_trips, local_value = 30,origin = '1666494', destination = '1662728'): # input a bunch of trips, return a recommendation for route\n",
    "    dualArcs = {} # store the arcs for dual graph\n",
    "    originalG = nx.DiGraph()\n",
    "    #print(len(trips))\n",
    "    for t in trips:\n",
    "        subG = nx.DiGraph()\n",
    "        arcList = []\n",
    "        for road in t:\n",
    "            startNode = idToRoadDict[str(road)][0].split('_')[0]\n",
    "            endNode = idToRoadDict[str(road)][1].split('_')[0]\n",
    "            arcList.append((startNode,endNode))\n",
    "        subG.add_edges_from(arcList)\n",
    "        \n",
    "        # find the path to be added to construct dual graph\n",
    "        path = nx.shortest_path(subG, origin, destination)\n",
    "        #print(path)\n",
    "        for ind in range(len(path)-2):\n",
    "            #print((path[ind],path[ind + 1]))\n",
    "            originalG.add_edges_from([(path[ind],path[ind + 1])])\n",
    "            current_arc = path[ind]+'_to_'+path[ind + 1]\n",
    "            next_arc = path[ind + 1]+'_to_'+path[ind + 2]\n",
    "            if ind == 0:\n",
    "                if not (path[0] in dualArcs):\n",
    "                    dualArcs[path[0]] = {current_arc : 1}\n",
    "                else:\n",
    "                    if not(current_arc in dualArcs[path[0]]):\n",
    "                        dualArcs[path[0]][current_arc] = 1\n",
    "                    else:\n",
    "                        dualArcs[path[0]][current_arc] += 1\n",
    "            \n",
    "            if not (current_arc in dualArcs):\n",
    "                dualArcs[current_arc] = {next_arc : 1}\n",
    "            else:\n",
    "                if not (next_arc in dualArcs[current_arc]):\n",
    "                    dualArcs[current_arc][next_arc] = 1\n",
    "                else:\n",
    "                    dualArcs[current_arc][next_arc] += 1\n",
    "\n",
    "        last_arc = path[-2]+'_to_'+path[-1]\n",
    "        originalG.add_edges_from([(path[-2],path[-1])])\n",
    "        if not (last_arc in dualArcs):\n",
    "                dualArcs[last_arc] = {path[-1] : 1}\n",
    "        else:\n",
    "            if not (path[-1] in dualArcs[last_arc]):\n",
    "                dualArcs[last_arc][path[-1]] = 1\n",
    "            else:\n",
    "                dualArcs[last_arc][path[-1]] += 1\n",
    "    \n",
    "    # add local path information\n",
    "    for t in local_trips:\n",
    "        path = []\n",
    "        for road in local_trips[t]:\n",
    "            startNode = idToRoadDict[str(road)][0].split('_')[0]\n",
    "            endNode = idToRoadDict[str(road)][1].split('_')[0]\n",
    "            path.append(startNode)\n",
    "        # add the last end node\n",
    "        path.append(endNode)\n",
    "        \n",
    "        for ind in range(len(path)-2):\n",
    "            #print((path[ind],path[ind + 1]))\n",
    "            current_arc = path[ind]+'_to_'+path[ind + 1]\n",
    "            next_arc = path[ind + 1]+'_to_'+path[ind + 2]\n",
    "            \n",
    "            if current_arc in dualArcs and next_arc in dualArcs[current_arc]:\n",
    "                dualArcs[current_arc][next_arc] += local_value\n",
    "                     \n",
    "    \n",
    "    for key in dualArcs:\n",
    "        sumCount = 0\n",
    "        for key2 in dualArcs[key]:\n",
    "            sumCount += dualArcs[key][key2]\n",
    "            \n",
    "        for key2 in dualArcs[key]:\n",
    "            dualArcs[key][key2] /= sumCount\n",
    "        \n",
    "    dualG = nx.DiGraph()\n",
    "    \n",
    "    dualArcList = []\n",
    "    for key in dualArcs:\n",
    "        for key2 in dualArcs[key]:\n",
    "            dualArcList.append((key,key2,{'weight':dualArcs[key][key2]}))\n",
    "            \n",
    "    dualG.add_edges_from(dualArcList)\n",
    "    dualG.add_edges_from([(destination,origin,{'weight':1})])\n",
    "    #record pageRank result\n",
    "    result = nx.pagerank(dualG, weight='weight', alpha=0.9)\n",
    "    \n",
    "    weightNode = {}\n",
    "    for k in result:\n",
    "        if '_to_' in k:\n",
    "            startNode = k.split('_to_')[0]\n",
    "            endNode = k.split('_to_')[1]\n",
    "            #print(startNode,endNode)\n",
    "            originalG[startNode][endNode]['weight'] = np.log(1/result[k])\n",
    "            weightNode[(startNode,endNode)] = np.log(1/result[k])\n",
    "    def returnWeight(start,end,weight):\n",
    "        \n",
    "        return weight['weight']\n",
    "            \n",
    "    optimalPath = nx.shortest_path(originalG,source=origin,target=destination,weight=returnWeight)\n",
    "    #print(originalG['1666494'])\n",
    "    return optimalPath\n",
    "        \n",
    "        \n",
    "        "
   ]
  },
  {
   "cell_type": "code",
   "execution_count": 1500,
   "metadata": {},
   "outputs": [],
   "source": [
    "updated_group_optimal_path = []\n",
    "for g in range(clusterNumber):\n",
    "    updated_group_optimal_path.append(pageRank_local_info(global_trip_grouped[g], local_route, local_value = 50, origin = '1666494', destination = '1662728'))"
   ]
  },
  {
   "cell_type": "code",
   "execution_count": 1501,
   "metadata": {},
   "outputs": [
    {
     "data": {
      "text/plain": [
       "False"
      ]
     },
     "execution_count": 1501,
     "metadata": {},
     "output_type": "execute_result"
    }
   ],
   "source": [
    "updated_group_optimal_path[1] == group_optimal_path[1]"
   ]
  },
  {
   "cell_type": "code",
   "execution_count": 1502,
   "metadata": {},
   "outputs": [],
   "source": [
    "# used to save the recommended path\n",
    "# with open(\"group_5_optimal_path_L_filtered_2.pk\", 'wb') as f:\n",
    "#     pickle.dump(group_optimal_path,f)"
   ]
  },
  {
   "cell_type": "code",
   "execution_count": 1503,
   "metadata": {},
   "outputs": [
    {
     "data": {
      "text/plain": [
       "False"
      ]
     },
     "execution_count": 1503,
     "metadata": {},
     "output_type": "execute_result"
    }
   ],
   "source": [
    "group_optimal_path[2] == updated_group_optimal_path[2]"
   ]
  },
  {
   "cell_type": "code",
   "execution_count": 1504,
   "metadata": {},
   "outputs": [
    {
     "data": {
      "text/plain": [
       "['1666494',\n",
       " '1666498',\n",
       " '1666500',\n",
       " '1666504',\n",
       " '1666512',\n",
       " '1666025',\n",
       " '1665735',\n",
       " '1665120',\n",
       " '1664738',\n",
       " '1664487',\n",
       " '1663739',\n",
       " '1663569',\n",
       " '10698',\n",
       " '10695',\n",
       " '10691',\n",
       " '1663401',\n",
       " '1663394',\n",
       " '1663378',\n",
       " '2176343',\n",
       " '2290881',\n",
       " '2176384',\n",
       " '2290840',\n",
       " '2290837',\n",
       " '2176407',\n",
       " '15381',\n",
       " '1663319',\n",
       " '1663314',\n",
       " '1663301',\n",
       " '1663224',\n",
       " '1663218',\n",
       " '1663149',\n",
       " '1663079',\n",
       " '1663076',\n",
       " '1663078',\n",
       " '1663081',\n",
       " '1663072',\n",
       " '1663083',\n",
       " '1663090',\n",
       " '1663059',\n",
       " '1662887',\n",
       " '1662813',\n",
       " '1662751',\n",
       " '1662704',\n",
       " '1662749',\n",
       " '1662738',\n",
       " '1662728']"
      ]
     },
     "execution_count": 1504,
     "metadata": {},
     "output_type": "execute_result"
    }
   ],
   "source": [
    "group_optimal_path[1]"
   ]
  },
  {
   "cell_type": "code",
   "execution_count": 1505,
   "metadata": {},
   "outputs": [
    {
     "data": {
      "text/plain": [
       "['1666494',\n",
       " '1666498',\n",
       " '1666500',\n",
       " '1666504',\n",
       " '1666512',\n",
       " '1666025',\n",
       " '1665735',\n",
       " '1665120',\n",
       " '1664738',\n",
       " '1664487',\n",
       " '1663739',\n",
       " '1663569',\n",
       " '10698',\n",
       " '10695',\n",
       " '10691',\n",
       " '1663401',\n",
       " '1663394',\n",
       " '1663378',\n",
       " '2176343',\n",
       " '2290881',\n",
       " '2176384',\n",
       " '2290840',\n",
       " '2290837',\n",
       " '2176407',\n",
       " '15381',\n",
       " '1663319',\n",
       " '1663314',\n",
       " '1663301',\n",
       " '1663299',\n",
       " '1663294',\n",
       " '1663291',\n",
       " '1663292',\n",
       " '1663293',\n",
       " '1663344',\n",
       " '1663374',\n",
       " '1663361',\n",
       " '1663351',\n",
       " '1663352',\n",
       " '1663059',\n",
       " '1662887',\n",
       " '1662813',\n",
       " '1662751',\n",
       " '1662704',\n",
       " '1662749',\n",
       " '1662738',\n",
       " '1662728']"
      ]
     },
     "execution_count": 1505,
     "metadata": {},
     "output_type": "execute_result"
    }
   ],
   "source": [
    "updated_group_optimal_path[1]"
   ]
  },
  {
   "cell_type": "markdown",
   "metadata": {},
   "source": [
    "# construct the preference ratio distribution of the groups"
   ]
  },
  {
   "cell_type": "code",
   "execution_count": 1506,
   "metadata": {},
   "outputs": [],
   "source": [
    "ratioDict = {}\n",
    "for g in range(clusterNumber):\n",
    "    ratioDict[g] = []\n",
    "    \n",
    "for idx in range(len(greenLoop)):\n",
    "    k = 'l' + str(greenLoop[idx])\n",
    "    ratioDict[kmeans.labels_[idx]].append(global_cost[k][0][0]/global_cost[k][0][1]) \n",
    "    #ratioDict[kmeans.labels_[idx]].append(global_cost[k][0][1]/global_cost[k][0][2]) \n",
    "    #ratioDict[kmeans.labels_[idx-1]].append(global_cost[k][0][1]/global_cost[k][0][0])\n",
    "\n"
   ]
  },
  {
   "cell_type": "code",
   "execution_count": 1507,
   "metadata": {},
   "outputs": [
    {
     "data": {
      "text/plain": [
       "[1,\n",
       " 2,\n",
       " 3,\n",
       " 4,\n",
       " 5,\n",
       " 6,\n",
       " 7,\n",
       " 8,\n",
       " 9,\n",
       " 10,\n",
       " 11,\n",
       " 12,\n",
       " 13,\n",
       " 14,\n",
       " 15,\n",
       " 16,\n",
       " 17,\n",
       " 18,\n",
       " 19,\n",
       " 20,\n",
       " 21,\n",
       " 22,\n",
       " 23,\n",
       " 24,\n",
       " 25,\n",
       " 26,\n",
       " 27,\n",
       " 28,\n",
       " 29,\n",
       " 30,\n",
       " 31,\n",
       " 32,\n",
       " 33,\n",
       " 40,\n",
       " 43,\n",
       " 44,\n",
       " 45,\n",
       " 50,\n",
       " 57,\n",
       " 59,\n",
       " 60,\n",
       " 65,\n",
       " 67,\n",
       " 69,\n",
       " 71,\n",
       " 72,\n",
       " 74,\n",
       " 78,\n",
       " 89,\n",
       " 90,\n",
       " 92,\n",
       " 94,\n",
       " 95,\n",
       " 96,\n",
       " 97,\n",
       " 99,\n",
       " 100,\n",
       " 101,\n",
       " 102,\n",
       " 104,\n",
       " 105,\n",
       " 106,\n",
       " 107,\n",
       " 108,\n",
       " 109,\n",
       " 110,\n",
       " 111,\n",
       " 112,\n",
       " 113,\n",
       " 114,\n",
       " 115,\n",
       " 116,\n",
       " 117,\n",
       " 118,\n",
       " 119,\n",
       " 120,\n",
       " 121,\n",
       " 122,\n",
       " 123,\n",
       " 124,\n",
       " 125,\n",
       " 126,\n",
       " 127,\n",
       " 128,\n",
       " 129,\n",
       " 130,\n",
       " 132,\n",
       " 133,\n",
       " 134,\n",
       " 135,\n",
       " 136,\n",
       " 137,\n",
       " 138,\n",
       " 139,\n",
       " 140,\n",
       " 142,\n",
       " 143,\n",
       " 144,\n",
       " 145,\n",
       " 146,\n",
       " 147,\n",
       " 148,\n",
       " 149,\n",
       " 150,\n",
       " 151,\n",
       " 152,\n",
       " 153,\n",
       " 154,\n",
       " 155,\n",
       " 156,\n",
       " 157,\n",
       " 158,\n",
       " 159,\n",
       " 160,\n",
       " 161,\n",
       " 162,\n",
       " 163,\n",
       " 164,\n",
       " 165,\n",
       " 166,\n",
       " 168,\n",
       " 169,\n",
       " 170,\n",
       " 171,\n",
       " 172,\n",
       " 174,\n",
       " 175,\n",
       " 176,\n",
       " 177,\n",
       " 178,\n",
       " 181,\n",
       " 182,\n",
       " 183,\n",
       " 184,\n",
       " 185,\n",
       " 186,\n",
       " 188,\n",
       " 189,\n",
       " 190,\n",
       " 191,\n",
       " 192,\n",
       " 195,\n",
       " 196,\n",
       " 197,\n",
       " 198,\n",
       " 200,\n",
       " 201,\n",
       " 202,\n",
       " 203,\n",
       " 204,\n",
       " 205,\n",
       " 207,\n",
       " 208,\n",
       " 209,\n",
       " 210,\n",
       " 212,\n",
       " 213,\n",
       " 214,\n",
       " 215,\n",
       " 216,\n",
       " 219,\n",
       " 220,\n",
       " 221,\n",
       " 222,\n",
       " 223,\n",
       " 224,\n",
       " 225,\n",
       " 226,\n",
       " 228,\n",
       " 229,\n",
       " 230,\n",
       " 231,\n",
       " 232,\n",
       " 233,\n",
       " 234,\n",
       " 235,\n",
       " 236,\n",
       " 238,\n",
       " 239,\n",
       " 240,\n",
       " 241,\n",
       " 242,\n",
       " 243,\n",
       " 244,\n",
       " 245,\n",
       " 246,\n",
       " 247,\n",
       " 248,\n",
       " 249,\n",
       " 250,\n",
       " 251,\n",
       " 252,\n",
       " 253,\n",
       " 254,\n",
       " 255,\n",
       " 257,\n",
       " 258,\n",
       " 260,\n",
       " 261,\n",
       " 262,\n",
       " 263,\n",
       " 264,\n",
       " 265,\n",
       " 267,\n",
       " 268,\n",
       " 269,\n",
       " 270,\n",
       " 271,\n",
       " 273,\n",
       " 275,\n",
       " 276,\n",
       " 277,\n",
       " 278,\n",
       " 279,\n",
       " 280,\n",
       " 281,\n",
       " 282,\n",
       " 283,\n",
       " 284,\n",
       " 285,\n",
       " 286,\n",
       " 287,\n",
       " 288,\n",
       " 289,\n",
       " 290,\n",
       " 292,\n",
       " 293,\n",
       " 294,\n",
       " 296,\n",
       " 297,\n",
       " 298,\n",
       " 299,\n",
       " 300,\n",
       " 301,\n",
       " 302,\n",
       " 304,\n",
       " 306,\n",
       " 307,\n",
       " 308,\n",
       " 309,\n",
       " 310,\n",
       " 311,\n",
       " 312,\n",
       " 313,\n",
       " 314,\n",
       " 315,\n",
       " 316,\n",
       " 317,\n",
       " 318,\n",
       " 319,\n",
       " 320,\n",
       " 321,\n",
       " 322,\n",
       " 323,\n",
       " 325,\n",
       " 326,\n",
       " 328,\n",
       " 329,\n",
       " 330,\n",
       " 331,\n",
       " 332,\n",
       " 333,\n",
       " 334,\n",
       " 335,\n",
       " 337,\n",
       " 338,\n",
       " 339,\n",
       " 340,\n",
       " 341,\n",
       " 342,\n",
       " 343,\n",
       " 344,\n",
       " 345,\n",
       " 346,\n",
       " 347,\n",
       " 348,\n",
       " 349,\n",
       " 350,\n",
       " 351,\n",
       " 352,\n",
       " 353,\n",
       " 354,\n",
       " 355,\n",
       " 356,\n",
       " 357,\n",
       " 358,\n",
       " 359,\n",
       " 360,\n",
       " 361,\n",
       " 362,\n",
       " 363,\n",
       " 364,\n",
       " 365,\n",
       " 366,\n",
       " 368,\n",
       " 370,\n",
       " 371,\n",
       " 372,\n",
       " 374,\n",
       " 375,\n",
       " 376,\n",
       " 377,\n",
       " 378,\n",
       " 380,\n",
       " 381,\n",
       " 384,\n",
       " 385,\n",
       " 386,\n",
       " 387,\n",
       " 388,\n",
       " 390,\n",
       " 391,\n",
       " 392,\n",
       " 393,\n",
       " 394,\n",
       " 395,\n",
       " 396,\n",
       " 397,\n",
       " 399,\n",
       " 400,\n",
       " 402,\n",
       " 403,\n",
       " 404,\n",
       " 405,\n",
       " 406,\n",
       " 407,\n",
       " 408,\n",
       " 410,\n",
       " 411,\n",
       " 412,\n",
       " 413,\n",
       " 414,\n",
       " 415,\n",
       " 416,\n",
       " 417,\n",
       " 418,\n",
       " 419,\n",
       " 420,\n",
       " 421,\n",
       " 422,\n",
       " 423,\n",
       " 424,\n",
       " 425,\n",
       " 426,\n",
       " 427,\n",
       " 428,\n",
       " 429,\n",
       " 430,\n",
       " 431,\n",
       " 432,\n",
       " 433,\n",
       " 435,\n",
       " 436,\n",
       " 437,\n",
       " 438,\n",
       " 439,\n",
       " 441,\n",
       " 442,\n",
       " 443,\n",
       " 444,\n",
       " 445,\n",
       " 446,\n",
       " 447,\n",
       " 448,\n",
       " 449,\n",
       " 450,\n",
       " 452,\n",
       " 453,\n",
       " 454,\n",
       " 455,\n",
       " 456,\n",
       " 458,\n",
       " 459,\n",
       " 460,\n",
       " 461,\n",
       " 462,\n",
       " 463,\n",
       " 464,\n",
       " 465,\n",
       " 466,\n",
       " 467,\n",
       " 468,\n",
       " 470,\n",
       " 471,\n",
       " 472,\n",
       " 473,\n",
       " 474,\n",
       " 476,\n",
       " 477,\n",
       " 478,\n",
       " 480,\n",
       " 481,\n",
       " 482,\n",
       " 483,\n",
       " 484,\n",
       " 485,\n",
       " 487,\n",
       " 488,\n",
       " 489,\n",
       " 490,\n",
       " 491,\n",
       " 492,\n",
       " 493,\n",
       " 494,\n",
       " 496,\n",
       " 498,\n",
       " 499,\n",
       " 500]"
      ]
     },
     "execution_count": 1507,
     "metadata": {},
     "output_type": "execute_result"
    }
   ],
   "source": [
    "greenLoop"
   ]
  },
  {
   "cell_type": "code",
   "execution_count": null,
   "metadata": {},
   "outputs": [],
   "source": []
  },
  {
   "cell_type": "code",
   "execution_count": 1508,
   "metadata": {},
   "outputs": [],
   "source": [
    "normalDistribution = {}\n",
    "\n",
    "for g in range(clusterNumber):\n",
    "    normalDistribution[g] =  {'mean': np.mean(ratioDict[g]) , 'std':np.std(ratioDict[g]) }"
   ]
  },
  {
   "cell_type": "code",
   "execution_count": 1509,
   "metadata": {},
   "outputs": [
    {
     "data": {
      "text/plain": [
       "{0: {'mean': 52.77365691905402, 'std': 15.31306140027161},\n",
       " 1: {'mean': 6.8623125864298515, 'std': 0.8070654745349164},\n",
       " 2: {'mean': 82.84067423557823, 'std': 24.711794938893433}}"
      ]
     },
     "execution_count": 1509,
     "metadata": {},
     "output_type": "execute_result"
    }
   ],
   "source": [
    "normalDistribution"
   ]
  },
  {
   "cell_type": "code",
   "execution_count": 1510,
   "metadata": {},
   "outputs": [
    {
     "data": {
      "image/png": "[encoded data removed]",
      "text/plain": [
       "<Figure size 432x288 with 1 Axes>"
      ]
     },
     "metadata": {
      "needs_background": "light"
     },
     "output_type": "display_data"
    }
   ],
   "source": [
    "x_axis = np.arange(0, 80, 0.0001)\n",
    "\n",
    "for g in range(clusterNumber):\n",
    "    #if g == 0 :\n",
    "    #    continue\n",
    "    plt.plot(x_axis, stats.norm.pdf(x_axis, normalDistribution[g]['mean'], normalDistribution[g]['std']),c=color[g])\n",
    "plt.show()"
   ]
  },
  {
   "cell_type": "markdown",
   "metadata": {},
   "source": [
    "# construct the preference ratio distribution for the user"
   ]
  },
  {
   "cell_type": "code",
   "execution_count": 1511,
   "metadata": {},
   "outputs": [],
   "source": [
    "ratioLocal = []\n",
    "    \n",
    "for idx in range(1,51):\n",
    "    k = 'l'+str(idx)\n",
    "    ratioLocal.append(local_cost[k][0][0]/local_cost[k][0][1])\n",
    "    #ratioLocal.append(local_cost[k][0][1]/local_cost[k][0][2])"
   ]
  },
  {
   "cell_type": "code",
   "execution_count": 1512,
   "metadata": {},
   "outputs": [
    {
     "data": {
      "image/png": "[encoded data removed]",
      "text/plain": [
       "<Figure size 432x288 with 1 Axes>"
      ]
     },
     "metadata": {
      "needs_background": "light"
     },
     "output_type": "display_data"
    }
   ],
   "source": [
    "x_axis = np.arange(0, 80, 0.0001)\n",
    "\n",
    "for g in range(clusterNumber):\n",
    "    if g ==0 :\n",
    "        continue\n",
    "    plt.plot(x_axis, stats.norm.pdf(x_axis, normalDistribution[g]['mean'], normalDistribution[g]['std']),c=color[g])\n",
    "\n",
    "plt.plot(x_axis, stats.norm.pdf(x_axis,np.mean(ratioLocal),np.std(ratioLocal)),c='purple')\n",
    "    \n",
    "plt.show()"
   ]
  },
  {
   "cell_type": "markdown",
   "metadata": {},
   "source": [
    "# Calculate KL-divergence"
   ]
  },
  {
   "cell_type": "code",
   "execution_count": 1513,
   "metadata": {},
   "outputs": [],
   "source": [
    "def KLDivergence(mean1,std1,mean2,std2):\n",
    "    \n",
    "    return np.log(std2/std1) + (std1**2 + (mean1-mean2)**2)/(2*std2**2) - 1/2"
   ]
  },
  {
   "cell_type": "code",
   "execution_count": 1514,
   "metadata": {},
   "outputs": [
    {
     "name": "stdout",
     "output_type": "stream",
     "text": [
      "KL(group0,user) : 2.806362731338732\n",
      "KL(group1,user) : 317.2153814076395\n",
      "KL(group2,user) : 3.66835811136976\n"
     ]
    }
   ],
   "source": [
    "for g in range(clusterNumber):\n",
    "    print('KL(group{},user) : {}'.format(g, KLDivergence(np.mean(ratioLocal),\n",
    "                                                         np.std(ratioLocal), \n",
    "                                                         normalDistribution[g]['mean'], \n",
    "                                                         normalDistribution[g]['std'])\n",
    "                                        ))\n",
    "    "
   ]
  },
  {
   "cell_type": "markdown",
   "metadata": {},
   "source": [
    "# Filter the useful trip for the user"
   ]
  },
  {
   "cell_type": "code",
   "execution_count": 1515,
   "metadata": {},
   "outputs": [
    {
     "data": {
      "text/plain": [
       "168342.36359924925"
      ]
     },
     "execution_count": 1515,
     "metadata": {},
     "output_type": "execute_result"
    }
   ],
   "source": [
    "distance = []\n",
    "for key in global_cost:\n",
    "    distance.append(global_cost[key][0][0])\n",
    "\n",
    "np.mean(distance)"
   ]
  },
  {
   "cell_type": "code",
   "execution_count": 1516,
   "metadata": {},
   "outputs": [],
   "source": [
    "local_cost_raw_list = []\n",
    "for key in local_cost:\n",
    "    local_cost_raw_list.append(local_cost[key][0])\n",
    "    \n",
    "local_cost_raw_list.sort(key = lambda x : abs(x[0]-np.mean(distance)))\n",
    "#print(local_cost_raw_list)"
   ]
  },
  {
   "cell_type": "code",
   "execution_count": 1517,
   "metadata": {},
   "outputs": [],
   "source": [
    "# choose top k\n",
    "local_cost_raw_list = local_cost_raw_list[:topKK]"
   ]
  },
  {
   "cell_type": "code",
   "execution_count": 1518,
   "metadata": {},
   "outputs": [],
   "source": [
    "ratioLocal = []\n",
    "ratioLocal2 = []\n",
    "for cost in local_cost_raw_list:\n",
    "    ratioLocal.append(cost[0]/cost[1])\n",
    "    ratioLocal2.append([cost[0]/cost[1]])\n",
    "    #ratioLocal2.append([cost[1]/cost[2]])"
   ]
  },
  {
   "cell_type": "code",
   "execution_count": 1519,
   "metadata": {},
   "outputs": [
    {
     "name": "stdout",
     "output_type": "stream",
     "text": [
      "KL(group0,user) : 2.806362731338731\n",
      "KL(group1,user) : 317.21538140763954\n",
      "KL(group2,user) : 3.66835811136976\n"
     ]
    }
   ],
   "source": [
    "for g in range(clusterNumber):\n",
    "    print('KL(group{},user) : {}'.format(g, KLDivergence(np.mean(ratioLocal2),\n",
    "                                                         np.std(ratioLocal2), \n",
    "                                                         normalDistribution[g]['mean'], \n",
    "                                                         normalDistribution[g]['std'])\n",
    "                                        ))"
   ]
  },
  {
   "cell_type": "markdown",
   "metadata": {},
   "source": [
    "# Get the pdf of user preference using gaussian mixture model"
   ]
  },
  {
   "cell_type": "code",
   "execution_count": 1520,
   "metadata": {},
   "outputs": [],
   "source": [
    "userPref = GaussianMixture(n_components=1, random_state=0).fit(ratioLocal2)"
   ]
  },
  {
   "cell_type": "markdown",
   "metadata": {},
   "source": [
    "# Compute the cost of the recommended path"
   ]
  },
  {
   "cell_type": "code",
   "execution_count": 1521,
   "metadata": {},
   "outputs": [],
   "source": [
    "######### information for turns ##########\n",
    "turn_list = []\n",
    "with open(\"../../turning_network_linkID_updated.csv\",'r') as f:\n",
    "    reader = csv.reader(f)\n",
    "    turn_list = list(reader)\n",
    "    \n",
    "isTurn = []\n",
    "with open(\"../../turning_network_turn_updated.csv\",'r') as f:\n",
    "    reader = csv.reader(f)\n",
    "    isTurn = list(reader)\n",
    "    \n",
    "isTurnDict = {}\n",
    "for turn in isTurn:\n",
    "    isTurnDict[(turn[0],turn[1])] = int(turn[2])\n",
    "    \n",
    "road_ID_with_turn = {}\n",
    "for element in turn_list:\n",
    "    road_ID_with_turn[element[0]] = (element[1],element[2])\n",
    "    \n",
    "def calculateTurn(trip):\n",
    "    total_turn = 0\n",
    "    for i in trip:\n",
    "        total_turn += isTurnDict[road_ID_with_turn[i]]\n",
    "    return total_turn\n",
    "######### information for turns end ##########\n",
    "\n",
    "\n",
    "######### information for calculating time ##########\n",
    "time_list = []\n",
    "with open(\"../../turning_network_time_updated.csv\",'r') as f:\n",
    "    time_list = csv.reader(f)\n",
    "    time_list = list(time_list)\n",
    "\n",
    "timeDict = {}\n",
    "for element in time_list:\n",
    "    timeDict[(element[0],element[1])] = float(element[2])-1\n",
    "    \n",
    "def calculateTime(trip): # trip needs to contain intersections\n",
    "    total_time = 0\n",
    "    for i in trip:\n",
    "        total_time += timeDict[road_ID_with_turn[i]]\n",
    "    return total_time\n",
    "######### information for calculating time ends ##########\n",
    "\n",
    "######### information for calculating distance ##########\n",
    "distance_list = []\n",
    "with open(\"../../link_file.csv\",'r') as f:\n",
    "    distance_list = csv.reader(f)\n",
    "    distance_list = list(distance_list)\n",
    "    \n",
    "distance_dict = {}\n",
    "for element in distance_list:\n",
    "    distance_dict[(element[0],element[1])] = int(element[2])\n",
    "    \n",
    "idToRoad =  []\n",
    "with open(\"../../road_file.csv\",'r') as f:\n",
    "    idToRoad = csv.reader(f)\n",
    "    idToRoad = list(idToRoad)\n",
    "    \n",
    "idToRoadDict = {}\n",
    "for element in idToRoad:\n",
    "    idToRoadDict[element[0]] = (element[1],element[2])\n",
    "        \n",
    "\n",
    "def calculateDist(trip):\n",
    "    total_distance = 0\n",
    "    for i in trip:\n",
    "        if i in idToRoadDict:\n",
    "            total_distance += distance_dict[idToRoadDict[i]]\n",
    "    return total_distance   \n",
    "######### information for calculating distance ends##########\n",
    "\n",
    "######### information for calculating risk ##########\n",
    "risk_list = None\n",
    "with open(\"../../crash_drisk0320.csv\",'r') as f:\n",
    "    risk_list = csv.reader(f)\n",
    "    risk_list = list(risk_list)\n",
    "    \n",
    "riskDict = {}\n",
    "for element in risk_list:\n",
    "    riskDict[(element[0],element[1])] = float(element[2])\n",
    "    \n",
    "def calculateRisk(trip):\n",
    "    total_risk = 0\n",
    "    for i in trip:\n",
    "        total_risk += riskDict[road_ID_with_turn[i]]\n",
    "    return total_risk\n",
    "\n",
    "######### information for calculating risk ends ##########\n"
   ]
  },
  {
   "cell_type": "code",
   "execution_count": 1522,
   "metadata": {},
   "outputs": [],
   "source": [
    "import copy\n",
    "another_timeDict = copy.deepcopy(timeDict)\n",
    "for key in timeDict:\n",
    "    k1 = key[0].split('_')[0]\n",
    "    k2 = key[1].split('_')[0]\n",
    "    if k1 != k2:\n",
    "        another_timeDict[k1,k2] = timeDict[key]\n",
    "        \n",
    "another_riskDict = copy.deepcopy(riskDict)\n",
    "for key in riskDict:\n",
    "    k1 = key[0].split('_')[0]\n",
    "    k2 = key[1].split('_')[0]\n",
    "    if k1 != k2:\n",
    "        another_riskDict[k1,k2] = riskDict[key]"
   ]
  },
  {
   "cell_type": "code",
   "execution_count": 1523,
   "metadata": {},
   "outputs": [],
   "source": [
    "def costVector(trajDictInterSect):\n",
    "    costDict = {}\n",
    "    for k in trajDictInterSect:\n",
    "        temp =  []\n",
    "        temp.append([calculateTime(trajDictInterSect[k]),calculateRisk(trajDictInterSect[k]),\n",
    "                    calculateDist(trajDictInterSect[k]),calculateTurn(trajDictInterSect[k])])\n",
    "        costDict[k] = temp\n",
    "    return costDict"
   ]
  },
  {
   "cell_type": "code",
   "execution_count": 1524,
   "metadata": {},
   "outputs": [],
   "source": [
    "def calculateTime2(trip):\n",
    "    total_time = 0\n",
    "    for idx in range(len(trip)-1):\n",
    "        total_time += another_timeDict[trip[idx],trip[idx + 1]]\n",
    "    return total_time\n",
    "def calculateRisk2(trip):\n",
    "    total_risk = 0\n",
    "    for idx in range(len(trip)-1):\n",
    "        total_risk += another_riskDict[trip[idx],trip[idx + 1]]\n",
    "    return total_risk"
   ]
  },
  {
   "cell_type": "code",
   "execution_count": 1525,
   "metadata": {},
   "outputs": [
    {
     "name": "stdout",
     "output_type": "stream",
     "text": [
      "Group0 log likelihood = -5.919652390498473\n",
      "Group1 log likelihood = -3.967619759506328\n",
      "Group2 log likelihood = -6.261661028181379\n"
     ]
    }
   ],
   "source": [
    "# without prior\n",
    "color_labels_list = list(color_labels)\n",
    "\n",
    "for g in range(clusterNumber):\n",
    "    ratioTemp = calculateTime2(group_optimal_path[g])*99/calculateRisk2(group_optimal_path[g])\n",
    "#     print('Group{} log likelihood = {}'.format(g,\n",
    "#                                               np.log(np.exp(userPref.score_samples([[ratioTemp]])[0])*(color_labels_list.count(g)/len(color_labels_list)))\n",
    "#                                               )\n",
    "#          )\n",
    "    print('Group{} log likelihood = {}'.format(g,\n",
    "                                              userPref.score_samples([[ratioTemp]])[0]\n",
    "                                              )\n",
    "         )"
   ]
  },
  {
   "cell_type": "code",
   "execution_count": 1526,
   "metadata": {},
   "outputs": [],
   "source": [
    "# with prior\n",
    "# color_labels_list = list(color_labels)\n",
    "\n",
    "# for g in range(clusterNumber):\n",
    "#     ratioTemp = calculateTime2(group_optimal_path[g])*99/calculateRisk2(group_optimal_path[g])\n",
    "#     print('Group{} log likelihood = {}'.format(g,\n",
    "#                                               np.log(np.exp(userPref.score_samples([[ratioTemp]])[0])*(color_labels_list.count(g)/len(color_labels_list)))\n",
    "#                                               )\n",
    "#          )\n",
    "#     print('Group{} log likelihood = {}'.format(g,\n",
    "#                                               userPref.score_samples([[ratioTemp]])[0]\n",
    "#                                               )\n",
    "#          )"
   ]
  },
  {
   "cell_type": "code",
   "execution_count": 1527,
   "metadata": {},
   "outputs": [
    {
     "name": "stdout",
     "output_type": "stream",
     "text": [
      "Group0 log likelihood = 0.7252354884537772\n",
      "Group1 log likelihood = 1.3176745039167857e-32\n",
      "Group2 log likelihood = 0.21122795740077419\n"
     ]
    }
   ],
   "source": [
    "####### prior #######\n",
    "def normal_dist(x , mean , sd):\n",
    "    prob_density = (np.pi*sd) * np.exp(-0.5*((x-mean)/sd)**2)\n",
    "    return prob_density\n",
    "\n",
    "local_mean = np.mean(ratioLocal2)\n",
    "#normalDistribution\n",
    "for g in range(clusterNumber):\n",
    "    ratioTemp = calculateTime2(group_optimal_path[g])*99/calculateRisk2(group_optimal_path[g])\n",
    "    print('Group{} log likelihood = {}'.format(g,\n",
    "                                              normal_dist(local_mean , normalDistribution[g]['mean'] , normalDistribution[g]['std'])\\\n",
    "                                               *(color_labels_list.count(g)/len(color_labels_list)))\n",
    "                                              )\n"
   ]
  },
  {
   "cell_type": "code",
   "execution_count": 1528,
   "metadata": {},
   "outputs": [
    {
     "data": {
      "text/plain": [
       "{0: {'mean': 52.77365691905402, 'std': 15.31306140027161},\n",
       " 1: {'mean': 6.8623125864298515, 'std': 0.8070654745349164},\n",
       " 2: {'mean': 82.84067423557823, 'std': 24.711794938893433}}"
      ]
     },
     "execution_count": 1528,
     "metadata": {},
     "output_type": "execute_result"
    }
   ],
   "source": [
    "normalDistribution"
   ]
  },
  {
   "cell_type": "markdown",
   "metadata": {},
   "source": [
    "# Get route for qgis"
   ]
  },
  {
   "cell_type": "code",
   "execution_count": 1529,
   "metadata": {},
   "outputs": [],
   "source": [
    "with open('../../reference_coordinate','rb') as f:\n",
    "    coordinates = pickle.load(f)"
   ]
  },
  {
   "cell_type": "code",
   "execution_count": 1530,
   "metadata": {},
   "outputs": [],
   "source": [
    "coords = []\n",
    "for key in coordinates:\n",
    "    coords.append((key,coordinates[key]))"
   ]
  },
  {
   "cell_type": "code",
   "execution_count": 1531,
   "metadata": {},
   "outputs": [],
   "source": [
    "origin = '1666494'\n",
    "destination = '1662728'"
   ]
  },
  {
   "cell_type": "code",
   "execution_count": 1532,
   "metadata": {},
   "outputs": [],
   "source": [
    "def findNearest(point,k=50):\n",
    "    target = coordinates[point]\n",
    "    coords.sort(key= lambda x : abs(x[1][0]-target[0]) + abs(x[1][1]-target[1]))\n",
    "    neighbors = []\n",
    "    for i in range(k):\n",
    "        neighbors.append(str(coords[i][0])+'_1')\n",
    "    return neighbors"
   ]
  },
  {
   "cell_type": "code",
   "execution_count": 1533,
   "metadata": {},
   "outputs": [
    {
     "name": "stdout",
     "output_type": "stream",
     "text": [
      "\"RDWY_LINK_\" =  4827432  OR \n",
      "\"RDWY_LINK_\" =  4845225  OR \n",
      "\"RDWY_LINK_\" =  4848820  OR \n",
      "\"RDWY_LINK_\" =  4848819  OR \n",
      "\"RDWY_LINK_\" =  4850759  OR \n",
      "\"RDWY_LINK_\" =  4850758  OR \n",
      "\"RDWY_LINK_\" =  4844283  OR \n",
      "\"RDWY_LINK_\" =  4843593  OR \n",
      "\"RDWY_LINK_\" =  4843236  OR \n",
      "\"RDWY_LINK_\" =  4843002  OR \n",
      "\"RDWY_LINK_\" =  4842245  OR \n",
      "\"RDWY_LINK_\" =  5455237  OR \n",
      "\"RDWY_LINK_\" =  5314179  OR \n",
      "\"RDWY_LINK_\" =  4841931  OR \n",
      "\"RDWY_LINK_\" =  5314201  OR \n",
      "\"RDWY_LINK_\" =  5314203  OR \n",
      "\"RDWY_LINK_\" =  5314206  OR \n",
      "\"RDWY_LINK_\" =  5455239  OR \n",
      "\"RDWY_LINK_\" =  5488969  OR \n",
      "\"RDWY_LINK_\" =  5488970  OR \n",
      "\"RDWY_LINK_\" =  5488965  OR \n",
      "\"RDWY_LINK_\" =  5488966  OR \n",
      "\"RDWY_LINK_\" =  5488958  OR \n",
      "\"RDWY_LINK_\" =  5314540  OR \n",
      "\"RDWY_LINK_\" =  4841813  OR \n",
      "\"RDWY_LINK_\" =  4841812  OR \n",
      "\"RDWY_LINK_\" =  4841808  OR \n",
      "\"RDWY_LINK_\" =  4841796  OR \n",
      "\"RDWY_LINK_\" =  4841792  OR \n",
      "\"RDWY_LINK_\" =  4820402  OR \n",
      "\"RDWY_LINK_\" =  4820399  OR \n",
      "\"RDWY_LINK_\" =  4849540  OR \n",
      "\"RDWY_LINK_\" =  4849539  OR \n",
      "\"RDWY_LINK_\" =  4841705  OR \n",
      "\"RDWY_LINK_\" =  4841640  OR \n",
      "\"RDWY_LINK_\" =  4841586  OR \n",
      "\"RDWY_LINK_\" =  4841584  OR \n",
      "\"RDWY_LINK_\" =  4820189  OR \n",
      "\"RDWY_LINK_\" =  4820139  OR \n",
      "\"RDWY_LINK_\" =  4820090  OR \n",
      "\"RDWY_LINK_\" =  4820050  OR \n",
      "\"RDWY_LINK_\" =  4819977  OR \n",
      "\"RDWY_LINK_\" =  4819976  OR \n",
      "\"RDWY_LINK_\" =  4819972  OR \n",
      "\"RDWY_LINK_\" =  5064246  OR \n",
      "\"RDWY_LINK_\" =  4841262  OR \n",
      "\"RDWY_LINK_\" =  4819875  OR \n",
      "\"RDWY_LINK_\" =  4841260  OR \n",
      "\"RDWY_LINK_\" =  4841251  OR \n"
     ]
    }
   ],
   "source": [
    "\n",
    "for k in local_route['l50']:\n",
    "    if 'intersection' not in k:\n",
    "        print(\"\\\"RDWY_LINK_\\\" = \",k, \" OR \")"
   ]
  },
  {
   "cell_type": "code",
   "execution_count": 1534,
   "metadata": {},
   "outputs": [
    {
     "data": {
      "text/plain": [
       "['4827432',\n",
       " '4845225',\n",
       " '4848820',\n",
       " '4848819',\n",
       " '4850759',\n",
       " '4850758',\n",
       " '4844283',\n",
       " '4843593',\n",
       " '4843236',\n",
       " '4843002',\n",
       " '4842245',\n",
       " '5455237',\n",
       " '5314179',\n",
       " '4841931',\n",
       " '5314201',\n",
       " '5314203',\n",
       " '5314206',\n",
       " '5455239',\n",
       " '5488969',\n",
       " '5488970',\n",
       " '5488965',\n",
       " '5488966',\n",
       " '5488958',\n",
       " '5314540',\n",
       " '4841813',\n",
       " '4841812',\n",
       " '4841808',\n",
       " '4841796',\n",
       " '4841792',\n",
       " '4820402',\n",
       " '4820399',\n",
       " '4849540',\n",
       " '4849539',\n",
       " '4841705',\n",
       " '4841640',\n",
       " '4841586',\n",
       " '4841584',\n",
       " '4820189',\n",
       " '4820139',\n",
       " '4820090',\n",
       " '4820050',\n",
       " '4819977',\n",
       " '4819976',\n",
       " '4819972',\n",
       " '5064246',\n",
       " '4841262',\n",
       " '4819875',\n",
       " '4841260',\n",
       " '4841251']"
      ]
     },
     "execution_count": 1534,
     "metadata": {},
     "output_type": "execute_result"
    }
   ],
   "source": [
    "local_route['l50']"
   ]
  },
  {
   "cell_type": "code",
   "execution_count": null,
   "metadata": {},
   "outputs": [],
   "source": []
  }
 ],
 "metadata": {
  "kernelspec": {
   "display_name": "Python 3",
   "language": "python",
   "name": "python3"
  },
  "language_info": {
   "codemirror_mode": {
    "name": "ipython",
    "version": 3
   },
   "file_extension": ".py",
   "mimetype": "text/x-python",
   "name": "python",
   "nbconvert_exporter": "python",
   "pygments_lexer": "ipython3",
   "version": "3.8.3"
  }
 },
 "nbformat": 4,
 "nbformat_minor": 4
}
